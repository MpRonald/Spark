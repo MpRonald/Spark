{
  "nbformat": 4,
  "nbformat_minor": 0,
  "metadata": {
    "colab": {
      "name": "PySpark_Classifier.ipynb",
      "provenance": [],
      "collapsed_sections": [
        "hQP9kkZJtO1J",
        "Y9t-bS7Tuhne",
        "2ERDuwGJ8W7c",
        "98aeVMZkuLMp"
      ],
      "authorship_tag": "ABX9TyMF2vBPINi0L4qpzsMWKTi3",
      "include_colab_link": true
    },
    "kernelspec": {
      "name": "python3",
      "display_name": "Python 3"
    },
    "language_info": {
      "name": "python"
    }
  },
  "cells": [
    {
      "cell_type": "markdown",
      "metadata": {
        "id": "view-in-github",
        "colab_type": "text"
      },
      "source": [
        "<a href=\"https://colab.research.google.com/github/MpRonald/Machine-Learning/blob/main/PySpark_Classifier.ipynb\" target=\"_parent\"><img src=\"https://colab.research.google.com/assets/colab-badge.svg\" alt=\"Open In Colab\"/></a>"
      ]
    },
    {
      "cell_type": "code",
      "execution_count": 1,
      "metadata": {
        "colab": {
          "base_uri": "https://localhost:8080/"
        },
        "id": "PZxk_kcssf7m",
        "outputId": "c49ef246-028b-4104-8914-88796415832b"
      },
      "outputs": [
        {
          "output_type": "stream",
          "name": "stdout",
          "text": [
            "Mounted at /content/drive\n"
          ]
        }
      ],
      "source": [
        "from google.colab import drive\n",
        "drive.mount('/content/drive')"
      ]
    },
    {
      "cell_type": "markdown",
      "source": [
        "# Spark Session"
      ],
      "metadata": {
        "id": "hQP9kkZJtO1J"
      }
    },
    {
      "cell_type": "code",
      "source": [
        "!pip install pyspark -q"
      ],
      "metadata": {
        "colab": {
          "base_uri": "https://localhost:8080/"
        },
        "id": "OdYcePMrs5KA",
        "outputId": "c21bd515-fcf5-4a44-ca02-f9e50f7e93a5"
      },
      "execution_count": 2,
      "outputs": [
        {
          "output_type": "stream",
          "name": "stdout",
          "text": [
            "\u001b[K     |████████████████████████████████| 281.3 MB 59 kB/s \n",
            "\u001b[K     |████████████████████████████████| 199 kB 73.8 MB/s \n",
            "\u001b[?25h  Building wheel for pyspark (setup.py) ... \u001b[?25l\u001b[?25hdone\n"
          ]
        }
      ]
    },
    {
      "cell_type": "code",
      "source": [
        "from pyspark.sql import SparkSession, functions as f\n",
        "from pyspark.ml.feature import VectorAssembler\n",
        "from pyspark.ml.classification import LogisticRegression, DecisionTreeClassifier, RandomForestClassifier\n",
        "from pyspark.ml.evaluation import MulticlassClassificationEvaluator\n",
        "from pyspark.ml.tuning import CrossValidator, ParamGridBuilder"
      ],
      "metadata": {
        "id": "ue9Z_XyRtIhh"
      },
      "execution_count": 99,
      "outputs": []
    },
    {
      "cell_type": "code",
      "source": [
        "spark = SparkSession.builder.master('local[*]').appName('Spark Classifier').getOrCreate()\n",
        "spark"
      ],
      "metadata": {
        "colab": {
          "base_uri": "https://localhost:8080/",
          "height": 219
        },
        "id": "sAZCIR4wteiu",
        "outputId": "eb0db11b-bf26-4692-ba4c-8f381443ca71"
      },
      "execution_count": 4,
      "outputs": [
        {
          "output_type": "execute_result",
          "data": {
            "text/plain": [
              "<pyspark.sql.session.SparkSession at 0x7ff40666d190>"
            ],
            "text/html": [
              "\n",
              "            <div>\n",
              "                <p><b>SparkSession - in-memory</b></p>\n",
              "                \n",
              "        <div>\n",
              "            <p><b>SparkContext</b></p>\n",
              "\n",
              "            <p><a href=\"http://0513198e9842:4040\">Spark UI</a></p>\n",
              "\n",
              "            <dl>\n",
              "              <dt>Version</dt>\n",
              "                <dd><code>v3.3.0</code></dd>\n",
              "              <dt>Master</dt>\n",
              "                <dd><code>local[*]</code></dd>\n",
              "              <dt>AppName</dt>\n",
              "                <dd><code>Spark Classifier</code></dd>\n",
              "            </dl>\n",
              "        </div>\n",
              "        \n",
              "            </div>\n",
              "        "
            ]
          },
          "metadata": {},
          "execution_count": 4
        }
      ]
    },
    {
      "cell_type": "markdown",
      "source": [
        "# Loading and Treatment Dataset "
      ],
      "metadata": {
        "id": "Y9t-bS7Tuhne"
      }
    },
    {
      "cell_type": "code",
      "source": [
        "data = spark.read.csv('/content/drive/MyDrive/Datasets/dados_clientes.csv', sep=',',header=True, inferSchema=True)\n",
        "data"
      ],
      "metadata": {
        "colab": {
          "base_uri": "https://localhost:8080/"
        },
        "id": "2diiYyYet7Na",
        "outputId": "db757c22-4ee9-4eea-b0bf-1af0971b16a5"
      },
      "execution_count": 5,
      "outputs": [
        {
          "output_type": "execute_result",
          "data": {
            "text/plain": [
              "DataFrame[id: int, Churn: string, Mais65anos: int, Conjuge: string, Dependentes: string, MesesDeContrato: int, TelefoneFixo: string, MaisDeUmaLinhaTelefonica: string, Internet: string, SegurancaOnline: string, BackupOnline: string, SeguroDispositivo: string, SuporteTecnico: string, TVaCabo: string, StreamingFilmes: string, TipoContrato: string, ContaCorreio: string, MetodoPagamento: string, MesesCobrados: double]"
            ]
          },
          "metadata": {},
          "execution_count": 5
        }
      ]
    },
    {
      "cell_type": "code",
      "source": [
        "data.show()"
      ],
      "metadata": {
        "colab": {
          "base_uri": "https://localhost:8080/"
        },
        "id": "-KcWtjHYuqM4",
        "outputId": "63433caf-0e1d-4286-9c57-1e7a4f7d55d5"
      },
      "execution_count": 6,
      "outputs": [
        {
          "output_type": "stream",
          "name": "stdout",
          "text": [
            "+---+-----+----------+-------+-----------+---------------+------------+------------------------+-----------+------------------+------------------+------------------+------------------+------------------+------------------+------------+------------+----------------+-------------+\n",
            "| id|Churn|Mais65anos|Conjuge|Dependentes|MesesDeContrato|TelefoneFixo|MaisDeUmaLinhaTelefonica|   Internet|   SegurancaOnline|      BackupOnline| SeguroDispositivo|    SuporteTecnico|           TVaCabo|   StreamingFilmes|TipoContrato|ContaCorreio| MetodoPagamento|MesesCobrados|\n",
            "+---+-----+----------+-------+-----------+---------------+------------+------------------------+-----------+------------------+------------------+------------------+------------------+------------------+------------------+------------+------------+----------------+-------------+\n",
            "|  0|  Nao|         0|    Sim|        Nao|              1|         Nao|    SemServicoTelefonico|        DSL|               Nao|               Sim|               Nao|               Nao|               Nao|               Nao| Mensalmente|         Sim|BoletoEletronico|        29.85|\n",
            "|  1|  Nao|         0|    Nao|        Nao|             34|         Sim|                     Nao|        DSL|               Sim|               Nao|               Sim|               Nao|               Nao|               Nao|       UmAno|         Nao|          Boleto|        56.95|\n",
            "|  2|  Sim|         0|    Nao|        Nao|              2|         Sim|                     Nao|        DSL|               Sim|               Sim|               Nao|               Nao|               Nao|               Nao| Mensalmente|         Sim|          Boleto|        53.85|\n",
            "|  3|  Nao|         0|    Nao|        Nao|             45|         Nao|    SemServicoTelefonico|        DSL|               Sim|               Nao|               Sim|               Sim|               Nao|               Nao|       UmAno|         Nao|   DebitoEmConta|         42.3|\n",
            "|  4|  Sim|         0|    Nao|        Nao|              2|         Sim|                     Nao|FibraOptica|               Nao|               Nao|               Nao|               Nao|               Nao|               Nao| Mensalmente|         Sim|BoletoEletronico|         70.7|\n",
            "|  5|  Sim|         0|    Nao|        Nao|              8|         Sim|                     Sim|FibraOptica|               Nao|               Nao|               Sim|               Nao|               Sim|               Sim| Mensalmente|         Sim|BoletoEletronico|        99.65|\n",
            "|  6|  Nao|         0|    Nao|        Sim|             22|         Sim|                     Sim|FibraOptica|               Nao|               Sim|               Nao|               Nao|               Sim|               Nao| Mensalmente|         Sim|   CartaoCredito|         89.1|\n",
            "|  7|  Nao|         0|    Nao|        Nao|             10|         Nao|    SemServicoTelefonico|        DSL|               Sim|               Nao|               Nao|               Nao|               Nao|               Nao| Mensalmente|         Nao|          Boleto|        29.75|\n",
            "|  8|  Sim|         0|    Sim|        Nao|             28|         Sim|                     Sim|FibraOptica|               Nao|               Nao|               Sim|               Sim|               Sim|               Sim| Mensalmente|         Sim|BoletoEletronico|        104.8|\n",
            "|  9|  Nao|         0|    Nao|        Sim|             62|         Sim|                     Nao|        DSL|               Sim|               Sim|               Nao|               Nao|               Nao|               Nao|       UmAno|         Nao|   DebitoEmConta|        56.15|\n",
            "| 10|  Nao|         0|    Sim|        Sim|             13|         Sim|                     Nao|        DSL|               Sim|               Nao|               Nao|               Nao|               Nao|               Nao| Mensalmente|         Sim|          Boleto|        49.95|\n",
            "| 11|  Nao|         0|    Nao|        Nao|             16|         Sim|                     Nao|        Nao|SemServicoInternet|SemServicoInternet|SemServicoInternet|SemServicoInternet|SemServicoInternet|SemServicoInternet|    DoisAnos|         Nao|   CartaoCredito|        18.95|\n",
            "| 12|  Nao|         0|    Sim|        Nao|             58|         Sim|                     Sim|FibraOptica|               Nao|               Nao|               Sim|               Nao|               Sim|               Sim|       UmAno|         Nao|   CartaoCredito|       100.35|\n",
            "| 13|  Sim|         0|    Nao|        Nao|             49|         Sim|                     Sim|FibraOptica|               Nao|               Sim|               Sim|               Nao|               Sim|               Sim| Mensalmente|         Sim|   DebitoEmConta|        103.7|\n",
            "| 14|  Nao|         0|    Nao|        Nao|             25|         Sim|                     Nao|FibraOptica|               Sim|               Nao|               Sim|               Sim|               Sim|               Sim| Mensalmente|         Sim|BoletoEletronico|        105.5|\n",
            "| 15|  Nao|         0|    Sim|        Sim|             69|         Sim|                     Sim|FibraOptica|               Sim|               Sim|               Sim|               Sim|               Sim|               Sim|    DoisAnos|         Nao|   CartaoCredito|       113.25|\n",
            "| 16|  Nao|         0|    Nao|        Nao|             52|         Sim|                     Nao|        Nao|SemServicoInternet|SemServicoInternet|SemServicoInternet|SemServicoInternet|SemServicoInternet|SemServicoInternet|       UmAno|         Nao|          Boleto|        20.65|\n",
            "| 17|  Nao|         0|    Nao|        Sim|             71|         Sim|                     Sim|FibraOptica|               Sim|               Nao|               Sim|               Nao|               Sim|               Sim|    DoisAnos|         Nao|   DebitoEmConta|        106.7|\n",
            "| 18|  Sim|         0|    Sim|        Sim|             10|         Sim|                     Nao|        DSL|               Nao|               Nao|               Sim|               Sim|               Nao|               Nao| Mensalmente|         Nao|   CartaoCredito|         55.2|\n",
            "| 19|  Nao|         0|    Nao|        Nao|             21|         Sim|                     Nao|FibraOptica|               Nao|               Sim|               Sim|               Nao|               Nao|               Sim| Mensalmente|         Sim|BoletoEletronico|        90.05|\n",
            "+---+-----+----------+-------+-----------+---------------+------------+------------------------+-----------+------------------+------------------+------------------+------------------+------------------+------------------+------------+------------+----------------+-------------+\n",
            "only showing top 20 rows\n",
            "\n"
          ]
        }
      ]
    },
    {
      "cell_type": "code",
      "source": [
        "data.count()"
      ],
      "metadata": {
        "colab": {
          "base_uri": "https://localhost:8080/"
        },
        "id": "xD5gVydBv63b",
        "outputId": "0c15ac66-fa85-4639-d135-3668552d8760"
      },
      "execution_count": 7,
      "outputs": [
        {
          "output_type": "execute_result",
          "data": {
            "text/plain": [
              "10348"
            ]
          },
          "metadata": {},
          "execution_count": 7
        }
      ]
    },
    {
      "cell_type": "code",
      "source": [
        "data.groupBy('Churn').count().show()"
      ],
      "metadata": {
        "colab": {
          "base_uri": "https://localhost:8080/"
        },
        "id": "HV7upRyYwPph",
        "outputId": "e7a06ed8-75cb-4f9c-9c14-4b56dca91db4"
      },
      "execution_count": 8,
      "outputs": [
        {
          "output_type": "stream",
          "name": "stdout",
          "text": [
            "+-----+-----+\n",
            "|Churn|count|\n",
            "+-----+-----+\n",
            "|  Sim| 5174|\n",
            "|  Nao| 5174|\n",
            "+-----+-----+\n",
            "\n"
          ]
        }
      ]
    },
    {
      "cell_type": "code",
      "source": [
        "data.printSchema()"
      ],
      "metadata": {
        "colab": {
          "base_uri": "https://localhost:8080/"
        },
        "id": "O9jv-utVwTrq",
        "outputId": "dbfc1579-cd4f-4fd1-96df-96d47812dae6"
      },
      "execution_count": 9,
      "outputs": [
        {
          "output_type": "stream",
          "name": "stdout",
          "text": [
            "root\n",
            " |-- id: integer (nullable = true)\n",
            " |-- Churn: string (nullable = true)\n",
            " |-- Mais65anos: integer (nullable = true)\n",
            " |-- Conjuge: string (nullable = true)\n",
            " |-- Dependentes: string (nullable = true)\n",
            " |-- MesesDeContrato: integer (nullable = true)\n",
            " |-- TelefoneFixo: string (nullable = true)\n",
            " |-- MaisDeUmaLinhaTelefonica: string (nullable = true)\n",
            " |-- Internet: string (nullable = true)\n",
            " |-- SegurancaOnline: string (nullable = true)\n",
            " |-- BackupOnline: string (nullable = true)\n",
            " |-- SeguroDispositivo: string (nullable = true)\n",
            " |-- SuporteTecnico: string (nullable = true)\n",
            " |-- TVaCabo: string (nullable = true)\n",
            " |-- StreamingFilmes: string (nullable = true)\n",
            " |-- TipoContrato: string (nullable = true)\n",
            " |-- ContaCorreio: string (nullable = true)\n",
            " |-- MetodoPagamento: string (nullable = true)\n",
            " |-- MesesCobrados: double (nullable = true)\n",
            "\n"
          ]
        }
      ]
    },
    {
      "cell_type": "markdown",
      "source": [
        "###Data Treatement"
      ],
      "metadata": {
        "id": "RmATkRXbxe9u"
      }
    },
    {
      "cell_type": "code",
      "source": [
        "data.columns"
      ],
      "metadata": {
        "colab": {
          "base_uri": "https://localhost:8080/"
        },
        "id": "q45qt0Rox-QW",
        "outputId": "c694548a-8760-44ff-9a73-aff2b3e860ab"
      },
      "execution_count": 10,
      "outputs": [
        {
          "output_type": "execute_result",
          "data": {
            "text/plain": [
              "['id',\n",
              " 'Churn',\n",
              " 'Mais65anos',\n",
              " 'Conjuge',\n",
              " 'Dependentes',\n",
              " 'MesesDeContrato',\n",
              " 'TelefoneFixo',\n",
              " 'MaisDeUmaLinhaTelefonica',\n",
              " 'Internet',\n",
              " 'SegurancaOnline',\n",
              " 'BackupOnline',\n",
              " 'SeguroDispositivo',\n",
              " 'SuporteTecnico',\n",
              " 'TVaCabo',\n",
              " 'StreamingFilmes',\n",
              " 'TipoContrato',\n",
              " 'ContaCorreio',\n",
              " 'MetodoPagamento',\n",
              " 'MesesCobrados']"
            ]
          },
          "metadata": {},
          "execution_count": 10
        }
      ]
    },
    {
      "cell_type": "code",
      "source": [
        "binary_columns = [\n",
        "                'Churn',\n",
        "                'Conjuge',\n",
        "                'Dependentes',                \n",
        "                'TelefoneFixo',\n",
        "                'MaisDeUmaLinhaTelefonica',                \n",
        "                'SegurancaOnline',\n",
        "                'BackupOnline',\n",
        "                'SeguroDispositivo',\n",
        "                'SuporteTecnico',\n",
        "                'TVaCabo',\n",
        "                'StreamingFilmes',                \n",
        "                'ContaCorreio',\n",
        "]"
      ],
      "metadata": {
        "id": "Cko9HrS6xY5l"
      },
      "execution_count": 11,
      "outputs": []
    },
    {
      "cell_type": "code",
      "source": [
        "all_columns = [f.when(f.col(x)=='Sim', 1).otherwise(0).alias(x) for x in binary_columns]"
      ],
      "metadata": {
        "id": "k0R99h0xyTAB"
      },
      "execution_count": 12,
      "outputs": []
    },
    {
      "cell_type": "code",
      "source": [
        "all_columns"
      ],
      "metadata": {
        "colab": {
          "base_uri": "https://localhost:8080/"
        },
        "id": "KC7dkNsHzCn2",
        "outputId": "79123561-5e5f-4d16-d905-f66fcaf42d2b"
      },
      "execution_count": 13,
      "outputs": [
        {
          "output_type": "execute_result",
          "data": {
            "text/plain": [
              "[Column<'CASE WHEN (Churn = Sim) THEN 1 ELSE 0 END AS Churn'>,\n",
              " Column<'CASE WHEN (Conjuge = Sim) THEN 1 ELSE 0 END AS Conjuge'>,\n",
              " Column<'CASE WHEN (Dependentes = Sim) THEN 1 ELSE 0 END AS Dependentes'>,\n",
              " Column<'CASE WHEN (TelefoneFixo = Sim) THEN 1 ELSE 0 END AS TelefoneFixo'>,\n",
              " Column<'CASE WHEN (MaisDeUmaLinhaTelefonica = Sim) THEN 1 ELSE 0 END AS MaisDeUmaLinhaTelefonica'>,\n",
              " Column<'CASE WHEN (SegurancaOnline = Sim) THEN 1 ELSE 0 END AS SegurancaOnline'>,\n",
              " Column<'CASE WHEN (BackupOnline = Sim) THEN 1 ELSE 0 END AS BackupOnline'>,\n",
              " Column<'CASE WHEN (SeguroDispositivo = Sim) THEN 1 ELSE 0 END AS SeguroDispositivo'>,\n",
              " Column<'CASE WHEN (SuporteTecnico = Sim) THEN 1 ELSE 0 END AS SuporteTecnico'>,\n",
              " Column<'CASE WHEN (TVaCabo = Sim) THEN 1 ELSE 0 END AS TVaCabo'>,\n",
              " Column<'CASE WHEN (StreamingFilmes = Sim) THEN 1 ELSE 0 END AS StreamingFilmes'>,\n",
              " Column<'CASE WHEN (ContaCorreio = Sim) THEN 1 ELSE 0 END AS ContaCorreio'>]"
            ]
          },
          "metadata": {},
          "execution_count": 13
        }
      ]
    },
    {
      "cell_type": "code",
      "source": [
        "for column in reversed(data.columns):\n",
        "    if column not in binary_columns:\n",
        "        all_columns.insert(0, column)\n",
        "all_columns"
      ],
      "metadata": {
        "colab": {
          "base_uri": "https://localhost:8080/"
        },
        "id": "jhEe9opqzNcK",
        "outputId": "ccbb1fc8-5267-411f-9e30-680e1f0bb6a7"
      },
      "execution_count": 14,
      "outputs": [
        {
          "output_type": "execute_result",
          "data": {
            "text/plain": [
              "['id',\n",
              " 'Mais65anos',\n",
              " 'MesesDeContrato',\n",
              " 'Internet',\n",
              " 'TipoContrato',\n",
              " 'MetodoPagamento',\n",
              " 'MesesCobrados',\n",
              " Column<'CASE WHEN (Churn = Sim) THEN 1 ELSE 0 END AS Churn'>,\n",
              " Column<'CASE WHEN (Conjuge = Sim) THEN 1 ELSE 0 END AS Conjuge'>,\n",
              " Column<'CASE WHEN (Dependentes = Sim) THEN 1 ELSE 0 END AS Dependentes'>,\n",
              " Column<'CASE WHEN (TelefoneFixo = Sim) THEN 1 ELSE 0 END AS TelefoneFixo'>,\n",
              " Column<'CASE WHEN (MaisDeUmaLinhaTelefonica = Sim) THEN 1 ELSE 0 END AS MaisDeUmaLinhaTelefonica'>,\n",
              " Column<'CASE WHEN (SegurancaOnline = Sim) THEN 1 ELSE 0 END AS SegurancaOnline'>,\n",
              " Column<'CASE WHEN (BackupOnline = Sim) THEN 1 ELSE 0 END AS BackupOnline'>,\n",
              " Column<'CASE WHEN (SeguroDispositivo = Sim) THEN 1 ELSE 0 END AS SeguroDispositivo'>,\n",
              " Column<'CASE WHEN (SuporteTecnico = Sim) THEN 1 ELSE 0 END AS SuporteTecnico'>,\n",
              " Column<'CASE WHEN (TVaCabo = Sim) THEN 1 ELSE 0 END AS TVaCabo'>,\n",
              " Column<'CASE WHEN (StreamingFilmes = Sim) THEN 1 ELSE 0 END AS StreamingFilmes'>,\n",
              " Column<'CASE WHEN (ContaCorreio = Sim) THEN 1 ELSE 0 END AS ContaCorreio'>]"
            ]
          },
          "metadata": {},
          "execution_count": 14
        }
      ]
    },
    {
      "cell_type": "code",
      "source": [
        "dataset = data.select(all_columns)\n",
        "dataset.show()"
      ],
      "metadata": {
        "colab": {
          "base_uri": "https://localhost:8080/"
        },
        "id": "2Dgpja91zmFg",
        "outputId": "56aa86c8-3f73-4150-abd9-97ba6919805b"
      },
      "execution_count": 15,
      "outputs": [
        {
          "output_type": "stream",
          "name": "stdout",
          "text": [
            "+---+----------+---------------+-----------+------------+----------------+-------------+-----+-------+-----------+------------+------------------------+---------------+------------+-----------------+--------------+-------+---------------+------------+\n",
            "| id|Mais65anos|MesesDeContrato|   Internet|TipoContrato| MetodoPagamento|MesesCobrados|Churn|Conjuge|Dependentes|TelefoneFixo|MaisDeUmaLinhaTelefonica|SegurancaOnline|BackupOnline|SeguroDispositivo|SuporteTecnico|TVaCabo|StreamingFilmes|ContaCorreio|\n",
            "+---+----------+---------------+-----------+------------+----------------+-------------+-----+-------+-----------+------------+------------------------+---------------+------------+-----------------+--------------+-------+---------------+------------+\n",
            "|  0|         0|              1|        DSL| Mensalmente|BoletoEletronico|        29.85|    0|      1|          0|           0|                       0|              0|           1|                0|             0|      0|              0|           1|\n",
            "|  1|         0|             34|        DSL|       UmAno|          Boleto|        56.95|    0|      0|          0|           1|                       0|              1|           0|                1|             0|      0|              0|           0|\n",
            "|  2|         0|              2|        DSL| Mensalmente|          Boleto|        53.85|    1|      0|          0|           1|                       0|              1|           1|                0|             0|      0|              0|           1|\n",
            "|  3|         0|             45|        DSL|       UmAno|   DebitoEmConta|         42.3|    0|      0|          0|           0|                       0|              1|           0|                1|             1|      0|              0|           0|\n",
            "|  4|         0|              2|FibraOptica| Mensalmente|BoletoEletronico|         70.7|    1|      0|          0|           1|                       0|              0|           0|                0|             0|      0|              0|           1|\n",
            "|  5|         0|              8|FibraOptica| Mensalmente|BoletoEletronico|        99.65|    1|      0|          0|           1|                       1|              0|           0|                1|             0|      1|              1|           1|\n",
            "|  6|         0|             22|FibraOptica| Mensalmente|   CartaoCredito|         89.1|    0|      0|          1|           1|                       1|              0|           1|                0|             0|      1|              0|           1|\n",
            "|  7|         0|             10|        DSL| Mensalmente|          Boleto|        29.75|    0|      0|          0|           0|                       0|              1|           0|                0|             0|      0|              0|           0|\n",
            "|  8|         0|             28|FibraOptica| Mensalmente|BoletoEletronico|        104.8|    1|      1|          0|           1|                       1|              0|           0|                1|             1|      1|              1|           1|\n",
            "|  9|         0|             62|        DSL|       UmAno|   DebitoEmConta|        56.15|    0|      0|          1|           1|                       0|              1|           1|                0|             0|      0|              0|           0|\n",
            "| 10|         0|             13|        DSL| Mensalmente|          Boleto|        49.95|    0|      1|          1|           1|                       0|              1|           0|                0|             0|      0|              0|           1|\n",
            "| 11|         0|             16|        Nao|    DoisAnos|   CartaoCredito|        18.95|    0|      0|          0|           1|                       0|              0|           0|                0|             0|      0|              0|           0|\n",
            "| 12|         0|             58|FibraOptica|       UmAno|   CartaoCredito|       100.35|    0|      1|          0|           1|                       1|              0|           0|                1|             0|      1|              1|           0|\n",
            "| 13|         0|             49|FibraOptica| Mensalmente|   DebitoEmConta|        103.7|    1|      0|          0|           1|                       1|              0|           1|                1|             0|      1|              1|           1|\n",
            "| 14|         0|             25|FibraOptica| Mensalmente|BoletoEletronico|        105.5|    0|      0|          0|           1|                       0|              1|           0|                1|             1|      1|              1|           1|\n",
            "| 15|         0|             69|FibraOptica|    DoisAnos|   CartaoCredito|       113.25|    0|      1|          1|           1|                       1|              1|           1|                1|             1|      1|              1|           0|\n",
            "| 16|         0|             52|        Nao|       UmAno|          Boleto|        20.65|    0|      0|          0|           1|                       0|              0|           0|                0|             0|      0|              0|           0|\n",
            "| 17|         0|             71|FibraOptica|    DoisAnos|   DebitoEmConta|        106.7|    0|      0|          1|           1|                       1|              1|           0|                1|             0|      1|              1|           0|\n",
            "| 18|         0|             10|        DSL| Mensalmente|   CartaoCredito|         55.2|    1|      1|          1|           1|                       0|              0|           0|                1|             1|      0|              0|           0|\n",
            "| 19|         0|             21|FibraOptica| Mensalmente|BoletoEletronico|        90.05|    0|      0|          0|           1|                       0|              0|           1|                1|             0|      0|              1|           1|\n",
            "+---+----------+---------------+-----------+------------+----------------+-------------+-----+-------+-----------+------------+------------------------+---------------+------------+-----------------+--------------+-------+---------------+------------+\n",
            "only showing top 20 rows\n",
            "\n"
          ]
        }
      ]
    },
    {
      "cell_type": "code",
      "source": [
        "dataset.printSchema()"
      ],
      "metadata": {
        "colab": {
          "base_uri": "https://localhost:8080/"
        },
        "id": "L1AT9ZOhz1Ta",
        "outputId": "c3be17cf-b956-4c12-a83e-8fd42fd831c9"
      },
      "execution_count": 16,
      "outputs": [
        {
          "output_type": "stream",
          "name": "stdout",
          "text": [
            "root\n",
            " |-- id: integer (nullable = true)\n",
            " |-- Mais65anos: integer (nullable = true)\n",
            " |-- MesesDeContrato: integer (nullable = true)\n",
            " |-- Internet: string (nullable = true)\n",
            " |-- TipoContrato: string (nullable = true)\n",
            " |-- MetodoPagamento: string (nullable = true)\n",
            " |-- MesesCobrados: double (nullable = true)\n",
            " |-- Churn: integer (nullable = false)\n",
            " |-- Conjuge: integer (nullable = false)\n",
            " |-- Dependentes: integer (nullable = false)\n",
            " |-- TelefoneFixo: integer (nullable = false)\n",
            " |-- MaisDeUmaLinhaTelefonica: integer (nullable = false)\n",
            " |-- SegurancaOnline: integer (nullable = false)\n",
            " |-- BackupOnline: integer (nullable = false)\n",
            " |-- SeguroDispositivo: integer (nullable = false)\n",
            " |-- SuporteTecnico: integer (nullable = false)\n",
            " |-- TVaCabo: integer (nullable = false)\n",
            " |-- StreamingFilmes: integer (nullable = false)\n",
            " |-- ContaCorreio: integer (nullable = false)\n",
            "\n"
          ]
        }
      ]
    },
    {
      "cell_type": "markdown",
      "source": [
        "### Dummies Variables"
      ],
      "metadata": {
        "id": "xf0JI-9g0gUf"
      }
    },
    {
      "cell_type": "code",
      "source": [
        "data.select(['internet', 'TipoContrato', 'MetodoPagamento']).show()"
      ],
      "metadata": {
        "colab": {
          "base_uri": "https://localhost:8080/"
        },
        "id": "rYMtC3wjz6kg",
        "outputId": "3a49a104-5f1b-4473-e612-0de63e860b30"
      },
      "execution_count": 17,
      "outputs": [
        {
          "output_type": "stream",
          "name": "stdout",
          "text": [
            "+-----------+------------+----------------+\n",
            "|   internet|TipoContrato| MetodoPagamento|\n",
            "+-----------+------------+----------------+\n",
            "|        DSL| Mensalmente|BoletoEletronico|\n",
            "|        DSL|       UmAno|          Boleto|\n",
            "|        DSL| Mensalmente|          Boleto|\n",
            "|        DSL|       UmAno|   DebitoEmConta|\n",
            "|FibraOptica| Mensalmente|BoletoEletronico|\n",
            "|FibraOptica| Mensalmente|BoletoEletronico|\n",
            "|FibraOptica| Mensalmente|   CartaoCredito|\n",
            "|        DSL| Mensalmente|          Boleto|\n",
            "|FibraOptica| Mensalmente|BoletoEletronico|\n",
            "|        DSL|       UmAno|   DebitoEmConta|\n",
            "|        DSL| Mensalmente|          Boleto|\n",
            "|        Nao|    DoisAnos|   CartaoCredito|\n",
            "|FibraOptica|       UmAno|   CartaoCredito|\n",
            "|FibraOptica| Mensalmente|   DebitoEmConta|\n",
            "|FibraOptica| Mensalmente|BoletoEletronico|\n",
            "|FibraOptica|    DoisAnos|   CartaoCredito|\n",
            "|        Nao|       UmAno|          Boleto|\n",
            "|FibraOptica|    DoisAnos|   DebitoEmConta|\n",
            "|        DSL| Mensalmente|   CartaoCredito|\n",
            "|FibraOptica| Mensalmente|BoletoEletronico|\n",
            "+-----------+------------+----------------+\n",
            "only showing top 20 rows\n",
            "\n"
          ]
        }
      ]
    },
    {
      "cell_type": "code",
      "source": [
        "dataset.groupBy('id').pivot('Internet').agg(f.lit(1)).na.fill(0).show()"
      ],
      "metadata": {
        "colab": {
          "base_uri": "https://localhost:8080/"
        },
        "id": "G7-Gj3-20tF8",
        "outputId": "2e4006f0-8053-473a-8ac4-161a4c42ac98"
      },
      "execution_count": 18,
      "outputs": [
        {
          "output_type": "stream",
          "name": "stdout",
          "text": [
            "+----+---+-----------+---+\n",
            "|  id|DSL|FibraOptica|Nao|\n",
            "+----+---+-----------+---+\n",
            "|7982|  1|          0|  0|\n",
            "|9465|  0|          1|  0|\n",
            "|2122|  1|          0|  0|\n",
            "|3997|  1|          0|  0|\n",
            "|6654|  0|          1|  0|\n",
            "|7880|  0|          1|  0|\n",
            "|4519|  0|          1|  0|\n",
            "|6466|  0|          1|  0|\n",
            "| 496|  1|          0|  0|\n",
            "|7833|  0|          1|  0|\n",
            "|1591|  0|          0|  1|\n",
            "|2866|  0|          1|  0|\n",
            "|8592|  0|          1|  0|\n",
            "|1829|  0|          1|  0|\n",
            "| 463|  0|          1|  0|\n",
            "|4900|  0|          1|  0|\n",
            "|4818|  0|          1|  0|\n",
            "|7554|  1|          0|  0|\n",
            "|1342|  0|          0|  1|\n",
            "|5300|  0|          1|  0|\n",
            "+----+---+-----------+---+\n",
            "only showing top 20 rows\n",
            "\n"
          ]
        }
      ]
    },
    {
      "cell_type": "code",
      "source": [
        "internet = dataset.groupBy('id').pivot('Internet').agg(f.lit(1)).na.fill(0)\n",
        "tipo_contrato = dataset.groupBy('id').pivot('TipoContrato').agg(f.lit(1)).na.fill(0)\n",
        "metodo_pagamento = dataset.groupBy('id').pivot('MetodoPagamento').agg(f.lit(1)).na.fill(0)"
      ],
      "metadata": {
        "id": "Uo1uNrWi2wvA"
      },
      "execution_count": 19,
      "outputs": []
    },
    {
      "cell_type": "code",
      "source": [
        "dataset.columns"
      ],
      "metadata": {
        "colab": {
          "base_uri": "https://localhost:8080/"
        },
        "id": "r5PkJ9Ih4gwl",
        "outputId": "11647f8c-b022-41d5-88a3-d5db2fff8d74"
      },
      "execution_count": 20,
      "outputs": [
        {
          "output_type": "execute_result",
          "data": {
            "text/plain": [
              "['id',\n",
              " 'Mais65anos',\n",
              " 'MesesDeContrato',\n",
              " 'Internet',\n",
              " 'TipoContrato',\n",
              " 'MetodoPagamento',\n",
              " 'MesesCobrados',\n",
              " 'Churn',\n",
              " 'Conjuge',\n",
              " 'Dependentes',\n",
              " 'TelefoneFixo',\n",
              " 'MaisDeUmaLinhaTelefonica',\n",
              " 'SegurancaOnline',\n",
              " 'BackupOnline',\n",
              " 'SeguroDispositivo',\n",
              " 'SuporteTecnico',\n",
              " 'TVaCabo',\n",
              " 'StreamingFilmes',\n",
              " 'ContaCorreio']"
            ]
          },
          "metadata": {},
          "execution_count": 20
        }
      ]
    },
    {
      "cell_type": "code",
      "source": [
        "dataset = dataset\\\n",
        "    .join(internet, 'id', how='inner')\\\n",
        "    .join(tipo_contrato, 'id', how='inner')\\\n",
        "    .join(metodo_pagamento, 'id', how='inner')\\\n",
        "    .select(\n",
        "        '*',\n",
        "        f.col('DSL').alias('internet_dsl'),\n",
        "        f.col('FibraOptica').alias('internet_fibra'),\n",
        "        f.col('Nao').alias('internet_nao'),\n",
        "        f.col('Mensalmente').alias('tipo_contrat_mensal'),\n",
        "        f.col('UmAno').alias('contrato_um_ano'),\n",
        "        f.col('DoisAnos').alias('contrato_dois_anos'),\n",
        "        f.col('DebitoEmConta').alias('pagamento_deb_conta'),\n",
        "        f.col('CartaoCredito').alias('pagamento_cartao_credito'),\n",
        "        f.col('BoletoEletronico').alias('pagamento_boleto_eletr'),\n",
        "        f.col('Boleto').alias('pagamento_boleto')\n",
        "    )\\\n",
        "    .drop('Internet', 'TipoContrato', 'MetodoPagamento', 'DSL',\n",
        "          'FibraOptica', 'Nao', 'Mensalmente', 'UmAno', 'DoisAnos',\n",
        "          'DebitoEmConta', 'CartaoCredito', 'BoletoEletronico', 'Boleto'\n",
        "\n",
        "    )"
      ],
      "metadata": {
        "id": "qwfaAxWU3Mo4"
      },
      "execution_count": 21,
      "outputs": []
    },
    {
      "cell_type": "code",
      "source": [
        "dataset.show()"
      ],
      "metadata": {
        "colab": {
          "base_uri": "https://localhost:8080/"
        },
        "id": "LuaywTyT6ivP",
        "outputId": "dfa1214e-0522-4c07-b83d-b22c4ad8f35c"
      },
      "execution_count": 22,
      "outputs": [
        {
          "output_type": "stream",
          "name": "stdout",
          "text": [
            "+----+----------+---------------+-----------------+-----+-------+-----------+------------+------------------------+---------------+------------+-----------------+--------------+-------+---------------+------------+------------+--------------+------------+-------------------+---------------+------------------+-------------------+------------------------+----------------------+----------------+\n",
            "|  id|Mais65anos|MesesDeContrato|    MesesCobrados|Churn|Conjuge|Dependentes|TelefoneFixo|MaisDeUmaLinhaTelefonica|SegurancaOnline|BackupOnline|SeguroDispositivo|SuporteTecnico|TVaCabo|StreamingFilmes|ContaCorreio|internet_dsl|internet_fibra|internet_nao|tipo_contrat_mensal|contrato_um_ano|contrato_dois_anos|pagamento_deb_conta|pagamento_cartao_credito|pagamento_boleto_eletr|pagamento_boleto|\n",
            "+----+----------+---------------+-----------------+-----+-------+-----------+------------+------------------------+---------------+------------+-----------------+--------------+-------+---------------+------------+------------+--------------+------------+-------------------+---------------+------------------+-------------------+------------------------+----------------------+----------------+\n",
            "|7982|         0|              1|45.30540797610398|    1|      0|          0|           0|                       0|              0|           0|                0|             0|      1|              1|           1|           1|             0|           0|                  1|              0|                 0|                  0|                       0|                     1|               0|\n",
            "|9465|         0|             60|103.6142230120257|    1|      1|          0|           1|                       1|              0|           1|                1|             0|      1|              1|           1|           0|             1|           0|                  1|              0|                 0|                  0|                       0|                     1|               0|\n",
            "|2122|         0|             12|            75.85|    0|      0|          0|           1|                       1|              0|           0|                0|             1|      1|              1|           1|           1|             0|           0|                  0|              1|                 0|                  0|                       0|                     0|               1|\n",
            "|3997|         0|             69|            61.45|    0|      1|          0|           1|                       0|              0|           1|                0|             0|      0|              1|           1|           1|             0|           0|                  0|              0|                 1|                  0|                       1|                     0|               0|\n",
            "|6654|         0|              7|             86.5|    1|      1|          0|           1|                       1|              0|           0|                0|             0|      1|              0|           1|           0|             1|           0|                  1|              0|                 0|                  0|                       0|                     1|               0|\n",
            "|7880|         0|             14|85.03742670311915|    1|      0|          0|           1|                       1|              0|           0|                0|             0|      0|              1|           1|           0|             1|           0|                  1|              0|                 0|                  0|                       0|                     1|               0|\n",
            "|4519|         0|             57|            109.4|    0|      1|          0|           1|                       1|              0|           1|                1|             1|      1|              1|           1|           0|             1|           0|                  0|              1|                 0|                  1|                       0|                     0|               0|\n",
            "|6466|         0|             18|            74.15|    0|      0|          0|           1|                       1|              0|           0|                0|             0|      0|              0|           0|           0|             1|           0|                  1|              0|                 0|                  0|                       0|                     0|               1|\n",
            "| 496|         0|             28|             60.9|    0|      1|          0|           1|                       0|              1|           1|                0|             1|      0|              0|           0|           1|             0|           0|                  1|              0|                 0|                  0|                       0|                     0|               1|\n",
            "|7833|         0|             46| 80.8824189403559|    1|      1|          0|           1|                       0|              0|           0|                0|             0|      0|              1|           1|           0|             1|           0|                  1|              0|                 0|                  0|                       0|                     1|               0|\n",
            "|1591|         0|             17|             21.1|    0|      0|          0|           1|                       0|              0|           0|                0|             0|      0|              0|           0|           0|             0|           1|                  1|              0|                 0|                  0|                       1|                     0|               0|\n",
            "|2866|         0|             12|             84.6|    0|      0|          0|           1|                       0|              0|           1|                0|             0|      0|              1|           1|           0|             1|           0|                  1|              0|                 0|                  0|                       0|                     1|               0|\n",
            "|8592|         0|              5|82.71735660557214|    1|      1|          0|           1|                       1|              0|           0|                0|             0|      1|              0|           1|           0|             1|           0|                  1|              0|                 0|                  0|                       0|                     1|               0|\n",
            "|1829|         0|              8|            74.85|    0|      0|          0|           1|                       1|              0|           0|                0|             0|      0|              0|           1|           0|             1|           0|                  1|              0|                 0|                  0|                       0|                     1|               0|\n",
            "| 463|         0|              7|             99.8|    1|      0|          0|           1|                       1|              0|           1|                0|             0|      1|              1|           1|           0|             1|           0|                  1|              0|                 0|                  0|                       0|                     1|               0|\n",
            "|4900|         1|             37|             85.7|    1|      1|          0|           1|                       1|              0|           0|                0|             0|      1|              0|           1|           0|             1|           0|                  1|              0|                 0|                  0|                       0|                     1|               0|\n",
            "|4818|         1|             64|             80.3|    0|      1|          0|           1|                       0|              1|           0|                1|             0|      0|              0|           0|           0|             1|           0|                  0|              1|                 0|                  0|                       1|                     0|               0|\n",
            "|7554|         0|              1|50.74303124820026|    1|      0|          0|           1|                       0|              0|           1|                0|             0|      0|              0|           0|           1|             0|           0|                  1|              0|                 0|                  0|                       0|                     1|               0|\n",
            "|1342|         0|              8|             20.0|    0|      0|          0|           1|                       0|              0|           0|                0|             0|      0|              0|           0|           0|             0|           1|                  0|              0|                 1|                  0|                       0|                     0|               1|\n",
            "|5300|         0|              1|            80.05|    1|      1|          1|           1|                       0|              0|           0|                0|             0|      1|              0|           1|           0|             1|           0|                  1|              0|                 0|                  0|                       0|                     0|               1|\n",
            "+----+----------+---------------+-----------------+-----+-------+-----------+------------+------------------------+---------------+------------+-----------------+--------------+-------+---------------+------------+------------+--------------+------------+-------------------+---------------+------------------+-------------------+------------------------+----------------------+----------------+\n",
            "only showing top 20 rows\n",
            "\n"
          ]
        }
      ]
    },
    {
      "cell_type": "code",
      "source": [
        "dataset.printSchema()"
      ],
      "metadata": {
        "colab": {
          "base_uri": "https://localhost:8080/"
        },
        "id": "GTBORUfi7tem",
        "outputId": "faa1e781-217e-4f6d-8bdb-460244651c16"
      },
      "execution_count": 23,
      "outputs": [
        {
          "output_type": "stream",
          "name": "stdout",
          "text": [
            "root\n",
            " |-- id: integer (nullable = true)\n",
            " |-- Mais65anos: integer (nullable = true)\n",
            " |-- MesesDeContrato: integer (nullable = true)\n",
            " |-- MesesCobrados: double (nullable = true)\n",
            " |-- Churn: integer (nullable = false)\n",
            " |-- Conjuge: integer (nullable = false)\n",
            " |-- Dependentes: integer (nullable = false)\n",
            " |-- TelefoneFixo: integer (nullable = false)\n",
            " |-- MaisDeUmaLinhaTelefonica: integer (nullable = false)\n",
            " |-- SegurancaOnline: integer (nullable = false)\n",
            " |-- BackupOnline: integer (nullable = false)\n",
            " |-- SeguroDispositivo: integer (nullable = false)\n",
            " |-- SuporteTecnico: integer (nullable = false)\n",
            " |-- TVaCabo: integer (nullable = false)\n",
            " |-- StreamingFilmes: integer (nullable = false)\n",
            " |-- ContaCorreio: integer (nullable = false)\n",
            " |-- internet_dsl: integer (nullable = true)\n",
            " |-- internet_fibra: integer (nullable = true)\n",
            " |-- internet_nao: integer (nullable = true)\n",
            " |-- tipo_contrat_mensal: integer (nullable = true)\n",
            " |-- contrato_um_ano: integer (nullable = true)\n",
            " |-- contrato_dois_anos: integer (nullable = true)\n",
            " |-- pagamento_deb_conta: integer (nullable = true)\n",
            " |-- pagamento_cartao_credito: integer (nullable = true)\n",
            " |-- pagamento_boleto_eletr: integer (nullable = true)\n",
            " |-- pagamento_boleto: integer (nullable = true)\n",
            "\n"
          ]
        }
      ]
    },
    {
      "cell_type": "code",
      "source": [
        "dataset = dataset.withColumnRenamed('Churn', 'label')"
      ],
      "metadata": {
        "id": "-yzPu33n-H8o"
      },
      "execution_count": 24,
      "outputs": []
    },
    {
      "cell_type": "code",
      "source": [
        "X = dataset.columns\n",
        "X.remove('label')\n",
        "X.remove('id')\n",
        "X"
      ],
      "metadata": {
        "colab": {
          "base_uri": "https://localhost:8080/"
        },
        "id": "B54XTdQ8-Pf9",
        "outputId": "e8fbfa0b-6950-45c7-c791-7ef1941e58c1"
      },
      "execution_count": 25,
      "outputs": [
        {
          "output_type": "execute_result",
          "data": {
            "text/plain": [
              "['Mais65anos',\n",
              " 'MesesDeContrato',\n",
              " 'MesesCobrados',\n",
              " 'Conjuge',\n",
              " 'Dependentes',\n",
              " 'TelefoneFixo',\n",
              " 'MaisDeUmaLinhaTelefonica',\n",
              " 'SegurancaOnline',\n",
              " 'BackupOnline',\n",
              " 'SeguroDispositivo',\n",
              " 'SuporteTecnico',\n",
              " 'TVaCabo',\n",
              " 'StreamingFilmes',\n",
              " 'ContaCorreio',\n",
              " 'internet_dsl',\n",
              " 'internet_fibra',\n",
              " 'internet_nao',\n",
              " 'tipo_contrat_mensal',\n",
              " 'contrato_um_ano',\n",
              " 'contrato_dois_anos',\n",
              " 'pagamento_deb_conta',\n",
              " 'pagamento_cartao_credito',\n",
              " 'pagamento_boleto_eletr',\n",
              " 'pagamento_boleto']"
            ]
          },
          "metadata": {},
          "execution_count": 25
        }
      ]
    },
    {
      "cell_type": "code",
      "source": [
        "dataset_prep = VectorAssembler(inputCols=X, outputCol='features').transform(dataset).select('features', 'label')"
      ],
      "metadata": {
        "id": "GGwjHzQj-PV-"
      },
      "execution_count": 26,
      "outputs": []
    },
    {
      "cell_type": "code",
      "source": [
        "dataset_prep.show(10, truncate=False)"
      ],
      "metadata": {
        "colab": {
          "base_uri": "https://localhost:8080/"
        },
        "id": "EyEuRs79-fGi",
        "outputId": "3502cc3c-2382-4394-e9b2-36fde2a37a94"
      },
      "execution_count": 27,
      "outputs": [
        {
          "output_type": "stream",
          "name": "stdout",
          "text": [
            "+-----------------------------------------------------------------------------------------------------------+-----+\n",
            "|features                                                                                                   |label|\n",
            "+-----------------------------------------------------------------------------------------------------------+-----+\n",
            "|(24,[1,2,11,12,13,14,17,22],[1.0,45.30540797610398,1.0,1.0,1.0,1.0,1.0,1.0])                               |1    |\n",
            "|(24,[1,2,3,5,6,8,9,11,12,13,15,17,22],[60.0,103.6142230120257,1.0,1.0,1.0,1.0,1.0,1.0,1.0,1.0,1.0,1.0,1.0])|1    |\n",
            "|(24,[1,2,5,6,10,11,12,13,14,18,23],[12.0,75.85,1.0,1.0,1.0,1.0,1.0,1.0,1.0,1.0,1.0])                       |0    |\n",
            "|(24,[1,2,3,5,8,12,13,14,19,21],[69.0,61.45,1.0,1.0,1.0,1.0,1.0,1.0,1.0,1.0])                               |0    |\n",
            "|(24,[1,2,3,5,6,11,13,15,17,22],[7.0,86.5,1.0,1.0,1.0,1.0,1.0,1.0,1.0,1.0])                                 |1    |\n",
            "|(24,[1,2,5,6,12,13,15,17,22],[14.0,85.03742670311915,1.0,1.0,1.0,1.0,1.0,1.0,1.0])                         |1    |\n",
            "|(24,[1,2,3,5,6,8,9,10,11,12,13,15,18,20],[57.0,109.4,1.0,1.0,1.0,1.0,1.0,1.0,1.0,1.0,1.0,1.0,1.0,1.0])     |0    |\n",
            "|(24,[1,2,5,6,15,17,23],[18.0,74.15,1.0,1.0,1.0,1.0,1.0])                                                   |0    |\n",
            "|(24,[1,2,3,5,7,8,10,14,17,23],[28.0,60.9,1.0,1.0,1.0,1.0,1.0,1.0,1.0,1.0])                                 |0    |\n",
            "|(24,[1,2,3,5,12,13,15,17,22],[46.0,80.8824189403559,1.0,1.0,1.0,1.0,1.0,1.0,1.0])                          |1    |\n",
            "+-----------------------------------------------------------------------------------------------------------+-----+\n",
            "only showing top 10 rows\n",
            "\n"
          ]
        }
      ]
    },
    {
      "cell_type": "markdown",
      "source": [
        "### Adjust Sample"
      ],
      "metadata": {
        "id": "JhySwi9xAMSR"
      }
    },
    {
      "cell_type": "code",
      "source": [
        "seed=42\n",
        "train, test = dataset_prep.randomSplit([0.8, 0.2], seed=seed)"
      ],
      "metadata": {
        "id": "XsdFOKTZAL7K"
      },
      "execution_count": 28,
      "outputs": []
    },
    {
      "cell_type": "code",
      "source": [
        "train.show()"
      ],
      "metadata": {
        "colab": {
          "base_uri": "https://localhost:8080/"
        },
        "id": "8r5XAvibAfzX",
        "outputId": "a9736f6f-f7b3-4096-80f8-5e8888db78e0"
      },
      "execution_count": 29,
      "outputs": [
        {
          "output_type": "stream",
          "name": "stdout",
          "text": [
            "+--------------------+-----+\n",
            "|            features|label|\n",
            "+--------------------+-----+\n",
            "|(24,[0,1,2,3,4,5,...|    0|\n",
            "|(24,[0,1,2,3,4,5,...|    0|\n",
            "|(24,[0,1,2,3,4,5,...|    0|\n",
            "|(24,[0,1,2,3,4,5,...|    0|\n",
            "|(24,[0,1,2,3,4,5,...|    0|\n",
            "|(24,[0,1,2,3,4,5,...|    1|\n",
            "|(24,[0,1,2,3,4,5,...|    1|\n",
            "|(24,[0,1,2,3,4,5,...|    0|\n",
            "|(24,[0,1,2,3,4,5,...|    0|\n",
            "|(24,[0,1,2,3,4,5,...|    0|\n",
            "|(24,[0,1,2,3,4,5,...|    1|\n",
            "|(24,[0,1,2,3,4,5,...|    1|\n",
            "|(24,[0,1,2,3,4,5,...|    0|\n",
            "|(24,[0,1,2,3,4,5,...|    0|\n",
            "|(24,[0,1,2,3,4,5,...|    0|\n",
            "|(24,[0,1,2,3,4,5,...|    0|\n",
            "|(24,[0,1,2,3,4,5,...|    1|\n",
            "|(24,[0,1,2,3,4,5,...|    0|\n",
            "|(24,[0,1,2,3,4,5,...|    0|\n",
            "|(24,[0,1,2,3,4,5,...|    0|\n",
            "+--------------------+-----+\n",
            "only showing top 20 rows\n",
            "\n"
          ]
        }
      ]
    },
    {
      "cell_type": "code",
      "source": [
        "test.show()"
      ],
      "metadata": {
        "colab": {
          "base_uri": "https://localhost:8080/"
        },
        "id": "wf3IJFmIAmao",
        "outputId": "fba40163-aeaf-4b13-a649-b03512557ce4"
      },
      "execution_count": 30,
      "outputs": [
        {
          "output_type": "stream",
          "name": "stdout",
          "text": [
            "+--------------------+-----+\n",
            "|            features|label|\n",
            "+--------------------+-----+\n",
            "|(24,[0,1,2,3,4,5,...|    0|\n",
            "|(24,[0,1,2,3,4,5,...|    0|\n",
            "|(24,[0,1,2,3,4,5,...|    0|\n",
            "|(24,[0,1,2,3,4,5,...|    0|\n",
            "|(24,[0,1,2,3,4,5,...|    0|\n",
            "|(24,[0,1,2,3,4,5,...|    0|\n",
            "|(24,[0,1,2,3,4,5,...|    0|\n",
            "|(24,[0,1,2,3,4,5,...|    0|\n",
            "|(24,[0,1,2,3,4,5,...|    1|\n",
            "|(24,[0,1,2,3,4,5,...|    0|\n",
            "|(24,[0,1,2,3,4,5,...|    0|\n",
            "|(24,[0,1,2,3,4,8,...|    0|\n",
            "|(24,[0,1,2,3,4,8,...|    0|\n",
            "|(24,[0,1,2,3,4,12...|    0|\n",
            "|(24,[0,1,2,3,5,6,...|    0|\n",
            "|(24,[0,1,2,3,5,6,...|    0|\n",
            "|(24,[0,1,2,3,5,6,...|    0|\n",
            "|(24,[0,1,2,3,5,6,...|    1|\n",
            "|(24,[0,1,2,3,5,6,...|    1|\n",
            "|(24,[0,1,2,3,5,6,...|    0|\n",
            "+--------------------+-----+\n",
            "only showing top 20 rows\n",
            "\n"
          ]
        }
      ]
    },
    {
      "cell_type": "code",
      "source": [
        "train.count(), test.count()"
      ],
      "metadata": {
        "colab": {
          "base_uri": "https://localhost:8080/"
        },
        "id": "yCVhT_yDA1xF",
        "outputId": "debd63f9-cd22-43af-d191-8e66a4663832"
      },
      "execution_count": 31,
      "outputs": [
        {
          "output_type": "execute_result",
          "data": {
            "text/plain": [
              "(8356, 1992)"
            ]
          },
          "metadata": {},
          "execution_count": 31
        }
      ]
    },
    {
      "cell_type": "markdown",
      "source": [
        "# Logistic Regression"
      ],
      "metadata": {
        "id": "2ERDuwGJ8W7c"
      }
    },
    {
      "cell_type": "code",
      "source": [
        "lr = LogisticRegression().fit(train)"
      ],
      "metadata": {
        "id": "uc5nsfDA7wNT"
      },
      "execution_count": 32,
      "outputs": []
    },
    {
      "cell_type": "code",
      "source": [
        "pred_lr = lr.transform(test)"
      ],
      "metadata": {
        "id": "c4eDPNSbBI22"
      },
      "execution_count": 33,
      "outputs": []
    },
    {
      "cell_type": "code",
      "source": [
        "pred_lr.show()"
      ],
      "metadata": {
        "colab": {
          "base_uri": "https://localhost:8080/"
        },
        "id": "r5c7Z6iaBQFV",
        "outputId": "4b6511e1-244f-4893-97b1-e09f191e6c8a"
      },
      "execution_count": 34,
      "outputs": [
        {
          "output_type": "stream",
          "name": "stdout",
          "text": [
            "+--------------------+-----+--------------------+--------------------+----------+\n",
            "|            features|label|       rawPrediction|         probability|prediction|\n",
            "+--------------------+-----+--------------------+--------------------+----------+\n",
            "|(24,[0,1,2,3,4,5,...|    0|[0.79030537977963...|[0.68789689778178...|       0.0|\n",
            "|(24,[0,1,2,3,4,5,...|    0|[0.97169805769358...|[0.72545782729374...|       0.0|\n",
            "|(24,[0,1,2,3,4,5,...|    0|[0.84487634423129...|[0.69949123545955...|       0.0|\n",
            "|(24,[0,1,2,3,4,5,...|    0|[1.21615504810257...|[0.77138620159290...|       0.0|\n",
            "|(24,[0,1,2,3,4,5,...|    0|[0.84459470045534...|[0.69943202969724...|       0.0|\n",
            "|(24,[0,1,2,3,4,5,...|    0|[0.12555956766631...|[0.53134871782033...|       0.0|\n",
            "|(24,[0,1,2,3,4,5,...|    0|[4.26288405643322...|[0.98611390727200...|       0.0|\n",
            "|(24,[0,1,2,3,4,5,...|    0|[1.52765897351149...|[0.82166353586314...|       0.0|\n",
            "|(24,[0,1,2,3,4,5,...|    1|[1.42098663640013...|[0.80549304327390...|       0.0|\n",
            "|(24,[0,1,2,3,4,5,...|    0|[4.32954188397231...|[0.98699770564309...|       0.0|\n",
            "|(24,[0,1,2,3,4,5,...|    0|[5.25678579266375...|[0.99481499403784...|       0.0|\n",
            "|(24,[0,1,2,3,4,8,...|    0|[2.55258012843626...|[0.92774665885424...|       0.0|\n",
            "|(24,[0,1,2,3,4,8,...|    0|[0.81266022379413...|[0.69267609197580...|       0.0|\n",
            "|(24,[0,1,2,3,4,12...|    0|[0.06294113652969...|[0.51573009146521...|       0.0|\n",
            "|(24,[0,1,2,3,5,6,...|    0|[3.45531239477846...|[0.96938917329972...|       0.0|\n",
            "|(24,[0,1,2,3,5,6,...|    0|[2.73297820120140...|[0.93894479327423...|       0.0|\n",
            "|(24,[0,1,2,3,5,6,...|    0|[0.88678297290965...|[0.70822584524725...|       0.0|\n",
            "|(24,[0,1,2,3,5,6,...|    1|[0.60812801478033...|[0.64751365877491...|       0.0|\n",
            "|(24,[0,1,2,3,5,6,...|    1|[-1.2455252744582...|[0.22347569628628...|       1.0|\n",
            "|(24,[0,1,2,3,5,6,...|    0|[3.04071783479132...|[0.95438009302745...|       0.0|\n",
            "+--------------------+-----+--------------------+--------------------+----------+\n",
            "only showing top 20 rows\n",
            "\n"
          ]
        }
      ]
    },
    {
      "cell_type": "markdown",
      "source": [
        "### Metrics"
      ],
      "metadata": {
        "id": "s5aTI2EcBlL-"
      }
    },
    {
      "cell_type": "code",
      "source": [
        "resume_lr_train = lr.summary"
      ],
      "metadata": {
        "id": "YJ7yFcEaBTXM"
      },
      "execution_count": 35,
      "outputs": []
    },
    {
      "cell_type": "code",
      "source": [
        "def metrics(x):\n",
        "    print('Accuracy: %.2f' % resume_lr_train.accuracy)\n",
        "    print('Precision: %.2f' % resume_lr_train.precisionByLabel[1])\n",
        "    print('Recall: %.2f' % resume_lr_train.recallByLabel[1])\n",
        "    print('F1 Score: %.2f' % resume_lr_train.fMeasureByLabel()[1])"
      ],
      "metadata": {
        "id": "nSXvx0iIBoyj"
      },
      "execution_count": 73,
      "outputs": []
    },
    {
      "cell_type": "code",
      "source": [
        "metrics(resume_lr_train)"
      ],
      "metadata": {
        "colab": {
          "base_uri": "https://localhost:8080/"
        },
        "id": "H4rvrwHBydUj",
        "outputId": "c568a74c-e4b8-428b-c2fe-a1b350315367"
      },
      "execution_count": 74,
      "outputs": [
        {
          "output_type": "stream",
          "name": "stdout",
          "text": [
            "Accuracy: 0.78\n",
            "Precision: 0.77\n",
            "Recall: 0.81\n",
            "F1 Score: 0.79\n"
          ]
        }
      ]
    },
    {
      "cell_type": "markdown",
      "source": [
        "### Confusion Matrix"
      ],
      "metadata": {
        "id": "N_y5xXB6ChqH"
      }
    },
    {
      "cell_type": "code",
      "source": [
        "tp = pred_lr.select('label', 'prediction').where((f.col('label')==1) & (f.col('prediction')==1)).count()\n",
        "tn = pred_lr.select('label', 'prediction').where((f.col('label')==0) & (f.col('prediction')==0)).count()\n",
        "fp = pred_lr.select('label', 'prediction').where((f.col('label')==0) & (f.col('prediction')==1)).count()\n",
        "fn = pred_lr.select('label', 'prediction').where((f.col('label')==1) & (f.col('prediction')==0)).count()"
      ],
      "metadata": {
        "id": "CCbmPtGsB3ZT"
      },
      "execution_count": 37,
      "outputs": []
    },
    {
      "cell_type": "code",
      "source": [
        "tp, tn, fp, fn"
      ],
      "metadata": {
        "colab": {
          "base_uri": "https://localhost:8080/"
        },
        "id": "wK4-GfZtC-Qe",
        "outputId": "27442b9c-8350-4b86-f5ac-68909e0da3bf"
      },
      "execution_count": 38,
      "outputs": [
        {
          "output_type": "execute_result",
          "data": {
            "text/plain": [
              "(776, 765, 243, 208)"
            ]
          },
          "metadata": {},
          "execution_count": 38
        }
      ]
    },
    {
      "cell_type": "code",
      "source": [
        "def conf_matrix(df_transform_modelo, normalize=False, percentage=True):\n",
        "  tp = df_transform_modelo.select('label', 'prediction').where((f.col('label') == 1) & (f.col('prediction') == 1)).count()\n",
        "  tn = df_transform_modelo.select('label', 'prediction').where((f.col('label') == 0) & (f.col('prediction') == 0)).count()\n",
        "  fp = df_transform_modelo.select('label', 'prediction').where((f.col('label') == 0) & (f.col('prediction') == 1)).count()\n",
        "  fn = df_transform_modelo.select('label', 'prediction').where((f.col('label') == 1) & (f.col('prediction') == 0)).count()\n",
        "  \n",
        "  valorP = 1\n",
        "  valorN = 1\n",
        "\n",
        "  if normalize:\n",
        "    valorP = tp + fn\n",
        "    valorN = fp + tn\n",
        "  \n",
        "  if percentage and normalize:\n",
        "    valorP = valorP / 100\n",
        "    valorN = valorN / 100\n",
        "\n",
        "  print(' '*20, 'Previsto')\n",
        "  print(' '*15, 'Churn', ' '*5 ,'Não-Churn')\n",
        "  print(' '*4, 'Churn', ' '*6, int(tp/valorP), ' '*7, int(fn/valorP))\n",
        "  print('Real')\n",
        "  print(' '*4, 'Não-Churn', ' '*2, int(fp/valorN), ' '*7, int(tn/valorN), '\\n')\n",
        "  print(f'True Positive:{round((tp / (tp+fp))*100,2)}%')\n",
        "  print(f'False Positive:{round((fp / (tp+fp))*100,2)}%')\n",
        "  print(f'True Negative:{round((tn / (fn+tn))*100,2)}%')\n",
        "  print(f'False Negative:{round((fn / (fn+tn))*100,2)}%')"
      ],
      "metadata": {
        "id": "vbtQb5EjEFIi"
      },
      "execution_count": 67,
      "outputs": []
    },
    {
      "cell_type": "code",
      "source": [
        "conf_matrix(pred_lr)"
      ],
      "metadata": {
        "colab": {
          "base_uri": "https://localhost:8080/"
        },
        "id": "C3IXrNGWGzZO",
        "outputId": "df595383-11d8-4e8a-c1b2-d108b5198da0"
      },
      "execution_count": 68,
      "outputs": [
        {
          "output_type": "stream",
          "name": "stdout",
          "text": [
            "                     Previsto\n",
            "                Churn       Não-Churn\n",
            "     Churn        776         208\n",
            "Real\n",
            "     Não-Churn    243         765 \n",
            "\n",
            "True Positive:76.15%\n",
            "False Positive:23.85%\n",
            "True Negative:78.62%\n",
            "False Negative:21.38%\n"
          ]
        }
      ]
    },
    {
      "cell_type": "markdown",
      "source": [
        "# Decision Tree Classifier"
      ],
      "metadata": {
        "id": "98aeVMZkuLMp"
      }
    },
    {
      "cell_type": "code",
      "source": [
        "tree = DecisionTreeClassifier(seed=seed).fit(train)\n",
        "pred_tree = tree.transform(test)\n",
        "pred_tree.show()"
      ],
      "metadata": {
        "id": "pfbq5cuXIGhw",
        "colab": {
          "base_uri": "https://localhost:8080/"
        },
        "outputId": "6734ce1f-4507-484e-93dc-4057c47aeea8"
      },
      "execution_count": 76,
      "outputs": [
        {
          "output_type": "stream",
          "name": "stdout",
          "text": [
            "+--------------------+-----+--------------+--------------------+----------+\n",
            "|            features|label| rawPrediction|         probability|prediction|\n",
            "+--------------------+-----+--------------+--------------------+----------+\n",
            "|(24,[0,1,2,3,4,5,...|    0|    [24.0,4.0]|[0.85714285714285...|       0.0|\n",
            "|(24,[0,1,2,3,4,5,...|    0|    [24.0,4.0]|[0.85714285714285...|       0.0|\n",
            "|(24,[0,1,2,3,4,5,...|    0| [269.0,239.0]|[0.52952755905511...|       0.0|\n",
            "|(24,[0,1,2,3,4,5,...|    0|[2376.0,388.0]|[0.85962373371924...|       0.0|\n",
            "|(24,[0,1,2,3,4,5,...|    0| [269.0,239.0]|[0.52952755905511...|       0.0|\n",
            "|(24,[0,1,2,3,4,5,...|    0| [269.0,239.0]|[0.52952755905511...|       0.0|\n",
            "|(24,[0,1,2,3,4,5,...|    0|[2376.0,388.0]|[0.85962373371924...|       0.0|\n",
            "|(24,[0,1,2,3,4,5,...|    0|[2376.0,388.0]|[0.85962373371924...|       0.0|\n",
            "|(24,[0,1,2,3,4,5,...|    1| [269.0,239.0]|[0.52952755905511...|       0.0|\n",
            "|(24,[0,1,2,3,4,5,...|    0|[2376.0,388.0]|[0.85962373371924...|       0.0|\n",
            "|(24,[0,1,2,3,4,5,...|    0|[2376.0,388.0]|[0.85962373371924...|       0.0|\n",
            "|(24,[0,1,2,3,4,8,...|    0|[2376.0,388.0]|[0.85962373371924...|       0.0|\n",
            "|(24,[0,1,2,3,4,8,...|    0|[2376.0,388.0]|[0.85962373371924...|       0.0|\n",
            "|(24,[0,1,2,3,4,12...|    0| [500.0,204.0]|[0.71022727272727...|       0.0|\n",
            "|(24,[0,1,2,3,5,6,...|    0|[2376.0,388.0]|[0.85962373371924...|       0.0|\n",
            "|(24,[0,1,2,3,5,6,...|    0|[2376.0,388.0]|[0.85962373371924...|       0.0|\n",
            "|(24,[0,1,2,3,5,6,...|    0|[2376.0,388.0]|[0.85962373371924...|       0.0|\n",
            "|(24,[0,1,2,3,5,6,...|    1| [269.0,239.0]|[0.52952755905511...|       0.0|\n",
            "|(24,[0,1,2,3,5,6,...|    1| [132.0,193.0]|[0.40615384615384...|       1.0|\n",
            "|(24,[0,1,2,3,5,6,...|    0|[2376.0,388.0]|[0.85962373371924...|       0.0|\n",
            "+--------------------+-----+--------------+--------------------+----------+\n",
            "only showing top 20 rows\n",
            "\n"
          ]
        }
      ]
    },
    {
      "cell_type": "code",
      "source": [
        "conf_matrix(pred_tree)"
      ],
      "metadata": {
        "colab": {
          "base_uri": "https://localhost:8080/"
        },
        "id": "uIweqEFCrM4_",
        "outputId": "210ac6e3-85ff-48c5-b801-f380f35087dc"
      },
      "execution_count": 77,
      "outputs": [
        {
          "output_type": "stream",
          "name": "stdout",
          "text": [
            "                     Previsto\n",
            "                Churn       Não-Churn\n",
            "     Churn        736         248\n",
            "Real\n",
            "     Não-Churn    174         834 \n",
            "\n",
            "True Positive:80.88%\n",
            "False Positive:19.12%\n",
            "True Negative:77.08%\n",
            "False Negative:22.92%\n"
          ]
        }
      ]
    },
    {
      "cell_type": "code",
      "source": [
        "evaluator = MulticlassClassificationEvaluator()\n",
        "evaluator.evaluate(pred_tree, {evaluator.metricName: 'accuracy'})"
      ],
      "metadata": {
        "colab": {
          "base_uri": "https://localhost:8080/"
        },
        "id": "NFf8WLUSzIB5",
        "outputId": "2cc38fad-b0fc-4534-ce7d-a104846a2f2b"
      },
      "execution_count": 80,
      "outputs": [
        {
          "output_type": "execute_result",
          "data": {
            "text/plain": [
              "0.7881526104417671"
            ]
          },
          "metadata": {},
          "execution_count": 80
        }
      ]
    },
    {
      "cell_type": "code",
      "source": [
        "def tree_metrics(x):\n",
        "    print(\"Acurácia: %f\" % evaluator.evaluate(x, {evaluator.metricName: \"accuracy\"}))\n",
        "    print(\"Precisão: %f\" % evaluator.evaluate(x, {evaluator.metricName: \"precisionByLabel\", evaluator.metricLabel: 1}))\n",
        "    print(\"Recall: %f\" % evaluator.evaluate(x, {evaluator.metricName: \"recallByLabel\", evaluator.metricLabel: 1}))\n",
        "    print(\"F1: %f\" % evaluator.evaluate(x, {evaluator.metricName: \"fMeasureByLabel\", evaluator.metricLabel: 1}))"
      ],
      "metadata": {
        "id": "1DcC9slj0cW0"
      },
      "execution_count": 86,
      "outputs": []
    },
    {
      "cell_type": "code",
      "source": [
        "tree_metrics(pred_tree)"
      ],
      "metadata": {
        "colab": {
          "base_uri": "https://localhost:8080/"
        },
        "id": "0Urr4_0M4D-m",
        "outputId": "d543c8e6-392d-497f-da0f-1af60fd68644"
      },
      "execution_count": 87,
      "outputs": [
        {
          "output_type": "stream",
          "name": "stdout",
          "text": [
            "Acurácia: 0.788153\n",
            "Precisão: 0.808791\n",
            "Recall: 0.747967\n",
            "F1: 0.777191\n"
          ]
        }
      ]
    },
    {
      "cell_type": "markdown",
      "source": [
        "# Random Forest"
      ],
      "metadata": {
        "id": "kIwQIopk5JFc"
      }
    },
    {
      "cell_type": "code",
      "source": [
        "random = RandomForestClassifier(maxDepth=10, seed=seed).fit(train)\n",
        "pred_random = random.transform(test)\n",
        "pred_random.show()"
      ],
      "metadata": {
        "colab": {
          "base_uri": "https://localhost:8080/"
        },
        "outputId": "3b3fd5ef-c16c-451d-e8a7-b246869fc971",
        "id": "6cmOtw1V5N2s"
      },
      "execution_count": 102,
      "outputs": [
        {
          "output_type": "stream",
          "name": "stdout",
          "text": [
            "+--------------------+-----+--------------------+--------------------+----------+\n",
            "|            features|label|       rawPrediction|         probability|prediction|\n",
            "+--------------------+-----+--------------------+--------------------+----------+\n",
            "|(24,[0,1,2,3,4,5,...|    0|[14.1789095320942...|[0.70894547660471...|       0.0|\n",
            "|(24,[0,1,2,3,4,5,...|    0|[12.3622643498605...|[0.61811321749302...|       0.0|\n",
            "|(24,[0,1,2,3,4,5,...|    0|[11.6920597849830...|[0.58460298924915...|       0.0|\n",
            "|(24,[0,1,2,3,4,5,...|    0|[13.5920578280655...|[0.67960289140327...|       0.0|\n",
            "|(24,[0,1,2,3,4,5,...|    0|[10.7988361406302...|[0.53994180703151...|       0.0|\n",
            "|(24,[0,1,2,3,4,5,...|    0|[10.5064451544935...|[0.52532225772467...|       0.0|\n",
            "|(24,[0,1,2,3,4,5,...|    0|[16.7497603025320...|[0.83748801512660...|       0.0|\n",
            "|(24,[0,1,2,3,4,5,...|    0|[18.1402617355559...|[0.90701308677779...|       0.0|\n",
            "|(24,[0,1,2,3,4,5,...|    1|[11.4763164019559...|[0.57381582009779...|       0.0|\n",
            "|(24,[0,1,2,3,4,5,...|    0|[19.4265203051463...|[0.97132601525731...|       0.0|\n",
            "|(24,[0,1,2,3,4,5,...|    0|[19.7728883041600...|[0.98864441520800...|       0.0|\n",
            "|(24,[0,1,2,3,4,8,...|    0|[14.7624135553633...|[0.73812067776816...|       0.0|\n",
            "|(24,[0,1,2,3,4,8,...|    0|[15.2612143716092...|[0.76306071858046...|       0.0|\n",
            "|(24,[0,1,2,3,4,12...|    0|[10.9538514999844...|[0.54769257499922...|       0.0|\n",
            "|(24,[0,1,2,3,5,6,...|    0|[19.0352042388761...|[0.95176021194380...|       0.0|\n",
            "|(24,[0,1,2,3,5,6,...|    0|[19.4201496010584...|[0.97100748005292...|       0.0|\n",
            "|(24,[0,1,2,3,5,6,...|    0|[12.3205065910454...|[0.61602532955227...|       0.0|\n",
            "|(24,[0,1,2,3,5,6,...|    1|[10.9242252924372...|[0.54621126462186...|       0.0|\n",
            "|(24,[0,1,2,3,5,6,...|    1|[7.94067928298157...|[0.39703396414907...|       1.0|\n",
            "|(24,[0,1,2,3,5,6,...|    0|[18.7633376794463...|[0.93816688397231...|       0.0|\n",
            "+--------------------+-----+--------------------+--------------------+----------+\n",
            "only showing top 20 rows\n",
            "\n"
          ]
        }
      ]
    },
    {
      "cell_type": "code",
      "source": [
        "conf_matrix(pred_random)"
      ],
      "metadata": {
        "colab": {
          "base_uri": "https://localhost:8080/"
        },
        "outputId": "ec1dcd7c-a134-4a56-f12c-1abe44277cf3",
        "id": "rddQq5Fk5N2u"
      },
      "execution_count": 103,
      "outputs": [
        {
          "output_type": "stream",
          "name": "stdout",
          "text": [
            "                     Previsto\n",
            "                Churn       Não-Churn\n",
            "     Churn        830         154\n",
            "Real\n",
            "     Não-Churn    202         806 \n",
            "\n",
            "True Positive:80.43%\n",
            "False Positive:19.57%\n",
            "True Negative:83.96%\n",
            "False Negative:16.04%\n"
          ]
        }
      ]
    },
    {
      "cell_type": "code",
      "source": [
        "evaluator = MulticlassClassificationEvaluator()\n",
        "evaluator.evaluate(pred_tree, {evaluator.metricName: 'accuracy'})"
      ],
      "metadata": {
        "colab": {
          "base_uri": "https://localhost:8080/"
        },
        "outputId": "79dd1dce-7cb8-43d0-a3c3-97b5f2095a9b",
        "id": "Iqs6QvVF5N2u"
      },
      "execution_count": 104,
      "outputs": [
        {
          "output_type": "execute_result",
          "data": {
            "text/plain": [
              "0.7881526104417671"
            ]
          },
          "metadata": {},
          "execution_count": 104
        }
      ]
    },
    {
      "cell_type": "code",
      "source": [
        "def tree_metrics(x):\n",
        "    print(\"Acurácia: %f\" % evaluator.evaluate(x, {evaluator.metricName: \"accuracy\"}))\n",
        "    print(\"Precisão: %f\" % evaluator.evaluate(x, {evaluator.metricName: \"precisionByLabel\", evaluator.metricLabel: 1}))\n",
        "    print(\"Recall: %f\" % evaluator.evaluate(x, {evaluator.metricName: \"recallByLabel\", evaluator.metricLabel: 1}))\n",
        "    print(\"F1: %f\" % evaluator.evaluate(x, {evaluator.metricName: \"fMeasureByLabel\", evaluator.metricLabel: 1}))"
      ],
      "metadata": {
        "id": "8Tc_TZy-5N2v"
      },
      "execution_count": 105,
      "outputs": []
    },
    {
      "cell_type": "code",
      "source": [
        "tree_metrics(pred_tree)"
      ],
      "metadata": {
        "colab": {
          "base_uri": "https://localhost:8080/"
        },
        "outputId": "46f3438e-5b64-4c38-ef55-727b9d426d42",
        "id": "ymnXjzzc5N2w"
      },
      "execution_count": 106,
      "outputs": [
        {
          "output_type": "stream",
          "name": "stdout",
          "text": [
            "Acurácia: 0.788153\n",
            "Precisão: 0.808791\n",
            "Recall: 0.747967\n",
            "F1: 0.777191\n"
          ]
        }
      ]
    },
    {
      "cell_type": "code",
      "source": [
        "tree_metrics(pred_random)"
      ],
      "metadata": {
        "colab": {
          "base_uri": "https://localhost:8080/"
        },
        "id": "mAWvAGfm4M32",
        "outputId": "7c7113d9-687b-4ca0-b5bd-23e1163f8dc4"
      },
      "execution_count": 107,
      "outputs": [
        {
          "output_type": "stream",
          "name": "stdout",
          "text": [
            "Acurácia: 0.821285\n",
            "Precisão: 0.804264\n",
            "Recall: 0.843496\n",
            "F1: 0.823413\n"
          ]
        }
      ]
    },
    {
      "cell_type": "markdown",
      "source": [
        "# Cross Validation"
      ],
      "metadata": {
        "id": "B3Yf1ecu-N4Y"
      }
    },
    {
      "cell_type": "code",
      "source": [
        "random_forest = RandomForestClassifier(seed=seed)\n",
        "grid_random = ParamGridBuilder()\\\n",
        "        .addGrid(random.maxDepth, [5, 10, 15, 20])\\\n",
        "        .addGrid(random.maxBins, [10, 20, 30, 40])\\\n",
        "        .addGrid(random.numTrees, [100, 200, 500])\\\n",
        "        .build()"
      ],
      "metadata": {
        "id": "iU948Zj67c2v"
      },
      "execution_count": 114,
      "outputs": []
    },
    {
      "cell_type": "code",
      "source": [
        "random_cv = CrossValidator(\n",
        "    estimator=random_forest,\n",
        "    estimatorParamMaps=grid_random,\n",
        "    evaluator=evaluator,\n",
        "    numFolds=3,\n",
        "    seed=seed)"
      ],
      "metadata": {
        "id": "v4wNZIP69n7I"
      },
      "execution_count": 115,
      "outputs": []
    },
    {
      "cell_type": "code",
      "source": [
        "random_cv = random_cv.fit(train)\n",
        "previsoes_rfc_cv_teste = random_cv.transform(test)"
      ],
      "metadata": {
        "id": "I3N8_QAjDpKE"
      },
      "execution_count": 116,
      "outputs": []
    },
    {
      "cell_type": "code",
      "source": [
        "print('Random Forest Classifier - Tuning')\n",
        "print(\"=\"*40)\n",
        "print(\"Dados de Teste\")\n",
        "print(\"=\"*40)\n",
        "print(\"Matriz de Confusão\")\n",
        "print(\"-\"*40)\n",
        "conf_matrix(previsoes_rfc_cv_teste, normalize=False)\n",
        "print(\"-\"*40)\n",
        "print(\"Métricas\")\n",
        "print(\"-\"*40)\n",
        "print(\"Acurácia: %f\" % evaluator.evaluate(previsoes_rfc_cv_teste, {evaluator.metricName: \"accuracy\"}))\n",
        "print(\"Precisão: %f\" % evaluator.evaluate(previsoes_rfc_cv_teste, {evaluator.metricName: \"precisionByLabel\", evaluator.metricLabel: 1}))\n",
        "print(\"Recall: %f\" % evaluator.evaluate(previsoes_rfc_cv_teste, {evaluator.metricName: \"recallByLabel\", evaluator.metricLabel: 1}))\n",
        "print(\"F1: %f\" % evaluator.evaluate(previsoes_rfc_cv_teste, {evaluator.metricName: \"fMeasureByLabel\", evaluator.metricLabel: 1}))"
      ],
      "metadata": {
        "colab": {
          "base_uri": "https://localhost:8080/"
        },
        "id": "2eNBDPGvD8Rj",
        "outputId": "3a118726-7b1c-48e4-bb34-8222251e1f83"
      },
      "execution_count": 117,
      "outputs": [
        {
          "output_type": "stream",
          "name": "stdout",
          "text": [
            "Random Forest Classifier - Tuning\n",
            "========================================\n",
            "Dados de Teste\n",
            "========================================\n",
            "Matriz de Confusão\n",
            "----------------------------------------\n",
            "                     Previsto\n",
            "                Churn       Não-Churn\n",
            "     Churn        818         166\n",
            "Real\n",
            "     Não-Churn    267         741 \n",
            "\n",
            "True Positive:75.39%\n",
            "False Positive:24.61%\n",
            "True Negative:81.7%\n",
            "False Negative:18.3%\n",
            "----------------------------------------\n",
            "Métricas\n",
            "----------------------------------------\n",
            "Acurácia: 0.782631\n",
            "Precisão: 0.753917\n",
            "Recall: 0.831301\n",
            "F1: 0.790720\n"
          ]
        }
      ]
    },
    {
      "cell_type": "code",
      "source": [
        "melhor_modelo_rfc_cv = random_cv.bestModel\n",
        "print(melhor_modelo_rfc_cv.getMaxDepth())\n",
        "print(melhor_modelo_rfc_cv.getMaxBins())\n",
        "print(melhor_modelo_rfc_cv.getNumTrees)"
      ],
      "metadata": {
        "colab": {
          "base_uri": "https://localhost:8080/"
        },
        "id": "nyBCmEuIFaqx",
        "outputId": "537359cc-9125-45a6-952e-0ef2d0feacc9"
      },
      "execution_count": 118,
      "outputs": [
        {
          "output_type": "stream",
          "name": "stdout",
          "text": [
            "5\n",
            "32\n",
            "20\n"
          ]
        }
      ]
    },
    {
      "cell_type": "code",
      "source": [
        "random_tunning = RandomForestClassifier(maxDepth=5, maxBins=32, numTrees=20, seed=seed).fit(dataset_prep)"
      ],
      "metadata": {
        "id": "KK-cFAFOF5QL"
      },
      "execution_count": 119,
      "outputs": []
    },
    {
      "cell_type": "code",
      "source": [
        "new_customer = [{\n",
        " 'id':123456,\n",
        " 'Mais65anos':0,\n",
        " 'MesesDeContrato':24,\n",
        " 'MesesCobrados':0,\n",
        " 'label':0,\n",
        " 'Conjuge':1,\n",
        " 'Dependentes':0,\n",
        " 'TelefoneFixo':0,\n",
        " 'MaisDeUmaLinhaTelefonica':0,\n",
        " 'SegurancaOnline':1,\n",
        " 'BackupOnline':0,\n",
        " 'SeguroDispositivo':0,\n",
        " 'SuporteTecnico':1,\n",
        " 'TVaCabo':0,\n",
        " 'StreamingFilmes':1,\n",
        " 'ContaCorreio':0,\n",
        " 'internet_dsl':1,\n",
        " 'internet_fibra':0,\n",
        " 'internet_nao':1,\n",
        " 'tipo_contrat_mensal':0,\n",
        " 'contrato_um_ano':1,\n",
        " 'contrato_dois_anos':0,\n",
        " 'pagamento_deb_conta':1,\n",
        " 'pagamento_cartao_credito':0,\n",
        " 'pagamento_boleto_eletr':0,\n",
        " 'pagamento_boleto':0\n",
        "}]"
      ],
      "metadata": {
        "id": "XkVChRQhGQl_"
      },
      "execution_count": 142,
      "outputs": []
    },
    {
      "cell_type": "code",
      "source": [
        "new_customer = spark.createDataFrame(new_customer)\n",
        "new_customer.show()"
      ],
      "metadata": {
        "colab": {
          "base_uri": "https://localhost:8080/"
        },
        "id": "zKg0mSSGGZY5",
        "outputId": "9826859f-0f6c-406e-d1ee-1173ad8c2d99"
      },
      "execution_count": 143,
      "outputs": [
        {
          "output_type": "stream",
          "name": "stdout",
          "text": [
            "+------------+-------+------------+-----------+----------+------------------------+-------------+---------------+---------------+-----------------+---------------+--------------+-------+------------+------------------+---------------+------+------------+--------------+------------+-----+----------------+----------------------+------------------------+-------------------+-------------------+\n",
            "|BackupOnline|Conjuge|ContaCorreio|Dependentes|Mais65anos|MaisDeUmaLinhaTelefonica|MesesCobrados|MesesDeContrato|SegurancaOnline|SeguroDispositivo|StreamingFilmes|SuporteTecnico|TVaCabo|TelefoneFixo|contrato_dois_anos|contrato_um_ano|    id|internet_dsl|internet_fibra|internet_nao|label|pagamento_boleto|pagamento_boleto_eletr|pagamento_cartao_credito|pagamento_deb_conta|tipo_contrat_mensal|\n",
            "+------------+-------+------------+-----------+----------+------------------------+-------------+---------------+---------------+-----------------+---------------+--------------+-------+------------+------------------+---------------+------+------------+--------------+------------+-----+----------------+----------------------+------------------------+-------------------+-------------------+\n",
            "|           0|      1|           0|          0|         0|                       0|            0|             24|              1|                0|              1|             1|      0|           0|                 0|              1|123456|           1|             0|           1|    0|               0|                     0|                       0|                  1|                  0|\n",
            "+------------+-------+------------+-----------+----------+------------------------+-------------+---------------+---------------+-----------------+---------------+--------------+-------+------------+------------------+---------------+------+------------+--------------+------------+-----+----------------+----------------------+------------------------+-------------------+-------------------+\n",
            "\n"
          ]
        }
      ]
    },
    {
      "cell_type": "code",
      "source": [
        "assembler = VectorAssembler(inputCols = X, outputCol = 'features')"
      ],
      "metadata": {
        "id": "9ltIszu1Gfy4"
      },
      "execution_count": 147,
      "outputs": []
    },
    {
      "cell_type": "code",
      "source": [
        "new_customer_prep = assembler.transform(new_customer).select('features')\n",
        "new_customer_prep.show(truncate=False)"
      ],
      "metadata": {
        "colab": {
          "base_uri": "https://localhost:8080/"
        },
        "id": "Ynu1CdF5Gsqb",
        "outputId": "7d5d82fa-faa8-4810-8a37-e4f3964ecfda"
      },
      "execution_count": 148,
      "outputs": [
        {
          "output_type": "stream",
          "name": "stdout",
          "text": [
            "+---------------------------------------------------------------------+\n",
            "|features                                                             |\n",
            "+---------------------------------------------------------------------+\n",
            "|(24,[1,3,7,10,12,14,16,18,20],[24.0,1.0,1.0,1.0,1.0,1.0,1.0,1.0,1.0])|\n",
            "+---------------------------------------------------------------------+\n",
            "\n"
          ]
        }
      ]
    },
    {
      "cell_type": "code",
      "source": [
        "pred = random_tunning.transform(new_customer_prep).show()"
      ],
      "metadata": {
        "colab": {
          "base_uri": "https://localhost:8080/"
        },
        "id": "yYl3lXedG5Ol",
        "outputId": "bc7abe62-a6dd-4603-f2d0-6b887f67416d"
      },
      "execution_count": 157,
      "outputs": [
        {
          "output_type": "stream",
          "name": "stdout",
          "text": [
            "+--------------------+--------------------+--------------------+----------+\n",
            "|            features|       rawPrediction|         probability|prediction|\n",
            "+--------------------+--------------------+--------------------+----------+\n",
            "|(24,[1,3,7,10,12,...|[16.0214514024386...|[0.80107257012193...|       0.0|\n",
            "+--------------------+--------------------+--------------------+----------+\n",
            "\n"
          ]
        }
      ]
    },
    {
      "cell_type": "code",
      "source": [
        ""
      ],
      "metadata": {
        "id": "DxC6Z79hHWa3"
      },
      "execution_count": 156,
      "outputs": []
    },
    {
      "cell_type": "code",
      "source": [
        ""
      ],
      "metadata": {
        "id": "akWkH3njJ1vE"
      },
      "execution_count": null,
      "outputs": []
    }
  ]
}