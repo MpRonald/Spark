{
 "cells": [
  {
   "cell_type": "markdown",
   "metadata": {},
   "source": [
    "### Configuration Spark"
   ]
  },
  {
   "cell_type": "code",
   "execution_count": 1,
   "metadata": {},
   "outputs": [
    {
     "data": {
      "text/plain": [
       "'3.3.0'"
      ]
     },
     "execution_count": 1,
     "metadata": {},
     "output_type": "execute_result"
    }
   ],
   "source": [
    "import pyspark\n",
    "pyspark.__version__"
   ]
  },
  {
   "cell_type": "code",
   "execution_count": 2,
   "metadata": {},
   "outputs": [],
   "source": [
    "from pyspark.sql import SparkSession, functions as f\n",
    "from pyspark import SparkFiles\n",
    "from pyspark.ml.feature import VectorAssembler, StandardScaler, PCA\n",
    "from pyspark.ml import Pipeline\n",
    "import plotly.express as px\n",
    "import plotly.graph_objects as go"
   ]
  },
  {
   "cell_type": "code",
   "execution_count": 3,
   "metadata": {},
   "outputs": [
    {
     "name": "stdout",
     "output_type": "stream",
     "text": [
      "22/09/22 14:58:06 WARN Utils: Your hostname, ronald-MpRonald resolves to a loopback address: 127.0.1.1; using 192.168.1.100 instead (on interface enp1s0)\n",
      "22/09/22 14:58:06 WARN Utils: Set SPARK_LOCAL_IP if you need to bind to another address\n"
     ]
    },
    {
     "name": "stderr",
     "output_type": "stream",
     "text": [
      "Setting default log level to \"WARN\".\n",
      "To adjust logging level use sc.setLogLevel(newLevel). For SparkR, use setLogLevel(newLevel).\n"
     ]
    },
    {
     "name": "stdout",
     "output_type": "stream",
     "text": [
      "22/09/22 14:58:08 WARN NativeCodeLoader: Unable to load native-hadoop library for your platform... using builtin-java classes where applicable\n"
     ]
    }
   ],
   "source": [
    "# create section\n",
    "spark_session = SparkSession.builder.appName('PySpark Recomendation').getOrCreate()"
   ]
  },
  {
   "cell_type": "markdown",
   "metadata": {},
   "source": [
    "### Loading Dataset"
   ]
  },
  {
   "cell_type": "code",
   "execution_count": 4,
   "metadata": {},
   "outputs": [
    {
     "name": "stderr",
     "output_type": "stream",
     "text": [
      "                                                                                \r"
     ]
    },
    {
     "data": {
      "text/html": [
       "<div>\n",
       "<style scoped>\n",
       "    .dataframe tbody tr th:only-of-type {\n",
       "        vertical-align: middle;\n",
       "    }\n",
       "\n",
       "    .dataframe tbody tr th {\n",
       "        vertical-align: top;\n",
       "    }\n",
       "\n",
       "    .dataframe thead th {\n",
       "        text-align: right;\n",
       "    }\n",
       "</style>\n",
       "<table border=\"1\" class=\"dataframe\">\n",
       "  <thead>\n",
       "    <tr style=\"text-align: right;\">\n",
       "      <th></th>\n",
       "      <th>valence</th>\n",
       "      <th>year</th>\n",
       "      <th>acousticness</th>\n",
       "      <th>artists</th>\n",
       "      <th>danceability</th>\n",
       "      <th>duration_ms</th>\n",
       "      <th>energy</th>\n",
       "      <th>explicit</th>\n",
       "      <th>id</th>\n",
       "      <th>instrumentalness</th>\n",
       "      <th>key</th>\n",
       "      <th>liveness</th>\n",
       "      <th>loudness</th>\n",
       "      <th>mode</th>\n",
       "      <th>name</th>\n",
       "      <th>popularity</th>\n",
       "      <th>speechiness</th>\n",
       "      <th>tempo</th>\n",
       "      <th>artists_song</th>\n",
       "    </tr>\n",
       "  </thead>\n",
       "  <tbody>\n",
       "    <tr>\n",
       "      <th>0</th>\n",
       "      <td>0.285</td>\n",
       "      <td>2000</td>\n",
       "      <td>0.002390</td>\n",
       "      <td>Coldplay</td>\n",
       "      <td>0.429</td>\n",
       "      <td>266773</td>\n",
       "      <td>0.661</td>\n",
       "      <td>0</td>\n",
       "      <td>3AJwUDP919kvQ9QcozQPxg</td>\n",
       "      <td>0.000121</td>\n",
       "      <td>11</td>\n",
       "      <td>0.2340</td>\n",
       "      <td>-7.227</td>\n",
       "      <td>1</td>\n",
       "      <td>Yellow</td>\n",
       "      <td>84</td>\n",
       "      <td>0.0281</td>\n",
       "      <td>173.372</td>\n",
       "      <td>Coldplay - Yellow</td>\n",
       "    </tr>\n",
       "    <tr>\n",
       "      <th>1</th>\n",
       "      <td>0.613</td>\n",
       "      <td>2000</td>\n",
       "      <td>0.143000</td>\n",
       "      <td>OutKast</td>\n",
       "      <td>0.843</td>\n",
       "      <td>270507</td>\n",
       "      <td>0.806</td>\n",
       "      <td>1</td>\n",
       "      <td>0I3q5fE6wg7LIfHGngUTnV</td>\n",
       "      <td>0.000000</td>\n",
       "      <td>4</td>\n",
       "      <td>0.0771</td>\n",
       "      <td>-5.946</td>\n",
       "      <td>0</td>\n",
       "      <td>Ms. Jackson</td>\n",
       "      <td>80</td>\n",
       "      <td>0.2690</td>\n",
       "      <td>94.948</td>\n",
       "      <td>OutKast - Ms. Jackson</td>\n",
       "    </tr>\n",
       "    <tr>\n",
       "      <th>2</th>\n",
       "      <td>0.400</td>\n",
       "      <td>2000</td>\n",
       "      <td>0.009580</td>\n",
       "      <td>Linkin Park</td>\n",
       "      <td>0.556</td>\n",
       "      <td>216880</td>\n",
       "      <td>0.864</td>\n",
       "      <td>0</td>\n",
       "      <td>60a0Rd6pjrkxjPbaKzXjfq</td>\n",
       "      <td>0.000000</td>\n",
       "      <td>3</td>\n",
       "      <td>0.2090</td>\n",
       "      <td>-5.870</td>\n",
       "      <td>0</td>\n",
       "      <td>In the End</td>\n",
       "      <td>84</td>\n",
       "      <td>0.0584</td>\n",
       "      <td>105.143</td>\n",
       "      <td>Linkin Park - In the End</td>\n",
       "    </tr>\n",
       "    <tr>\n",
       "      <th>3</th>\n",
       "      <td>0.543</td>\n",
       "      <td>2000</td>\n",
       "      <td>0.006640</td>\n",
       "      <td>3 Doors Down</td>\n",
       "      <td>0.545</td>\n",
       "      <td>233933</td>\n",
       "      <td>0.865</td>\n",
       "      <td>0</td>\n",
       "      <td>6ZOBP3NvffbU4SZcrnt1k6</td>\n",
       "      <td>0.000011</td>\n",
       "      <td>11</td>\n",
       "      <td>0.1680</td>\n",
       "      <td>-5.708</td>\n",
       "      <td>0</td>\n",
       "      <td>Kryptonite</td>\n",
       "      <td>78</td>\n",
       "      <td>0.0286</td>\n",
       "      <td>99.009</td>\n",
       "      <td>3 Doors Down - Kryptonite</td>\n",
       "    </tr>\n",
       "    <tr>\n",
       "      <th>4</th>\n",
       "      <td>0.760</td>\n",
       "      <td>2000</td>\n",
       "      <td>0.030200</td>\n",
       "      <td>Eminem</td>\n",
       "      <td>0.949</td>\n",
       "      <td>284200</td>\n",
       "      <td>0.661</td>\n",
       "      <td>1</td>\n",
       "      <td>3yfqSUWxFvZELEM4PmlwIR</td>\n",
       "      <td>0.000000</td>\n",
       "      <td>5</td>\n",
       "      <td>0.0454</td>\n",
       "      <td>-4.244</td>\n",
       "      <td>0</td>\n",
       "      <td>The Real Slim Shady</td>\n",
       "      <td>80</td>\n",
       "      <td>0.0572</td>\n",
       "      <td>104.504</td>\n",
       "      <td>Eminem - The Real Slim Shady</td>\n",
       "    </tr>\n",
       "    <tr>\n",
       "      <th>5</th>\n",
       "      <td>0.941</td>\n",
       "      <td>2000</td>\n",
       "      <td>0.000996</td>\n",
       "      <td>Disturbed</td>\n",
       "      <td>0.695</td>\n",
       "      <td>279213</td>\n",
       "      <td>0.876</td>\n",
       "      <td>1</td>\n",
       "      <td>40rvBMQizxkIqnjPdEWY1v</td>\n",
       "      <td>0.000007</td>\n",
       "      <td>3</td>\n",
       "      <td>0.1060</td>\n",
       "      <td>-4.262</td>\n",
       "      <td>0</td>\n",
       "      <td>Down with the Sickness</td>\n",
       "      <td>76</td>\n",
       "      <td>0.0553</td>\n",
       "      <td>89.954</td>\n",
       "      <td>Disturbed - Down with the Sickness</td>\n",
       "    </tr>\n",
       "    <tr>\n",
       "      <th>6</th>\n",
       "      <td>0.722</td>\n",
       "      <td>2000</td>\n",
       "      <td>0.061600</td>\n",
       "      <td>Nelly</td>\n",
       "      <td>0.850</td>\n",
       "      <td>291782</td>\n",
       "      <td>0.700</td>\n",
       "      <td>1</td>\n",
       "      <td>3Gf5nttwcX9aaSQXRWidEZ</td>\n",
       "      <td>0.000002</td>\n",
       "      <td>7</td>\n",
       "      <td>0.2440</td>\n",
       "      <td>-6.490</td>\n",
       "      <td>1</td>\n",
       "      <td>Ride Wit Me</td>\n",
       "      <td>74</td>\n",
       "      <td>0.0478</td>\n",
       "      <td>101.875</td>\n",
       "      <td>Nelly - Ride Wit Me</td>\n",
       "    </tr>\n",
       "    <tr>\n",
       "      <th>7</th>\n",
       "      <td>0.507</td>\n",
       "      <td>2000</td>\n",
       "      <td>0.037100</td>\n",
       "      <td>Eminem</td>\n",
       "      <td>0.780</td>\n",
       "      <td>404107</td>\n",
       "      <td>0.768</td>\n",
       "      <td>1</td>\n",
       "      <td>3UmaczJpikHgJFyBTAJVoz</td>\n",
       "      <td>0.000002</td>\n",
       "      <td>6</td>\n",
       "      <td>0.5180</td>\n",
       "      <td>-4.325</td>\n",
       "      <td>0</td>\n",
       "      <td>Stan</td>\n",
       "      <td>78</td>\n",
       "      <td>0.2380</td>\n",
       "      <td>80.063</td>\n",
       "      <td>Eminem - Stan</td>\n",
       "    </tr>\n",
       "    <tr>\n",
       "      <th>8</th>\n",
       "      <td>0.861</td>\n",
       "      <td>2000</td>\n",
       "      <td>0.031000</td>\n",
       "      <td>*NSYNC</td>\n",
       "      <td>0.610</td>\n",
       "      <td>200400</td>\n",
       "      <td>0.926</td>\n",
       "      <td>0</td>\n",
       "      <td>62bOmKYxYg7dhrC6gH9vFn</td>\n",
       "      <td>0.001200</td>\n",
       "      <td>8</td>\n",
       "      <td>0.0821</td>\n",
       "      <td>-4.843</td>\n",
       "      <td>0</td>\n",
       "      <td>Bye Bye Bye</td>\n",
       "      <td>71</td>\n",
       "      <td>0.0479</td>\n",
       "      <td>172.638</td>\n",
       "      <td>*NSYNC - Bye Bye Bye</td>\n",
       "    </tr>\n",
       "    <tr>\n",
       "      <th>9</th>\n",
       "      <td>0.894</td>\n",
       "      <td>2000</td>\n",
       "      <td>0.300000</td>\n",
       "      <td>Britney Spears</td>\n",
       "      <td>0.751</td>\n",
       "      <td>211160</td>\n",
       "      <td>0.834</td>\n",
       "      <td>0</td>\n",
       "      <td>6naxalmIoLFWR0siv8dnQQ</td>\n",
       "      <td>0.000018</td>\n",
       "      <td>1</td>\n",
       "      <td>0.3550</td>\n",
       "      <td>-5.444</td>\n",
       "      <td>0</td>\n",
       "      <td>Oops!...I Did It Again</td>\n",
       "      <td>78</td>\n",
       "      <td>0.0437</td>\n",
       "      <td>95.053</td>\n",
       "      <td>Britney Spears - Oops!...I Did It Again</td>\n",
       "    </tr>\n",
       "    <tr>\n",
       "      <th>10</th>\n",
       "      <td>0.165</td>\n",
       "      <td>2000</td>\n",
       "      <td>0.748000</td>\n",
       "      <td>Coldplay</td>\n",
       "      <td>0.371</td>\n",
       "      <td>227093</td>\n",
       "      <td>0.268</td>\n",
       "      <td>0</td>\n",
       "      <td>7D0RhFcb3CrfPuTJ0obrod</td>\n",
       "      <td>0.051700</td>\n",
       "      <td>1</td>\n",
       "      <td>0.1040</td>\n",
       "      <td>-10.506</td>\n",
       "      <td>1</td>\n",
       "      <td>Sparks</td>\n",
       "      <td>73</td>\n",
       "      <td>0.0281</td>\n",
       "      <td>102.617</td>\n",
       "      <td>Coldplay - Sparks</td>\n",
       "    </tr>\n",
       "    <tr>\n",
       "      <th>11</th>\n",
       "      <td>0.538</td>\n",
       "      <td>2000</td>\n",
       "      <td>0.001400</td>\n",
       "      <td>Linkin Park</td>\n",
       "      <td>0.492</td>\n",
       "      <td>157333</td>\n",
       "      <td>0.969</td>\n",
       "      <td>0</td>\n",
       "      <td>3K4HG9evC7dg3N0R9cYqk4</td>\n",
       "      <td>0.000001</td>\n",
       "      <td>9</td>\n",
       "      <td>0.0787</td>\n",
       "      <td>-4.419</td>\n",
       "      <td>1</td>\n",
       "      <td>One Step Closer</td>\n",
       "      <td>76</td>\n",
       "      <td>0.0491</td>\n",
       "      <td>95.136</td>\n",
       "      <td>Linkin Park - One Step Closer</td>\n",
       "    </tr>\n",
       "    <tr>\n",
       "      <th>12</th>\n",
       "      <td>0.654</td>\n",
       "      <td>2000</td>\n",
       "      <td>0.056100</td>\n",
       "      <td>Shaggy</td>\n",
       "      <td>0.853</td>\n",
       "      <td>227600</td>\n",
       "      <td>0.606</td>\n",
       "      <td>0</td>\n",
       "      <td>3WkibOpDF7cQ5xntM1epyf</td>\n",
       "      <td>0.000000</td>\n",
       "      <td>0</td>\n",
       "      <td>0.3130</td>\n",
       "      <td>-4.596</td>\n",
       "      <td>1</td>\n",
       "      <td>It Wasn't Me</td>\n",
       "      <td>76</td>\n",
       "      <td>0.0713</td>\n",
       "      <td>94.759</td>\n",
       "      <td>Shaggy - It Wasn't Me</td>\n",
       "    </tr>\n",
       "    <tr>\n",
       "      <th>13</th>\n",
       "      <td>0.565</td>\n",
       "      <td>2000</td>\n",
       "      <td>0.006890</td>\n",
       "      <td>Nelly</td>\n",
       "      <td>0.865</td>\n",
       "      <td>287000</td>\n",
       "      <td>0.664</td>\n",
       "      <td>1</td>\n",
       "      <td>3wMUvT6eIw2L5cZFG1yH9j</td>\n",
       "      <td>0.000000</td>\n",
       "      <td>2</td>\n",
       "      <td>0.1420</td>\n",
       "      <td>-6.822</td>\n",
       "      <td>1</td>\n",
       "      <td>Country Grammar (Hot Shit)</td>\n",
       "      <td>70</td>\n",
       "      <td>0.1080</td>\n",
       "      <td>162.831</td>\n",
       "      <td>Nelly - Country Grammar (Hot Shit)</td>\n",
       "    </tr>\n",
       "    <tr>\n",
       "      <th>14</th>\n",
       "      <td>0.532</td>\n",
       "      <td>2000</td>\n",
       "      <td>0.011200</td>\n",
       "      <td>The Beatles</td>\n",
       "      <td>0.386</td>\n",
       "      <td>425653</td>\n",
       "      <td>0.607</td>\n",
       "      <td>0</td>\n",
       "      <td>0aym2LBJBk9DAYuHHutrIl</td>\n",
       "      <td>0.000014</td>\n",
       "      <td>10</td>\n",
       "      <td>0.0880</td>\n",
       "      <td>-7.700</td>\n",
       "      <td>1</td>\n",
       "      <td>Hey Jude - Remastered 2015</td>\n",
       "      <td>76</td>\n",
       "      <td>0.0261</td>\n",
       "      <td>147.207</td>\n",
       "      <td>The Beatles - Hey Jude - Remastered 2015</td>\n",
       "    </tr>\n",
       "    <tr>\n",
       "      <th>15</th>\n",
       "      <td>0.866</td>\n",
       "      <td>2000</td>\n",
       "      <td>0.386000</td>\n",
       "      <td>The Beatles</td>\n",
       "      <td>0.490</td>\n",
       "      <td>145747</td>\n",
       "      <td>0.715</td>\n",
       "      <td>0</td>\n",
       "      <td>4pbG9SUmWIvsROVLF0zF9s</td>\n",
       "      <td>0.000000</td>\n",
       "      <td>7</td>\n",
       "      <td>0.3110</td>\n",
       "      <td>-5.549</td>\n",
       "      <td>1</td>\n",
       "      <td>I Want To Hold Your Hand - Remastered 2015</td>\n",
       "      <td>73</td>\n",
       "      <td>0.0476</td>\n",
       "      <td>130.726</td>\n",
       "      <td>The Beatles - I Want To Hold Your Hand - Remas...</td>\n",
       "    </tr>\n",
       "    <tr>\n",
       "      <th>16</th>\n",
       "      <td>0.435</td>\n",
       "      <td>2000</td>\n",
       "      <td>0.001180</td>\n",
       "      <td>Lifehouse</td>\n",
       "      <td>0.541</td>\n",
       "      <td>216067</td>\n",
       "      <td>0.864</td>\n",
       "      <td>0</td>\n",
       "      <td>0wqOReZDnrefefEsrIGeR4</td>\n",
       "      <td>0.000000</td>\n",
       "      <td>1</td>\n",
       "      <td>0.0896</td>\n",
       "      <td>-4.915</td>\n",
       "      <td>1</td>\n",
       "      <td>Hanging By A Moment</td>\n",
       "      <td>65</td>\n",
       "      <td>0.0357</td>\n",
       "      <td>124.557</td>\n",
       "      <td>Lifehouse - Hanging By A Moment</td>\n",
       "    </tr>\n",
       "    <tr>\n",
       "      <th>17</th>\n",
       "      <td>0.299</td>\n",
       "      <td>2000</td>\n",
       "      <td>0.046600</td>\n",
       "      <td>Linkin Park</td>\n",
       "      <td>0.580</td>\n",
       "      <td>208960</td>\n",
       "      <td>0.702</td>\n",
       "      <td>0</td>\n",
       "      <td>57BrRMwf9LrcmuOsyGilwr</td>\n",
       "      <td>0.000003</td>\n",
       "      <td>4</td>\n",
       "      <td>0.5360</td>\n",
       "      <td>-5.565</td>\n",
       "      <td>1</td>\n",
       "      <td>Crawling</td>\n",
       "      <td>73</td>\n",
       "      <td>0.0337</td>\n",
       "      <td>105.076</td>\n",
       "      <td>Linkin Park - Crawling</td>\n",
       "    </tr>\n",
       "    <tr>\n",
       "      <th>18</th>\n",
       "      <td>0.915</td>\n",
       "      <td>2000</td>\n",
       "      <td>0.028100</td>\n",
       "      <td>OutKast</td>\n",
       "      <td>0.725</td>\n",
       "      <td>240027</td>\n",
       "      <td>0.640</td>\n",
       "      <td>1</td>\n",
       "      <td>6glsMWIMIxQ4BedzLqGVi4</td>\n",
       "      <td>0.000000</td>\n",
       "      <td>5</td>\n",
       "      <td>0.0990</td>\n",
       "      <td>-7.905</td>\n",
       "      <td>0</td>\n",
       "      <td>So Fresh, So Clean</td>\n",
       "      <td>68</td>\n",
       "      <td>0.3320</td>\n",
       "      <td>166.028</td>\n",
       "      <td>OutKast - So Fresh, So Clean</td>\n",
       "    </tr>\n",
       "    <tr>\n",
       "      <th>19</th>\n",
       "      <td>0.885</td>\n",
       "      <td>2000</td>\n",
       "      <td>0.627000</td>\n",
       "      <td>Sam Cooke</td>\n",
       "      <td>0.691</td>\n",
       "      <td>125440</td>\n",
       "      <td>0.507</td>\n",
       "      <td>0</td>\n",
       "      <td>2g2GkH3vZHk4lWzBjgQ6nY</td>\n",
       "      <td>0.000000</td>\n",
       "      <td>11</td>\n",
       "      <td>0.4570</td>\n",
       "      <td>-10.230</td>\n",
       "      <td>1</td>\n",
       "      <td>(What A) Wonderful World</td>\n",
       "      <td>72</td>\n",
       "      <td>0.0343</td>\n",
       "      <td>128.518</td>\n",
       "      <td>Sam Cooke - (What A) Wonderful World</td>\n",
       "    </tr>\n",
       "  </tbody>\n",
       "</table>\n",
       "</div>"
      ],
      "text/plain": [
       "    valence  year  acousticness         artists  danceability  duration_ms  \\\n",
       "0     0.285  2000      0.002390        Coldplay         0.429       266773   \n",
       "1     0.613  2000      0.143000         OutKast         0.843       270507   \n",
       "2     0.400  2000      0.009580     Linkin Park         0.556       216880   \n",
       "3     0.543  2000      0.006640    3 Doors Down         0.545       233933   \n",
       "4     0.760  2000      0.030200          Eminem         0.949       284200   \n",
       "5     0.941  2000      0.000996       Disturbed         0.695       279213   \n",
       "6     0.722  2000      0.061600           Nelly         0.850       291782   \n",
       "7     0.507  2000      0.037100          Eminem         0.780       404107   \n",
       "8     0.861  2000      0.031000          *NSYNC         0.610       200400   \n",
       "9     0.894  2000      0.300000  Britney Spears         0.751       211160   \n",
       "10    0.165  2000      0.748000        Coldplay         0.371       227093   \n",
       "11    0.538  2000      0.001400     Linkin Park         0.492       157333   \n",
       "12    0.654  2000      0.056100          Shaggy         0.853       227600   \n",
       "13    0.565  2000      0.006890           Nelly         0.865       287000   \n",
       "14    0.532  2000      0.011200     The Beatles         0.386       425653   \n",
       "15    0.866  2000      0.386000     The Beatles         0.490       145747   \n",
       "16    0.435  2000      0.001180       Lifehouse         0.541       216067   \n",
       "17    0.299  2000      0.046600     Linkin Park         0.580       208960   \n",
       "18    0.915  2000      0.028100         OutKast         0.725       240027   \n",
       "19    0.885  2000      0.627000       Sam Cooke         0.691       125440   \n",
       "\n",
       "    energy  explicit                      id  instrumentalness  key  liveness  \\\n",
       "0    0.661         0  3AJwUDP919kvQ9QcozQPxg          0.000121   11    0.2340   \n",
       "1    0.806         1  0I3q5fE6wg7LIfHGngUTnV          0.000000    4    0.0771   \n",
       "2    0.864         0  60a0Rd6pjrkxjPbaKzXjfq          0.000000    3    0.2090   \n",
       "3    0.865         0  6ZOBP3NvffbU4SZcrnt1k6          0.000011   11    0.1680   \n",
       "4    0.661         1  3yfqSUWxFvZELEM4PmlwIR          0.000000    5    0.0454   \n",
       "5    0.876         1  40rvBMQizxkIqnjPdEWY1v          0.000007    3    0.1060   \n",
       "6    0.700         1  3Gf5nttwcX9aaSQXRWidEZ          0.000002    7    0.2440   \n",
       "7    0.768         1  3UmaczJpikHgJFyBTAJVoz          0.000002    6    0.5180   \n",
       "8    0.926         0  62bOmKYxYg7dhrC6gH9vFn          0.001200    8    0.0821   \n",
       "9    0.834         0  6naxalmIoLFWR0siv8dnQQ          0.000018    1    0.3550   \n",
       "10   0.268         0  7D0RhFcb3CrfPuTJ0obrod          0.051700    1    0.1040   \n",
       "11   0.969         0  3K4HG9evC7dg3N0R9cYqk4          0.000001    9    0.0787   \n",
       "12   0.606         0  3WkibOpDF7cQ5xntM1epyf          0.000000    0    0.3130   \n",
       "13   0.664         1  3wMUvT6eIw2L5cZFG1yH9j          0.000000    2    0.1420   \n",
       "14   0.607         0  0aym2LBJBk9DAYuHHutrIl          0.000014   10    0.0880   \n",
       "15   0.715         0  4pbG9SUmWIvsROVLF0zF9s          0.000000    7    0.3110   \n",
       "16   0.864         0  0wqOReZDnrefefEsrIGeR4          0.000000    1    0.0896   \n",
       "17   0.702         0  57BrRMwf9LrcmuOsyGilwr          0.000003    4    0.5360   \n",
       "18   0.640         1  6glsMWIMIxQ4BedzLqGVi4          0.000000    5    0.0990   \n",
       "19   0.507         0  2g2GkH3vZHk4lWzBjgQ6nY          0.000000   11    0.4570   \n",
       "\n",
       "    loudness  mode                                        name  popularity  \\\n",
       "0     -7.227     1                                      Yellow          84   \n",
       "1     -5.946     0                                 Ms. Jackson          80   \n",
       "2     -5.870     0                                  In the End          84   \n",
       "3     -5.708     0                                  Kryptonite          78   \n",
       "4     -4.244     0                         The Real Slim Shady          80   \n",
       "5     -4.262     0                      Down with the Sickness          76   \n",
       "6     -6.490     1                                 Ride Wit Me          74   \n",
       "7     -4.325     0                                        Stan          78   \n",
       "8     -4.843     0                                 Bye Bye Bye          71   \n",
       "9     -5.444     0                      Oops!...I Did It Again          78   \n",
       "10   -10.506     1                                      Sparks          73   \n",
       "11    -4.419     1                             One Step Closer          76   \n",
       "12    -4.596     1                                It Wasn't Me          76   \n",
       "13    -6.822     1                  Country Grammar (Hot Shit)          70   \n",
       "14    -7.700     1                  Hey Jude - Remastered 2015          76   \n",
       "15    -5.549     1  I Want To Hold Your Hand - Remastered 2015          73   \n",
       "16    -4.915     1                         Hanging By A Moment          65   \n",
       "17    -5.565     1                                    Crawling          73   \n",
       "18    -7.905     0                          So Fresh, So Clean          68   \n",
       "19   -10.230     1                    (What A) Wonderful World          72   \n",
       "\n",
       "    speechiness    tempo                                       artists_song  \n",
       "0        0.0281  173.372                                  Coldplay - Yellow  \n",
       "1        0.2690   94.948                              OutKast - Ms. Jackson  \n",
       "2        0.0584  105.143                           Linkin Park - In the End  \n",
       "3        0.0286   99.009                          3 Doors Down - Kryptonite  \n",
       "4        0.0572  104.504                       Eminem - The Real Slim Shady  \n",
       "5        0.0553   89.954                 Disturbed - Down with the Sickness  \n",
       "6        0.0478  101.875                                Nelly - Ride Wit Me  \n",
       "7        0.2380   80.063                                      Eminem - Stan  \n",
       "8        0.0479  172.638                               *NSYNC - Bye Bye Bye  \n",
       "9        0.0437   95.053            Britney Spears - Oops!...I Did It Again  \n",
       "10       0.0281  102.617                                  Coldplay - Sparks  \n",
       "11       0.0491   95.136                      Linkin Park - One Step Closer  \n",
       "12       0.0713   94.759                              Shaggy - It Wasn't Me  \n",
       "13       0.1080  162.831                 Nelly - Country Grammar (Hot Shit)  \n",
       "14       0.0261  147.207           The Beatles - Hey Jude - Remastered 2015  \n",
       "15       0.0476  130.726  The Beatles - I Want To Hold Your Hand - Remas...  \n",
       "16       0.0357  124.557                    Lifehouse - Hanging By A Moment  \n",
       "17       0.0337  105.076                             Linkin Park - Crawling  \n",
       "18       0.3320  166.028                       OutKast - So Fresh, So Clean  \n",
       "19       0.0343  128.518               Sam Cooke - (What A) Wonderful World  "
      ]
     },
     "execution_count": 4,
     "metadata": {},
     "output_type": "execute_result"
    }
   ],
   "source": [
    "url_data = 'https://github.com/MpRonald/datasets/blob/main/dados_musicas.csv?raw=true'\n",
    "spark_session.sparkContext.addFile(url_data)\n",
    "path_data = 'file://' + SparkFiles.get('dados_musicas.csv')\n",
    "data = spark_session.read.csv(path_data, header=True, sep=';', inferSchema=True)\n",
    "data.limit(20).toPandas()"
   ]
  },
  {
   "cell_type": "code",
   "execution_count": 5,
   "metadata": {},
   "outputs": [
    {
     "name": "stdout",
     "output_type": "stream",
     "text": [
      "-RECORD 0--------------------------------------------------------------------\n",
      " valence          | 0.285                                                    \n",
      " year             | 2000                                                     \n",
      " acousticness     | 0.00239                                                  \n",
      " artists          | Coldplay                                                 \n",
      " danceability     | 0.429                                                    \n",
      " duration_ms      | 266773                                                   \n",
      " energy           | 0.6609999999999999                                       \n",
      " explicit         | 0                                                        \n",
      " id               | 3AJwUDP919kvQ9QcozQPxg                                   \n",
      " instrumentalness | 1.21E-4                                                  \n",
      " key              | 11                                                       \n",
      " liveness         | 0.234                                                    \n",
      " loudness         | -7.227                                                   \n",
      " mode             | 1                                                        \n",
      " name             | Yellow                                                   \n",
      " popularity       | 84                                                       \n",
      " speechiness      | 0.0281                                                   \n",
      " tempo            | 173.372                                                  \n",
      " artists_song     | Coldplay - Yellow                                        \n",
      "-RECORD 1--------------------------------------------------------------------\n",
      " valence          | 0.613                                                    \n",
      " year             | 2000                                                     \n",
      " acousticness     | 0.143                                                    \n",
      " artists          | OutKast                                                  \n",
      " danceability     | 0.843                                                    \n",
      " duration_ms      | 270507                                                   \n",
      " energy           | 0.8059999999999999                                       \n",
      " explicit         | 1                                                        \n",
      " id               | 0I3q5fE6wg7LIfHGngUTnV                                   \n",
      " instrumentalness | 0.0                                                      \n",
      " key              | 4                                                        \n",
      " liveness         | 0.0771                                                   \n",
      " loudness         | -5.9460000000000015                                      \n",
      " mode             | 0                                                        \n",
      " name             | Ms. Jackson                                              \n",
      " popularity       | 80                                                       \n",
      " speechiness      | 0.269                                                    \n",
      " tempo            | 94.948                                                   \n",
      " artists_song     | OutKast - Ms. Jackson                                    \n",
      "-RECORD 2--------------------------------------------------------------------\n",
      " valence          | 0.4                                                      \n",
      " year             | 2000                                                     \n",
      " acousticness     | 0.00958                                                  \n",
      " artists          | Linkin Park                                              \n",
      " danceability     | 0.556                                                    \n",
      " duration_ms      | 216880                                                   \n",
      " energy           | 0.8640000000000001                                       \n",
      " explicit         | 0                                                        \n",
      " id               | 60a0Rd6pjrkxjPbaKzXjfq                                   \n",
      " instrumentalness | 0.0                                                      \n",
      " key              | 3                                                        \n",
      " liveness         | 0.209                                                    \n",
      " loudness         | -5.87                                                    \n",
      " mode             | 0                                                        \n",
      " name             | In the End                                               \n",
      " popularity       | 84                                                       \n",
      " speechiness      | 0.0584                                                   \n",
      " tempo            | 105.143                                                  \n",
      " artists_song     | Linkin Park - In the End                                 \n",
      "-RECORD 3--------------------------------------------------------------------\n",
      " valence          | 0.5429999999999999                                       \n",
      " year             | 2000                                                     \n",
      " acousticness     | 0.00664                                                  \n",
      " artists          | 3 Doors Down                                             \n",
      " danceability     | 0.545                                                    \n",
      " duration_ms      | 233933                                                   \n",
      " energy           | 0.865                                                    \n",
      " explicit         | 0                                                        \n",
      " id               | 6ZOBP3NvffbU4SZcrnt1k6                                   \n",
      " instrumentalness | 1.1E-5                                                   \n",
      " key              | 11                                                       \n",
      " liveness         | 0.168                                                    \n",
      " loudness         | -5.7079999999999975                                      \n",
      " mode             | 0                                                        \n",
      " name             | Kryptonite                                               \n",
      " popularity       | 78                                                       \n",
      " speechiness      | 0.0286                                                   \n",
      " tempo            | 99.009                                                   \n",
      " artists_song     | 3 Doors Down - Kryptonite                                \n",
      "-RECORD 4--------------------------------------------------------------------\n",
      " valence          | 0.76                                                     \n",
      " year             | 2000                                                     \n",
      " acousticness     | 0.0302                                                   \n",
      " artists          | Eminem                                                   \n",
      " danceability     | 0.949                                                    \n",
      " duration_ms      | 284200                                                   \n",
      " energy           | 0.6609999999999999                                       \n",
      " explicit         | 1                                                        \n",
      " id               | 3yfqSUWxFvZELEM4PmlwIR                                   \n",
      " instrumentalness | 0.0                                                      \n",
      " key              | 5                                                        \n",
      " liveness         | 0.0454                                                   \n",
      " loudness         | -4.244                                                   \n",
      " mode             | 0                                                        \n",
      " name             | The Real Slim Shady                                      \n",
      " popularity       | 80                                                       \n",
      " speechiness      | 0.0572                                                   \n",
      " tempo            | 104.504                                                  \n",
      " artists_song     | Eminem - The Real Slim Shady                             \n",
      "-RECORD 5--------------------------------------------------------------------\n",
      " valence          | 0.941                                                    \n",
      " year             | 2000                                                     \n",
      " acousticness     | 9.96E-4                                                  \n",
      " artists          | Disturbed                                                \n",
      " danceability     | 0.695                                                    \n",
      " duration_ms      | 279213                                                   \n",
      " energy           | 0.8759999999999999                                       \n",
      " explicit         | 1                                                        \n",
      " id               | 40rvBMQizxkIqnjPdEWY1v                                   \n",
      " instrumentalness | 6.89E-6                                                  \n",
      " key              | 3                                                        \n",
      " liveness         | 0.106                                                    \n",
      " loudness         | -4.262                                                   \n",
      " mode             | 0                                                        \n",
      " name             | Down with the Sickness                                   \n",
      " popularity       | 76                                                       \n",
      " speechiness      | 0.0553                                                   \n",
      " tempo            | 89.954                                                   \n",
      " artists_song     | Disturbed - Down with the Sickness                       \n",
      "-RECORD 6--------------------------------------------------------------------\n",
      " valence          | 0.722                                                    \n",
      " year             | 2000                                                     \n",
      " acousticness     | 0.0616                                                   \n",
      " artists          | Nelly                                                    \n",
      " danceability     | 0.85                                                     \n",
      " duration_ms      | 291782                                                   \n",
      " energy           | 0.7                                                      \n",
      " explicit         | 1                                                        \n",
      " id               | 3Gf5nttwcX9aaSQXRWidEZ                                   \n",
      " instrumentalness | 1.8E-6                                                   \n",
      " key              | 7                                                        \n",
      " liveness         | 0.244                                                    \n",
      " loudness         | -6.49                                                    \n",
      " mode             | 1                                                        \n",
      " name             | Ride Wit Me                                              \n",
      " popularity       | 74                                                       \n",
      " speechiness      | 0.0478                                                   \n",
      " tempo            | 101.875                                                  \n",
      " artists_song     | Nelly - Ride Wit Me                                      \n",
      "-RECORD 7--------------------------------------------------------------------\n",
      " valence          | 0.507                                                    \n",
      " year             | 2000                                                     \n",
      " acousticness     | 0.0371                                                   \n",
      " artists          | Eminem                                                   \n",
      " danceability     | 0.78                                                     \n",
      " duration_ms      | 404107                                                   \n",
      " energy           | 0.768                                                    \n",
      " explicit         | 1                                                        \n",
      " id               | 3UmaczJpikHgJFyBTAJVoz                                   \n",
      " instrumentalness | 2.34E-6                                                  \n",
      " key              | 6                                                        \n",
      " liveness         | 0.518                                                    \n",
      " loudness         | -4.325                                                   \n",
      " mode             | 0                                                        \n",
      " name             | Stan                                                     \n",
      " popularity       | 78                                                       \n",
      " speechiness      | 0.238                                                    \n",
      " tempo            | 80.063                                                   \n",
      " artists_song     | Eminem - Stan                                            \n",
      "-RECORD 8--------------------------------------------------------------------\n",
      " valence          | 0.861                                                    \n",
      " year             | 2000                                                     \n",
      " acousticness     | 0.031                                                    \n",
      " artists          | *NSYNC                                                   \n",
      " danceability     | 0.61                                                     \n",
      " duration_ms      | 200400                                                   \n",
      " energy           | 0.926                                                    \n",
      " explicit         | 0                                                        \n",
      " id               | 62bOmKYxYg7dhrC6gH9vFn                                   \n",
      " instrumentalness | 0.0012                                                   \n",
      " key              | 8                                                        \n",
      " liveness         | 0.0821                                                   \n",
      " loudness         | -4.843                                                   \n",
      " mode             | 0                                                        \n",
      " name             | Bye Bye Bye                                              \n",
      " popularity       | 71                                                       \n",
      " speechiness      | 0.0479                                                   \n",
      " tempo            | 172.638                                                  \n",
      " artists_song     | *NSYNC - Bye Bye Bye                                     \n",
      "-RECORD 9--------------------------------------------------------------------\n",
      " valence          | 0.894                                                    \n",
      " year             | 2000                                                     \n",
      " acousticness     | 0.3                                                      \n",
      " artists          | Britney Spears                                           \n",
      " danceability     | 0.7509999999999999                                       \n",
      " duration_ms      | 211160                                                   \n",
      " energy           | 0.8340000000000001                                       \n",
      " explicit         | 0                                                        \n",
      " id               | 6naxalmIoLFWR0siv8dnQQ                                   \n",
      " instrumentalness | 1.77E-5                                                  \n",
      " key              | 1                                                        \n",
      " liveness         | 0.355                                                    \n",
      " loudness         | -5.444                                                   \n",
      " mode             | 0                                                        \n",
      " name             | Oops!...I Did It Again                                   \n",
      " popularity       | 78                                                       \n",
      " speechiness      | 0.0437                                                   \n",
      " tempo            | 95.053                                                   \n",
      " artists_song     | Britney Spears - Oops!...I Did It Again                  \n",
      "-RECORD 10-------------------------------------------------------------------\n",
      " valence          | 0.165                                                    \n",
      " year             | 2000                                                     \n",
      " acousticness     | 0.748                                                    \n",
      " artists          | Coldplay                                                 \n",
      " danceability     | 0.371                                                    \n",
      " duration_ms      | 227093                                                   \n",
      " energy           | 0.268                                                    \n",
      " explicit         | 0                                                        \n",
      " id               | 7D0RhFcb3CrfPuTJ0obrod                                   \n",
      " instrumentalness | 0.0517                                                   \n",
      " key              | 1                                                        \n",
      " liveness         | 0.104                                                    \n",
      " loudness         | -10.505999999999998                                      \n",
      " mode             | 1                                                        \n",
      " name             | Sparks                                                   \n",
      " popularity       | 73                                                       \n",
      " speechiness      | 0.0281                                                   \n",
      " tempo            | 102.617                                                  \n",
      " artists_song     | Coldplay - Sparks                                        \n",
      "-RECORD 11-------------------------------------------------------------------\n",
      " valence          | 0.5379999999999999                                       \n",
      " year             | 2000                                                     \n",
      " acousticness     | 0.0014                                                   \n",
      " artists          | Linkin Park                                              \n",
      " danceability     | 0.4920000000000001                                       \n",
      " duration_ms      | 157333                                                   \n",
      " energy           | 0.969                                                    \n",
      " explicit         | 0                                                        \n",
      " id               | 3K4HG9evC7dg3N0R9cYqk4                                   \n",
      " instrumentalness | 1.32E-6                                                  \n",
      " key              | 9                                                        \n",
      " liveness         | 0.0787                                                   \n",
      " loudness         | -4.419                                                   \n",
      " mode             | 1                                                        \n",
      " name             | One Step Closer                                          \n",
      " popularity       | 76                                                       \n",
      " speechiness      | 0.0491                                                   \n",
      " tempo            | 95.136                                                   \n",
      " artists_song     | Linkin Park - One Step Closer                            \n",
      "-RECORD 12-------------------------------------------------------------------\n",
      " valence          | 0.654                                                    \n",
      " year             | 2000                                                     \n",
      " acousticness     | 0.0561                                                   \n",
      " artists          | Shaggy                                                   \n",
      " danceability     | 0.853                                                    \n",
      " duration_ms      | 227600                                                   \n",
      " energy           | 0.606                                                    \n",
      " explicit         | 0                                                        \n",
      " id               | 3WkibOpDF7cQ5xntM1epyf                                   \n",
      " instrumentalness | 0.0                                                      \n",
      " key              | 0                                                        \n",
      " liveness         | 0.313                                                    \n",
      " loudness         | -4.596                                                   \n",
      " mode             | 1                                                        \n",
      " name             | It Wasn't Me                                             \n",
      " popularity       | 76                                                       \n",
      " speechiness      | 0.0713                                                   \n",
      " tempo            | 94.759                                                   \n",
      " artists_song     | Shaggy - It Wasn't Me                                    \n",
      "-RECORD 13-------------------------------------------------------------------\n",
      " valence          | 0.565                                                    \n",
      " year             | 2000                                                     \n",
      " acousticness     | 0.00689                                                  \n",
      " artists          | Nelly                                                    \n",
      " danceability     | 0.865                                                    \n",
      " duration_ms      | 287000                                                   \n",
      " energy           | 0.664                                                    \n",
      " explicit         | 1                                                        \n",
      " id               | 3wMUvT6eIw2L5cZFG1yH9j                                   \n",
      " instrumentalness | 0.0                                                      \n",
      " key              | 2                                                        \n",
      " liveness         | 0.142                                                    \n",
      " loudness         | -6.822                                                   \n",
      " mode             | 1                                                        \n",
      " name             | Country Grammar (Hot Shit)                               \n",
      " popularity       | 70                                                       \n",
      " speechiness      | 0.108                                                    \n",
      " tempo            | 162.83100000000005                                       \n",
      " artists_song     | Nelly - Country Grammar (Hot Shit)                       \n",
      "-RECORD 14-------------------------------------------------------------------\n",
      " valence          | 0.532                                                    \n",
      " year             | 2000                                                     \n",
      " acousticness     | 0.0112                                                   \n",
      " artists          | The Beatles                                              \n",
      " danceability     | 0.386                                                    \n",
      " duration_ms      | 425653                                                   \n",
      " energy           | 0.607                                                    \n",
      " explicit         | 0                                                        \n",
      " id               | 0aym2LBJBk9DAYuHHutrIl                                   \n",
      " instrumentalness | 1.3800000000000008E-5                                    \n",
      " key              | 10                                                       \n",
      " liveness         | 0.088                                                    \n",
      " loudness         | -7.7                                                     \n",
      " mode             | 1                                                        \n",
      " name             | Hey Jude - Remastered 2015                               \n",
      " popularity       | 76                                                       \n",
      " speechiness      | 0.0261                                                   \n",
      " tempo            | 147.207                                                  \n",
      " artists_song     | The Beatles - Hey Jude - Remastered 2015                 \n",
      "-RECORD 15-------------------------------------------------------------------\n",
      " valence          | 0.866                                                    \n",
      " year             | 2000                                                     \n",
      " acousticness     | 0.386                                                    \n",
      " artists          | The Beatles                                              \n",
      " danceability     | 0.49                                                     \n",
      " duration_ms      | 145747                                                   \n",
      " energy           | 0.715                                                    \n",
      " explicit         | 0                                                        \n",
      " id               | 4pbG9SUmWIvsROVLF0zF9s                                   \n",
      " instrumentalness | 0.0                                                      \n",
      " key              | 7                                                        \n",
      " liveness         | 0.311                                                    \n",
      " loudness         | -5.549                                                   \n",
      " mode             | 1                                                        \n",
      " name             | I Want To Hold Your Hand - Remastered 2015               \n",
      " popularity       | 73                                                       \n",
      " speechiness      | 0.0476                                                   \n",
      " tempo            | 130.726                                                  \n",
      " artists_song     | The Beatles - I Want To Hold Your Hand - Remastered 2015 \n",
      "-RECORD 16-------------------------------------------------------------------\n",
      " valence          | 0.435                                                    \n",
      " year             | 2000                                                     \n",
      " acousticness     | 0.00118                                                  \n",
      " artists          | Lifehouse                                                \n",
      " danceability     | 0.541                                                    \n",
      " duration_ms      | 216067                                                   \n",
      " energy           | 0.8640000000000001                                       \n",
      " explicit         | 0                                                        \n",
      " id               | 0wqOReZDnrefefEsrIGeR4                                   \n",
      " instrumentalness | 0.0                                                      \n",
      " key              | 1                                                        \n",
      " liveness         | 0.0896                                                   \n",
      " loudness         | -4.915                                                   \n",
      " mode             | 1                                                        \n",
      " name             | Hanging By A Moment                                      \n",
      " popularity       | 65                                                       \n",
      " speechiness      | 0.0357                                                   \n",
      " tempo            | 124.557                                                  \n",
      " artists_song     | Lifehouse - Hanging By A Moment                          \n",
      "-RECORD 17-------------------------------------------------------------------\n",
      " valence          | 0.299                                                    \n",
      " year             | 2000                                                     \n",
      " acousticness     | 0.0466                                                   \n",
      " artists          | Linkin Park                                              \n",
      " danceability     | 0.58                                                     \n",
      " duration_ms      | 208960                                                   \n",
      " energy           | 0.7020000000000001                                       \n",
      " explicit         | 0                                                        \n",
      " id               | 57BrRMwf9LrcmuOsyGilwr                                   \n",
      " instrumentalness | 3.2E-6                                                   \n",
      " key              | 4                                                        \n",
      " liveness         | 0.536                                                    \n",
      " loudness         | -5.565                                                   \n",
      " mode             | 1                                                        \n",
      " name             | Crawling                                                 \n",
      " popularity       | 73                                                       \n",
      " speechiness      | 0.0337                                                   \n",
      " tempo            | 105.076                                                  \n",
      " artists_song     | Linkin Park - Crawling                                   \n",
      "-RECORD 18-------------------------------------------------------------------\n",
      " valence          | 0.915                                                    \n",
      " year             | 2000                                                     \n",
      " acousticness     | 0.0281                                                   \n",
      " artists          | OutKast                                                  \n",
      " danceability     | 0.725                                                    \n",
      " duration_ms      | 240027                                                   \n",
      " energy           | 0.64                                                     \n",
      " explicit         | 1                                                        \n",
      " id               | 6glsMWIMIxQ4BedzLqGVi4                                   \n",
      " instrumentalness | 0.0                                                      \n",
      " key              | 5                                                        \n",
      " liveness         | 0.099                                                    \n",
      " loudness         | -7.905                                                   \n",
      " mode             | 0                                                        \n",
      " name             | So Fresh, So Clean                                       \n",
      " popularity       | 68                                                       \n",
      " speechiness      | 0.332                                                    \n",
      " tempo            | 166.028                                                  \n",
      " artists_song     | OutKast - So Fresh, So Clean                             \n",
      "-RECORD 19-------------------------------------------------------------------\n",
      " valence          | 0.885                                                    \n",
      " year             | 2000                                                     \n",
      " acousticness     | 0.627                                                    \n",
      " artists          | Sam Cooke                                                \n",
      " danceability     | 0.691                                                    \n",
      " duration_ms      | 125440                                                   \n",
      " energy           | 0.507                                                    \n",
      " explicit         | 0                                                        \n",
      " id               | 2g2GkH3vZHk4lWzBjgQ6nY                                   \n",
      " instrumentalness | 0.0                                                      \n",
      " key              | 11                                                       \n",
      " liveness         | 0.457                                                    \n",
      " loudness         | -10.23                                                   \n",
      " mode             | 1                                                        \n",
      " name             | (What A) Wonderful World                                 \n",
      " popularity       | 72                                                       \n",
      " speechiness      | 0.0343                                                   \n",
      " tempo            | 128.518                                                  \n",
      " artists_song     | Sam Cooke - (What A) Wonderful World                     \n",
      "only showing top 20 rows\n",
      "\n"
     ]
    }
   ],
   "source": [
    "data.show(vertical=True, truncate=False)"
   ]
  },
  {
   "cell_type": "code",
   "execution_count": 6,
   "metadata": {},
   "outputs": [
    {
     "name": "stdout",
     "output_type": "stream",
     "text": [
      "root\n",
      " |-- valence: double (nullable = true)\n",
      " |-- year: integer (nullable = true)\n",
      " |-- acousticness: double (nullable = true)\n",
      " |-- artists: string (nullable = true)\n",
      " |-- danceability: double (nullable = true)\n",
      " |-- duration_ms: integer (nullable = true)\n",
      " |-- energy: double (nullable = true)\n",
      " |-- explicit: integer (nullable = true)\n",
      " |-- id: string (nullable = true)\n",
      " |-- instrumentalness: double (nullable = true)\n",
      " |-- key: integer (nullable = true)\n",
      " |-- liveness: double (nullable = true)\n",
      " |-- loudness: double (nullable = true)\n",
      " |-- mode: integer (nullable = true)\n",
      " |-- name: string (nullable = true)\n",
      " |-- popularity: integer (nullable = true)\n",
      " |-- speechiness: double (nullable = true)\n",
      " |-- tempo: double (nullable = true)\n",
      " |-- artists_song: string (nullable = true)\n",
      "\n"
     ]
    }
   ],
   "source": [
    "data.printSchema()"
   ]
  },
  {
   "cell_type": "code",
   "execution_count": 7,
   "metadata": {},
   "outputs": [
    {
     "name": "stderr",
     "output_type": "stream",
     "text": [
      "                                                                                \r"
     ]
    },
    {
     "data": {
      "text/plain": [
       "(20311, 19)"
      ]
     },
     "execution_count": 7,
     "metadata": {},
     "output_type": "execute_result"
    }
   ],
   "source": [
    "# shape\n",
    "data.count(), len(data.columns)"
   ]
  },
  {
   "cell_type": "code",
   "execution_count": 8,
   "metadata": {},
   "outputs": [
    {
     "name": "stderr",
     "output_type": "stream",
     "text": [
      "[Stage 7:>                                                          (0 + 1) / 1]\r"
     ]
    },
    {
     "name": "stdout",
     "output_type": "stream",
     "text": [
      "+-------+----+------------+-------+------------+-----------+------+--------+---+----------------+---+--------+--------+----+----+----------+-----------+-----+------------+\n",
      "|valence|year|acousticness|artists|danceability|duration_ms|energy|explicit| id|instrumentalness|key|liveness|loudness|mode|name|popularity|speechiness|tempo|artists_song|\n",
      "+-------+----+------------+-------+------------+-----------+------+--------+---+----------------+---+--------+--------+----+----+----------+-----------+-----+------------+\n",
      "|      0|   0|           0|      0|           0|          0|     0|       0|  0|               0|  0|       0|       0|   0|   0|         0|          0|    0|           0|\n",
      "+-------+----+------------+-------+------------+-----------+------+--------+---+----------------+---+--------+--------+----+----+----------+-----------+-----+------------+\n",
      "\n"
     ]
    },
    {
     "name": "stderr",
     "output_type": "stream",
     "text": [
      "                                                                                \r"
     ]
    }
   ],
   "source": [
    "# checking null values\n",
    "data.select([f.count(f.when(f.isnull(c), 1)).alias(c) for c in data.columns]).show()"
   ]
  },
  {
   "cell_type": "code",
   "execution_count": 9,
   "metadata": {},
   "outputs": [
    {
     "name": "stderr",
     "output_type": "stream",
     "text": [
      "[Stage 10:>                                                         (0 + 1) / 1]\r"
     ]
    },
    {
     "name": "stdout",
     "output_type": "stream",
     "text": [
      "[Row(year=2000), Row(year=2001), Row(year=2002), Row(year=2003), Row(year=2004), Row(year=2005), Row(year=2006), Row(year=2007), Row(year=2008), Row(year=2009), Row(year=2010), Row(year=2011), Row(year=2012), Row(year=2013), Row(year=2014), Row(year=2015), Row(year=2016), Row(year=2017), Row(year=2018), Row(year=2019), Row(year=2020)]\n"
     ]
    },
    {
     "name": "stderr",
     "output_type": "stream",
     "text": [
      "                                                                                \r"
     ]
    }
   ],
   "source": [
    "# checking year\n",
    "print(sorted(data.select('year').distinct().collect()))"
   ]
  },
  {
   "cell_type": "markdown",
   "metadata": {},
   "source": [
    "### Analysing Dataset"
   ]
  },
  {
   "cell_type": "code",
   "execution_count": 10,
   "metadata": {},
   "outputs": [
    {
     "data": {
      "text/html": [
       "<div>\n",
       "<style scoped>\n",
       "    .dataframe tbody tr th:only-of-type {\n",
       "        vertical-align: middle;\n",
       "    }\n",
       "\n",
       "    .dataframe tbody tr th {\n",
       "        vertical-align: top;\n",
       "    }\n",
       "\n",
       "    .dataframe thead th {\n",
       "        text-align: right;\n",
       "    }\n",
       "</style>\n",
       "<table border=\"1\" class=\"dataframe\">\n",
       "  <thead>\n",
       "    <tr style=\"text-align: right;\">\n",
       "      <th></th>\n",
       "      <th>mode</th>\n",
       "      <th>year</th>\n",
       "      <th>acousticness</th>\n",
       "      <th>danceability</th>\n",
       "      <th>duration_ms</th>\n",
       "      <th>energy</th>\n",
       "      <th>instrumentalness</th>\n",
       "      <th>liveness</th>\n",
       "      <th>loudness</th>\n",
       "      <th>speechiness</th>\n",
       "      <th>tempo</th>\n",
       "      <th>valence</th>\n",
       "      <th>popularity</th>\n",
       "      <th>key</th>\n",
       "    </tr>\n",
       "  </thead>\n",
       "  <tbody>\n",
       "    <tr>\n",
       "      <th>0</th>\n",
       "      <td>1</td>\n",
       "      <td>1921</td>\n",
       "      <td>0.886896</td>\n",
       "      <td>0.418597</td>\n",
       "      <td>260537.166667</td>\n",
       "      <td>0.231815</td>\n",
       "      <td>0.344878</td>\n",
       "      <td>0.205710</td>\n",
       "      <td>-17.048667</td>\n",
       "      <td>0.073662</td>\n",
       "      <td>101.531493</td>\n",
       "      <td>0.379327</td>\n",
       "      <td>0.653333</td>\n",
       "      <td>2</td>\n",
       "    </tr>\n",
       "    <tr>\n",
       "      <th>1</th>\n",
       "      <td>1</td>\n",
       "      <td>1922</td>\n",
       "      <td>0.938592</td>\n",
       "      <td>0.482042</td>\n",
       "      <td>165469.746479</td>\n",
       "      <td>0.237815</td>\n",
       "      <td>0.434195</td>\n",
       "      <td>0.240720</td>\n",
       "      <td>-19.275282</td>\n",
       "      <td>0.116655</td>\n",
       "      <td>100.884521</td>\n",
       "      <td>0.535549</td>\n",
       "      <td>0.140845</td>\n",
       "      <td>10</td>\n",
       "    </tr>\n",
       "    <tr>\n",
       "      <th>2</th>\n",
       "      <td>1</td>\n",
       "      <td>1923</td>\n",
       "      <td>0.957247</td>\n",
       "      <td>0.577341</td>\n",
       "      <td>177942.362162</td>\n",
       "      <td>0.262406</td>\n",
       "      <td>0.371733</td>\n",
       "      <td>0.227462</td>\n",
       "      <td>-14.129211</td>\n",
       "      <td>0.093949</td>\n",
       "      <td>114.010730</td>\n",
       "      <td>0.625492</td>\n",
       "      <td>5.389189</td>\n",
       "      <td>0</td>\n",
       "    </tr>\n",
       "    <tr>\n",
       "      <th>3</th>\n",
       "      <td>1</td>\n",
       "      <td>1924</td>\n",
       "      <td>0.940200</td>\n",
       "      <td>0.549894</td>\n",
       "      <td>191046.707627</td>\n",
       "      <td>0.344347</td>\n",
       "      <td>0.581701</td>\n",
       "      <td>0.235219</td>\n",
       "      <td>-14.231343</td>\n",
       "      <td>0.092089</td>\n",
       "      <td>120.689572</td>\n",
       "      <td>0.663725</td>\n",
       "      <td>0.661017</td>\n",
       "      <td>10</td>\n",
       "    </tr>\n",
       "    <tr>\n",
       "      <th>4</th>\n",
       "      <td>1</td>\n",
       "      <td>1925</td>\n",
       "      <td>0.962607</td>\n",
       "      <td>0.573863</td>\n",
       "      <td>184986.924460</td>\n",
       "      <td>0.278594</td>\n",
       "      <td>0.418297</td>\n",
       "      <td>0.237668</td>\n",
       "      <td>-14.146414</td>\n",
       "      <td>0.111918</td>\n",
       "      <td>115.521921</td>\n",
       "      <td>0.621929</td>\n",
       "      <td>2.604317</td>\n",
       "      <td>5</td>\n",
       "    </tr>\n",
       "    <tr>\n",
       "      <th>5</th>\n",
       "      <td>1</td>\n",
       "      <td>1926</td>\n",
       "      <td>0.660817</td>\n",
       "      <td>0.599880</td>\n",
       "      <td>156881.657475</td>\n",
       "      <td>0.211467</td>\n",
       "      <td>0.333093</td>\n",
       "      <td>0.232370</td>\n",
       "      <td>-18.492538</td>\n",
       "      <td>0.483704</td>\n",
       "      <td>109.648033</td>\n",
       "      <td>0.436910</td>\n",
       "      <td>1.422351</td>\n",
       "      <td>9</td>\n",
       "    </tr>\n",
       "    <tr>\n",
       "      <th>6</th>\n",
       "      <td>1</td>\n",
       "      <td>1927</td>\n",
       "      <td>0.936179</td>\n",
       "      <td>0.648268</td>\n",
       "      <td>184993.598374</td>\n",
       "      <td>0.264321</td>\n",
       "      <td>0.391328</td>\n",
       "      <td>0.168450</td>\n",
       "      <td>-14.422374</td>\n",
       "      <td>0.113610</td>\n",
       "      <td>114.846524</td>\n",
       "      <td>0.659700</td>\n",
       "      <td>0.801626</td>\n",
       "      <td>7</td>\n",
       "    </tr>\n",
       "    <tr>\n",
       "      <th>7</th>\n",
       "      <td>1</td>\n",
       "      <td>1928</td>\n",
       "      <td>0.938617</td>\n",
       "      <td>0.534288</td>\n",
       "      <td>214827.906423</td>\n",
       "      <td>0.207948</td>\n",
       "      <td>0.494835</td>\n",
       "      <td>0.175289</td>\n",
       "      <td>-17.191983</td>\n",
       "      <td>0.159911</td>\n",
       "      <td>106.772262</td>\n",
       "      <td>0.495713</td>\n",
       "      <td>1.525773</td>\n",
       "      <td>1</td>\n",
       "    </tr>\n",
       "    <tr>\n",
       "      <th>8</th>\n",
       "      <td>1</td>\n",
       "      <td>1929</td>\n",
       "      <td>0.601427</td>\n",
       "      <td>0.647670</td>\n",
       "      <td>168999.412815</td>\n",
       "      <td>0.241801</td>\n",
       "      <td>0.215204</td>\n",
       "      <td>0.236000</td>\n",
       "      <td>-16.530376</td>\n",
       "      <td>0.490001</td>\n",
       "      <td>110.948357</td>\n",
       "      <td>0.636530</td>\n",
       "      <td>0.340336</td>\n",
       "      <td>7</td>\n",
       "    </tr>\n",
       "    <tr>\n",
       "      <th>9</th>\n",
       "      <td>1</td>\n",
       "      <td>1930</td>\n",
       "      <td>0.936715</td>\n",
       "      <td>0.518176</td>\n",
       "      <td>195150.285343</td>\n",
       "      <td>0.333524</td>\n",
       "      <td>0.352206</td>\n",
       "      <td>0.221311</td>\n",
       "      <td>-12.869221</td>\n",
       "      <td>0.119910</td>\n",
       "      <td>109.871194</td>\n",
       "      <td>0.616238</td>\n",
       "      <td>0.926715</td>\n",
       "      <td>2</td>\n",
       "    </tr>\n",
       "  </tbody>\n",
       "</table>\n",
       "</div>"
      ],
      "text/plain": [
       "   mode  year  acousticness  danceability    duration_ms    energy  \\\n",
       "0     1  1921      0.886896      0.418597  260537.166667  0.231815   \n",
       "1     1  1922      0.938592      0.482042  165469.746479  0.237815   \n",
       "2     1  1923      0.957247      0.577341  177942.362162  0.262406   \n",
       "3     1  1924      0.940200      0.549894  191046.707627  0.344347   \n",
       "4     1  1925      0.962607      0.573863  184986.924460  0.278594   \n",
       "5     1  1926      0.660817      0.599880  156881.657475  0.211467   \n",
       "6     1  1927      0.936179      0.648268  184993.598374  0.264321   \n",
       "7     1  1928      0.938617      0.534288  214827.906423  0.207948   \n",
       "8     1  1929      0.601427      0.647670  168999.412815  0.241801   \n",
       "9     1  1930      0.936715      0.518176  195150.285343  0.333524   \n",
       "\n",
       "   instrumentalness  liveness   loudness  speechiness       tempo   valence  \\\n",
       "0          0.344878  0.205710 -17.048667     0.073662  101.531493  0.379327   \n",
       "1          0.434195  0.240720 -19.275282     0.116655  100.884521  0.535549   \n",
       "2          0.371733  0.227462 -14.129211     0.093949  114.010730  0.625492   \n",
       "3          0.581701  0.235219 -14.231343     0.092089  120.689572  0.663725   \n",
       "4          0.418297  0.237668 -14.146414     0.111918  115.521921  0.621929   \n",
       "5          0.333093  0.232370 -18.492538     0.483704  109.648033  0.436910   \n",
       "6          0.391328  0.168450 -14.422374     0.113610  114.846524  0.659700   \n",
       "7          0.494835  0.175289 -17.191983     0.159911  106.772262  0.495713   \n",
       "8          0.215204  0.236000 -16.530376     0.490001  110.948357  0.636530   \n",
       "9          0.352206  0.221311 -12.869221     0.119910  109.871194  0.616238   \n",
       "\n",
       "   popularity  key  \n",
       "0    0.653333    2  \n",
       "1    0.140845   10  \n",
       "2    5.389189    0  \n",
       "3    0.661017   10  \n",
       "4    2.604317    5  \n",
       "5    1.422351    9  \n",
       "6    0.801626    7  \n",
       "7    1.525773    1  \n",
       "8    0.340336    7  \n",
       "9    0.926715    2  "
      ]
     },
     "execution_count": 10,
     "metadata": {},
     "output_type": "execute_result"
    }
   ],
   "source": [
    "url_data_years = 'https://github.com/MpRonald/datasets/raw/main/data_by_year.csv'\n",
    "spark_session.sparkContext.addFile(url_data_years)\n",
    "path_data_years = 'file://' + SparkFiles.get('data_by_year.csv')\n",
    "data_year = spark_session.read.csv(path_data_years, header=True, sep=',', inferSchema=True)\n",
    "data_year.limit(10).toPandas()"
   ]
  },
  {
   "cell_type": "code",
   "execution_count": 11,
   "metadata": {},
   "outputs": [
    {
     "data": {
      "text/html": [
       "<div>\n",
       "<style scoped>\n",
       "    .dataframe tbody tr th:only-of-type {\n",
       "        vertical-align: middle;\n",
       "    }\n",
       "\n",
       "    .dataframe tbody tr th {\n",
       "        vertical-align: top;\n",
       "    }\n",
       "\n",
       "    .dataframe thead th {\n",
       "        text-align: right;\n",
       "    }\n",
       "</style>\n",
       "<table border=\"1\" class=\"dataframe\">\n",
       "  <thead>\n",
       "    <tr style=\"text-align: right;\">\n",
       "      <th></th>\n",
       "      <th>mode</th>\n",
       "      <th>year</th>\n",
       "      <th>acousticness</th>\n",
       "      <th>danceability</th>\n",
       "      <th>duration_ms</th>\n",
       "      <th>energy</th>\n",
       "      <th>instrumentalness</th>\n",
       "      <th>liveness</th>\n",
       "      <th>loudness</th>\n",
       "      <th>speechiness</th>\n",
       "      <th>tempo</th>\n",
       "      <th>valence</th>\n",
       "      <th>popularity</th>\n",
       "      <th>key</th>\n",
       "    </tr>\n",
       "  </thead>\n",
       "  <tbody>\n",
       "    <tr>\n",
       "      <th>0</th>\n",
       "      <td>1</td>\n",
       "      <td>2000</td>\n",
       "      <td>0.289323</td>\n",
       "      <td>0.590918</td>\n",
       "      <td>242724.642638</td>\n",
       "      <td>0.625413</td>\n",
       "      <td>0.101168</td>\n",
       "      <td>0.197686</td>\n",
       "      <td>-8.247766</td>\n",
       "      <td>0.089205</td>\n",
       "      <td>118.999323</td>\n",
       "      <td>0.559475</td>\n",
       "      <td>46.684049</td>\n",
       "      <td>7</td>\n",
       "    </tr>\n",
       "    <tr>\n",
       "      <th>1</th>\n",
       "      <td>1</td>\n",
       "      <td>2001</td>\n",
       "      <td>0.286842</td>\n",
       "      <td>0.583318</td>\n",
       "      <td>240307.796010</td>\n",
       "      <td>0.626986</td>\n",
       "      <td>0.107214</td>\n",
       "      <td>0.187026</td>\n",
       "      <td>-8.305095</td>\n",
       "      <td>0.089182</td>\n",
       "      <td>117.765399</td>\n",
       "      <td>0.541479</td>\n",
       "      <td>48.750125</td>\n",
       "      <td>7</td>\n",
       "    </tr>\n",
       "    <tr>\n",
       "      <th>2</th>\n",
       "      <td>1</td>\n",
       "      <td>2002</td>\n",
       "      <td>0.282624</td>\n",
       "      <td>0.576160</td>\n",
       "      <td>239503.283000</td>\n",
       "      <td>0.641270</td>\n",
       "      <td>0.088048</td>\n",
       "      <td>0.193911</td>\n",
       "      <td>-7.686640</td>\n",
       "      <td>0.084308</td>\n",
       "      <td>119.239738</td>\n",
       "      <td>0.542397</td>\n",
       "      <td>48.655500</td>\n",
       "      <td>7</td>\n",
       "    </tr>\n",
       "    <tr>\n",
       "      <th>3</th>\n",
       "      <td>1</td>\n",
       "      <td>2003</td>\n",
       "      <td>0.256471</td>\n",
       "      <td>0.575763</td>\n",
       "      <td>244670.575230</td>\n",
       "      <td>0.660165</td>\n",
       "      <td>0.083049</td>\n",
       "      <td>0.196976</td>\n",
       "      <td>-7.485545</td>\n",
       "      <td>0.093926</td>\n",
       "      <td>120.914622</td>\n",
       "      <td>0.530504</td>\n",
       "      <td>48.626407</td>\n",
       "      <td>7</td>\n",
       "    </tr>\n",
       "    <tr>\n",
       "      <th>4</th>\n",
       "      <td>1</td>\n",
       "      <td>2004</td>\n",
       "      <td>0.280559</td>\n",
       "      <td>0.567680</td>\n",
       "      <td>237378.708037</td>\n",
       "      <td>0.648868</td>\n",
       "      <td>0.077934</td>\n",
       "      <td>0.202199</td>\n",
       "      <td>-7.601655</td>\n",
       "      <td>0.094239</td>\n",
       "      <td>121.290346</td>\n",
       "      <td>0.524489</td>\n",
       "      <td>49.273143</td>\n",
       "      <td>7</td>\n",
       "    </tr>\n",
       "    <tr>\n",
       "      <th>5</th>\n",
       "      <td>1</td>\n",
       "      <td>2005</td>\n",
       "      <td>0.255764</td>\n",
       "      <td>0.572281</td>\n",
       "      <td>237229.588205</td>\n",
       "      <td>0.653209</td>\n",
       "      <td>0.090194</td>\n",
       "      <td>0.190082</td>\n",
       "      <td>-7.466159</td>\n",
       "      <td>0.093334</td>\n",
       "      <td>121.617967</td>\n",
       "      <td>0.532531</td>\n",
       "      <td>50.953333</td>\n",
       "      <td>0</td>\n",
       "    </tr>\n",
       "    <tr>\n",
       "      <th>6</th>\n",
       "      <td>1</td>\n",
       "      <td>2006</td>\n",
       "      <td>0.279986</td>\n",
       "      <td>0.568230</td>\n",
       "      <td>234042.914359</td>\n",
       "      <td>0.650326</td>\n",
       "      <td>0.077701</td>\n",
       "      <td>0.188289</td>\n",
       "      <td>-7.265501</td>\n",
       "      <td>0.085847</td>\n",
       "      <td>121.798615</td>\n",
       "      <td>0.520028</td>\n",
       "      <td>51.313846</td>\n",
       "      <td>7</td>\n",
       "    </tr>\n",
       "    <tr>\n",
       "      <th>7</th>\n",
       "      <td>1</td>\n",
       "      <td>2007</td>\n",
       "      <td>0.254081</td>\n",
       "      <td>0.563414</td>\n",
       "      <td>241049.962564</td>\n",
       "      <td>0.668305</td>\n",
       "      <td>0.072957</td>\n",
       "      <td>0.196127</td>\n",
       "      <td>-7.044536</td>\n",
       "      <td>0.084347</td>\n",
       "      <td>124.087516</td>\n",
       "      <td>0.516794</td>\n",
       "      <td>51.075897</td>\n",
       "      <td>7</td>\n",
       "    </tr>\n",
       "    <tr>\n",
       "      <th>8</th>\n",
       "      <td>1</td>\n",
       "      <td>2008</td>\n",
       "      <td>0.249192</td>\n",
       "      <td>0.579193</td>\n",
       "      <td>240107.315601</td>\n",
       "      <td>0.671461</td>\n",
       "      <td>0.063662</td>\n",
       "      <td>0.198431</td>\n",
       "      <td>-6.843804</td>\n",
       "      <td>0.077356</td>\n",
       "      <td>123.509934</td>\n",
       "      <td>0.527542</td>\n",
       "      <td>50.630179</td>\n",
       "      <td>0</td>\n",
       "    </tr>\n",
       "    <tr>\n",
       "      <th>9</th>\n",
       "      <td>1</td>\n",
       "      <td>2009</td>\n",
       "      <td>0.261929</td>\n",
       "      <td>0.564190</td>\n",
       "      <td>238140.013265</td>\n",
       "      <td>0.670749</td>\n",
       "      <td>0.075872</td>\n",
       "      <td>0.205252</td>\n",
       "      <td>-7.046015</td>\n",
       "      <td>0.085458</td>\n",
       "      <td>123.463808</td>\n",
       "      <td>0.507170</td>\n",
       "      <td>51.440816</td>\n",
       "      <td>0</td>\n",
       "    </tr>\n",
       "  </tbody>\n",
       "</table>\n",
       "</div>"
      ],
      "text/plain": [
       "   mode  year  acousticness  danceability    duration_ms    energy  \\\n",
       "0     1  2000      0.289323      0.590918  242724.642638  0.625413   \n",
       "1     1  2001      0.286842      0.583318  240307.796010  0.626986   \n",
       "2     1  2002      0.282624      0.576160  239503.283000  0.641270   \n",
       "3     1  2003      0.256471      0.575763  244670.575230  0.660165   \n",
       "4     1  2004      0.280559      0.567680  237378.708037  0.648868   \n",
       "5     1  2005      0.255764      0.572281  237229.588205  0.653209   \n",
       "6     1  2006      0.279986      0.568230  234042.914359  0.650326   \n",
       "7     1  2007      0.254081      0.563414  241049.962564  0.668305   \n",
       "8     1  2008      0.249192      0.579193  240107.315601  0.671461   \n",
       "9     1  2009      0.261929      0.564190  238140.013265  0.670749   \n",
       "\n",
       "   instrumentalness  liveness  loudness  speechiness       tempo   valence  \\\n",
       "0          0.101168  0.197686 -8.247766     0.089205  118.999323  0.559475   \n",
       "1          0.107214  0.187026 -8.305095     0.089182  117.765399  0.541479   \n",
       "2          0.088048  0.193911 -7.686640     0.084308  119.239738  0.542397   \n",
       "3          0.083049  0.196976 -7.485545     0.093926  120.914622  0.530504   \n",
       "4          0.077934  0.202199 -7.601655     0.094239  121.290346  0.524489   \n",
       "5          0.090194  0.190082 -7.466159     0.093334  121.617967  0.532531   \n",
       "6          0.077701  0.188289 -7.265501     0.085847  121.798615  0.520028   \n",
       "7          0.072957  0.196127 -7.044536     0.084347  124.087516  0.516794   \n",
       "8          0.063662  0.198431 -6.843804     0.077356  123.509934  0.527542   \n",
       "9          0.075872  0.205252 -7.046015     0.085458  123.463808  0.507170   \n",
       "\n",
       "   popularity  key  \n",
       "0   46.684049    7  \n",
       "1   48.750125    7  \n",
       "2   48.655500    7  \n",
       "3   48.626407    7  \n",
       "4   49.273143    7  \n",
       "5   50.953333    0  \n",
       "6   51.313846    7  \n",
       "7   51.075897    7  \n",
       "8   50.630179    0  \n",
       "9   51.440816    0  "
      ]
     },
     "execution_count": 11,
     "metadata": {},
     "output_type": "execute_result"
    }
   ],
   "source": [
    "data_year_2000 = data_year.filter('year >= 2000')\n",
    "data_year_2000.limit(10).toPandas()"
   ]
  },
  {
   "cell_type": "code",
   "execution_count": 12,
   "metadata": {},
   "outputs": [
    {
     "data": {
      "text/plain": [
       "21"
      ]
     },
     "execution_count": 12,
     "metadata": {},
     "output_type": "execute_result"
    }
   ],
   "source": [
    "data_year_2000.count()"
   ]
  },
  {
   "cell_type": "code",
   "execution_count": 13,
   "metadata": {},
   "outputs": [
    {
     "data": {
      "text/plain": [
       "14"
      ]
     },
     "execution_count": 13,
     "metadata": {},
     "output_type": "execute_result"
    }
   ],
   "source": [
    "len(data_year_2000.columns)"
   ]
  },
  {
   "cell_type": "code",
   "execution_count": 14,
   "metadata": {},
   "outputs": [
    {
     "data": {
      "application/vnd.plotly.v1+json": {
       "config": {
        "plotlyServerURL": "https://plot.ly"
       },
       "data": [
        {
         "hovertemplate": "year=%{x}<br>loudness=%{y}<extra></extra>",
         "legendgroup": "",
         "line": {
          "color": "#636efa",
          "dash": "solid"
         },
         "marker": {
          "symbol": "circle"
         },
         "mode": "lines+markers",
         "name": "",
         "orientation": "v",
         "showlegend": false,
         "type": "scatter",
         "x": [
          2000,
          2001,
          2002,
          2003,
          2004,
          2005,
          2006,
          2007,
          2008,
          2009,
          2010,
          2011,
          2012,
          2013,
          2014,
          2015,
          2016,
          2017,
          2018,
          2019,
          2020
         ],
         "xaxis": "x",
         "y": [
          -8.247765848670758,
          -8.305095261845384,
          -7.686639500000013,
          -7.485545035823955,
          -7.601655137334684,
          -7.46615897435897,
          -7.265500512820514,
          -7.044535897435892,
          -6.8438040920716166,
          -7.0460147959183645,
          -6.9099042658730125,
          -7.574986117997006,
          -7.260549614395888,
          -7.472039473684207,
          -7.06743990024938,
          -7.625639311043569,
          -8.061056204785759,
          -8.31262951807228,
          -7.168785068949124,
          -7.722191893278596,
          -6.595066995073878
         ],
         "yaxis": "y"
        }
       ],
       "layout": {
        "legend": {
         "tracegroupgap": 0
        },
        "template": {
         "data": {
          "bar": [
           {
            "error_x": {
             "color": "#2a3f5f"
            },
            "error_y": {
             "color": "#2a3f5f"
            },
            "marker": {
             "line": {
              "color": "#E5ECF6",
              "width": 0.5
             },
             "pattern": {
              "fillmode": "overlay",
              "size": 10,
              "solidity": 0.2
             }
            },
            "type": "bar"
           }
          ],
          "barpolar": [
           {
            "marker": {
             "line": {
              "color": "#E5ECF6",
              "width": 0.5
             },
             "pattern": {
              "fillmode": "overlay",
              "size": 10,
              "solidity": 0.2
             }
            },
            "type": "barpolar"
           }
          ],
          "carpet": [
           {
            "aaxis": {
             "endlinecolor": "#2a3f5f",
             "gridcolor": "white",
             "linecolor": "white",
             "minorgridcolor": "white",
             "startlinecolor": "#2a3f5f"
            },
            "baxis": {
             "endlinecolor": "#2a3f5f",
             "gridcolor": "white",
             "linecolor": "white",
             "minorgridcolor": "white",
             "startlinecolor": "#2a3f5f"
            },
            "type": "carpet"
           }
          ],
          "choropleth": [
           {
            "colorbar": {
             "outlinewidth": 0,
             "ticks": ""
            },
            "type": "choropleth"
           }
          ],
          "contour": [
           {
            "colorbar": {
             "outlinewidth": 0,
             "ticks": ""
            },
            "colorscale": [
             [
              0,
              "#0d0887"
             ],
             [
              0.1111111111111111,
              "#46039f"
             ],
             [
              0.2222222222222222,
              "#7201a8"
             ],
             [
              0.3333333333333333,
              "#9c179e"
             ],
             [
              0.4444444444444444,
              "#bd3786"
             ],
             [
              0.5555555555555556,
              "#d8576b"
             ],
             [
              0.6666666666666666,
              "#ed7953"
             ],
             [
              0.7777777777777778,
              "#fb9f3a"
             ],
             [
              0.8888888888888888,
              "#fdca26"
             ],
             [
              1,
              "#f0f921"
             ]
            ],
            "type": "contour"
           }
          ],
          "contourcarpet": [
           {
            "colorbar": {
             "outlinewidth": 0,
             "ticks": ""
            },
            "type": "contourcarpet"
           }
          ],
          "heatmap": [
           {
            "colorbar": {
             "outlinewidth": 0,
             "ticks": ""
            },
            "colorscale": [
             [
              0,
              "#0d0887"
             ],
             [
              0.1111111111111111,
              "#46039f"
             ],
             [
              0.2222222222222222,
              "#7201a8"
             ],
             [
              0.3333333333333333,
              "#9c179e"
             ],
             [
              0.4444444444444444,
              "#bd3786"
             ],
             [
              0.5555555555555556,
              "#d8576b"
             ],
             [
              0.6666666666666666,
              "#ed7953"
             ],
             [
              0.7777777777777778,
              "#fb9f3a"
             ],
             [
              0.8888888888888888,
              "#fdca26"
             ],
             [
              1,
              "#f0f921"
             ]
            ],
            "type": "heatmap"
           }
          ],
          "heatmapgl": [
           {
            "colorbar": {
             "outlinewidth": 0,
             "ticks": ""
            },
            "colorscale": [
             [
              0,
              "#0d0887"
             ],
             [
              0.1111111111111111,
              "#46039f"
             ],
             [
              0.2222222222222222,
              "#7201a8"
             ],
             [
              0.3333333333333333,
              "#9c179e"
             ],
             [
              0.4444444444444444,
              "#bd3786"
             ],
             [
              0.5555555555555556,
              "#d8576b"
             ],
             [
              0.6666666666666666,
              "#ed7953"
             ],
             [
              0.7777777777777778,
              "#fb9f3a"
             ],
             [
              0.8888888888888888,
              "#fdca26"
             ],
             [
              1,
              "#f0f921"
             ]
            ],
            "type": "heatmapgl"
           }
          ],
          "histogram": [
           {
            "marker": {
             "pattern": {
              "fillmode": "overlay",
              "size": 10,
              "solidity": 0.2
             }
            },
            "type": "histogram"
           }
          ],
          "histogram2d": [
           {
            "colorbar": {
             "outlinewidth": 0,
             "ticks": ""
            },
            "colorscale": [
             [
              0,
              "#0d0887"
             ],
             [
              0.1111111111111111,
              "#46039f"
             ],
             [
              0.2222222222222222,
              "#7201a8"
             ],
             [
              0.3333333333333333,
              "#9c179e"
             ],
             [
              0.4444444444444444,
              "#bd3786"
             ],
             [
              0.5555555555555556,
              "#d8576b"
             ],
             [
              0.6666666666666666,
              "#ed7953"
             ],
             [
              0.7777777777777778,
              "#fb9f3a"
             ],
             [
              0.8888888888888888,
              "#fdca26"
             ],
             [
              1,
              "#f0f921"
             ]
            ],
            "type": "histogram2d"
           }
          ],
          "histogram2dcontour": [
           {
            "colorbar": {
             "outlinewidth": 0,
             "ticks": ""
            },
            "colorscale": [
             [
              0,
              "#0d0887"
             ],
             [
              0.1111111111111111,
              "#46039f"
             ],
             [
              0.2222222222222222,
              "#7201a8"
             ],
             [
              0.3333333333333333,
              "#9c179e"
             ],
             [
              0.4444444444444444,
              "#bd3786"
             ],
             [
              0.5555555555555556,
              "#d8576b"
             ],
             [
              0.6666666666666666,
              "#ed7953"
             ],
             [
              0.7777777777777778,
              "#fb9f3a"
             ],
             [
              0.8888888888888888,
              "#fdca26"
             ],
             [
              1,
              "#f0f921"
             ]
            ],
            "type": "histogram2dcontour"
           }
          ],
          "mesh3d": [
           {
            "colorbar": {
             "outlinewidth": 0,
             "ticks": ""
            },
            "type": "mesh3d"
           }
          ],
          "parcoords": [
           {
            "line": {
             "colorbar": {
              "outlinewidth": 0,
              "ticks": ""
             }
            },
            "type": "parcoords"
           }
          ],
          "pie": [
           {
            "automargin": true,
            "type": "pie"
           }
          ],
          "scatter": [
           {
            "fillpattern": {
             "fillmode": "overlay",
             "size": 10,
             "solidity": 0.2
            },
            "type": "scatter"
           }
          ],
          "scatter3d": [
           {
            "line": {
             "colorbar": {
              "outlinewidth": 0,
              "ticks": ""
             }
            },
            "marker": {
             "colorbar": {
              "outlinewidth": 0,
              "ticks": ""
             }
            },
            "type": "scatter3d"
           }
          ],
          "scattercarpet": [
           {
            "marker": {
             "colorbar": {
              "outlinewidth": 0,
              "ticks": ""
             }
            },
            "type": "scattercarpet"
           }
          ],
          "scattergeo": [
           {
            "marker": {
             "colorbar": {
              "outlinewidth": 0,
              "ticks": ""
             }
            },
            "type": "scattergeo"
           }
          ],
          "scattergl": [
           {
            "marker": {
             "colorbar": {
              "outlinewidth": 0,
              "ticks": ""
             }
            },
            "type": "scattergl"
           }
          ],
          "scattermapbox": [
           {
            "marker": {
             "colorbar": {
              "outlinewidth": 0,
              "ticks": ""
             }
            },
            "type": "scattermapbox"
           }
          ],
          "scatterpolar": [
           {
            "marker": {
             "colorbar": {
              "outlinewidth": 0,
              "ticks": ""
             }
            },
            "type": "scatterpolar"
           }
          ],
          "scatterpolargl": [
           {
            "marker": {
             "colorbar": {
              "outlinewidth": 0,
              "ticks": ""
             }
            },
            "type": "scatterpolargl"
           }
          ],
          "scatterternary": [
           {
            "marker": {
             "colorbar": {
              "outlinewidth": 0,
              "ticks": ""
             }
            },
            "type": "scatterternary"
           }
          ],
          "surface": [
           {
            "colorbar": {
             "outlinewidth": 0,
             "ticks": ""
            },
            "colorscale": [
             [
              0,
              "#0d0887"
             ],
             [
              0.1111111111111111,
              "#46039f"
             ],
             [
              0.2222222222222222,
              "#7201a8"
             ],
             [
              0.3333333333333333,
              "#9c179e"
             ],
             [
              0.4444444444444444,
              "#bd3786"
             ],
             [
              0.5555555555555556,
              "#d8576b"
             ],
             [
              0.6666666666666666,
              "#ed7953"
             ],
             [
              0.7777777777777778,
              "#fb9f3a"
             ],
             [
              0.8888888888888888,
              "#fdca26"
             ],
             [
              1,
              "#f0f921"
             ]
            ],
            "type": "surface"
           }
          ],
          "table": [
           {
            "cells": {
             "fill": {
              "color": "#EBF0F8"
             },
             "line": {
              "color": "white"
             }
            },
            "header": {
             "fill": {
              "color": "#C8D4E3"
             },
             "line": {
              "color": "white"
             }
            },
            "type": "table"
           }
          ]
         },
         "layout": {
          "annotationdefaults": {
           "arrowcolor": "#2a3f5f",
           "arrowhead": 0,
           "arrowwidth": 1
          },
          "autotypenumbers": "strict",
          "coloraxis": {
           "colorbar": {
            "outlinewidth": 0,
            "ticks": ""
           }
          },
          "colorscale": {
           "diverging": [
            [
             0,
             "#8e0152"
            ],
            [
             0.1,
             "#c51b7d"
            ],
            [
             0.2,
             "#de77ae"
            ],
            [
             0.3,
             "#f1b6da"
            ],
            [
             0.4,
             "#fde0ef"
            ],
            [
             0.5,
             "#f7f7f7"
            ],
            [
             0.6,
             "#e6f5d0"
            ],
            [
             0.7,
             "#b8e186"
            ],
            [
             0.8,
             "#7fbc41"
            ],
            [
             0.9,
             "#4d9221"
            ],
            [
             1,
             "#276419"
            ]
           ],
           "sequential": [
            [
             0,
             "#0d0887"
            ],
            [
             0.1111111111111111,
             "#46039f"
            ],
            [
             0.2222222222222222,
             "#7201a8"
            ],
            [
             0.3333333333333333,
             "#9c179e"
            ],
            [
             0.4444444444444444,
             "#bd3786"
            ],
            [
             0.5555555555555556,
             "#d8576b"
            ],
            [
             0.6666666666666666,
             "#ed7953"
            ],
            [
             0.7777777777777778,
             "#fb9f3a"
            ],
            [
             0.8888888888888888,
             "#fdca26"
            ],
            [
             1,
             "#f0f921"
            ]
           ],
           "sequentialminus": [
            [
             0,
             "#0d0887"
            ],
            [
             0.1111111111111111,
             "#46039f"
            ],
            [
             0.2222222222222222,
             "#7201a8"
            ],
            [
             0.3333333333333333,
             "#9c179e"
            ],
            [
             0.4444444444444444,
             "#bd3786"
            ],
            [
             0.5555555555555556,
             "#d8576b"
            ],
            [
             0.6666666666666666,
             "#ed7953"
            ],
            [
             0.7777777777777778,
             "#fb9f3a"
            ],
            [
             0.8888888888888888,
             "#fdca26"
            ],
            [
             1,
             "#f0f921"
            ]
           ]
          },
          "colorway": [
           "#636efa",
           "#EF553B",
           "#00cc96",
           "#ab63fa",
           "#FFA15A",
           "#19d3f3",
           "#FF6692",
           "#B6E880",
           "#FF97FF",
           "#FECB52"
          ],
          "font": {
           "color": "#2a3f5f"
          },
          "geo": {
           "bgcolor": "white",
           "lakecolor": "white",
           "landcolor": "#E5ECF6",
           "showlakes": true,
           "showland": true,
           "subunitcolor": "white"
          },
          "hoverlabel": {
           "align": "left"
          },
          "hovermode": "closest",
          "mapbox": {
           "style": "light"
          },
          "paper_bgcolor": "white",
          "plot_bgcolor": "#E5ECF6",
          "polar": {
           "angularaxis": {
            "gridcolor": "white",
            "linecolor": "white",
            "ticks": ""
           },
           "bgcolor": "#E5ECF6",
           "radialaxis": {
            "gridcolor": "white",
            "linecolor": "white",
            "ticks": ""
           }
          },
          "scene": {
           "xaxis": {
            "backgroundcolor": "#E5ECF6",
            "gridcolor": "white",
            "gridwidth": 2,
            "linecolor": "white",
            "showbackground": true,
            "ticks": "",
            "zerolinecolor": "white"
           },
           "yaxis": {
            "backgroundcolor": "#E5ECF6",
            "gridcolor": "white",
            "gridwidth": 2,
            "linecolor": "white",
            "showbackground": true,
            "ticks": "",
            "zerolinecolor": "white"
           },
           "zaxis": {
            "backgroundcolor": "#E5ECF6",
            "gridcolor": "white",
            "gridwidth": 2,
            "linecolor": "white",
            "showbackground": true,
            "ticks": "",
            "zerolinecolor": "white"
           }
          },
          "shapedefaults": {
           "line": {
            "color": "#2a3f5f"
           }
          },
          "ternary": {
           "aaxis": {
            "gridcolor": "white",
            "linecolor": "white",
            "ticks": ""
           },
           "baxis": {
            "gridcolor": "white",
            "linecolor": "white",
            "ticks": ""
           },
           "bgcolor": "#E5ECF6",
           "caxis": {
            "gridcolor": "white",
            "linecolor": "white",
            "ticks": ""
           }
          },
          "title": {
           "x": 0.05
          },
          "xaxis": {
           "automargin": true,
           "gridcolor": "white",
           "linecolor": "white",
           "ticks": "",
           "title": {
            "standoff": 15
           },
           "zerolinecolor": "white",
           "zerolinewidth": 2
          },
          "yaxis": {
           "automargin": true,
           "gridcolor": "white",
           "linecolor": "white",
           "ticks": "",
           "title": {
            "standoff": 15
           },
           "zerolinecolor": "white",
           "zerolinewidth": 2
          }
         }
        },
        "title": {
         "text": "Loudness variation by YEARS"
        },
        "xaxis": {
         "anchor": "y",
         "domain": [
          0,
          1
         ],
         "title": {
          "text": "year"
         }
        },
        "yaxis": {
         "anchor": "x",
         "domain": [
          0,
          1
         ],
         "title": {
          "text": "loudness"
         }
        }
       }
      }
     },
     "metadata": {},
     "output_type": "display_data"
    }
   ],
   "source": [
    "# changing dataset toPandas\n",
    "fig = px.line(data_year_2000.toPandas(), x='year', y='loudness', markers=True,\n",
    "              title='Loudness variation by YEARS').show()"
   ]
  },
  {
   "cell_type": "code",
   "execution_count": 15,
   "metadata": {},
   "outputs": [
    {
     "data": {
      "application/vnd.plotly.v1+json": {
       "config": {
        "plotlyServerURL": "https://plot.ly"
       },
       "data": [
        {
         "name": "Acousticness",
         "type": "scatter",
         "x": [
          2000,
          2001,
          2002,
          2003,
          2004,
          2005,
          2006,
          2007,
          2008,
          2009,
          2010,
          2011,
          2012,
          2013,
          2014,
          2015,
          2016,
          2017,
          2018,
          2019,
          2020
         ],
         "y": [
          0.28932270051635994,
          0.2868424748428934,
          0.28262428988500105,
          0.25647051817297833,
          0.2805589466225845,
          0.2557635068666665,
          0.2799863520256408,
          0.2540809575538463,
          0.2491917627212275,
          0.26192861909693904,
          0.2426866435515872,
          0.27318266251859197,
          0.24995304438046245,
          0.2574880859564779,
          0.24931264588029906,
          0.2539522577102332,
          0.28417102995548144,
          0.2860990665261043,
          0.2676329907750836,
          0.2782985863365824,
          0.2199308880935964
         ]
        },
        {
         "name": "Valence",
         "type": "scatter",
         "x": [
          2000,
          2001,
          2002,
          2003,
          2004,
          2005,
          2006,
          2007,
          2008,
          2009,
          2010,
          2011,
          2012,
          2013,
          2014,
          2015,
          2016,
          2017,
          2018,
          2019,
          2020
         ],
         "y": [
          0.5594754601226991,
          0.541479107231919,
          0.5423971500000008,
          0.5305042476970324,
          0.5244885554425227,
          0.5325309230769236,
          0.5200283076923078,
          0.5167938461538473,
          0.5275418925831203,
          0.5071696617346935,
          0.5208951587301589,
          0.4724536787307882,
          0.4627090128534706,
          0.4547411943319834,
          0.4630487780548628,
          0.4320983687943254,
          0.4315320589872012,
          0.4164763112449793,
          0.4479212743699474,
          0.4588176295536167,
          0.5010478078817729
         ]
        },
        {
         "name": "Danciability",
         "type": "scatter",
         "x": [
          2000,
          2001,
          2002,
          2003,
          2004,
          2005,
          2006,
          2007,
          2008,
          2009,
          2010,
          2011,
          2012,
          2013,
          2014,
          2015,
          2016,
          2017,
          2018,
          2019,
          2020
         ],
         "y": [
          0.590918047034764,
          0.5833178553615969,
          0.5761602999999997,
          0.5757633060388944,
          0.5676803662258397,
          0.5722805641025652,
          0.5682301538461539,
          0.5634143589743592,
          0.5791928388746803,
          0.5641903571428577,
          0.5724883432539687,
          0.5528669806643526,
          0.5708818508997433,
          0.5711480263157896,
          0.5899476807980057,
          0.5937740628166152,
          0.6002023928770179,
          0.6122170180722886,
          0.6635004755111744,
          0.6448141097998967,
          0.6929043349753701
         ]
        },
        {
         "name": "Energy",
         "type": "scatter",
         "x": [
          2000,
          2001,
          2002,
          2003,
          2004,
          2005,
          2006,
          2007,
          2008,
          2009,
          2010,
          2011,
          2012,
          2013,
          2014,
          2015,
          2016,
          2017,
          2018,
          2019,
          2020
         ],
         "y": [
          0.6254128323108387,
          0.6269855221945144,
          0.6412697960000012,
          0.6601652610030712,
          0.6488679450661226,
          0.653208511282051,
          0.6503262820512825,
          0.6683047743589737,
          0.6714608207672623,
          0.6707487551020408,
          0.6817778026289684,
          0.6483008934060499,
          0.6565714601542408,
          0.6455968914473688,
          0.6487954437905223,
          0.6270642715298895,
          0.5928552316082347,
          0.5904210208835337,
          0.6024346220161672,
          0.5932240360184717,
          0.6312316354679793
         ]
        },
        {
         "name": "Instrumentalness",
         "type": "scatter",
         "x": [
          2000,
          2001,
          2002,
          2003,
          2004,
          2005,
          2006,
          2007,
          2008,
          2009,
          2010,
          2011,
          2012,
          2013,
          2014,
          2015,
          2016,
          2017,
          2018,
          2019,
          2020
         ],
         "y": [
          0.10116776879345596,
          0.10721401899251867,
          0.08804835031499995,
          0.08304927466734914,
          0.07793403490844357,
          0.09019436118461543,
          0.07770147187692314,
          0.07295726805128197,
          0.0636620903171356,
          0.07587207368367352,
          0.08298056821924611,
          0.10377233216658402,
          0.08520552067866319,
          0.09836505391700387,
          0.07656955483790515,
          0.1067868780547114,
          0.09398438711741793,
          0.09709060906626496,
          0.05421712166904419,
          0.07764024697280643,
          0.016375524305418724
         ]
        },
        {
         "name": "Liveness",
         "type": "scatter",
         "x": [
          2000,
          2001,
          2002,
          2003,
          2004,
          2005,
          2006,
          2007,
          2008,
          2009,
          2010,
          2011,
          2012,
          2013,
          2014,
          2015,
          2016,
          2017,
          2018,
          2019,
          2020
         ],
         "y": [
          0.1976860429447853,
          0.18702563591022486,
          0.1939111999999998,
          0.19697630501535301,
          0.2021994404883014,
          0.19008162564102585,
          0.1882892820512821,
          0.19612656410256424,
          0.19843140664961625,
          0.2052522959183674,
          0.19970064484126995,
          0.20330882498760566,
          0.1897330077120824,
          0.19963081983805714,
          0.1918215960099752,
          0.18885643363728474,
          0.18116989426822505,
          0.1917126004016064,
          0.17632553495007114,
          0.17261641867624464,
          0.1785354187192117
         ]
        },
        {
         "name": "Speechiness",
         "type": "scatter",
         "x": [
          2000,
          2001,
          2002,
          2003,
          2004,
          2005,
          2006,
          2007,
          2008,
          2009,
          2010,
          2011,
          2012,
          2013,
          2014,
          2015,
          2016,
          2017,
          2018,
          2019,
          2020
         ],
         "y": [
          0.08920541922290394,
          0.08918229426433916,
          0.08430759999999995,
          0.09392574206755384,
          0.09423880976602242,
          0.09333369230769203,
          0.08584676923076921,
          0.08434733333333336,
          0.07735636828644507,
          0.08545780612244899,
          0.08103149801587313,
          0.08747927615270201,
          0.08174246786632405,
          0.09384888663967614,
          0.08406054862842896,
          0.09677922998986847,
          0.10431329994435183,
          0.1105364959839356,
          0.12717555872563022,
          0.12104335556695732,
          0.14138369458128058
         ]
        }
       ],
       "layout": {
        "template": {
         "data": {
          "bar": [
           {
            "error_x": {
             "color": "#2a3f5f"
            },
            "error_y": {
             "color": "#2a3f5f"
            },
            "marker": {
             "line": {
              "color": "#E5ECF6",
              "width": 0.5
             },
             "pattern": {
              "fillmode": "overlay",
              "size": 10,
              "solidity": 0.2
             }
            },
            "type": "bar"
           }
          ],
          "barpolar": [
           {
            "marker": {
             "line": {
              "color": "#E5ECF6",
              "width": 0.5
             },
             "pattern": {
              "fillmode": "overlay",
              "size": 10,
              "solidity": 0.2
             }
            },
            "type": "barpolar"
           }
          ],
          "carpet": [
           {
            "aaxis": {
             "endlinecolor": "#2a3f5f",
             "gridcolor": "white",
             "linecolor": "white",
             "minorgridcolor": "white",
             "startlinecolor": "#2a3f5f"
            },
            "baxis": {
             "endlinecolor": "#2a3f5f",
             "gridcolor": "white",
             "linecolor": "white",
             "minorgridcolor": "white",
             "startlinecolor": "#2a3f5f"
            },
            "type": "carpet"
           }
          ],
          "choropleth": [
           {
            "colorbar": {
             "outlinewidth": 0,
             "ticks": ""
            },
            "type": "choropleth"
           }
          ],
          "contour": [
           {
            "colorbar": {
             "outlinewidth": 0,
             "ticks": ""
            },
            "colorscale": [
             [
              0,
              "#0d0887"
             ],
             [
              0.1111111111111111,
              "#46039f"
             ],
             [
              0.2222222222222222,
              "#7201a8"
             ],
             [
              0.3333333333333333,
              "#9c179e"
             ],
             [
              0.4444444444444444,
              "#bd3786"
             ],
             [
              0.5555555555555556,
              "#d8576b"
             ],
             [
              0.6666666666666666,
              "#ed7953"
             ],
             [
              0.7777777777777778,
              "#fb9f3a"
             ],
             [
              0.8888888888888888,
              "#fdca26"
             ],
             [
              1,
              "#f0f921"
             ]
            ],
            "type": "contour"
           }
          ],
          "contourcarpet": [
           {
            "colorbar": {
             "outlinewidth": 0,
             "ticks": ""
            },
            "type": "contourcarpet"
           }
          ],
          "heatmap": [
           {
            "colorbar": {
             "outlinewidth": 0,
             "ticks": ""
            },
            "colorscale": [
             [
              0,
              "#0d0887"
             ],
             [
              0.1111111111111111,
              "#46039f"
             ],
             [
              0.2222222222222222,
              "#7201a8"
             ],
             [
              0.3333333333333333,
              "#9c179e"
             ],
             [
              0.4444444444444444,
              "#bd3786"
             ],
             [
              0.5555555555555556,
              "#d8576b"
             ],
             [
              0.6666666666666666,
              "#ed7953"
             ],
             [
              0.7777777777777778,
              "#fb9f3a"
             ],
             [
              0.8888888888888888,
              "#fdca26"
             ],
             [
              1,
              "#f0f921"
             ]
            ],
            "type": "heatmap"
           }
          ],
          "heatmapgl": [
           {
            "colorbar": {
             "outlinewidth": 0,
             "ticks": ""
            },
            "colorscale": [
             [
              0,
              "#0d0887"
             ],
             [
              0.1111111111111111,
              "#46039f"
             ],
             [
              0.2222222222222222,
              "#7201a8"
             ],
             [
              0.3333333333333333,
              "#9c179e"
             ],
             [
              0.4444444444444444,
              "#bd3786"
             ],
             [
              0.5555555555555556,
              "#d8576b"
             ],
             [
              0.6666666666666666,
              "#ed7953"
             ],
             [
              0.7777777777777778,
              "#fb9f3a"
             ],
             [
              0.8888888888888888,
              "#fdca26"
             ],
             [
              1,
              "#f0f921"
             ]
            ],
            "type": "heatmapgl"
           }
          ],
          "histogram": [
           {
            "marker": {
             "pattern": {
              "fillmode": "overlay",
              "size": 10,
              "solidity": 0.2
             }
            },
            "type": "histogram"
           }
          ],
          "histogram2d": [
           {
            "colorbar": {
             "outlinewidth": 0,
             "ticks": ""
            },
            "colorscale": [
             [
              0,
              "#0d0887"
             ],
             [
              0.1111111111111111,
              "#46039f"
             ],
             [
              0.2222222222222222,
              "#7201a8"
             ],
             [
              0.3333333333333333,
              "#9c179e"
             ],
             [
              0.4444444444444444,
              "#bd3786"
             ],
             [
              0.5555555555555556,
              "#d8576b"
             ],
             [
              0.6666666666666666,
              "#ed7953"
             ],
             [
              0.7777777777777778,
              "#fb9f3a"
             ],
             [
              0.8888888888888888,
              "#fdca26"
             ],
             [
              1,
              "#f0f921"
             ]
            ],
            "type": "histogram2d"
           }
          ],
          "histogram2dcontour": [
           {
            "colorbar": {
             "outlinewidth": 0,
             "ticks": ""
            },
            "colorscale": [
             [
              0,
              "#0d0887"
             ],
             [
              0.1111111111111111,
              "#46039f"
             ],
             [
              0.2222222222222222,
              "#7201a8"
             ],
             [
              0.3333333333333333,
              "#9c179e"
             ],
             [
              0.4444444444444444,
              "#bd3786"
             ],
             [
              0.5555555555555556,
              "#d8576b"
             ],
             [
              0.6666666666666666,
              "#ed7953"
             ],
             [
              0.7777777777777778,
              "#fb9f3a"
             ],
             [
              0.8888888888888888,
              "#fdca26"
             ],
             [
              1,
              "#f0f921"
             ]
            ],
            "type": "histogram2dcontour"
           }
          ],
          "mesh3d": [
           {
            "colorbar": {
             "outlinewidth": 0,
             "ticks": ""
            },
            "type": "mesh3d"
           }
          ],
          "parcoords": [
           {
            "line": {
             "colorbar": {
              "outlinewidth": 0,
              "ticks": ""
             }
            },
            "type": "parcoords"
           }
          ],
          "pie": [
           {
            "automargin": true,
            "type": "pie"
           }
          ],
          "scatter": [
           {
            "fillpattern": {
             "fillmode": "overlay",
             "size": 10,
             "solidity": 0.2
            },
            "type": "scatter"
           }
          ],
          "scatter3d": [
           {
            "line": {
             "colorbar": {
              "outlinewidth": 0,
              "ticks": ""
             }
            },
            "marker": {
             "colorbar": {
              "outlinewidth": 0,
              "ticks": ""
             }
            },
            "type": "scatter3d"
           }
          ],
          "scattercarpet": [
           {
            "marker": {
             "colorbar": {
              "outlinewidth": 0,
              "ticks": ""
             }
            },
            "type": "scattercarpet"
           }
          ],
          "scattergeo": [
           {
            "marker": {
             "colorbar": {
              "outlinewidth": 0,
              "ticks": ""
             }
            },
            "type": "scattergeo"
           }
          ],
          "scattergl": [
           {
            "marker": {
             "colorbar": {
              "outlinewidth": 0,
              "ticks": ""
             }
            },
            "type": "scattergl"
           }
          ],
          "scattermapbox": [
           {
            "marker": {
             "colorbar": {
              "outlinewidth": 0,
              "ticks": ""
             }
            },
            "type": "scattermapbox"
           }
          ],
          "scatterpolar": [
           {
            "marker": {
             "colorbar": {
              "outlinewidth": 0,
              "ticks": ""
             }
            },
            "type": "scatterpolar"
           }
          ],
          "scatterpolargl": [
           {
            "marker": {
             "colorbar": {
              "outlinewidth": 0,
              "ticks": ""
             }
            },
            "type": "scatterpolargl"
           }
          ],
          "scatterternary": [
           {
            "marker": {
             "colorbar": {
              "outlinewidth": 0,
              "ticks": ""
             }
            },
            "type": "scatterternary"
           }
          ],
          "surface": [
           {
            "colorbar": {
             "outlinewidth": 0,
             "ticks": ""
            },
            "colorscale": [
             [
              0,
              "#0d0887"
             ],
             [
              0.1111111111111111,
              "#46039f"
             ],
             [
              0.2222222222222222,
              "#7201a8"
             ],
             [
              0.3333333333333333,
              "#9c179e"
             ],
             [
              0.4444444444444444,
              "#bd3786"
             ],
             [
              0.5555555555555556,
              "#d8576b"
             ],
             [
              0.6666666666666666,
              "#ed7953"
             ],
             [
              0.7777777777777778,
              "#fb9f3a"
             ],
             [
              0.8888888888888888,
              "#fdca26"
             ],
             [
              1,
              "#f0f921"
             ]
            ],
            "type": "surface"
           }
          ],
          "table": [
           {
            "cells": {
             "fill": {
              "color": "#EBF0F8"
             },
             "line": {
              "color": "white"
             }
            },
            "header": {
             "fill": {
              "color": "#C8D4E3"
             },
             "line": {
              "color": "white"
             }
            },
            "type": "table"
           }
          ]
         },
         "layout": {
          "annotationdefaults": {
           "arrowcolor": "#2a3f5f",
           "arrowhead": 0,
           "arrowwidth": 1
          },
          "autotypenumbers": "strict",
          "coloraxis": {
           "colorbar": {
            "outlinewidth": 0,
            "ticks": ""
           }
          },
          "colorscale": {
           "diverging": [
            [
             0,
             "#8e0152"
            ],
            [
             0.1,
             "#c51b7d"
            ],
            [
             0.2,
             "#de77ae"
            ],
            [
             0.3,
             "#f1b6da"
            ],
            [
             0.4,
             "#fde0ef"
            ],
            [
             0.5,
             "#f7f7f7"
            ],
            [
             0.6,
             "#e6f5d0"
            ],
            [
             0.7,
             "#b8e186"
            ],
            [
             0.8,
             "#7fbc41"
            ],
            [
             0.9,
             "#4d9221"
            ],
            [
             1,
             "#276419"
            ]
           ],
           "sequential": [
            [
             0,
             "#0d0887"
            ],
            [
             0.1111111111111111,
             "#46039f"
            ],
            [
             0.2222222222222222,
             "#7201a8"
            ],
            [
             0.3333333333333333,
             "#9c179e"
            ],
            [
             0.4444444444444444,
             "#bd3786"
            ],
            [
             0.5555555555555556,
             "#d8576b"
            ],
            [
             0.6666666666666666,
             "#ed7953"
            ],
            [
             0.7777777777777778,
             "#fb9f3a"
            ],
            [
             0.8888888888888888,
             "#fdca26"
            ],
            [
             1,
             "#f0f921"
            ]
           ],
           "sequentialminus": [
            [
             0,
             "#0d0887"
            ],
            [
             0.1111111111111111,
             "#46039f"
            ],
            [
             0.2222222222222222,
             "#7201a8"
            ],
            [
             0.3333333333333333,
             "#9c179e"
            ],
            [
             0.4444444444444444,
             "#bd3786"
            ],
            [
             0.5555555555555556,
             "#d8576b"
            ],
            [
             0.6666666666666666,
             "#ed7953"
            ],
            [
             0.7777777777777778,
             "#fb9f3a"
            ],
            [
             0.8888888888888888,
             "#fdca26"
            ],
            [
             1,
             "#f0f921"
            ]
           ]
          },
          "colorway": [
           "#636efa",
           "#EF553B",
           "#00cc96",
           "#ab63fa",
           "#FFA15A",
           "#19d3f3",
           "#FF6692",
           "#B6E880",
           "#FF97FF",
           "#FECB52"
          ],
          "font": {
           "color": "#2a3f5f"
          },
          "geo": {
           "bgcolor": "white",
           "lakecolor": "white",
           "landcolor": "#E5ECF6",
           "showlakes": true,
           "showland": true,
           "subunitcolor": "white"
          },
          "hoverlabel": {
           "align": "left"
          },
          "hovermode": "closest",
          "mapbox": {
           "style": "light"
          },
          "paper_bgcolor": "white",
          "plot_bgcolor": "#E5ECF6",
          "polar": {
           "angularaxis": {
            "gridcolor": "white",
            "linecolor": "white",
            "ticks": ""
           },
           "bgcolor": "#E5ECF6",
           "radialaxis": {
            "gridcolor": "white",
            "linecolor": "white",
            "ticks": ""
           }
          },
          "scene": {
           "xaxis": {
            "backgroundcolor": "#E5ECF6",
            "gridcolor": "white",
            "gridwidth": 2,
            "linecolor": "white",
            "showbackground": true,
            "ticks": "",
            "zerolinecolor": "white"
           },
           "yaxis": {
            "backgroundcolor": "#E5ECF6",
            "gridcolor": "white",
            "gridwidth": 2,
            "linecolor": "white",
            "showbackground": true,
            "ticks": "",
            "zerolinecolor": "white"
           },
           "zaxis": {
            "backgroundcolor": "#E5ECF6",
            "gridcolor": "white",
            "gridwidth": 2,
            "linecolor": "white",
            "showbackground": true,
            "ticks": "",
            "zerolinecolor": "white"
           }
          },
          "shapedefaults": {
           "line": {
            "color": "#2a3f5f"
           }
          },
          "ternary": {
           "aaxis": {
            "gridcolor": "white",
            "linecolor": "white",
            "ticks": ""
           },
           "baxis": {
            "gridcolor": "white",
            "linecolor": "white",
            "ticks": ""
           },
           "bgcolor": "#E5ECF6",
           "caxis": {
            "gridcolor": "white",
            "linecolor": "white",
            "ticks": ""
           }
          },
          "title": {
           "x": 0.05
          },
          "xaxis": {
           "automargin": true,
           "gridcolor": "white",
           "linecolor": "white",
           "ticks": "",
           "title": {
            "standoff": 15
           },
           "zerolinecolor": "white",
           "zerolinewidth": 2
          },
          "yaxis": {
           "automargin": true,
           "gridcolor": "white",
           "linecolor": "white",
           "ticks": "",
           "title": {
            "standoff": 15
           },
           "zerolinecolor": "white",
           "zerolinewidth": 2
          }
         }
        }
       }
      }
     },
     "metadata": {},
     "output_type": "display_data"
    }
   ],
   "source": [
    "temp = data_year_2000.toPandas()\n",
    "fig = go.Figure()\n",
    "fig.add_trace(go.Scatter(x=temp['year'], y=temp['acousticness'], name='Acousticness'))\n",
    "fig.add_trace(go.Scatter(x=temp['year'], y=temp['valence'], name='Valence'))\n",
    "fig.add_trace(go.Scatter(x=temp['year'], y=temp['danceability'], name='Danciability'))\n",
    "fig.add_trace(go.Scatter(x=temp['year'], y=temp['energy'], name='Energy'))\n",
    "fig.add_trace(go.Scatter(x=temp['year'], y=temp['instrumentalness'], name='Instrumentalness'))\n",
    "fig.add_trace(go.Scatter(x=temp['year'], y=temp['liveness'], name='Liveness'))\n",
    "fig.add_trace(go.Scatter(x=temp['year'], y=temp['speechiness'], name='Speechiness')).show()"
   ]
  },
  {
   "cell_type": "markdown",
   "metadata": {},
   "source": [
    "### Correlation Matrix"
   ]
  },
  {
   "cell_type": "code",
   "execution_count": 16,
   "metadata": {},
   "outputs": [
    {
     "data": {
      "application/vnd.plotly.v1+json": {
       "config": {
        "plotlyServerURL": "https://plot.ly"
       },
       "data": [
        {
         "coloraxis": "coloraxis",
         "hovertemplate": "x: %{x}<br>y: %{y}<br>color: %{z}<extra></extra>",
         "name": "0",
         "texttemplate": "%{z}",
         "type": "heatmap",
         "x": [
          "year",
          "acousticness",
          "danceability",
          "duration_ms",
          "energy",
          "instrumentalness",
          "liveness",
          "loudness",
          "speechiness",
          "tempo",
          "valence",
          "popularity",
          "key"
         ],
         "xaxis": "x",
         "y": [
          "year",
          "acousticness",
          "danceability",
          "duration_ms",
          "energy",
          "instrumentalness",
          "liveness",
          "loudness",
          "speechiness",
          "tempo",
          "valence",
          "popularity",
          "key"
         ],
         "yaxis": "y",
         "z": [
          [
           1,
           -0.3411159583826981,
           0.6608199386023006,
           -0.7677124784467935,
           -0.4883614976017922,
           -0.3778796163418823,
           -0.5600359793453032,
           0.24481327200034977,
           0.6679407869495613,
           0.135206651286006,
           -0.8475989110150034,
           0.9403224364955638,
           -0.59003208568506
          ],
          [
           -0.3411159583826981,
           1,
           -0.21562914783872839,
           0.07027065889373486,
           -0.5028464016727273,
           0.6000179544161117,
           -0.005278610778445343,
           -0.8384634126764212,
           -0.11507903484724662,
           -0.779129060109222,
           0.017657401281779277,
           -0.15878272118242956,
           0.30112204523201086
          ],
          [
           0.6608199386023006,
           -0.21562914783872839,
           1,
           -0.9174882989904196,
           -0.6300040145063887,
           -0.6365783321457552,
           -0.7937311387338585,
           0.1177493452900591,
           0.9290984292792732,
           0.008636460322801484,
           -0.3339128886804443,
           0.8080907171455811,
           -0.3130172458393562
          ],
          [
           -0.7677124784467935,
           0.07027065889373486,
           -0.9174882989904196,
           1,
           0.7158216074913761,
           0.5408931341064447,
           0.7726846760122201,
           -0.040353826764081446,
           -0.9337595836692876,
           0.049435388491187233,
           0.4998944618939771,
           -0.9211587580397507,
           0.4112955092341246
          ],
          [
           -0.4883614976017922,
           -0.5028464016727273,
           -0.6300040145063887,
           0.7158216074913761,
           1,
           -0.09557373830784033,
           0.7059936616366327,
           0.6163827716194801,
           -0.6879629289427857,
           0.6827348256574154,
           0.5688501869406707,
           -0.6830008647144806,
           0.11853490224047748
          ],
          [
           -0.3778796163418823,
           0.6000179544161117,
           -0.6365783321457552,
           0.5408931341064447,
           -0.09557373830784033,
           1,
           0.34767145702429336,
           -0.738575685509048,
           -0.5356289163845074,
           -0.6735345367211589,
           -0.08676554084668006,
           -0.39967805880699375,
           0.2824279571619284
          ],
          [
           -0.5600359793453032,
           -0.005278610778445343,
           -0.7937311387338585,
           0.7726846760122201,
           0.7059936616366327,
           0.34767145702429336,
           1,
           0.07598100746952816,
           -0.7340833881462239,
           0.18936558013168733,
           0.38466429778551764,
           -0.7202553144289295,
           0.1345806771347886
          ],
          [
           0.24481327200034977,
           -0.8384634126764212,
           0.1177493452900591,
           -0.040353826764081446,
           0.6163827716194801,
           -0.738575685509048,
           0.07598100746952816,
           1,
           0.005313336822696862,
           0.9597996046866653,
           0.11428988275912833,
           0.07272200634495016,
           -0.2990411256697193
          ],
          [
           0.6679407869495613,
           -0.11507903484724662,
           0.9290984292792732,
           -0.9337595836692876,
           -0.6879629289427857,
           -0.5356289163845074,
           -0.7340833881462239,
           0.005313336822696862,
           1,
           -0.0691209252461087,
           -0.41134099161696436,
           0.8300352075638717,
           -0.2949439559626186
          ],
          [
           0.135206651286006,
           -0.779129060109222,
           0.008636460322801484,
           0.049435388491187233,
           0.6827348256574154,
           -0.6735345367211589,
           0.18936558013168733,
           0.9597996046866653,
           -0.0691209252461087,
           1,
           0.2151115193534347,
           -0.03535889516641647,
           -0.2561334077890368
          ],
          [
           -0.8475989110150034,
           0.017657401281779277,
           -0.3339128886804443,
           0.4998944618939771,
           0.5688501869406707,
           -0.08676554084668006,
           0.38466429778551764,
           0.11428988275912833,
           -0.41134099161696436,
           0.2151115193534347,
           1,
           -0.7616832157267148,
           0.384059807659227
          ],
          [
           0.9403224364955638,
           -0.15878272118242956,
           0.8080907171455811,
           -0.9211587580397507,
           -0.6830008647144806,
           -0.39967805880699375,
           -0.7202553144289295,
           0.07272200634495016,
           0.8300352075638717,
           -0.03535889516641647,
           -0.7616832157267148,
           1,
           -0.5339331304034587
          ],
          [
           -0.59003208568506,
           0.30112204523201086,
           -0.3130172458393562,
           0.4112955092341246,
           0.11853490224047748,
           0.2824279571619284,
           0.1345806771347886,
           -0.2990411256697193,
           -0.2949439559626186,
           -0.2561334077890368,
           0.384059807659227,
           -0.5339331304034587,
           1
          ]
         ]
        }
       ],
       "layout": {
        "coloraxis": {
         "colorscale": [
          [
           0,
           "#0d0887"
          ],
          [
           0.1111111111111111,
           "#46039f"
          ],
          [
           0.2222222222222222,
           "#7201a8"
          ],
          [
           0.3333333333333333,
           "#9c179e"
          ],
          [
           0.4444444444444444,
           "#bd3786"
          ],
          [
           0.5555555555555556,
           "#d8576b"
          ],
          [
           0.6666666666666666,
           "#ed7953"
          ],
          [
           0.7777777777777778,
           "#fb9f3a"
          ],
          [
           0.8888888888888888,
           "#fdca26"
          ],
          [
           1,
           "#f0f921"
          ]
         ]
        },
        "margin": {
         "t": 60
        },
        "template": {
         "data": {
          "bar": [
           {
            "error_x": {
             "color": "#2a3f5f"
            },
            "error_y": {
             "color": "#2a3f5f"
            },
            "marker": {
             "line": {
              "color": "#E5ECF6",
              "width": 0.5
             },
             "pattern": {
              "fillmode": "overlay",
              "size": 10,
              "solidity": 0.2
             }
            },
            "type": "bar"
           }
          ],
          "barpolar": [
           {
            "marker": {
             "line": {
              "color": "#E5ECF6",
              "width": 0.5
             },
             "pattern": {
              "fillmode": "overlay",
              "size": 10,
              "solidity": 0.2
             }
            },
            "type": "barpolar"
           }
          ],
          "carpet": [
           {
            "aaxis": {
             "endlinecolor": "#2a3f5f",
             "gridcolor": "white",
             "linecolor": "white",
             "minorgridcolor": "white",
             "startlinecolor": "#2a3f5f"
            },
            "baxis": {
             "endlinecolor": "#2a3f5f",
             "gridcolor": "white",
             "linecolor": "white",
             "minorgridcolor": "white",
             "startlinecolor": "#2a3f5f"
            },
            "type": "carpet"
           }
          ],
          "choropleth": [
           {
            "colorbar": {
             "outlinewidth": 0,
             "ticks": ""
            },
            "type": "choropleth"
           }
          ],
          "contour": [
           {
            "colorbar": {
             "outlinewidth": 0,
             "ticks": ""
            },
            "colorscale": [
             [
              0,
              "#0d0887"
             ],
             [
              0.1111111111111111,
              "#46039f"
             ],
             [
              0.2222222222222222,
              "#7201a8"
             ],
             [
              0.3333333333333333,
              "#9c179e"
             ],
             [
              0.4444444444444444,
              "#bd3786"
             ],
             [
              0.5555555555555556,
              "#d8576b"
             ],
             [
              0.6666666666666666,
              "#ed7953"
             ],
             [
              0.7777777777777778,
              "#fb9f3a"
             ],
             [
              0.8888888888888888,
              "#fdca26"
             ],
             [
              1,
              "#f0f921"
             ]
            ],
            "type": "contour"
           }
          ],
          "contourcarpet": [
           {
            "colorbar": {
             "outlinewidth": 0,
             "ticks": ""
            },
            "type": "contourcarpet"
           }
          ],
          "heatmap": [
           {
            "colorbar": {
             "outlinewidth": 0,
             "ticks": ""
            },
            "colorscale": [
             [
              0,
              "#0d0887"
             ],
             [
              0.1111111111111111,
              "#46039f"
             ],
             [
              0.2222222222222222,
              "#7201a8"
             ],
             [
              0.3333333333333333,
              "#9c179e"
             ],
             [
              0.4444444444444444,
              "#bd3786"
             ],
             [
              0.5555555555555556,
              "#d8576b"
             ],
             [
              0.6666666666666666,
              "#ed7953"
             ],
             [
              0.7777777777777778,
              "#fb9f3a"
             ],
             [
              0.8888888888888888,
              "#fdca26"
             ],
             [
              1,
              "#f0f921"
             ]
            ],
            "type": "heatmap"
           }
          ],
          "heatmapgl": [
           {
            "colorbar": {
             "outlinewidth": 0,
             "ticks": ""
            },
            "colorscale": [
             [
              0,
              "#0d0887"
             ],
             [
              0.1111111111111111,
              "#46039f"
             ],
             [
              0.2222222222222222,
              "#7201a8"
             ],
             [
              0.3333333333333333,
              "#9c179e"
             ],
             [
              0.4444444444444444,
              "#bd3786"
             ],
             [
              0.5555555555555556,
              "#d8576b"
             ],
             [
              0.6666666666666666,
              "#ed7953"
             ],
             [
              0.7777777777777778,
              "#fb9f3a"
             ],
             [
              0.8888888888888888,
              "#fdca26"
             ],
             [
              1,
              "#f0f921"
             ]
            ],
            "type": "heatmapgl"
           }
          ],
          "histogram": [
           {
            "marker": {
             "pattern": {
              "fillmode": "overlay",
              "size": 10,
              "solidity": 0.2
             }
            },
            "type": "histogram"
           }
          ],
          "histogram2d": [
           {
            "colorbar": {
             "outlinewidth": 0,
             "ticks": ""
            },
            "colorscale": [
             [
              0,
              "#0d0887"
             ],
             [
              0.1111111111111111,
              "#46039f"
             ],
             [
              0.2222222222222222,
              "#7201a8"
             ],
             [
              0.3333333333333333,
              "#9c179e"
             ],
             [
              0.4444444444444444,
              "#bd3786"
             ],
             [
              0.5555555555555556,
              "#d8576b"
             ],
             [
              0.6666666666666666,
              "#ed7953"
             ],
             [
              0.7777777777777778,
              "#fb9f3a"
             ],
             [
              0.8888888888888888,
              "#fdca26"
             ],
             [
              1,
              "#f0f921"
             ]
            ],
            "type": "histogram2d"
           }
          ],
          "histogram2dcontour": [
           {
            "colorbar": {
             "outlinewidth": 0,
             "ticks": ""
            },
            "colorscale": [
             [
              0,
              "#0d0887"
             ],
             [
              0.1111111111111111,
              "#46039f"
             ],
             [
              0.2222222222222222,
              "#7201a8"
             ],
             [
              0.3333333333333333,
              "#9c179e"
             ],
             [
              0.4444444444444444,
              "#bd3786"
             ],
             [
              0.5555555555555556,
              "#d8576b"
             ],
             [
              0.6666666666666666,
              "#ed7953"
             ],
             [
              0.7777777777777778,
              "#fb9f3a"
             ],
             [
              0.8888888888888888,
              "#fdca26"
             ],
             [
              1,
              "#f0f921"
             ]
            ],
            "type": "histogram2dcontour"
           }
          ],
          "mesh3d": [
           {
            "colorbar": {
             "outlinewidth": 0,
             "ticks": ""
            },
            "type": "mesh3d"
           }
          ],
          "parcoords": [
           {
            "line": {
             "colorbar": {
              "outlinewidth": 0,
              "ticks": ""
             }
            },
            "type": "parcoords"
           }
          ],
          "pie": [
           {
            "automargin": true,
            "type": "pie"
           }
          ],
          "scatter": [
           {
            "fillpattern": {
             "fillmode": "overlay",
             "size": 10,
             "solidity": 0.2
            },
            "type": "scatter"
           }
          ],
          "scatter3d": [
           {
            "line": {
             "colorbar": {
              "outlinewidth": 0,
              "ticks": ""
             }
            },
            "marker": {
             "colorbar": {
              "outlinewidth": 0,
              "ticks": ""
             }
            },
            "type": "scatter3d"
           }
          ],
          "scattercarpet": [
           {
            "marker": {
             "colorbar": {
              "outlinewidth": 0,
              "ticks": ""
             }
            },
            "type": "scattercarpet"
           }
          ],
          "scattergeo": [
           {
            "marker": {
             "colorbar": {
              "outlinewidth": 0,
              "ticks": ""
             }
            },
            "type": "scattergeo"
           }
          ],
          "scattergl": [
           {
            "marker": {
             "colorbar": {
              "outlinewidth": 0,
              "ticks": ""
             }
            },
            "type": "scattergl"
           }
          ],
          "scattermapbox": [
           {
            "marker": {
             "colorbar": {
              "outlinewidth": 0,
              "ticks": ""
             }
            },
            "type": "scattermapbox"
           }
          ],
          "scatterpolar": [
           {
            "marker": {
             "colorbar": {
              "outlinewidth": 0,
              "ticks": ""
             }
            },
            "type": "scatterpolar"
           }
          ],
          "scatterpolargl": [
           {
            "marker": {
             "colorbar": {
              "outlinewidth": 0,
              "ticks": ""
             }
            },
            "type": "scatterpolargl"
           }
          ],
          "scatterternary": [
           {
            "marker": {
             "colorbar": {
              "outlinewidth": 0,
              "ticks": ""
             }
            },
            "type": "scatterternary"
           }
          ],
          "surface": [
           {
            "colorbar": {
             "outlinewidth": 0,
             "ticks": ""
            },
            "colorscale": [
             [
              0,
              "#0d0887"
             ],
             [
              0.1111111111111111,
              "#46039f"
             ],
             [
              0.2222222222222222,
              "#7201a8"
             ],
             [
              0.3333333333333333,
              "#9c179e"
             ],
             [
              0.4444444444444444,
              "#bd3786"
             ],
             [
              0.5555555555555556,
              "#d8576b"
             ],
             [
              0.6666666666666666,
              "#ed7953"
             ],
             [
              0.7777777777777778,
              "#fb9f3a"
             ],
             [
              0.8888888888888888,
              "#fdca26"
             ],
             [
              1,
              "#f0f921"
             ]
            ],
            "type": "surface"
           }
          ],
          "table": [
           {
            "cells": {
             "fill": {
              "color": "#EBF0F8"
             },
             "line": {
              "color": "white"
             }
            },
            "header": {
             "fill": {
              "color": "#C8D4E3"
             },
             "line": {
              "color": "white"
             }
            },
            "type": "table"
           }
          ]
         },
         "layout": {
          "annotationdefaults": {
           "arrowcolor": "#2a3f5f",
           "arrowhead": 0,
           "arrowwidth": 1
          },
          "autotypenumbers": "strict",
          "coloraxis": {
           "colorbar": {
            "outlinewidth": 0,
            "ticks": ""
           }
          },
          "colorscale": {
           "diverging": [
            [
             0,
             "#8e0152"
            ],
            [
             0.1,
             "#c51b7d"
            ],
            [
             0.2,
             "#de77ae"
            ],
            [
             0.3,
             "#f1b6da"
            ],
            [
             0.4,
             "#fde0ef"
            ],
            [
             0.5,
             "#f7f7f7"
            ],
            [
             0.6,
             "#e6f5d0"
            ],
            [
             0.7,
             "#b8e186"
            ],
            [
             0.8,
             "#7fbc41"
            ],
            [
             0.9,
             "#4d9221"
            ],
            [
             1,
             "#276419"
            ]
           ],
           "sequential": [
            [
             0,
             "#0d0887"
            ],
            [
             0.1111111111111111,
             "#46039f"
            ],
            [
             0.2222222222222222,
             "#7201a8"
            ],
            [
             0.3333333333333333,
             "#9c179e"
            ],
            [
             0.4444444444444444,
             "#bd3786"
            ],
            [
             0.5555555555555556,
             "#d8576b"
            ],
            [
             0.6666666666666666,
             "#ed7953"
            ],
            [
             0.7777777777777778,
             "#fb9f3a"
            ],
            [
             0.8888888888888888,
             "#fdca26"
            ],
            [
             1,
             "#f0f921"
            ]
           ],
           "sequentialminus": [
            [
             0,
             "#0d0887"
            ],
            [
             0.1111111111111111,
             "#46039f"
            ],
            [
             0.2222222222222222,
             "#7201a8"
            ],
            [
             0.3333333333333333,
             "#9c179e"
            ],
            [
             0.4444444444444444,
             "#bd3786"
            ],
            [
             0.5555555555555556,
             "#d8576b"
            ],
            [
             0.6666666666666666,
             "#ed7953"
            ],
            [
             0.7777777777777778,
             "#fb9f3a"
            ],
            [
             0.8888888888888888,
             "#fdca26"
            ],
            [
             1,
             "#f0f921"
            ]
           ]
          },
          "colorway": [
           "#636efa",
           "#EF553B",
           "#00cc96",
           "#ab63fa",
           "#FFA15A",
           "#19d3f3",
           "#FF6692",
           "#B6E880",
           "#FF97FF",
           "#FECB52"
          ],
          "font": {
           "color": "#2a3f5f"
          },
          "geo": {
           "bgcolor": "white",
           "lakecolor": "white",
           "landcolor": "#E5ECF6",
           "showlakes": true,
           "showland": true,
           "subunitcolor": "white"
          },
          "hoverlabel": {
           "align": "left"
          },
          "hovermode": "closest",
          "mapbox": {
           "style": "light"
          },
          "paper_bgcolor": "white",
          "plot_bgcolor": "#E5ECF6",
          "polar": {
           "angularaxis": {
            "gridcolor": "white",
            "linecolor": "white",
            "ticks": ""
           },
           "bgcolor": "#E5ECF6",
           "radialaxis": {
            "gridcolor": "white",
            "linecolor": "white",
            "ticks": ""
           }
          },
          "scene": {
           "xaxis": {
            "backgroundcolor": "#E5ECF6",
            "gridcolor": "white",
            "gridwidth": 2,
            "linecolor": "white",
            "showbackground": true,
            "ticks": "",
            "zerolinecolor": "white"
           },
           "yaxis": {
            "backgroundcolor": "#E5ECF6",
            "gridcolor": "white",
            "gridwidth": 2,
            "linecolor": "white",
            "showbackground": true,
            "ticks": "",
            "zerolinecolor": "white"
           },
           "zaxis": {
            "backgroundcolor": "#E5ECF6",
            "gridcolor": "white",
            "gridwidth": 2,
            "linecolor": "white",
            "showbackground": true,
            "ticks": "",
            "zerolinecolor": "white"
           }
          },
          "shapedefaults": {
           "line": {
            "color": "#2a3f5f"
           }
          },
          "ternary": {
           "aaxis": {
            "gridcolor": "white",
            "linecolor": "white",
            "ticks": ""
           },
           "baxis": {
            "gridcolor": "white",
            "linecolor": "white",
            "ticks": ""
           },
           "bgcolor": "#E5ECF6",
           "caxis": {
            "gridcolor": "white",
            "linecolor": "white",
            "ticks": ""
           }
          },
          "title": {
           "x": 0.05
          },
          "xaxis": {
           "automargin": true,
           "gridcolor": "white",
           "linecolor": "white",
           "ticks": "",
           "title": {
            "standoff": 15
           },
           "zerolinecolor": "white",
           "zerolinewidth": 2
          },
          "yaxis": {
           "automargin": true,
           "gridcolor": "white",
           "linecolor": "white",
           "ticks": "",
           "title": {
            "standoff": 15
           },
           "zerolinecolor": "white",
           "zerolinewidth": 2
          }
         }
        },
        "xaxis": {
         "anchor": "y",
         "constrain": "domain",
         "domain": [
          0,
          1
         ],
         "scaleanchor": "y"
        },
        "yaxis": {
         "anchor": "x",
         "autorange": "reversed",
         "constrain": "domain",
         "domain": [
          0,
          1
         ]
        }
       }
      }
     },
     "metadata": {},
     "output_type": "display_data"
    }
   ],
   "source": [
    "fig = px.imshow(data_year_2000.drop('mode').toPandas().corr(), text_auto=True).show()"
   ]
  },
  {
   "cell_type": "code",
   "execution_count": 17,
   "metadata": {},
   "outputs": [
    {
     "data": {
      "text/html": [
       "<div>\n",
       "<style scoped>\n",
       "    .dataframe tbody tr th:only-of-type {\n",
       "        vertical-align: middle;\n",
       "    }\n",
       "\n",
       "    .dataframe tbody tr th {\n",
       "        vertical-align: top;\n",
       "    }\n",
       "\n",
       "    .dataframe thead th {\n",
       "        text-align: right;\n",
       "    }\n",
       "</style>\n",
       "<table border=\"1\" class=\"dataframe\">\n",
       "  <thead>\n",
       "    <tr style=\"text-align: right;\">\n",
       "      <th></th>\n",
       "      <th>mode</th>\n",
       "      <th>genres</th>\n",
       "      <th>acousticness</th>\n",
       "      <th>danceability</th>\n",
       "      <th>duration_ms</th>\n",
       "      <th>energy</th>\n",
       "      <th>instrumentalness</th>\n",
       "      <th>liveness</th>\n",
       "      <th>loudness</th>\n",
       "      <th>speechiness</th>\n",
       "      <th>tempo</th>\n",
       "      <th>valence</th>\n",
       "      <th>popularity</th>\n",
       "      <th>key</th>\n",
       "    </tr>\n",
       "  </thead>\n",
       "  <tbody>\n",
       "    <tr>\n",
       "      <th>0</th>\n",
       "      <td>1</td>\n",
       "      <td>21st century classical</td>\n",
       "      <td>0.979333</td>\n",
       "      <td>0.162883</td>\n",
       "      <td>1.602977e+05</td>\n",
       "      <td>0.071317</td>\n",
       "      <td>0.606834</td>\n",
       "      <td>0.361600</td>\n",
       "      <td>-31.514333</td>\n",
       "      <td>0.040567</td>\n",
       "      <td>75.336500</td>\n",
       "      <td>0.103783</td>\n",
       "      <td>27.833333</td>\n",
       "      <td>6</td>\n",
       "    </tr>\n",
       "    <tr>\n",
       "      <th>1</th>\n",
       "      <td>1</td>\n",
       "      <td>432hz</td>\n",
       "      <td>0.494780</td>\n",
       "      <td>0.299333</td>\n",
       "      <td>1.048887e+06</td>\n",
       "      <td>0.450678</td>\n",
       "      <td>0.477762</td>\n",
       "      <td>0.131000</td>\n",
       "      <td>-16.854000</td>\n",
       "      <td>0.076817</td>\n",
       "      <td>120.285667</td>\n",
       "      <td>0.221750</td>\n",
       "      <td>52.500000</td>\n",
       "      <td>5</td>\n",
       "    </tr>\n",
       "    <tr>\n",
       "      <th>2</th>\n",
       "      <td>1</td>\n",
       "      <td>8-bit</td>\n",
       "      <td>0.762000</td>\n",
       "      <td>0.712000</td>\n",
       "      <td>1.151770e+05</td>\n",
       "      <td>0.818000</td>\n",
       "      <td>0.876000</td>\n",
       "      <td>0.126000</td>\n",
       "      <td>-9.180000</td>\n",
       "      <td>0.047000</td>\n",
       "      <td>133.444000</td>\n",
       "      <td>0.975000</td>\n",
       "      <td>48.000000</td>\n",
       "      <td>7</td>\n",
       "    </tr>\n",
       "    <tr>\n",
       "      <th>3</th>\n",
       "      <td>1</td>\n",
       "      <td>[]</td>\n",
       "      <td>0.651417</td>\n",
       "      <td>0.529093</td>\n",
       "      <td>2.328809e+05</td>\n",
       "      <td>0.419146</td>\n",
       "      <td>0.205309</td>\n",
       "      <td>0.218696</td>\n",
       "      <td>-12.288965</td>\n",
       "      <td>0.107872</td>\n",
       "      <td>112.857352</td>\n",
       "      <td>0.513604</td>\n",
       "      <td>20.859882</td>\n",
       "      <td>7</td>\n",
       "    </tr>\n",
       "    <tr>\n",
       "      <th>4</th>\n",
       "      <td>1</td>\n",
       "      <td>a cappella</td>\n",
       "      <td>0.676557</td>\n",
       "      <td>0.538961</td>\n",
       "      <td>1.906285e+05</td>\n",
       "      <td>0.316434</td>\n",
       "      <td>0.003003</td>\n",
       "      <td>0.172254</td>\n",
       "      <td>-12.479387</td>\n",
       "      <td>0.082851</td>\n",
       "      <td>112.110362</td>\n",
       "      <td>0.448249</td>\n",
       "      <td>45.820071</td>\n",
       "      <td>7</td>\n",
       "    </tr>\n",
       "    <tr>\n",
       "      <th>5</th>\n",
       "      <td>1</td>\n",
       "      <td>abstract</td>\n",
       "      <td>0.459210</td>\n",
       "      <td>0.516167</td>\n",
       "      <td>3.431965e+05</td>\n",
       "      <td>0.442417</td>\n",
       "      <td>0.849667</td>\n",
       "      <td>0.118067</td>\n",
       "      <td>-15.472083</td>\n",
       "      <td>0.046517</td>\n",
       "      <td>127.885750</td>\n",
       "      <td>0.307325</td>\n",
       "      <td>43.500000</td>\n",
       "      <td>1</td>\n",
       "    </tr>\n",
       "    <tr>\n",
       "      <th>6</th>\n",
       "      <td>1</td>\n",
       "      <td>abstract beats</td>\n",
       "      <td>0.342147</td>\n",
       "      <td>0.623000</td>\n",
       "      <td>2.299362e+05</td>\n",
       "      <td>0.527800</td>\n",
       "      <td>0.333603</td>\n",
       "      <td>0.099653</td>\n",
       "      <td>-7.918000</td>\n",
       "      <td>0.116373</td>\n",
       "      <td>112.413800</td>\n",
       "      <td>0.493507</td>\n",
       "      <td>58.933333</td>\n",
       "      <td>10</td>\n",
       "    </tr>\n",
       "    <tr>\n",
       "      <th>7</th>\n",
       "      <td>1</td>\n",
       "      <td>abstract hip hop</td>\n",
       "      <td>0.243854</td>\n",
       "      <td>0.694571</td>\n",
       "      <td>2.318492e+05</td>\n",
       "      <td>0.646235</td>\n",
       "      <td>0.024231</td>\n",
       "      <td>0.168543</td>\n",
       "      <td>-7.349328</td>\n",
       "      <td>0.214258</td>\n",
       "      <td>108.244987</td>\n",
       "      <td>0.571391</td>\n",
       "      <td>39.790702</td>\n",
       "      <td>2</td>\n",
       "    </tr>\n",
       "    <tr>\n",
       "      <th>8</th>\n",
       "      <td>0</td>\n",
       "      <td>accordeon</td>\n",
       "      <td>0.323000</td>\n",
       "      <td>0.588000</td>\n",
       "      <td>1.640000e+05</td>\n",
       "      <td>0.392000</td>\n",
       "      <td>0.441000</td>\n",
       "      <td>0.079400</td>\n",
       "      <td>-14.899000</td>\n",
       "      <td>0.072700</td>\n",
       "      <td>109.131000</td>\n",
       "      <td>0.709000</td>\n",
       "      <td>39.000000</td>\n",
       "      <td>2</td>\n",
       "    </tr>\n",
       "    <tr>\n",
       "      <th>9</th>\n",
       "      <td>1</td>\n",
       "      <td>accordion</td>\n",
       "      <td>0.446125</td>\n",
       "      <td>0.624812</td>\n",
       "      <td>1.670616e+05</td>\n",
       "      <td>0.373437</td>\n",
       "      <td>0.193738</td>\n",
       "      <td>0.160300</td>\n",
       "      <td>-14.487063</td>\n",
       "      <td>0.078538</td>\n",
       "      <td>112.872438</td>\n",
       "      <td>0.658688</td>\n",
       "      <td>21.937500</td>\n",
       "      <td>2</td>\n",
       "    </tr>\n",
       "  </tbody>\n",
       "</table>\n",
       "</div>"
      ],
      "text/plain": [
       "   mode                  genres  acousticness  danceability   duration_ms  \\\n",
       "0     1  21st century classical      0.979333      0.162883  1.602977e+05   \n",
       "1     1                   432hz      0.494780      0.299333  1.048887e+06   \n",
       "2     1                   8-bit      0.762000      0.712000  1.151770e+05   \n",
       "3     1                      []      0.651417      0.529093  2.328809e+05   \n",
       "4     1              a cappella      0.676557      0.538961  1.906285e+05   \n",
       "5     1                abstract      0.459210      0.516167  3.431965e+05   \n",
       "6     1          abstract beats      0.342147      0.623000  2.299362e+05   \n",
       "7     1        abstract hip hop      0.243854      0.694571  2.318492e+05   \n",
       "8     0               accordeon      0.323000      0.588000  1.640000e+05   \n",
       "9     1               accordion      0.446125      0.624812  1.670616e+05   \n",
       "\n",
       "     energy  instrumentalness  liveness   loudness  speechiness       tempo  \\\n",
       "0  0.071317          0.606834  0.361600 -31.514333     0.040567   75.336500   \n",
       "1  0.450678          0.477762  0.131000 -16.854000     0.076817  120.285667   \n",
       "2  0.818000          0.876000  0.126000  -9.180000     0.047000  133.444000   \n",
       "3  0.419146          0.205309  0.218696 -12.288965     0.107872  112.857352   \n",
       "4  0.316434          0.003003  0.172254 -12.479387     0.082851  112.110362   \n",
       "5  0.442417          0.849667  0.118067 -15.472083     0.046517  127.885750   \n",
       "6  0.527800          0.333603  0.099653  -7.918000     0.116373  112.413800   \n",
       "7  0.646235          0.024231  0.168543  -7.349328     0.214258  108.244987   \n",
       "8  0.392000          0.441000  0.079400 -14.899000     0.072700  109.131000   \n",
       "9  0.373437          0.193738  0.160300 -14.487063     0.078538  112.872438   \n",
       "\n",
       "    valence  popularity  key  \n",
       "0  0.103783   27.833333    6  \n",
       "1  0.221750   52.500000    5  \n",
       "2  0.975000   48.000000    7  \n",
       "3  0.513604   20.859882    7  \n",
       "4  0.448249   45.820071    7  \n",
       "5  0.307325   43.500000    1  \n",
       "6  0.493507   58.933333   10  \n",
       "7  0.571391   39.790702    2  \n",
       "8  0.709000   39.000000    2  \n",
       "9  0.658688   21.937500    2  "
      ]
     },
     "execution_count": 17,
     "metadata": {},
     "output_type": "execute_result"
    }
   ],
   "source": [
    "url_data_genre = 'https://github.com/MpRonald/datasets/raw/main/dados_musicas_genero.csv'\n",
    "spark_session.sparkContext.addFile(url_data_genre)\n",
    "path_data_genre = 'file://' + SparkFiles.get('dados_musicas_genero.csv')\n",
    "data_genre = spark_session.read.csv(path_data_genre, header=True, inferSchema=True)\n",
    "data_genre.limit(10).toPandas()"
   ]
  },
  {
   "cell_type": "code",
   "execution_count": 18,
   "metadata": {},
   "outputs": [
    {
     "data": {
      "text/plain": [
       "(2973, 2973)"
      ]
     },
     "execution_count": 18,
     "metadata": {},
     "output_type": "execute_result"
    }
   ],
   "source": [
    "data_genre.count(), data_genre.select('genres').distinct().count()"
   ]
  },
  {
   "cell_type": "code",
   "execution_count": 19,
   "metadata": {},
   "outputs": [
    {
     "data": {
      "text/plain": [
       "(2973, 14)"
      ]
     },
     "execution_count": 19,
     "metadata": {},
     "output_type": "execute_result"
    }
   ],
   "source": [
    "# shape\n",
    "data_genre.count(), len(data_genre.columns)"
   ]
  },
  {
   "cell_type": "markdown",
   "metadata": {},
   "source": [
    "### PCA and Standard Scale"
   ]
  },
  {
   "cell_type": "code",
   "execution_count": 20,
   "metadata": {},
   "outputs": [
    {
     "data": {
      "text/plain": [
       "['mode',\n",
       " 'genres',\n",
       " 'acousticness',\n",
       " 'danceability',\n",
       " 'duration_ms',\n",
       " 'energy',\n",
       " 'instrumentalness',\n",
       " 'liveness',\n",
       " 'loudness',\n",
       " 'speechiness',\n",
       " 'tempo',\n",
       " 'valence',\n",
       " 'popularity',\n",
       " 'key']"
      ]
     },
     "execution_count": 20,
     "metadata": {},
     "output_type": "execute_result"
    }
   ],
   "source": [
    "X = data_genre.columns\n",
    "X"
   ]
  },
  {
   "cell_type": "code",
   "execution_count": 21,
   "metadata": {},
   "outputs": [
    {
     "data": {
      "text/plain": [
       "['mode',\n",
       " 'acousticness',\n",
       " 'danceability',\n",
       " 'duration_ms',\n",
       " 'energy',\n",
       " 'instrumentalness',\n",
       " 'liveness',\n",
       " 'loudness',\n",
       " 'speechiness',\n",
       " 'tempo',\n",
       " 'valence',\n",
       " 'popularity',\n",
       " 'key']"
      ]
     },
     "execution_count": 21,
     "metadata": {},
     "output_type": "execute_result"
    }
   ],
   "source": [
    "X.remove('genres')\n",
    "X"
   ]
  },
  {
   "cell_type": "code",
   "execution_count": 22,
   "metadata": {},
   "outputs": [],
   "source": [
    "data_genre_vector = VectorAssembler(inputCols=X, outputCol='features')\\\n",
    "                                    .transform(data_genre)\\\n",
    "                                    .select(['features', 'genres'])"
   ]
  },
  {
   "cell_type": "code",
   "execution_count": 23,
   "metadata": {},
   "outputs": [
    {
     "name": "stdout",
     "output_type": "stream",
     "text": [
      "22/09/22 14:59:17 WARN package: Truncated the string representation of a plan since it was too large. This behavior can be adjusted by setting 'spark.sql.debug.maxToStringFields'.\n"
     ]
    },
    {
     "name": "stderr",
     "output_type": "stream",
     "text": [
      "                                                                                \r"
     ]
    },
    {
     "data": {
      "text/html": [
       "<div>\n",
       "<style scoped>\n",
       "    .dataframe tbody tr th:only-of-type {\n",
       "        vertical-align: middle;\n",
       "    }\n",
       "\n",
       "    .dataframe tbody tr th {\n",
       "        vertical-align: top;\n",
       "    }\n",
       "\n",
       "    .dataframe thead th {\n",
       "        text-align: right;\n",
       "    }\n",
       "</style>\n",
       "<table border=\"1\" class=\"dataframe\">\n",
       "  <thead>\n",
       "    <tr style=\"text-align: right;\">\n",
       "      <th></th>\n",
       "      <th>features</th>\n",
       "      <th>genres</th>\n",
       "    </tr>\n",
       "  </thead>\n",
       "  <tbody>\n",
       "    <tr>\n",
       "      <th>0</th>\n",
       "      <td>[1.0, 0.9793333333333332, 0.16288333333333335,...</td>\n",
       "      <td>21st century classical</td>\n",
       "    </tr>\n",
       "    <tr>\n",
       "      <th>1</th>\n",
       "      <td>[1.0, 0.49478, 0.2993333333333333, 1048887.333...</td>\n",
       "      <td>432hz</td>\n",
       "    </tr>\n",
       "    <tr>\n",
       "      <th>2</th>\n",
       "      <td>[1.0, 0.762, 0.7120000000000001, 115177.0, 0.8...</td>\n",
       "      <td>8-bit</td>\n",
       "    </tr>\n",
       "    <tr>\n",
       "      <th>3</th>\n",
       "      <td>[1.0, 0.6514170195595453, 0.5290925603549332, ...</td>\n",
       "      <td>[]</td>\n",
       "    </tr>\n",
       "    <tr>\n",
       "      <th>4</th>\n",
       "      <td>[1.0, 0.676557304985755, 0.5389612464387464, 1...</td>\n",
       "      <td>a cappella</td>\n",
       "    </tr>\n",
       "    <tr>\n",
       "      <th>...</th>\n",
       "      <td>...</td>\n",
       "      <td>...</td>\n",
       "    </tr>\n",
       "    <tr>\n",
       "      <th>2968</th>\n",
       "      <td>[1.0, 0.22262496820571934, 0.547081530483321, ...</td>\n",
       "      <td>zolo</td>\n",
       "    </tr>\n",
       "    <tr>\n",
       "      <th>2969</th>\n",
       "      <td>[0.0, 0.161, 0.863, 206320.0, 0.909, 0.0, 0.10...</td>\n",
       "      <td>zouglou</td>\n",
       "    </tr>\n",
       "    <tr>\n",
       "      <th>2970</th>\n",
       "      <td>[1.0, 0.2632611111111112, 0.7488888888888888, ...</td>\n",
       "      <td>zouk</td>\n",
       "    </tr>\n",
       "    <tr>\n",
       "      <th>2971</th>\n",
       "      <td>[0.0, 0.993, 0.7056666666666666, 198417.333333...</td>\n",
       "      <td>zurich indie</td>\n",
       "    </tr>\n",
       "    <tr>\n",
       "      <th>2972</th>\n",
       "      <td>[1.0, 0.4210384920634921, 0.6294087301587301, ...</td>\n",
       "      <td>zydeco</td>\n",
       "    </tr>\n",
       "  </tbody>\n",
       "</table>\n",
       "<p>2973 rows × 2 columns</p>\n",
       "</div>"
      ],
      "text/plain": [
       "                                               features  \\\n",
       "0     [1.0, 0.9793333333333332, 0.16288333333333335,...   \n",
       "1     [1.0, 0.49478, 0.2993333333333333, 1048887.333...   \n",
       "2     [1.0, 0.762, 0.7120000000000001, 115177.0, 0.8...   \n",
       "3     [1.0, 0.6514170195595453, 0.5290925603549332, ...   \n",
       "4     [1.0, 0.676557304985755, 0.5389612464387464, 1...   \n",
       "...                                                 ...   \n",
       "2968  [1.0, 0.22262496820571934, 0.547081530483321, ...   \n",
       "2969  [0.0, 0.161, 0.863, 206320.0, 0.909, 0.0, 0.10...   \n",
       "2970  [1.0, 0.2632611111111112, 0.7488888888888888, ...   \n",
       "2971  [0.0, 0.993, 0.7056666666666666, 198417.333333...   \n",
       "2972  [1.0, 0.4210384920634921, 0.6294087301587301, ...   \n",
       "\n",
       "                      genres  \n",
       "0     21st century classical  \n",
       "1                      432hz  \n",
       "2                      8-bit  \n",
       "3                         []  \n",
       "4                 a cappella  \n",
       "...                      ...  \n",
       "2968                    zolo  \n",
       "2969                 zouglou  \n",
       "2970                    zouk  \n",
       "2971            zurich indie  \n",
       "2972                  zydeco  \n",
       "\n",
       "[2973 rows x 2 columns]"
      ]
     },
     "execution_count": 23,
     "metadata": {},
     "output_type": "execute_result"
    }
   ],
   "source": [
    "data_genre_vector.toPandas()"
   ]
  },
  {
   "cell_type": "markdown",
   "metadata": {},
   "source": [
    "##### Standard Scale"
   ]
  },
  {
   "cell_type": "code",
   "execution_count": 24,
   "metadata": {},
   "outputs": [
    {
     "name": "stderr",
     "output_type": "stream",
     "text": [
      "                                                                                \r"
     ]
    },
    {
     "data": {
      "text/html": [
       "<div>\n",
       "<style scoped>\n",
       "    .dataframe tbody tr th:only-of-type {\n",
       "        vertical-align: middle;\n",
       "    }\n",
       "\n",
       "    .dataframe tbody tr th {\n",
       "        vertical-align: top;\n",
       "    }\n",
       "\n",
       "    .dataframe thead th {\n",
       "        text-align: right;\n",
       "    }\n",
       "</style>\n",
       "<table border=\"1\" class=\"dataframe\">\n",
       "  <thead>\n",
       "    <tr style=\"text-align: right;\">\n",
       "      <th></th>\n",
       "      <th>features</th>\n",
       "      <th>genres</th>\n",
       "      <th>scaled_features</th>\n",
       "    </tr>\n",
       "  </thead>\n",
       "  <tbody>\n",
       "    <tr>\n",
       "      <th>0</th>\n",
       "      <td>[1.0, 0.9793333333333332, 0.16288333333333335,...</td>\n",
       "      <td>21st century classical</td>\n",
       "      <td>[2.6817483100027903, 3.06270998538775, 1.08107...</td>\n",
       "    </tr>\n",
       "    <tr>\n",
       "      <th>1</th>\n",
       "      <td>[1.0, 0.49478, 0.2993333333333333, 1048887.333...</td>\n",
       "      <td>432hz</td>\n",
       "      <td>[2.6817483100027903, 1.5473461333255456, 1.986...</td>\n",
       "    </tr>\n",
       "    <tr>\n",
       "      <th>2</th>\n",
       "      <td>[1.0, 0.762, 0.7120000000000001, 115177.0, 0.8...</td>\n",
       "      <td>8-bit</td>\n",
       "      <td>[2.6817483100027903, 2.3830343861798493, 4.725...</td>\n",
       "    </tr>\n",
       "    <tr>\n",
       "      <th>3</th>\n",
       "      <td>[1.0, 0.6514170195595453, 0.5290925603549332, ...</td>\n",
       "      <td>[]</td>\n",
       "      <td>[2.6817483100027903, 2.0372036185737374, 3.511...</td>\n",
       "    </tr>\n",
       "    <tr>\n",
       "      <th>4</th>\n",
       "      <td>[1.0, 0.676557304985755, 0.5389612464387464, 1...</td>\n",
       "      <td>a cappella</td>\n",
       "      <td>[2.6817483100027903, 2.1158258818926794, 3.577...</td>\n",
       "    </tr>\n",
       "    <tr>\n",
       "      <th>...</th>\n",
       "      <td>...</td>\n",
       "      <td>...</td>\n",
       "      <td>...</td>\n",
       "    </tr>\n",
       "    <tr>\n",
       "      <th>2968</th>\n",
       "      <td>[1.0, 0.22262496820571934, 0.547081530483321, ...</td>\n",
       "      <td>zolo</td>\n",
       "      <td>[2.6817483100027903, 0.6962243496803475, 3.631...</td>\n",
       "    </tr>\n",
       "    <tr>\n",
       "      <th>2969</th>\n",
       "      <td>[0.0, 0.161, 0.863, 206320.0, 0.909, 0.0, 0.10...</td>\n",
       "      <td>zouglou</td>\n",
       "      <td>[0.0, 0.5035020159776322, 5.727836235891636, 2...</td>\n",
       "    </tr>\n",
       "    <tr>\n",
       "      <th>2970</th>\n",
       "      <td>[1.0, 0.2632611111111112, 0.7488888888888888, ...</td>\n",
       "      <td>zouk</td>\n",
       "      <td>[2.6817483100027903, 0.8233074544904095, 4.970...</td>\n",
       "    </tr>\n",
       "    <tr>\n",
       "      <th>2971</th>\n",
       "      <td>[0.0, 0.993, 0.7056666666666666, 198417.333333...</td>\n",
       "      <td>zurich indie</td>\n",
       "      <td>[0.0, 3.1054503221477563, 4.683595717026879, 2...</td>\n",
       "    </tr>\n",
       "    <tr>\n",
       "      <th>2972</th>\n",
       "      <td>[1.0, 0.4210384920634921, 0.6294087301587301, ...</td>\n",
       "      <td>zydeco</td>\n",
       "      <td>[2.6817483100027903, 1.3167312394916184, 4.177...</td>\n",
       "    </tr>\n",
       "  </tbody>\n",
       "</table>\n",
       "<p>2973 rows × 3 columns</p>\n",
       "</div>"
      ],
      "text/plain": [
       "                                               features  \\\n",
       "0     [1.0, 0.9793333333333332, 0.16288333333333335,...   \n",
       "1     [1.0, 0.49478, 0.2993333333333333, 1048887.333...   \n",
       "2     [1.0, 0.762, 0.7120000000000001, 115177.0, 0.8...   \n",
       "3     [1.0, 0.6514170195595453, 0.5290925603549332, ...   \n",
       "4     [1.0, 0.676557304985755, 0.5389612464387464, 1...   \n",
       "...                                                 ...   \n",
       "2968  [1.0, 0.22262496820571934, 0.547081530483321, ...   \n",
       "2969  [0.0, 0.161, 0.863, 206320.0, 0.909, 0.0, 0.10...   \n",
       "2970  [1.0, 0.2632611111111112, 0.7488888888888888, ...   \n",
       "2971  [0.0, 0.993, 0.7056666666666666, 198417.333333...   \n",
       "2972  [1.0, 0.4210384920634921, 0.6294087301587301, ...   \n",
       "\n",
       "                      genres  \\\n",
       "0     21st century classical   \n",
       "1                      432hz   \n",
       "2                      8-bit   \n",
       "3                         []   \n",
       "4                 a cappella   \n",
       "...                      ...   \n",
       "2968                    zolo   \n",
       "2969                 zouglou   \n",
       "2970                    zouk   \n",
       "2971            zurich indie   \n",
       "2972                  zydeco   \n",
       "\n",
       "                                        scaled_features  \n",
       "0     [2.6817483100027903, 3.06270998538775, 1.08107...  \n",
       "1     [2.6817483100027903, 1.5473461333255456, 1.986...  \n",
       "2     [2.6817483100027903, 2.3830343861798493, 4.725...  \n",
       "3     [2.6817483100027903, 2.0372036185737374, 3.511...  \n",
       "4     [2.6817483100027903, 2.1158258818926794, 3.577...  \n",
       "...                                                 ...  \n",
       "2968  [2.6817483100027903, 0.6962243496803475, 3.631...  \n",
       "2969  [0.0, 0.5035020159776322, 5.727836235891636, 2...  \n",
       "2970  [2.6817483100027903, 0.8233074544904095, 4.970...  \n",
       "2971  [0.0, 3.1054503221477563, 4.683595717026879, 2...  \n",
       "2972  [2.6817483100027903, 1.3167312394916184, 4.177...  \n",
       "\n",
       "[2973 rows x 3 columns]"
      ]
     },
     "execution_count": 24,
     "metadata": {},
     "output_type": "execute_result"
    }
   ],
   "source": [
    "scaler = StandardScaler(inputCol='features', outputCol='scaled_features')\n",
    "scaler_model = scaler.fit(data_genre_vector)\n",
    "data_genre_scaler = scaler_model.transform(data_genre_vector)\n",
    "data_genre_scaler.toPandas()"
   ]
  },
  {
   "cell_type": "markdown",
   "metadata": {},
   "source": [
    "##### PCA"
   ]
  },
  {
   "cell_type": "code",
   "execution_count": 25,
   "metadata": {},
   "outputs": [
    {
     "name": "stderr",
     "output_type": "stream",
     "text": [
      "[Stage 47:>                                                         (0 + 1) / 1]\r"
     ]
    },
    {
     "name": "stdout",
     "output_type": "stream",
     "text": [
      "22/09/22 14:59:25 WARN InstanceBuilder$NativeBLAS: Failed to load implementation from:dev.ludovic.netlib.blas.JNIBLAS\n",
      "22/09/22 14:59:25 WARN InstanceBuilder$NativeBLAS: Failed to load implementation from:dev.ludovic.netlib.blas.ForeignLinkerBLAS\n"
     ]
    },
    {
     "name": "stderr",
     "output_type": "stream",
     "text": [
      "                                                                                \r"
     ]
    },
    {
     "name": "stdout",
     "output_type": "stream",
     "text": [
      "22/09/22 14:59:27 WARN LAPACK: Failed to load implementation from: com.github.fommil.netlib.NativeSystemLAPACK\n",
      "22/09/22 14:59:27 WARN LAPACK: Failed to load implementation from: com.github.fommil.netlib.NativeRefLAPACK\n"
     ]
    }
   ],
   "source": [
    "pca = PCA(k=2, inputCol='scaled_features', outputCol='pca_features')\n",
    "model_pca = pca.fit(data_genre_scaler)\n",
    "data_genre_pca = model_pca.transform(data_genre_scaler)"
   ]
  },
  {
   "cell_type": "code",
   "execution_count": 26,
   "metadata": {},
   "outputs": [
    {
     "data": {
      "text/html": [
       "<div>\n",
       "<style scoped>\n",
       "    .dataframe tbody tr th:only-of-type {\n",
       "        vertical-align: middle;\n",
       "    }\n",
       "\n",
       "    .dataframe tbody tr th {\n",
       "        vertical-align: top;\n",
       "    }\n",
       "\n",
       "    .dataframe thead th {\n",
       "        text-align: right;\n",
       "    }\n",
       "</style>\n",
       "<table border=\"1\" class=\"dataframe\">\n",
       "  <thead>\n",
       "    <tr style=\"text-align: right;\">\n",
       "      <th></th>\n",
       "      <th>features</th>\n",
       "      <th>genres</th>\n",
       "      <th>scaled_features</th>\n",
       "      <th>pca_features</th>\n",
       "    </tr>\n",
       "  </thead>\n",
       "  <tbody>\n",
       "    <tr>\n",
       "      <th>0</th>\n",
       "      <td>[1.0, 0.9793333333333332, 0.16288333333333335,...</td>\n",
       "      <td>21st century classical</td>\n",
       "      <td>[2.6817483100027903, 3.06270998538775, 1.08107...</td>\n",
       "      <td>[2.507095366888567, 0.4381691373769795]</td>\n",
       "    </tr>\n",
       "    <tr>\n",
       "      <th>1</th>\n",
       "      <td>[1.0, 0.49478, 0.2993333333333333, 1048887.333...</td>\n",
       "      <td>432hz</td>\n",
       "      <td>[2.6817483100027903, 1.5473461333255456, 1.986...</td>\n",
       "      <td>[-0.5969679056633482, 4.981612052751348]</td>\n",
       "    </tr>\n",
       "    <tr>\n",
       "      <th>2</th>\n",
       "      <td>[1.0, 0.762, 0.7120000000000001, 115177.0, 0.8...</td>\n",
       "      <td>8-bit</td>\n",
       "      <td>[2.6817483100027903, 2.3830343861798493, 4.725...</td>\n",
       "      <td>[-4.158460276223561, -0.836652508107994]</td>\n",
       "    </tr>\n",
       "    <tr>\n",
       "      <th>3</th>\n",
       "      <td>[1.0, 0.6514170195595453, 0.5290925603549332, ...</td>\n",
       "      <td>[]</td>\n",
       "      <td>[2.6817483100027903, 2.0372036185737374, 3.511...</td>\n",
       "      <td>[-2.387344878512217, -0.4877989015663402]</td>\n",
       "    </tr>\n",
       "    <tr>\n",
       "      <th>4</th>\n",
       "      <td>[1.0, 0.676557304985755, 0.5389612464387464, 1...</td>\n",
       "      <td>a cappella</td>\n",
       "      <td>[2.6817483100027903, 2.1158258818926794, 3.577...</td>\n",
       "      <td>[-2.6501218371679087, -0.5756819768820469]</td>\n",
       "    </tr>\n",
       "    <tr>\n",
       "      <th>...</th>\n",
       "      <td>...</td>\n",
       "      <td>...</td>\n",
       "      <td>...</td>\n",
       "      <td>...</td>\n",
       "    </tr>\n",
       "    <tr>\n",
       "      <th>2968</th>\n",
       "      <td>[1.0, 0.22262496820571934, 0.547081530483321, ...</td>\n",
       "      <td>zolo</td>\n",
       "      <td>[2.6817483100027903, 0.6962243496803475, 3.631...</td>\n",
       "      <td>[-3.9181421935898793, 0.416507018372443]</td>\n",
       "    </tr>\n",
       "    <tr>\n",
       "      <th>2969</th>\n",
       "      <td>[0.0, 0.161, 0.863, 206320.0, 0.909, 0.0, 0.10...</td>\n",
       "      <td>zouglou</td>\n",
       "      <td>[0.0, 0.5035020159776322, 5.727836235891636, 2...</td>\n",
       "      <td>[-6.549271970898396, -0.668292822368372]</td>\n",
       "    </tr>\n",
       "    <tr>\n",
       "      <th>2970</th>\n",
       "      <td>[1.0, 0.2632611111111112, 0.7488888888888888, ...</td>\n",
       "      <td>zouk</td>\n",
       "      <td>[2.6817483100027903, 0.8233074544904095, 4.970...</td>\n",
       "      <td>[-4.192043469635213, -0.6687762062702765]</td>\n",
       "    </tr>\n",
       "    <tr>\n",
       "      <th>2971</th>\n",
       "      <td>[0.0, 0.993, 0.7056666666666666, 198417.333333...</td>\n",
       "      <td>zurich indie</td>\n",
       "      <td>[0.0, 3.1054503221477563, 4.683595717026879, 2...</td>\n",
       "      <td>[-1.7680020287988045, -2.969740528792513]</td>\n",
       "    </tr>\n",
       "    <tr>\n",
       "      <th>2972</th>\n",
       "      <td>[1.0, 0.4210384920634921, 0.6294087301587301, ...</td>\n",
       "      <td>zydeco</td>\n",
       "      <td>[2.6817483100027903, 1.3167312394916184, 4.177...</td>\n",
       "      <td>[-4.426985991810751, -0.9713639496773536]</td>\n",
       "    </tr>\n",
       "  </tbody>\n",
       "</table>\n",
       "<p>2973 rows × 4 columns</p>\n",
       "</div>"
      ],
      "text/plain": [
       "                                               features  \\\n",
       "0     [1.0, 0.9793333333333332, 0.16288333333333335,...   \n",
       "1     [1.0, 0.49478, 0.2993333333333333, 1048887.333...   \n",
       "2     [1.0, 0.762, 0.7120000000000001, 115177.0, 0.8...   \n",
       "3     [1.0, 0.6514170195595453, 0.5290925603549332, ...   \n",
       "4     [1.0, 0.676557304985755, 0.5389612464387464, 1...   \n",
       "...                                                 ...   \n",
       "2968  [1.0, 0.22262496820571934, 0.547081530483321, ...   \n",
       "2969  [0.0, 0.161, 0.863, 206320.0, 0.909, 0.0, 0.10...   \n",
       "2970  [1.0, 0.2632611111111112, 0.7488888888888888, ...   \n",
       "2971  [0.0, 0.993, 0.7056666666666666, 198417.333333...   \n",
       "2972  [1.0, 0.4210384920634921, 0.6294087301587301, ...   \n",
       "\n",
       "                      genres  \\\n",
       "0     21st century classical   \n",
       "1                      432hz   \n",
       "2                      8-bit   \n",
       "3                         []   \n",
       "4                 a cappella   \n",
       "...                      ...   \n",
       "2968                    zolo   \n",
       "2969                 zouglou   \n",
       "2970                    zouk   \n",
       "2971            zurich indie   \n",
       "2972                  zydeco   \n",
       "\n",
       "                                        scaled_features  \\\n",
       "0     [2.6817483100027903, 3.06270998538775, 1.08107...   \n",
       "1     [2.6817483100027903, 1.5473461333255456, 1.986...   \n",
       "2     [2.6817483100027903, 2.3830343861798493, 4.725...   \n",
       "3     [2.6817483100027903, 2.0372036185737374, 3.511...   \n",
       "4     [2.6817483100027903, 2.1158258818926794, 3.577...   \n",
       "...                                                 ...   \n",
       "2968  [2.6817483100027903, 0.6962243496803475, 3.631...   \n",
       "2969  [0.0, 0.5035020159776322, 5.727836235891636, 2...   \n",
       "2970  [2.6817483100027903, 0.8233074544904095, 4.970...   \n",
       "2971  [0.0, 3.1054503221477563, 4.683595717026879, 2...   \n",
       "2972  [2.6817483100027903, 1.3167312394916184, 4.177...   \n",
       "\n",
       "                                    pca_features  \n",
       "0        [2.507095366888567, 0.4381691373769795]  \n",
       "1       [-0.5969679056633482, 4.981612052751348]  \n",
       "2       [-4.158460276223561, -0.836652508107994]  \n",
       "3      [-2.387344878512217, -0.4877989015663402]  \n",
       "4     [-2.6501218371679087, -0.5756819768820469]  \n",
       "...                                          ...  \n",
       "2968    [-3.9181421935898793, 0.416507018372443]  \n",
       "2969    [-6.549271970898396, -0.668292822368372]  \n",
       "2970   [-4.192043469635213, -0.6687762062702765]  \n",
       "2971   [-1.7680020287988045, -2.969740528792513]  \n",
       "2972   [-4.426985991810751, -0.9713639496773536]  \n",
       "\n",
       "[2973 rows x 4 columns]"
      ]
     },
     "execution_count": 26,
     "metadata": {},
     "output_type": "execute_result"
    }
   ],
   "source": [
    "data_genre_pca.toPandas()"
   ]
  },
  {
   "cell_type": "code",
   "execution_count": 27,
   "metadata": {},
   "outputs": [
    {
     "data": {
      "text/html": [
       "<div>\n",
       "<style scoped>\n",
       "    .dataframe tbody tr th:only-of-type {\n",
       "        vertical-align: middle;\n",
       "    }\n",
       "\n",
       "    .dataframe tbody tr th {\n",
       "        vertical-align: top;\n",
       "    }\n",
       "\n",
       "    .dataframe thead th {\n",
       "        text-align: right;\n",
       "    }\n",
       "</style>\n",
       "<table border=\"1\" class=\"dataframe\">\n",
       "  <thead>\n",
       "    <tr style=\"text-align: right;\">\n",
       "      <th></th>\n",
       "      <th>pca_features</th>\n",
       "    </tr>\n",
       "  </thead>\n",
       "  <tbody>\n",
       "    <tr>\n",
       "      <th>0</th>\n",
       "      <td>[2.507095366888567, 0.4381691373769795]</td>\n",
       "    </tr>\n",
       "    <tr>\n",
       "      <th>1</th>\n",
       "      <td>[-0.5969679056633482, 4.981612052751348]</td>\n",
       "    </tr>\n",
       "    <tr>\n",
       "      <th>2</th>\n",
       "      <td>[-4.158460276223561, -0.836652508107994]</td>\n",
       "    </tr>\n",
       "    <tr>\n",
       "      <th>3</th>\n",
       "      <td>[-2.387344878512217, -0.4877989015663402]</td>\n",
       "    </tr>\n",
       "    <tr>\n",
       "      <th>4</th>\n",
       "      <td>[-2.6501218371679087, -0.5756819768820469]</td>\n",
       "    </tr>\n",
       "    <tr>\n",
       "      <th>...</th>\n",
       "      <td>...</td>\n",
       "    </tr>\n",
       "    <tr>\n",
       "      <th>2968</th>\n",
       "      <td>[-3.9181421935898793, 0.416507018372443]</td>\n",
       "    </tr>\n",
       "    <tr>\n",
       "      <th>2969</th>\n",
       "      <td>[-6.549271970898396, -0.668292822368372]</td>\n",
       "    </tr>\n",
       "    <tr>\n",
       "      <th>2970</th>\n",
       "      <td>[-4.192043469635213, -0.6687762062702765]</td>\n",
       "    </tr>\n",
       "    <tr>\n",
       "      <th>2971</th>\n",
       "      <td>[-1.7680020287988045, -2.969740528792513]</td>\n",
       "    </tr>\n",
       "    <tr>\n",
       "      <th>2972</th>\n",
       "      <td>[-4.426985991810751, -0.9713639496773536]</td>\n",
       "    </tr>\n",
       "  </tbody>\n",
       "</table>\n",
       "<p>2973 rows × 1 columns</p>\n",
       "</div>"
      ],
      "text/plain": [
       "                                    pca_features\n",
       "0        [2.507095366888567, 0.4381691373769795]\n",
       "1       [-0.5969679056633482, 4.981612052751348]\n",
       "2       [-4.158460276223561, -0.836652508107994]\n",
       "3      [-2.387344878512217, -0.4877989015663402]\n",
       "4     [-2.6501218371679087, -0.5756819768820469]\n",
       "...                                          ...\n",
       "2968    [-3.9181421935898793, 0.416507018372443]\n",
       "2969    [-6.549271970898396, -0.668292822368372]\n",
       "2970   [-4.192043469635213, -0.6687762062702765]\n",
       "2971   [-1.7680020287988045, -2.969740528792513]\n",
       "2972   [-4.426985991810751, -0.9713639496773536]\n",
       "\n",
       "[2973 rows x 1 columns]"
      ]
     },
     "execution_count": 27,
     "metadata": {},
     "output_type": "execute_result"
    }
   ],
   "source": [
    "data_genre_pca.select('pca_features').toPandas()"
   ]
  },
  {
   "cell_type": "markdown",
   "metadata": {},
   "source": [
    "### Pipeline"
   ]
  },
  {
   "cell_type": "code",
   "execution_count": 35,
   "metadata": {},
   "outputs": [
    {
     "name": "stderr",
     "output_type": "stream",
     "text": [
      "                                                                                \r"
     ]
    },
    {
     "data": {
      "text/html": [
       "<div>\n",
       "<style scoped>\n",
       "    .dataframe tbody tr th:only-of-type {\n",
       "        vertical-align: middle;\n",
       "    }\n",
       "\n",
       "    .dataframe tbody tr th {\n",
       "        vertical-align: top;\n",
       "    }\n",
       "\n",
       "    .dataframe thead th {\n",
       "        text-align: right;\n",
       "    }\n",
       "</style>\n",
       "<table border=\"1\" class=\"dataframe\">\n",
       "  <thead>\n",
       "    <tr style=\"text-align: right;\">\n",
       "      <th></th>\n",
       "      <th>mode</th>\n",
       "      <th>genres</th>\n",
       "      <th>acousticness</th>\n",
       "      <th>danceability</th>\n",
       "      <th>duration_ms</th>\n",
       "      <th>energy</th>\n",
       "      <th>instrumentalness</th>\n",
       "      <th>liveness</th>\n",
       "      <th>loudness</th>\n",
       "      <th>speechiness</th>\n",
       "      <th>tempo</th>\n",
       "      <th>valence</th>\n",
       "      <th>popularity</th>\n",
       "      <th>key</th>\n",
       "      <th>features</th>\n",
       "      <th>scaled_features</th>\n",
       "      <th>pca_features</th>\n",
       "    </tr>\n",
       "  </thead>\n",
       "  <tbody>\n",
       "    <tr>\n",
       "      <th>0</th>\n",
       "      <td>1</td>\n",
       "      <td>21st century classical</td>\n",
       "      <td>0.979333</td>\n",
       "      <td>0.162883</td>\n",
       "      <td>1.602977e+05</td>\n",
       "      <td>0.071317</td>\n",
       "      <td>0.606834</td>\n",
       "      <td>0.361600</td>\n",
       "      <td>-31.514333</td>\n",
       "      <td>0.040567</td>\n",
       "      <td>75.336500</td>\n",
       "      <td>0.103783</td>\n",
       "      <td>27.833333</td>\n",
       "      <td>6</td>\n",
       "      <td>[1.0, 0.9793333333333332, 0.16288333333333335,...</td>\n",
       "      <td>[2.6817483100027903, 3.06270998538775, 1.08107...</td>\n",
       "      <td>[2.507095366888567, 0.4381691373769795]</td>\n",
       "    </tr>\n",
       "    <tr>\n",
       "      <th>1</th>\n",
       "      <td>1</td>\n",
       "      <td>432hz</td>\n",
       "      <td>0.494780</td>\n",
       "      <td>0.299333</td>\n",
       "      <td>1.048887e+06</td>\n",
       "      <td>0.450678</td>\n",
       "      <td>0.477762</td>\n",
       "      <td>0.131000</td>\n",
       "      <td>-16.854000</td>\n",
       "      <td>0.076817</td>\n",
       "      <td>120.285667</td>\n",
       "      <td>0.221750</td>\n",
       "      <td>52.500000</td>\n",
       "      <td>5</td>\n",
       "      <td>[1.0, 0.49478, 0.2993333333333333, 1048887.333...</td>\n",
       "      <td>[2.6817483100027903, 1.5473461333255456, 1.986...</td>\n",
       "      <td>[-0.5969679056633482, 4.981612052751348]</td>\n",
       "    </tr>\n",
       "    <tr>\n",
       "      <th>2</th>\n",
       "      <td>1</td>\n",
       "      <td>8-bit</td>\n",
       "      <td>0.762000</td>\n",
       "      <td>0.712000</td>\n",
       "      <td>1.151770e+05</td>\n",
       "      <td>0.818000</td>\n",
       "      <td>0.876000</td>\n",
       "      <td>0.126000</td>\n",
       "      <td>-9.180000</td>\n",
       "      <td>0.047000</td>\n",
       "      <td>133.444000</td>\n",
       "      <td>0.975000</td>\n",
       "      <td>48.000000</td>\n",
       "      <td>7</td>\n",
       "      <td>[1.0, 0.762, 0.7120000000000001, 115177.0, 0.8...</td>\n",
       "      <td>[2.6817483100027903, 2.3830343861798493, 4.725...</td>\n",
       "      <td>[-4.158460276223561, -0.836652508107994]</td>\n",
       "    </tr>\n",
       "    <tr>\n",
       "      <th>3</th>\n",
       "      <td>1</td>\n",
       "      <td>[]</td>\n",
       "      <td>0.651417</td>\n",
       "      <td>0.529093</td>\n",
       "      <td>2.328809e+05</td>\n",
       "      <td>0.419146</td>\n",
       "      <td>0.205309</td>\n",
       "      <td>0.218696</td>\n",
       "      <td>-12.288965</td>\n",
       "      <td>0.107872</td>\n",
       "      <td>112.857352</td>\n",
       "      <td>0.513604</td>\n",
       "      <td>20.859882</td>\n",
       "      <td>7</td>\n",
       "      <td>[1.0, 0.6514170195595453, 0.5290925603549332, ...</td>\n",
       "      <td>[2.6817483100027903, 2.0372036185737374, 3.511...</td>\n",
       "      <td>[-2.387344878512217, -0.4877989015663402]</td>\n",
       "    </tr>\n",
       "    <tr>\n",
       "      <th>4</th>\n",
       "      <td>1</td>\n",
       "      <td>a cappella</td>\n",
       "      <td>0.676557</td>\n",
       "      <td>0.538961</td>\n",
       "      <td>1.906285e+05</td>\n",
       "      <td>0.316434</td>\n",
       "      <td>0.003003</td>\n",
       "      <td>0.172254</td>\n",
       "      <td>-12.479387</td>\n",
       "      <td>0.082851</td>\n",
       "      <td>112.110362</td>\n",
       "      <td>0.448249</td>\n",
       "      <td>45.820071</td>\n",
       "      <td>7</td>\n",
       "      <td>[1.0, 0.676557304985755, 0.5389612464387464, 1...</td>\n",
       "      <td>[2.6817483100027903, 2.1158258818926794, 3.577...</td>\n",
       "      <td>[-2.6501218371679087, -0.5756819768820469]</td>\n",
       "    </tr>\n",
       "    <tr>\n",
       "      <th>5</th>\n",
       "      <td>1</td>\n",
       "      <td>abstract</td>\n",
       "      <td>0.459210</td>\n",
       "      <td>0.516167</td>\n",
       "      <td>3.431965e+05</td>\n",
       "      <td>0.442417</td>\n",
       "      <td>0.849667</td>\n",
       "      <td>0.118067</td>\n",
       "      <td>-15.472083</td>\n",
       "      <td>0.046517</td>\n",
       "      <td>127.885750</td>\n",
       "      <td>0.307325</td>\n",
       "      <td>43.500000</td>\n",
       "      <td>1</td>\n",
       "      <td>[1.0, 0.45921, 0.5161666666666667, 343196.5, 0...</td>\n",
       "      <td>[2.6817483100027903, 1.4361065885533446, 3.425...</td>\n",
       "      <td>[-1.4965091203367626, 1.8644183183717793]</td>\n",
       "    </tr>\n",
       "    <tr>\n",
       "      <th>6</th>\n",
       "      <td>1</td>\n",
       "      <td>abstract beats</td>\n",
       "      <td>0.342147</td>\n",
       "      <td>0.623000</td>\n",
       "      <td>2.299362e+05</td>\n",
       "      <td>0.527800</td>\n",
       "      <td>0.333603</td>\n",
       "      <td>0.099653</td>\n",
       "      <td>-7.918000</td>\n",
       "      <td>0.116373</td>\n",
       "      <td>112.413800</td>\n",
       "      <td>0.493507</td>\n",
       "      <td>58.933333</td>\n",
       "      <td>10</td>\n",
       "      <td>[1.0, 0.3421466666666667, 0.623, 229936.2, 0.5...</td>\n",
       "      <td>[2.6817483100027903, 1.0700095430229417, 4.134...</td>\n",
       "      <td>[-3.9235207721573238, 0.2851835002352837]</td>\n",
       "    </tr>\n",
       "    <tr>\n",
       "      <th>7</th>\n",
       "      <td>1</td>\n",
       "      <td>abstract hip hop</td>\n",
       "      <td>0.243854</td>\n",
       "      <td>0.694571</td>\n",
       "      <td>2.318492e+05</td>\n",
       "      <td>0.646235</td>\n",
       "      <td>0.024231</td>\n",
       "      <td>0.168543</td>\n",
       "      <td>-7.349328</td>\n",
       "      <td>0.214258</td>\n",
       "      <td>108.244987</td>\n",
       "      <td>0.571391</td>\n",
       "      <td>39.790702</td>\n",
       "      <td>2</td>\n",
       "      <td>[1.0, 0.2438540633608816, 0.6945709366391184, ...</td>\n",
       "      <td>[2.6817483100027903, 0.762614984512678, 4.6099...</td>\n",
       "      <td>[-4.611011109831115, -0.6783790472312371]</td>\n",
       "    </tr>\n",
       "    <tr>\n",
       "      <th>8</th>\n",
       "      <td>0</td>\n",
       "      <td>accordeon</td>\n",
       "      <td>0.323000</td>\n",
       "      <td>0.588000</td>\n",
       "      <td>1.640000e+05</td>\n",
       "      <td>0.392000</td>\n",
       "      <td>0.441000</td>\n",
       "      <td>0.079400</td>\n",
       "      <td>-14.899000</td>\n",
       "      <td>0.072700</td>\n",
       "      <td>109.131000</td>\n",
       "      <td>0.709000</td>\n",
       "      <td>39.000000</td>\n",
       "      <td>2</td>\n",
       "      <td>[0.0, 0.32299999999999995, 0.588, 164000.0, 0....</td>\n",
       "      <td>[0.0, 1.010131373669411, 3.902627701858959, 1....</td>\n",
       "      <td>[-2.8376900630842297, -0.5712993716580516]</td>\n",
       "    </tr>\n",
       "    <tr>\n",
       "      <th>9</th>\n",
       "      <td>1</td>\n",
       "      <td>accordion</td>\n",
       "      <td>0.446125</td>\n",
       "      <td>0.624812</td>\n",
       "      <td>1.670616e+05</td>\n",
       "      <td>0.373437</td>\n",
       "      <td>0.193738</td>\n",
       "      <td>0.160300</td>\n",
       "      <td>-14.487063</td>\n",
       "      <td>0.078538</td>\n",
       "      <td>112.872438</td>\n",
       "      <td>0.658688</td>\n",
       "      <td>21.937500</td>\n",
       "      <td>2</td>\n",
       "      <td>[1.0, 0.446125, 0.6248125, 167061.5625, 0.3734...</td>\n",
       "      <td>[2.6817483100027903, 1.395185322223734, 4.1469...</td>\n",
       "      <td>[-2.706690139892783, -1.2593788079708297]</td>\n",
       "    </tr>\n",
       "  </tbody>\n",
       "</table>\n",
       "</div>"
      ],
      "text/plain": [
       "   mode                  genres  acousticness  danceability   duration_ms  \\\n",
       "0     1  21st century classical      0.979333      0.162883  1.602977e+05   \n",
       "1     1                   432hz      0.494780      0.299333  1.048887e+06   \n",
       "2     1                   8-bit      0.762000      0.712000  1.151770e+05   \n",
       "3     1                      []      0.651417      0.529093  2.328809e+05   \n",
       "4     1              a cappella      0.676557      0.538961  1.906285e+05   \n",
       "5     1                abstract      0.459210      0.516167  3.431965e+05   \n",
       "6     1          abstract beats      0.342147      0.623000  2.299362e+05   \n",
       "7     1        abstract hip hop      0.243854      0.694571  2.318492e+05   \n",
       "8     0               accordeon      0.323000      0.588000  1.640000e+05   \n",
       "9     1               accordion      0.446125      0.624812  1.670616e+05   \n",
       "\n",
       "     energy  instrumentalness  liveness   loudness  speechiness       tempo  \\\n",
       "0  0.071317          0.606834  0.361600 -31.514333     0.040567   75.336500   \n",
       "1  0.450678          0.477762  0.131000 -16.854000     0.076817  120.285667   \n",
       "2  0.818000          0.876000  0.126000  -9.180000     0.047000  133.444000   \n",
       "3  0.419146          0.205309  0.218696 -12.288965     0.107872  112.857352   \n",
       "4  0.316434          0.003003  0.172254 -12.479387     0.082851  112.110362   \n",
       "5  0.442417          0.849667  0.118067 -15.472083     0.046517  127.885750   \n",
       "6  0.527800          0.333603  0.099653  -7.918000     0.116373  112.413800   \n",
       "7  0.646235          0.024231  0.168543  -7.349328     0.214258  108.244987   \n",
       "8  0.392000          0.441000  0.079400 -14.899000     0.072700  109.131000   \n",
       "9  0.373437          0.193738  0.160300 -14.487063     0.078538  112.872438   \n",
       "\n",
       "    valence  popularity  key  \\\n",
       "0  0.103783   27.833333    6   \n",
       "1  0.221750   52.500000    5   \n",
       "2  0.975000   48.000000    7   \n",
       "3  0.513604   20.859882    7   \n",
       "4  0.448249   45.820071    7   \n",
       "5  0.307325   43.500000    1   \n",
       "6  0.493507   58.933333   10   \n",
       "7  0.571391   39.790702    2   \n",
       "8  0.709000   39.000000    2   \n",
       "9  0.658688   21.937500    2   \n",
       "\n",
       "                                            features  \\\n",
       "0  [1.0, 0.9793333333333332, 0.16288333333333335,...   \n",
       "1  [1.0, 0.49478, 0.2993333333333333, 1048887.333...   \n",
       "2  [1.0, 0.762, 0.7120000000000001, 115177.0, 0.8...   \n",
       "3  [1.0, 0.6514170195595453, 0.5290925603549332, ...   \n",
       "4  [1.0, 0.676557304985755, 0.5389612464387464, 1...   \n",
       "5  [1.0, 0.45921, 0.5161666666666667, 343196.5, 0...   \n",
       "6  [1.0, 0.3421466666666667, 0.623, 229936.2, 0.5...   \n",
       "7  [1.0, 0.2438540633608816, 0.6945709366391184, ...   \n",
       "8  [0.0, 0.32299999999999995, 0.588, 164000.0, 0....   \n",
       "9  [1.0, 0.446125, 0.6248125, 167061.5625, 0.3734...   \n",
       "\n",
       "                                     scaled_features  \\\n",
       "0  [2.6817483100027903, 3.06270998538775, 1.08107...   \n",
       "1  [2.6817483100027903, 1.5473461333255456, 1.986...   \n",
       "2  [2.6817483100027903, 2.3830343861798493, 4.725...   \n",
       "3  [2.6817483100027903, 2.0372036185737374, 3.511...   \n",
       "4  [2.6817483100027903, 2.1158258818926794, 3.577...   \n",
       "5  [2.6817483100027903, 1.4361065885533446, 3.425...   \n",
       "6  [2.6817483100027903, 1.0700095430229417, 4.134...   \n",
       "7  [2.6817483100027903, 0.762614984512678, 4.6099...   \n",
       "8  [0.0, 1.010131373669411, 3.902627701858959, 1....   \n",
       "9  [2.6817483100027903, 1.395185322223734, 4.1469...   \n",
       "\n",
       "                                 pca_features  \n",
       "0     [2.507095366888567, 0.4381691373769795]  \n",
       "1    [-0.5969679056633482, 4.981612052751348]  \n",
       "2    [-4.158460276223561, -0.836652508107994]  \n",
       "3   [-2.387344878512217, -0.4877989015663402]  \n",
       "4  [-2.6501218371679087, -0.5756819768820469]  \n",
       "5   [-1.4965091203367626, 1.8644183183717793]  \n",
       "6   [-3.9235207721573238, 0.2851835002352837]  \n",
       "7   [-4.611011109831115, -0.6783790472312371]  \n",
       "8  [-2.8376900630842297, -0.5712993716580516]  \n",
       "9   [-2.706690139892783, -1.2593788079708297]  "
      ]
     },
     "execution_count": 35,
     "metadata": {},
     "output_type": "execute_result"
    }
   ],
   "source": [
    "pca_pipeline = Pipeline(\n",
    "    stages=[VectorAssembler(inputCols=X, outputCol='features'),\n",
    "    StandardScaler(inputCol='features', outputCol='scaled_features'),\n",
    "    PCA(k=2, inputCol='scaled_features', outputCol='pca_features')])\n",
    "\n",
    "# adjust pipeline\n",
    "pca_pipeline_model = pca_pipeline.fit(data_genre)\n",
    "\n",
    "# transform\n",
    "data_genre_pca = pca_pipeline_model.transform(data_genre)\n",
    "\n",
    "data_genre_pca.limit(10).toPandas()"
   ]
  },
  {
   "cell_type": "code",
   "execution_count": 36,
   "metadata": {},
   "outputs": [
    {
     "data": {
      "text/html": [
       "<div>\n",
       "<style scoped>\n",
       "    .dataframe tbody tr th:only-of-type {\n",
       "        vertical-align: middle;\n",
       "    }\n",
       "\n",
       "    .dataframe tbody tr th {\n",
       "        vertical-align: top;\n",
       "    }\n",
       "\n",
       "    .dataframe thead th {\n",
       "        text-align: right;\n",
       "    }\n",
       "</style>\n",
       "<table border=\"1\" class=\"dataframe\">\n",
       "  <thead>\n",
       "    <tr style=\"text-align: right;\">\n",
       "      <th></th>\n",
       "      <th>pca_features</th>\n",
       "    </tr>\n",
       "  </thead>\n",
       "  <tbody>\n",
       "    <tr>\n",
       "      <th>0</th>\n",
       "      <td>[2.507095366888567, 0.4381691373769795]</td>\n",
       "    </tr>\n",
       "    <tr>\n",
       "      <th>1</th>\n",
       "      <td>[-0.5969679056633482, 4.981612052751348]</td>\n",
       "    </tr>\n",
       "    <tr>\n",
       "      <th>2</th>\n",
       "      <td>[-4.158460276223561, -0.836652508107994]</td>\n",
       "    </tr>\n",
       "    <tr>\n",
       "      <th>3</th>\n",
       "      <td>[-2.387344878512217, -0.4877989015663402]</td>\n",
       "    </tr>\n",
       "    <tr>\n",
       "      <th>4</th>\n",
       "      <td>[-2.6501218371679087, -0.5756819768820469]</td>\n",
       "    </tr>\n",
       "    <tr>\n",
       "      <th>...</th>\n",
       "      <td>...</td>\n",
       "    </tr>\n",
       "    <tr>\n",
       "      <th>2968</th>\n",
       "      <td>[-3.9181421935898793, 0.416507018372443]</td>\n",
       "    </tr>\n",
       "    <tr>\n",
       "      <th>2969</th>\n",
       "      <td>[-6.549271970898396, -0.668292822368372]</td>\n",
       "    </tr>\n",
       "    <tr>\n",
       "      <th>2970</th>\n",
       "      <td>[-4.192043469635213, -0.6687762062702765]</td>\n",
       "    </tr>\n",
       "    <tr>\n",
       "      <th>2971</th>\n",
       "      <td>[-1.7680020287988045, -2.969740528792513]</td>\n",
       "    </tr>\n",
       "    <tr>\n",
       "      <th>2972</th>\n",
       "      <td>[-4.426985991810751, -0.9713639496773536]</td>\n",
       "    </tr>\n",
       "  </tbody>\n",
       "</table>\n",
       "<p>2973 rows × 1 columns</p>\n",
       "</div>"
      ],
      "text/plain": [
       "                                    pca_features\n",
       "0        [2.507095366888567, 0.4381691373769795]\n",
       "1       [-0.5969679056633482, 4.981612052751348]\n",
       "2       [-4.158460276223561, -0.836652508107994]\n",
       "3      [-2.387344878512217, -0.4877989015663402]\n",
       "4     [-2.6501218371679087, -0.5756819768820469]\n",
       "...                                          ...\n",
       "2968    [-3.9181421935898793, 0.416507018372443]\n",
       "2969    [-6.549271970898396, -0.668292822368372]\n",
       "2970   [-4.192043469635213, -0.6687762062702765]\n",
       "2971   [-1.7680020287988045, -2.969740528792513]\n",
       "2972   [-4.426985991810751, -0.9713639496773536]\n",
       "\n",
       "[2973 rows x 1 columns]"
      ]
     },
     "execution_count": 36,
     "metadata": {},
     "output_type": "execute_result"
    }
   ],
   "source": [
    "data_genre_pca.select('pca_features').toPandas()"
   ]
  },
  {
   "cell_type": "code",
   "execution_count": null,
   "metadata": {},
   "outputs": [],
   "source": []
  }
 ],
 "metadata": {
  "kernelspec": {
   "display_name": "Python 3.8.10 64-bit",
   "language": "python",
   "name": "python3"
  },
  "language_info": {
   "codemirror_mode": {
    "name": "ipython",
    "version": 3
   },
   "file_extension": ".py",
   "mimetype": "text/x-python",
   "name": "python",
   "nbconvert_exporter": "python",
   "pygments_lexer": "ipython3",
   "version": "3.8.10"
  },
  "orig_nbformat": 4,
  "vscode": {
   "interpreter": {
    "hash": "916dbcbb3f70747c44a77c7bcd40155683ae19c65e1c03b4aa3499c5328201f1"
   }
  }
 },
 "nbformat": 4,
 "nbformat_minor": 2
}
