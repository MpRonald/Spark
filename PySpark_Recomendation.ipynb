{
 "cells": [
  {
   "cell_type": "markdown",
   "metadata": {},
   "source": [
    "### Configuration Spark"
   ]
  },
  {
   "cell_type": "code",
   "execution_count": 56,
   "metadata": {},
   "outputs": [
    {
     "data": {
      "text/plain": [
       "'3.3.0'"
      ]
     },
     "execution_count": 56,
     "metadata": {},
     "output_type": "execute_result"
    }
   ],
   "source": [
    "import pyspark\n",
    "pyspark.__version__"
   ]
  },
  {
   "cell_type": "code",
   "execution_count": 57,
   "metadata": {},
   "outputs": [],
   "source": [
    "from pyspark.sql import SparkSession, functions as f\n",
    "from pyspark import SparkFiles\n",
    "import plotly.express as px"
   ]
  },
  {
   "cell_type": "code",
   "execution_count": 58,
   "metadata": {},
   "outputs": [],
   "source": [
    "# create section\n",
    "spark_session = SparkSession.builder.appName('PySpark Recomendation').getOrCreate()"
   ]
  },
  {
   "cell_type": "markdown",
   "metadata": {},
   "source": [
    "### Loading Dataset"
   ]
  },
  {
   "cell_type": "code",
   "execution_count": 59,
   "metadata": {},
   "outputs": [
    {
     "name": "stdout",
     "output_type": "stream",
     "text": [
      "22/09/22 10:53:24 WARN SparkContext: The path https://github.com/MpRonald/datasets/blob/main/dados_musicas.csv?raw=true has been added already. Overwriting of added paths is not supported in the current version.\n"
     ]
    },
    {
     "data": {
      "text/html": [
       "<div>\n",
       "<style scoped>\n",
       "    .dataframe tbody tr th:only-of-type {\n",
       "        vertical-align: middle;\n",
       "    }\n",
       "\n",
       "    .dataframe tbody tr th {\n",
       "        vertical-align: top;\n",
       "    }\n",
       "\n",
       "    .dataframe thead th {\n",
       "        text-align: right;\n",
       "    }\n",
       "</style>\n",
       "<table border=\"1\" class=\"dataframe\">\n",
       "  <thead>\n",
       "    <tr style=\"text-align: right;\">\n",
       "      <th></th>\n",
       "      <th>valence</th>\n",
       "      <th>year</th>\n",
       "      <th>acousticness</th>\n",
       "      <th>artists</th>\n",
       "      <th>danceability</th>\n",
       "      <th>duration_ms</th>\n",
       "      <th>energy</th>\n",
       "      <th>explicit</th>\n",
       "      <th>id</th>\n",
       "      <th>instrumentalness</th>\n",
       "      <th>key</th>\n",
       "      <th>liveness</th>\n",
       "      <th>loudness</th>\n",
       "      <th>mode</th>\n",
       "      <th>name</th>\n",
       "      <th>popularity</th>\n",
       "      <th>speechiness</th>\n",
       "      <th>tempo</th>\n",
       "      <th>artists_song</th>\n",
       "    </tr>\n",
       "  </thead>\n",
       "  <tbody>\n",
       "    <tr>\n",
       "      <th>0</th>\n",
       "      <td>0.285</td>\n",
       "      <td>2000</td>\n",
       "      <td>0.002390</td>\n",
       "      <td>Coldplay</td>\n",
       "      <td>0.429</td>\n",
       "      <td>266773</td>\n",
       "      <td>0.661</td>\n",
       "      <td>0</td>\n",
       "      <td>3AJwUDP919kvQ9QcozQPxg</td>\n",
       "      <td>0.000121</td>\n",
       "      <td>11</td>\n",
       "      <td>0.2340</td>\n",
       "      <td>-7.227</td>\n",
       "      <td>1</td>\n",
       "      <td>Yellow</td>\n",
       "      <td>84</td>\n",
       "      <td>0.0281</td>\n",
       "      <td>173.372</td>\n",
       "      <td>Coldplay - Yellow</td>\n",
       "    </tr>\n",
       "    <tr>\n",
       "      <th>1</th>\n",
       "      <td>0.613</td>\n",
       "      <td>2000</td>\n",
       "      <td>0.143000</td>\n",
       "      <td>OutKast</td>\n",
       "      <td>0.843</td>\n",
       "      <td>270507</td>\n",
       "      <td>0.806</td>\n",
       "      <td>1</td>\n",
       "      <td>0I3q5fE6wg7LIfHGngUTnV</td>\n",
       "      <td>0.000000</td>\n",
       "      <td>4</td>\n",
       "      <td>0.0771</td>\n",
       "      <td>-5.946</td>\n",
       "      <td>0</td>\n",
       "      <td>Ms. Jackson</td>\n",
       "      <td>80</td>\n",
       "      <td>0.2690</td>\n",
       "      <td>94.948</td>\n",
       "      <td>OutKast - Ms. Jackson</td>\n",
       "    </tr>\n",
       "    <tr>\n",
       "      <th>2</th>\n",
       "      <td>0.400</td>\n",
       "      <td>2000</td>\n",
       "      <td>0.009580</td>\n",
       "      <td>Linkin Park</td>\n",
       "      <td>0.556</td>\n",
       "      <td>216880</td>\n",
       "      <td>0.864</td>\n",
       "      <td>0</td>\n",
       "      <td>60a0Rd6pjrkxjPbaKzXjfq</td>\n",
       "      <td>0.000000</td>\n",
       "      <td>3</td>\n",
       "      <td>0.2090</td>\n",
       "      <td>-5.870</td>\n",
       "      <td>0</td>\n",
       "      <td>In the End</td>\n",
       "      <td>84</td>\n",
       "      <td>0.0584</td>\n",
       "      <td>105.143</td>\n",
       "      <td>Linkin Park - In the End</td>\n",
       "    </tr>\n",
       "    <tr>\n",
       "      <th>3</th>\n",
       "      <td>0.543</td>\n",
       "      <td>2000</td>\n",
       "      <td>0.006640</td>\n",
       "      <td>3 Doors Down</td>\n",
       "      <td>0.545</td>\n",
       "      <td>233933</td>\n",
       "      <td>0.865</td>\n",
       "      <td>0</td>\n",
       "      <td>6ZOBP3NvffbU4SZcrnt1k6</td>\n",
       "      <td>0.000011</td>\n",
       "      <td>11</td>\n",
       "      <td>0.1680</td>\n",
       "      <td>-5.708</td>\n",
       "      <td>0</td>\n",
       "      <td>Kryptonite</td>\n",
       "      <td>78</td>\n",
       "      <td>0.0286</td>\n",
       "      <td>99.009</td>\n",
       "      <td>3 Doors Down - Kryptonite</td>\n",
       "    </tr>\n",
       "    <tr>\n",
       "      <th>4</th>\n",
       "      <td>0.760</td>\n",
       "      <td>2000</td>\n",
       "      <td>0.030200</td>\n",
       "      <td>Eminem</td>\n",
       "      <td>0.949</td>\n",
       "      <td>284200</td>\n",
       "      <td>0.661</td>\n",
       "      <td>1</td>\n",
       "      <td>3yfqSUWxFvZELEM4PmlwIR</td>\n",
       "      <td>0.000000</td>\n",
       "      <td>5</td>\n",
       "      <td>0.0454</td>\n",
       "      <td>-4.244</td>\n",
       "      <td>0</td>\n",
       "      <td>The Real Slim Shady</td>\n",
       "      <td>80</td>\n",
       "      <td>0.0572</td>\n",
       "      <td>104.504</td>\n",
       "      <td>Eminem - The Real Slim Shady</td>\n",
       "    </tr>\n",
       "    <tr>\n",
       "      <th>5</th>\n",
       "      <td>0.941</td>\n",
       "      <td>2000</td>\n",
       "      <td>0.000996</td>\n",
       "      <td>Disturbed</td>\n",
       "      <td>0.695</td>\n",
       "      <td>279213</td>\n",
       "      <td>0.876</td>\n",
       "      <td>1</td>\n",
       "      <td>40rvBMQizxkIqnjPdEWY1v</td>\n",
       "      <td>0.000007</td>\n",
       "      <td>3</td>\n",
       "      <td>0.1060</td>\n",
       "      <td>-4.262</td>\n",
       "      <td>0</td>\n",
       "      <td>Down with the Sickness</td>\n",
       "      <td>76</td>\n",
       "      <td>0.0553</td>\n",
       "      <td>89.954</td>\n",
       "      <td>Disturbed - Down with the Sickness</td>\n",
       "    </tr>\n",
       "    <tr>\n",
       "      <th>6</th>\n",
       "      <td>0.722</td>\n",
       "      <td>2000</td>\n",
       "      <td>0.061600</td>\n",
       "      <td>Nelly</td>\n",
       "      <td>0.850</td>\n",
       "      <td>291782</td>\n",
       "      <td>0.700</td>\n",
       "      <td>1</td>\n",
       "      <td>3Gf5nttwcX9aaSQXRWidEZ</td>\n",
       "      <td>0.000002</td>\n",
       "      <td>7</td>\n",
       "      <td>0.2440</td>\n",
       "      <td>-6.490</td>\n",
       "      <td>1</td>\n",
       "      <td>Ride Wit Me</td>\n",
       "      <td>74</td>\n",
       "      <td>0.0478</td>\n",
       "      <td>101.875</td>\n",
       "      <td>Nelly - Ride Wit Me</td>\n",
       "    </tr>\n",
       "    <tr>\n",
       "      <th>7</th>\n",
       "      <td>0.507</td>\n",
       "      <td>2000</td>\n",
       "      <td>0.037100</td>\n",
       "      <td>Eminem</td>\n",
       "      <td>0.780</td>\n",
       "      <td>404107</td>\n",
       "      <td>0.768</td>\n",
       "      <td>1</td>\n",
       "      <td>3UmaczJpikHgJFyBTAJVoz</td>\n",
       "      <td>0.000002</td>\n",
       "      <td>6</td>\n",
       "      <td>0.5180</td>\n",
       "      <td>-4.325</td>\n",
       "      <td>0</td>\n",
       "      <td>Stan</td>\n",
       "      <td>78</td>\n",
       "      <td>0.2380</td>\n",
       "      <td>80.063</td>\n",
       "      <td>Eminem - Stan</td>\n",
       "    </tr>\n",
       "    <tr>\n",
       "      <th>8</th>\n",
       "      <td>0.861</td>\n",
       "      <td>2000</td>\n",
       "      <td>0.031000</td>\n",
       "      <td>*NSYNC</td>\n",
       "      <td>0.610</td>\n",
       "      <td>200400</td>\n",
       "      <td>0.926</td>\n",
       "      <td>0</td>\n",
       "      <td>62bOmKYxYg7dhrC6gH9vFn</td>\n",
       "      <td>0.001200</td>\n",
       "      <td>8</td>\n",
       "      <td>0.0821</td>\n",
       "      <td>-4.843</td>\n",
       "      <td>0</td>\n",
       "      <td>Bye Bye Bye</td>\n",
       "      <td>71</td>\n",
       "      <td>0.0479</td>\n",
       "      <td>172.638</td>\n",
       "      <td>*NSYNC - Bye Bye Bye</td>\n",
       "    </tr>\n",
       "    <tr>\n",
       "      <th>9</th>\n",
       "      <td>0.894</td>\n",
       "      <td>2000</td>\n",
       "      <td>0.300000</td>\n",
       "      <td>Britney Spears</td>\n",
       "      <td>0.751</td>\n",
       "      <td>211160</td>\n",
       "      <td>0.834</td>\n",
       "      <td>0</td>\n",
       "      <td>6naxalmIoLFWR0siv8dnQQ</td>\n",
       "      <td>0.000018</td>\n",
       "      <td>1</td>\n",
       "      <td>0.3550</td>\n",
       "      <td>-5.444</td>\n",
       "      <td>0</td>\n",
       "      <td>Oops!...I Did It Again</td>\n",
       "      <td>78</td>\n",
       "      <td>0.0437</td>\n",
       "      <td>95.053</td>\n",
       "      <td>Britney Spears - Oops!...I Did It Again</td>\n",
       "    </tr>\n",
       "    <tr>\n",
       "      <th>10</th>\n",
       "      <td>0.165</td>\n",
       "      <td>2000</td>\n",
       "      <td>0.748000</td>\n",
       "      <td>Coldplay</td>\n",
       "      <td>0.371</td>\n",
       "      <td>227093</td>\n",
       "      <td>0.268</td>\n",
       "      <td>0</td>\n",
       "      <td>7D0RhFcb3CrfPuTJ0obrod</td>\n",
       "      <td>0.051700</td>\n",
       "      <td>1</td>\n",
       "      <td>0.1040</td>\n",
       "      <td>-10.506</td>\n",
       "      <td>1</td>\n",
       "      <td>Sparks</td>\n",
       "      <td>73</td>\n",
       "      <td>0.0281</td>\n",
       "      <td>102.617</td>\n",
       "      <td>Coldplay - Sparks</td>\n",
       "    </tr>\n",
       "    <tr>\n",
       "      <th>11</th>\n",
       "      <td>0.538</td>\n",
       "      <td>2000</td>\n",
       "      <td>0.001400</td>\n",
       "      <td>Linkin Park</td>\n",
       "      <td>0.492</td>\n",
       "      <td>157333</td>\n",
       "      <td>0.969</td>\n",
       "      <td>0</td>\n",
       "      <td>3K4HG9evC7dg3N0R9cYqk4</td>\n",
       "      <td>0.000001</td>\n",
       "      <td>9</td>\n",
       "      <td>0.0787</td>\n",
       "      <td>-4.419</td>\n",
       "      <td>1</td>\n",
       "      <td>One Step Closer</td>\n",
       "      <td>76</td>\n",
       "      <td>0.0491</td>\n",
       "      <td>95.136</td>\n",
       "      <td>Linkin Park - One Step Closer</td>\n",
       "    </tr>\n",
       "    <tr>\n",
       "      <th>12</th>\n",
       "      <td>0.654</td>\n",
       "      <td>2000</td>\n",
       "      <td>0.056100</td>\n",
       "      <td>Shaggy</td>\n",
       "      <td>0.853</td>\n",
       "      <td>227600</td>\n",
       "      <td>0.606</td>\n",
       "      <td>0</td>\n",
       "      <td>3WkibOpDF7cQ5xntM1epyf</td>\n",
       "      <td>0.000000</td>\n",
       "      <td>0</td>\n",
       "      <td>0.3130</td>\n",
       "      <td>-4.596</td>\n",
       "      <td>1</td>\n",
       "      <td>It Wasn't Me</td>\n",
       "      <td>76</td>\n",
       "      <td>0.0713</td>\n",
       "      <td>94.759</td>\n",
       "      <td>Shaggy - It Wasn't Me</td>\n",
       "    </tr>\n",
       "    <tr>\n",
       "      <th>13</th>\n",
       "      <td>0.565</td>\n",
       "      <td>2000</td>\n",
       "      <td>0.006890</td>\n",
       "      <td>Nelly</td>\n",
       "      <td>0.865</td>\n",
       "      <td>287000</td>\n",
       "      <td>0.664</td>\n",
       "      <td>1</td>\n",
       "      <td>3wMUvT6eIw2L5cZFG1yH9j</td>\n",
       "      <td>0.000000</td>\n",
       "      <td>2</td>\n",
       "      <td>0.1420</td>\n",
       "      <td>-6.822</td>\n",
       "      <td>1</td>\n",
       "      <td>Country Grammar (Hot Shit)</td>\n",
       "      <td>70</td>\n",
       "      <td>0.1080</td>\n",
       "      <td>162.831</td>\n",
       "      <td>Nelly - Country Grammar (Hot Shit)</td>\n",
       "    </tr>\n",
       "    <tr>\n",
       "      <th>14</th>\n",
       "      <td>0.532</td>\n",
       "      <td>2000</td>\n",
       "      <td>0.011200</td>\n",
       "      <td>The Beatles</td>\n",
       "      <td>0.386</td>\n",
       "      <td>425653</td>\n",
       "      <td>0.607</td>\n",
       "      <td>0</td>\n",
       "      <td>0aym2LBJBk9DAYuHHutrIl</td>\n",
       "      <td>0.000014</td>\n",
       "      <td>10</td>\n",
       "      <td>0.0880</td>\n",
       "      <td>-7.700</td>\n",
       "      <td>1</td>\n",
       "      <td>Hey Jude - Remastered 2015</td>\n",
       "      <td>76</td>\n",
       "      <td>0.0261</td>\n",
       "      <td>147.207</td>\n",
       "      <td>The Beatles - Hey Jude - Remastered 2015</td>\n",
       "    </tr>\n",
       "    <tr>\n",
       "      <th>15</th>\n",
       "      <td>0.866</td>\n",
       "      <td>2000</td>\n",
       "      <td>0.386000</td>\n",
       "      <td>The Beatles</td>\n",
       "      <td>0.490</td>\n",
       "      <td>145747</td>\n",
       "      <td>0.715</td>\n",
       "      <td>0</td>\n",
       "      <td>4pbG9SUmWIvsROVLF0zF9s</td>\n",
       "      <td>0.000000</td>\n",
       "      <td>7</td>\n",
       "      <td>0.3110</td>\n",
       "      <td>-5.549</td>\n",
       "      <td>1</td>\n",
       "      <td>I Want To Hold Your Hand - Remastered 2015</td>\n",
       "      <td>73</td>\n",
       "      <td>0.0476</td>\n",
       "      <td>130.726</td>\n",
       "      <td>The Beatles - I Want To Hold Your Hand - Remas...</td>\n",
       "    </tr>\n",
       "    <tr>\n",
       "      <th>16</th>\n",
       "      <td>0.435</td>\n",
       "      <td>2000</td>\n",
       "      <td>0.001180</td>\n",
       "      <td>Lifehouse</td>\n",
       "      <td>0.541</td>\n",
       "      <td>216067</td>\n",
       "      <td>0.864</td>\n",
       "      <td>0</td>\n",
       "      <td>0wqOReZDnrefefEsrIGeR4</td>\n",
       "      <td>0.000000</td>\n",
       "      <td>1</td>\n",
       "      <td>0.0896</td>\n",
       "      <td>-4.915</td>\n",
       "      <td>1</td>\n",
       "      <td>Hanging By A Moment</td>\n",
       "      <td>65</td>\n",
       "      <td>0.0357</td>\n",
       "      <td>124.557</td>\n",
       "      <td>Lifehouse - Hanging By A Moment</td>\n",
       "    </tr>\n",
       "    <tr>\n",
       "      <th>17</th>\n",
       "      <td>0.299</td>\n",
       "      <td>2000</td>\n",
       "      <td>0.046600</td>\n",
       "      <td>Linkin Park</td>\n",
       "      <td>0.580</td>\n",
       "      <td>208960</td>\n",
       "      <td>0.702</td>\n",
       "      <td>0</td>\n",
       "      <td>57BrRMwf9LrcmuOsyGilwr</td>\n",
       "      <td>0.000003</td>\n",
       "      <td>4</td>\n",
       "      <td>0.5360</td>\n",
       "      <td>-5.565</td>\n",
       "      <td>1</td>\n",
       "      <td>Crawling</td>\n",
       "      <td>73</td>\n",
       "      <td>0.0337</td>\n",
       "      <td>105.076</td>\n",
       "      <td>Linkin Park - Crawling</td>\n",
       "    </tr>\n",
       "    <tr>\n",
       "      <th>18</th>\n",
       "      <td>0.915</td>\n",
       "      <td>2000</td>\n",
       "      <td>0.028100</td>\n",
       "      <td>OutKast</td>\n",
       "      <td>0.725</td>\n",
       "      <td>240027</td>\n",
       "      <td>0.640</td>\n",
       "      <td>1</td>\n",
       "      <td>6glsMWIMIxQ4BedzLqGVi4</td>\n",
       "      <td>0.000000</td>\n",
       "      <td>5</td>\n",
       "      <td>0.0990</td>\n",
       "      <td>-7.905</td>\n",
       "      <td>0</td>\n",
       "      <td>So Fresh, So Clean</td>\n",
       "      <td>68</td>\n",
       "      <td>0.3320</td>\n",
       "      <td>166.028</td>\n",
       "      <td>OutKast - So Fresh, So Clean</td>\n",
       "    </tr>\n",
       "    <tr>\n",
       "      <th>19</th>\n",
       "      <td>0.885</td>\n",
       "      <td>2000</td>\n",
       "      <td>0.627000</td>\n",
       "      <td>Sam Cooke</td>\n",
       "      <td>0.691</td>\n",
       "      <td>125440</td>\n",
       "      <td>0.507</td>\n",
       "      <td>0</td>\n",
       "      <td>2g2GkH3vZHk4lWzBjgQ6nY</td>\n",
       "      <td>0.000000</td>\n",
       "      <td>11</td>\n",
       "      <td>0.4570</td>\n",
       "      <td>-10.230</td>\n",
       "      <td>1</td>\n",
       "      <td>(What A) Wonderful World</td>\n",
       "      <td>72</td>\n",
       "      <td>0.0343</td>\n",
       "      <td>128.518</td>\n",
       "      <td>Sam Cooke - (What A) Wonderful World</td>\n",
       "    </tr>\n",
       "  </tbody>\n",
       "</table>\n",
       "</div>"
      ],
      "text/plain": [
       "    valence  year  acousticness         artists  danceability  duration_ms  \\\n",
       "0     0.285  2000      0.002390        Coldplay         0.429       266773   \n",
       "1     0.613  2000      0.143000         OutKast         0.843       270507   \n",
       "2     0.400  2000      0.009580     Linkin Park         0.556       216880   \n",
       "3     0.543  2000      0.006640    3 Doors Down         0.545       233933   \n",
       "4     0.760  2000      0.030200          Eminem         0.949       284200   \n",
       "5     0.941  2000      0.000996       Disturbed         0.695       279213   \n",
       "6     0.722  2000      0.061600           Nelly         0.850       291782   \n",
       "7     0.507  2000      0.037100          Eminem         0.780       404107   \n",
       "8     0.861  2000      0.031000          *NSYNC         0.610       200400   \n",
       "9     0.894  2000      0.300000  Britney Spears         0.751       211160   \n",
       "10    0.165  2000      0.748000        Coldplay         0.371       227093   \n",
       "11    0.538  2000      0.001400     Linkin Park         0.492       157333   \n",
       "12    0.654  2000      0.056100          Shaggy         0.853       227600   \n",
       "13    0.565  2000      0.006890           Nelly         0.865       287000   \n",
       "14    0.532  2000      0.011200     The Beatles         0.386       425653   \n",
       "15    0.866  2000      0.386000     The Beatles         0.490       145747   \n",
       "16    0.435  2000      0.001180       Lifehouse         0.541       216067   \n",
       "17    0.299  2000      0.046600     Linkin Park         0.580       208960   \n",
       "18    0.915  2000      0.028100         OutKast         0.725       240027   \n",
       "19    0.885  2000      0.627000       Sam Cooke         0.691       125440   \n",
       "\n",
       "    energy  explicit                      id  instrumentalness  key  liveness  \\\n",
       "0    0.661         0  3AJwUDP919kvQ9QcozQPxg          0.000121   11    0.2340   \n",
       "1    0.806         1  0I3q5fE6wg7LIfHGngUTnV          0.000000    4    0.0771   \n",
       "2    0.864         0  60a0Rd6pjrkxjPbaKzXjfq          0.000000    3    0.2090   \n",
       "3    0.865         0  6ZOBP3NvffbU4SZcrnt1k6          0.000011   11    0.1680   \n",
       "4    0.661         1  3yfqSUWxFvZELEM4PmlwIR          0.000000    5    0.0454   \n",
       "5    0.876         1  40rvBMQizxkIqnjPdEWY1v          0.000007    3    0.1060   \n",
       "6    0.700         1  3Gf5nttwcX9aaSQXRWidEZ          0.000002    7    0.2440   \n",
       "7    0.768         1  3UmaczJpikHgJFyBTAJVoz          0.000002    6    0.5180   \n",
       "8    0.926         0  62bOmKYxYg7dhrC6gH9vFn          0.001200    8    0.0821   \n",
       "9    0.834         0  6naxalmIoLFWR0siv8dnQQ          0.000018    1    0.3550   \n",
       "10   0.268         0  7D0RhFcb3CrfPuTJ0obrod          0.051700    1    0.1040   \n",
       "11   0.969         0  3K4HG9evC7dg3N0R9cYqk4          0.000001    9    0.0787   \n",
       "12   0.606         0  3WkibOpDF7cQ5xntM1epyf          0.000000    0    0.3130   \n",
       "13   0.664         1  3wMUvT6eIw2L5cZFG1yH9j          0.000000    2    0.1420   \n",
       "14   0.607         0  0aym2LBJBk9DAYuHHutrIl          0.000014   10    0.0880   \n",
       "15   0.715         0  4pbG9SUmWIvsROVLF0zF9s          0.000000    7    0.3110   \n",
       "16   0.864         0  0wqOReZDnrefefEsrIGeR4          0.000000    1    0.0896   \n",
       "17   0.702         0  57BrRMwf9LrcmuOsyGilwr          0.000003    4    0.5360   \n",
       "18   0.640         1  6glsMWIMIxQ4BedzLqGVi4          0.000000    5    0.0990   \n",
       "19   0.507         0  2g2GkH3vZHk4lWzBjgQ6nY          0.000000   11    0.4570   \n",
       "\n",
       "    loudness  mode                                        name  popularity  \\\n",
       "0     -7.227     1                                      Yellow          84   \n",
       "1     -5.946     0                                 Ms. Jackson          80   \n",
       "2     -5.870     0                                  In the End          84   \n",
       "3     -5.708     0                                  Kryptonite          78   \n",
       "4     -4.244     0                         The Real Slim Shady          80   \n",
       "5     -4.262     0                      Down with the Sickness          76   \n",
       "6     -6.490     1                                 Ride Wit Me          74   \n",
       "7     -4.325     0                                        Stan          78   \n",
       "8     -4.843     0                                 Bye Bye Bye          71   \n",
       "9     -5.444     0                      Oops!...I Did It Again          78   \n",
       "10   -10.506     1                                      Sparks          73   \n",
       "11    -4.419     1                             One Step Closer          76   \n",
       "12    -4.596     1                                It Wasn't Me          76   \n",
       "13    -6.822     1                  Country Grammar (Hot Shit)          70   \n",
       "14    -7.700     1                  Hey Jude - Remastered 2015          76   \n",
       "15    -5.549     1  I Want To Hold Your Hand - Remastered 2015          73   \n",
       "16    -4.915     1                         Hanging By A Moment          65   \n",
       "17    -5.565     1                                    Crawling          73   \n",
       "18    -7.905     0                          So Fresh, So Clean          68   \n",
       "19   -10.230     1                    (What A) Wonderful World          72   \n",
       "\n",
       "    speechiness    tempo                                       artists_song  \n",
       "0        0.0281  173.372                                  Coldplay - Yellow  \n",
       "1        0.2690   94.948                              OutKast - Ms. Jackson  \n",
       "2        0.0584  105.143                           Linkin Park - In the End  \n",
       "3        0.0286   99.009                          3 Doors Down - Kryptonite  \n",
       "4        0.0572  104.504                       Eminem - The Real Slim Shady  \n",
       "5        0.0553   89.954                 Disturbed - Down with the Sickness  \n",
       "6        0.0478  101.875                                Nelly - Ride Wit Me  \n",
       "7        0.2380   80.063                                      Eminem - Stan  \n",
       "8        0.0479  172.638                               *NSYNC - Bye Bye Bye  \n",
       "9        0.0437   95.053            Britney Spears - Oops!...I Did It Again  \n",
       "10       0.0281  102.617                                  Coldplay - Sparks  \n",
       "11       0.0491   95.136                      Linkin Park - One Step Closer  \n",
       "12       0.0713   94.759                              Shaggy - It Wasn't Me  \n",
       "13       0.1080  162.831                 Nelly - Country Grammar (Hot Shit)  \n",
       "14       0.0261  147.207           The Beatles - Hey Jude - Remastered 2015  \n",
       "15       0.0476  130.726  The Beatles - I Want To Hold Your Hand - Remas...  \n",
       "16       0.0357  124.557                    Lifehouse - Hanging By A Moment  \n",
       "17       0.0337  105.076                             Linkin Park - Crawling  \n",
       "18       0.3320  166.028                       OutKast - So Fresh, So Clean  \n",
       "19       0.0343  128.518               Sam Cooke - (What A) Wonderful World  "
      ]
     },
     "execution_count": 59,
     "metadata": {},
     "output_type": "execute_result"
    }
   ],
   "source": [
    "url_data = 'https://github.com/MpRonald/datasets/blob/main/dados_musicas.csv?raw=true'\n",
    "spark_session.sparkContext.addFile(url_data)\n",
    "path_data = 'file://' + SparkFiles.get('dados_musicas.csv')\n",
    "data = spark_session.read.csv(path_data, header=True, sep=';', inferSchema=True)\n",
    "data.limit(20).toPandas()"
   ]
  },
  {
   "cell_type": "code",
   "execution_count": 60,
   "metadata": {},
   "outputs": [
    {
     "name": "stdout",
     "output_type": "stream",
     "text": [
      "-RECORD 0--------------------------------------------------------------------\n",
      " valence          | 0.285                                                    \n",
      " year             | 2000                                                     \n",
      " acousticness     | 0.00239                                                  \n",
      " artists          | Coldplay                                                 \n",
      " danceability     | 0.429                                                    \n",
      " duration_ms      | 266773                                                   \n",
      " energy           | 0.6609999999999999                                       \n",
      " explicit         | 0                                                        \n",
      " id               | 3AJwUDP919kvQ9QcozQPxg                                   \n",
      " instrumentalness | 1.21E-4                                                  \n",
      " key              | 11                                                       \n",
      " liveness         | 0.234                                                    \n",
      " loudness         | -7.227                                                   \n",
      " mode             | 1                                                        \n",
      " name             | Yellow                                                   \n",
      " popularity       | 84                                                       \n",
      " speechiness      | 0.0281                                                   \n",
      " tempo            | 173.372                                                  \n",
      " artists_song     | Coldplay - Yellow                                        \n",
      "-RECORD 1--------------------------------------------------------------------\n",
      " valence          | 0.613                                                    \n",
      " year             | 2000                                                     \n",
      " acousticness     | 0.143                                                    \n",
      " artists          | OutKast                                                  \n",
      " danceability     | 0.843                                                    \n",
      " duration_ms      | 270507                                                   \n",
      " energy           | 0.8059999999999999                                       \n",
      " explicit         | 1                                                        \n",
      " id               | 0I3q5fE6wg7LIfHGngUTnV                                   \n",
      " instrumentalness | 0.0                                                      \n",
      " key              | 4                                                        \n",
      " liveness         | 0.0771                                                   \n",
      " loudness         | -5.9460000000000015                                      \n",
      " mode             | 0                                                        \n",
      " name             | Ms. Jackson                                              \n",
      " popularity       | 80                                                       \n",
      " speechiness      | 0.269                                                    \n",
      " tempo            | 94.948                                                   \n",
      " artists_song     | OutKast - Ms. Jackson                                    \n",
      "-RECORD 2--------------------------------------------------------------------\n",
      " valence          | 0.4                                                      \n",
      " year             | 2000                                                     \n",
      " acousticness     | 0.00958                                                  \n",
      " artists          | Linkin Park                                              \n",
      " danceability     | 0.556                                                    \n",
      " duration_ms      | 216880                                                   \n",
      " energy           | 0.8640000000000001                                       \n",
      " explicit         | 0                                                        \n",
      " id               | 60a0Rd6pjrkxjPbaKzXjfq                                   \n",
      " instrumentalness | 0.0                                                      \n",
      " key              | 3                                                        \n",
      " liveness         | 0.209                                                    \n",
      " loudness         | -5.87                                                    \n",
      " mode             | 0                                                        \n",
      " name             | In the End                                               \n",
      " popularity       | 84                                                       \n",
      " speechiness      | 0.0584                                                   \n",
      " tempo            | 105.143                                                  \n",
      " artists_song     | Linkin Park - In the End                                 \n",
      "-RECORD 3--------------------------------------------------------------------\n",
      " valence          | 0.5429999999999999                                       \n",
      " year             | 2000                                                     \n",
      " acousticness     | 0.00664                                                  \n",
      " artists          | 3 Doors Down                                             \n",
      " danceability     | 0.545                                                    \n",
      " duration_ms      | 233933                                                   \n",
      " energy           | 0.865                                                    \n",
      " explicit         | 0                                                        \n",
      " id               | 6ZOBP3NvffbU4SZcrnt1k6                                   \n",
      " instrumentalness | 1.1E-5                                                   \n",
      " key              | 11                                                       \n",
      " liveness         | 0.168                                                    \n",
      " loudness         | -5.7079999999999975                                      \n",
      " mode             | 0                                                        \n",
      " name             | Kryptonite                                               \n",
      " popularity       | 78                                                       \n",
      " speechiness      | 0.0286                                                   \n",
      " tempo            | 99.009                                                   \n",
      " artists_song     | 3 Doors Down - Kryptonite                                \n",
      "-RECORD 4--------------------------------------------------------------------\n",
      " valence          | 0.76                                                     \n",
      " year             | 2000                                                     \n",
      " acousticness     | 0.0302                                                   \n",
      " artists          | Eminem                                                   \n",
      " danceability     | 0.949                                                    \n",
      " duration_ms      | 284200                                                   \n",
      " energy           | 0.6609999999999999                                       \n",
      " explicit         | 1                                                        \n",
      " id               | 3yfqSUWxFvZELEM4PmlwIR                                   \n",
      " instrumentalness | 0.0                                                      \n",
      " key              | 5                                                        \n",
      " liveness         | 0.0454                                                   \n",
      " loudness         | -4.244                                                   \n",
      " mode             | 0                                                        \n",
      " name             | The Real Slim Shady                                      \n",
      " popularity       | 80                                                       \n",
      " speechiness      | 0.0572                                                   \n",
      " tempo            | 104.504                                                  \n",
      " artists_song     | Eminem - The Real Slim Shady                             \n",
      "-RECORD 5--------------------------------------------------------------------\n",
      " valence          | 0.941                                                    \n",
      " year             | 2000                                                     \n",
      " acousticness     | 9.96E-4                                                  \n",
      " artists          | Disturbed                                                \n",
      " danceability     | 0.695                                                    \n",
      " duration_ms      | 279213                                                   \n",
      " energy           | 0.8759999999999999                                       \n",
      " explicit         | 1                                                        \n",
      " id               | 40rvBMQizxkIqnjPdEWY1v                                   \n",
      " instrumentalness | 6.89E-6                                                  \n",
      " key              | 3                                                        \n",
      " liveness         | 0.106                                                    \n",
      " loudness         | -4.262                                                   \n",
      " mode             | 0                                                        \n",
      " name             | Down with the Sickness                                   \n",
      " popularity       | 76                                                       \n",
      " speechiness      | 0.0553                                                   \n",
      " tempo            | 89.954                                                   \n",
      " artists_song     | Disturbed - Down with the Sickness                       \n",
      "-RECORD 6--------------------------------------------------------------------\n",
      " valence          | 0.722                                                    \n",
      " year             | 2000                                                     \n",
      " acousticness     | 0.0616                                                   \n",
      " artists          | Nelly                                                    \n",
      " danceability     | 0.85                                                     \n",
      " duration_ms      | 291782                                                   \n",
      " energy           | 0.7                                                      \n",
      " explicit         | 1                                                        \n",
      " id               | 3Gf5nttwcX9aaSQXRWidEZ                                   \n",
      " instrumentalness | 1.8E-6                                                   \n",
      " key              | 7                                                        \n",
      " liveness         | 0.244                                                    \n",
      " loudness         | -6.49                                                    \n",
      " mode             | 1                                                        \n",
      " name             | Ride Wit Me                                              \n",
      " popularity       | 74                                                       \n",
      " speechiness      | 0.0478                                                   \n",
      " tempo            | 101.875                                                  \n",
      " artists_song     | Nelly - Ride Wit Me                                      \n",
      "-RECORD 7--------------------------------------------------------------------\n",
      " valence          | 0.507                                                    \n",
      " year             | 2000                                                     \n",
      " acousticness     | 0.0371                                                   \n",
      " artists          | Eminem                                                   \n",
      " danceability     | 0.78                                                     \n",
      " duration_ms      | 404107                                                   \n",
      " energy           | 0.768                                                    \n",
      " explicit         | 1                                                        \n",
      " id               | 3UmaczJpikHgJFyBTAJVoz                                   \n",
      " instrumentalness | 2.34E-6                                                  \n",
      " key              | 6                                                        \n",
      " liveness         | 0.518                                                    \n",
      " loudness         | -4.325                                                   \n",
      " mode             | 0                                                        \n",
      " name             | Stan                                                     \n",
      " popularity       | 78                                                       \n",
      " speechiness      | 0.238                                                    \n",
      " tempo            | 80.063                                                   \n",
      " artists_song     | Eminem - Stan                                            \n",
      "-RECORD 8--------------------------------------------------------------------\n",
      " valence          | 0.861                                                    \n",
      " year             | 2000                                                     \n",
      " acousticness     | 0.031                                                    \n",
      " artists          | *NSYNC                                                   \n",
      " danceability     | 0.61                                                     \n",
      " duration_ms      | 200400                                                   \n",
      " energy           | 0.926                                                    \n",
      " explicit         | 0                                                        \n",
      " id               | 62bOmKYxYg7dhrC6gH9vFn                                   \n",
      " instrumentalness | 0.0012                                                   \n",
      " key              | 8                                                        \n",
      " liveness         | 0.0821                                                   \n",
      " loudness         | -4.843                                                   \n",
      " mode             | 0                                                        \n",
      " name             | Bye Bye Bye                                              \n",
      " popularity       | 71                                                       \n",
      " speechiness      | 0.0479                                                   \n",
      " tempo            | 172.638                                                  \n",
      " artists_song     | *NSYNC - Bye Bye Bye                                     \n",
      "-RECORD 9--------------------------------------------------------------------\n",
      " valence          | 0.894                                                    \n",
      " year             | 2000                                                     \n",
      " acousticness     | 0.3                                                      \n",
      " artists          | Britney Spears                                           \n",
      " danceability     | 0.7509999999999999                                       \n",
      " duration_ms      | 211160                                                   \n",
      " energy           | 0.8340000000000001                                       \n",
      " explicit         | 0                                                        \n",
      " id               | 6naxalmIoLFWR0siv8dnQQ                                   \n",
      " instrumentalness | 1.77E-5                                                  \n",
      " key              | 1                                                        \n",
      " liveness         | 0.355                                                    \n",
      " loudness         | -5.444                                                   \n",
      " mode             | 0                                                        \n",
      " name             | Oops!...I Did It Again                                   \n",
      " popularity       | 78                                                       \n",
      " speechiness      | 0.0437                                                   \n",
      " tempo            | 95.053                                                   \n",
      " artists_song     | Britney Spears - Oops!...I Did It Again                  \n",
      "-RECORD 10-------------------------------------------------------------------\n",
      " valence          | 0.165                                                    \n",
      " year             | 2000                                                     \n",
      " acousticness     | 0.748                                                    \n",
      " artists          | Coldplay                                                 \n",
      " danceability     | 0.371                                                    \n",
      " duration_ms      | 227093                                                   \n",
      " energy           | 0.268                                                    \n",
      " explicit         | 0                                                        \n",
      " id               | 7D0RhFcb3CrfPuTJ0obrod                                   \n",
      " instrumentalness | 0.0517                                                   \n",
      " key              | 1                                                        \n",
      " liveness         | 0.104                                                    \n",
      " loudness         | -10.505999999999998                                      \n",
      " mode             | 1                                                        \n",
      " name             | Sparks                                                   \n",
      " popularity       | 73                                                       \n",
      " speechiness      | 0.0281                                                   \n",
      " tempo            | 102.617                                                  \n",
      " artists_song     | Coldplay - Sparks                                        \n",
      "-RECORD 11-------------------------------------------------------------------\n",
      " valence          | 0.5379999999999999                                       \n",
      " year             | 2000                                                     \n",
      " acousticness     | 0.0014                                                   \n",
      " artists          | Linkin Park                                              \n",
      " danceability     | 0.4920000000000001                                       \n",
      " duration_ms      | 157333                                                   \n",
      " energy           | 0.969                                                    \n",
      " explicit         | 0                                                        \n",
      " id               | 3K4HG9evC7dg3N0R9cYqk4                                   \n",
      " instrumentalness | 1.32E-6                                                  \n",
      " key              | 9                                                        \n",
      " liveness         | 0.0787                                                   \n",
      " loudness         | -4.419                                                   \n",
      " mode             | 1                                                        \n",
      " name             | One Step Closer                                          \n",
      " popularity       | 76                                                       \n",
      " speechiness      | 0.0491                                                   \n",
      " tempo            | 95.136                                                   \n",
      " artists_song     | Linkin Park - One Step Closer                            \n",
      "-RECORD 12-------------------------------------------------------------------\n",
      " valence          | 0.654                                                    \n",
      " year             | 2000                                                     \n",
      " acousticness     | 0.0561                                                   \n",
      " artists          | Shaggy                                                   \n",
      " danceability     | 0.853                                                    \n",
      " duration_ms      | 227600                                                   \n",
      " energy           | 0.606                                                    \n",
      " explicit         | 0                                                        \n",
      " id               | 3WkibOpDF7cQ5xntM1epyf                                   \n",
      " instrumentalness | 0.0                                                      \n",
      " key              | 0                                                        \n",
      " liveness         | 0.313                                                    \n",
      " loudness         | -4.596                                                   \n",
      " mode             | 1                                                        \n",
      " name             | It Wasn't Me                                             \n",
      " popularity       | 76                                                       \n",
      " speechiness      | 0.0713                                                   \n",
      " tempo            | 94.759                                                   \n",
      " artists_song     | Shaggy - It Wasn't Me                                    \n",
      "-RECORD 13-------------------------------------------------------------------\n",
      " valence          | 0.565                                                    \n",
      " year             | 2000                                                     \n",
      " acousticness     | 0.00689                                                  \n",
      " artists          | Nelly                                                    \n",
      " danceability     | 0.865                                                    \n",
      " duration_ms      | 287000                                                   \n",
      " energy           | 0.664                                                    \n",
      " explicit         | 1                                                        \n",
      " id               | 3wMUvT6eIw2L5cZFG1yH9j                                   \n",
      " instrumentalness | 0.0                                                      \n",
      " key              | 2                                                        \n",
      " liveness         | 0.142                                                    \n",
      " loudness         | -6.822                                                   \n",
      " mode             | 1                                                        \n",
      " name             | Country Grammar (Hot Shit)                               \n",
      " popularity       | 70                                                       \n",
      " speechiness      | 0.108                                                    \n",
      " tempo            | 162.83100000000005                                       \n",
      " artists_song     | Nelly - Country Grammar (Hot Shit)                       \n",
      "-RECORD 14-------------------------------------------------------------------\n",
      " valence          | 0.532                                                    \n",
      " year             | 2000                                                     \n",
      " acousticness     | 0.0112                                                   \n",
      " artists          | The Beatles                                              \n",
      " danceability     | 0.386                                                    \n",
      " duration_ms      | 425653                                                   \n",
      " energy           | 0.607                                                    \n",
      " explicit         | 0                                                        \n",
      " id               | 0aym2LBJBk9DAYuHHutrIl                                   \n",
      " instrumentalness | 1.3800000000000008E-5                                    \n",
      " key              | 10                                                       \n",
      " liveness         | 0.088                                                    \n",
      " loudness         | -7.7                                                     \n",
      " mode             | 1                                                        \n",
      " name             | Hey Jude - Remastered 2015                               \n",
      " popularity       | 76                                                       \n",
      " speechiness      | 0.0261                                                   \n",
      " tempo            | 147.207                                                  \n",
      " artists_song     | The Beatles - Hey Jude - Remastered 2015                 \n",
      "-RECORD 15-------------------------------------------------------------------\n",
      " valence          | 0.866                                                    \n",
      " year             | 2000                                                     \n",
      " acousticness     | 0.386                                                    \n",
      " artists          | The Beatles                                              \n",
      " danceability     | 0.49                                                     \n",
      " duration_ms      | 145747                                                   \n",
      " energy           | 0.715                                                    \n",
      " explicit         | 0                                                        \n",
      " id               | 4pbG9SUmWIvsROVLF0zF9s                                   \n",
      " instrumentalness | 0.0                                                      \n",
      " key              | 7                                                        \n",
      " liveness         | 0.311                                                    \n",
      " loudness         | -5.549                                                   \n",
      " mode             | 1                                                        \n",
      " name             | I Want To Hold Your Hand - Remastered 2015               \n",
      " popularity       | 73                                                       \n",
      " speechiness      | 0.0476                                                   \n",
      " tempo            | 130.726                                                  \n",
      " artists_song     | The Beatles - I Want To Hold Your Hand - Remastered 2015 \n",
      "-RECORD 16-------------------------------------------------------------------\n",
      " valence          | 0.435                                                    \n",
      " year             | 2000                                                     \n",
      " acousticness     | 0.00118                                                  \n",
      " artists          | Lifehouse                                                \n",
      " danceability     | 0.541                                                    \n",
      " duration_ms      | 216067                                                   \n",
      " energy           | 0.8640000000000001                                       \n",
      " explicit         | 0                                                        \n",
      " id               | 0wqOReZDnrefefEsrIGeR4                                   \n",
      " instrumentalness | 0.0                                                      \n",
      " key              | 1                                                        \n",
      " liveness         | 0.0896                                                   \n",
      " loudness         | -4.915                                                   \n",
      " mode             | 1                                                        \n",
      " name             | Hanging By A Moment                                      \n",
      " popularity       | 65                                                       \n",
      " speechiness      | 0.0357                                                   \n",
      " tempo            | 124.557                                                  \n",
      " artists_song     | Lifehouse - Hanging By A Moment                          \n",
      "-RECORD 17-------------------------------------------------------------------\n",
      " valence          | 0.299                                                    \n",
      " year             | 2000                                                     \n",
      " acousticness     | 0.0466                                                   \n",
      " artists          | Linkin Park                                              \n",
      " danceability     | 0.58                                                     \n",
      " duration_ms      | 208960                                                   \n",
      " energy           | 0.7020000000000001                                       \n",
      " explicit         | 0                                                        \n",
      " id               | 57BrRMwf9LrcmuOsyGilwr                                   \n",
      " instrumentalness | 3.2E-6                                                   \n",
      " key              | 4                                                        \n",
      " liveness         | 0.536                                                    \n",
      " loudness         | -5.565                                                   \n",
      " mode             | 1                                                        \n",
      " name             | Crawling                                                 \n",
      " popularity       | 73                                                       \n",
      " speechiness      | 0.0337                                                   \n",
      " tempo            | 105.076                                                  \n",
      " artists_song     | Linkin Park - Crawling                                   \n",
      "-RECORD 18-------------------------------------------------------------------\n",
      " valence          | 0.915                                                    \n",
      " year             | 2000                                                     \n",
      " acousticness     | 0.0281                                                   \n",
      " artists          | OutKast                                                  \n",
      " danceability     | 0.725                                                    \n",
      " duration_ms      | 240027                                                   \n",
      " energy           | 0.64                                                     \n",
      " explicit         | 1                                                        \n",
      " id               | 6glsMWIMIxQ4BedzLqGVi4                                   \n",
      " instrumentalness | 0.0                                                      \n",
      " key              | 5                                                        \n",
      " liveness         | 0.099                                                    \n",
      " loudness         | -7.905                                                   \n",
      " mode             | 0                                                        \n",
      " name             | So Fresh, So Clean                                       \n",
      " popularity       | 68                                                       \n",
      " speechiness      | 0.332                                                    \n",
      " tempo            | 166.028                                                  \n",
      " artists_song     | OutKast - So Fresh, So Clean                             \n",
      "-RECORD 19-------------------------------------------------------------------\n",
      " valence          | 0.885                                                    \n",
      " year             | 2000                                                     \n",
      " acousticness     | 0.627                                                    \n",
      " artists          | Sam Cooke                                                \n",
      " danceability     | 0.691                                                    \n",
      " duration_ms      | 125440                                                   \n",
      " energy           | 0.507                                                    \n",
      " explicit         | 0                                                        \n",
      " id               | 2g2GkH3vZHk4lWzBjgQ6nY                                   \n",
      " instrumentalness | 0.0                                                      \n",
      " key              | 11                                                       \n",
      " liveness         | 0.457                                                    \n",
      " loudness         | -10.23                                                   \n",
      " mode             | 1                                                        \n",
      " name             | (What A) Wonderful World                                 \n",
      " popularity       | 72                                                       \n",
      " speechiness      | 0.0343                                                   \n",
      " tempo            | 128.518                                                  \n",
      " artists_song     | Sam Cooke - (What A) Wonderful World                     \n",
      "only showing top 20 rows\n",
      "\n"
     ]
    }
   ],
   "source": [
    "data.show(vertical=True, truncate=False)"
   ]
  },
  {
   "cell_type": "code",
   "execution_count": 61,
   "metadata": {},
   "outputs": [
    {
     "name": "stdout",
     "output_type": "stream",
     "text": [
      "root\n",
      " |-- valence: double (nullable = true)\n",
      " |-- year: integer (nullable = true)\n",
      " |-- acousticness: double (nullable = true)\n",
      " |-- artists: string (nullable = true)\n",
      " |-- danceability: double (nullable = true)\n",
      " |-- duration_ms: integer (nullable = true)\n",
      " |-- energy: double (nullable = true)\n",
      " |-- explicit: integer (nullable = true)\n",
      " |-- id: string (nullable = true)\n",
      " |-- instrumentalness: double (nullable = true)\n",
      " |-- key: integer (nullable = true)\n",
      " |-- liveness: double (nullable = true)\n",
      " |-- loudness: double (nullable = true)\n",
      " |-- mode: integer (nullable = true)\n",
      " |-- name: string (nullable = true)\n",
      " |-- popularity: integer (nullable = true)\n",
      " |-- speechiness: double (nullable = true)\n",
      " |-- tempo: double (nullable = true)\n",
      " |-- artists_song: string (nullable = true)\n",
      "\n"
     ]
    }
   ],
   "source": [
    "data.printSchema()"
   ]
  },
  {
   "cell_type": "code",
   "execution_count": 62,
   "metadata": {},
   "outputs": [
    {
     "data": {
      "text/plain": [
       "(20311, 19)"
      ]
     },
     "execution_count": 62,
     "metadata": {},
     "output_type": "execute_result"
    }
   ],
   "source": [
    "# shape\n",
    "data.count(), len(data.columns)"
   ]
  },
  {
   "cell_type": "code",
   "execution_count": 63,
   "metadata": {},
   "outputs": [
    {
     "name": "stdout",
     "output_type": "stream",
     "text": [
      "+-------+----+------------+-------+------------+-----------+------+--------+---+----------------+---+--------+--------+----+----+----------+-----------+-----+------------+\n",
      "|valence|year|acousticness|artists|danceability|duration_ms|energy|explicit| id|instrumentalness|key|liveness|loudness|mode|name|popularity|speechiness|tempo|artists_song|\n",
      "+-------+----+------------+-------+------------+-----------+------+--------+---+----------------+---+--------+--------+----+----+----------+-----------+-----+------------+\n",
      "|      0|   0|           0|      0|           0|          0|     0|       0|  0|               0|  0|       0|       0|   0|   0|         0|          0|    0|           0|\n",
      "+-------+----+------------+-------+------------+-----------+------+--------+---+----------------+---+--------+--------+----+----+----------+-----------+-----+------------+\n",
      "\n"
     ]
    }
   ],
   "source": [
    "# checking null values\n",
    "data.select([f.count(f.when(f.isnull(c), 1)).alias(c) for c in data.columns]).show()"
   ]
  },
  {
   "cell_type": "code",
   "execution_count": 64,
   "metadata": {},
   "outputs": [
    {
     "name": "stdout",
     "output_type": "stream",
     "text": [
      "[Row(year=2000), Row(year=2001), Row(year=2002), Row(year=2003), Row(year=2004), Row(year=2005), Row(year=2006), Row(year=2007), Row(year=2008), Row(year=2009), Row(year=2010), Row(year=2011), Row(year=2012), Row(year=2013), Row(year=2014), Row(year=2015), Row(year=2016), Row(year=2017), Row(year=2018), Row(year=2019), Row(year=2020)]\n"
     ]
    },
    {
     "name": "stderr",
     "output_type": "stream",
     "text": [
      "                                                                                \r"
     ]
    }
   ],
   "source": [
    "# checking year\n",
    "print(sorted(data.select('year').distinct().collect()))"
   ]
  },
  {
   "cell_type": "markdown",
   "metadata": {},
   "source": [
    "### Correlation Matrix"
   ]
  },
  {
   "cell_type": "code",
   "execution_count": 65,
   "metadata": {},
   "outputs": [
    {
     "name": "stdout",
     "output_type": "stream",
     "text": [
      "22/09/22 10:53:30 WARN SparkContext: The path https://github.com/MpRonald/datasets/raw/main/data_by_year.csv has been added already. Overwriting of added paths is not supported in the current version.\n"
     ]
    },
    {
     "data": {
      "text/html": [
       "<div>\n",
       "<style scoped>\n",
       "    .dataframe tbody tr th:only-of-type {\n",
       "        vertical-align: middle;\n",
       "    }\n",
       "\n",
       "    .dataframe tbody tr th {\n",
       "        vertical-align: top;\n",
       "    }\n",
       "\n",
       "    .dataframe thead th {\n",
       "        text-align: right;\n",
       "    }\n",
       "</style>\n",
       "<table border=\"1\" class=\"dataframe\">\n",
       "  <thead>\n",
       "    <tr style=\"text-align: right;\">\n",
       "      <th></th>\n",
       "      <th>mode</th>\n",
       "      <th>year</th>\n",
       "      <th>acousticness</th>\n",
       "      <th>danceability</th>\n",
       "      <th>duration_ms</th>\n",
       "      <th>energy</th>\n",
       "      <th>instrumentalness</th>\n",
       "      <th>liveness</th>\n",
       "      <th>loudness</th>\n",
       "      <th>speechiness</th>\n",
       "      <th>tempo</th>\n",
       "      <th>valence</th>\n",
       "      <th>popularity</th>\n",
       "      <th>key</th>\n",
       "    </tr>\n",
       "  </thead>\n",
       "  <tbody>\n",
       "    <tr>\n",
       "      <th>0</th>\n",
       "      <td>1</td>\n",
       "      <td>1921</td>\n",
       "      <td>0.886896</td>\n",
       "      <td>0.418597</td>\n",
       "      <td>260537.166667</td>\n",
       "      <td>0.231815</td>\n",
       "      <td>0.344878</td>\n",
       "      <td>0.205710</td>\n",
       "      <td>-17.048667</td>\n",
       "      <td>0.073662</td>\n",
       "      <td>101.531493</td>\n",
       "      <td>0.379327</td>\n",
       "      <td>0.653333</td>\n",
       "      <td>2</td>\n",
       "    </tr>\n",
       "    <tr>\n",
       "      <th>1</th>\n",
       "      <td>1</td>\n",
       "      <td>1922</td>\n",
       "      <td>0.938592</td>\n",
       "      <td>0.482042</td>\n",
       "      <td>165469.746479</td>\n",
       "      <td>0.237815</td>\n",
       "      <td>0.434195</td>\n",
       "      <td>0.240720</td>\n",
       "      <td>-19.275282</td>\n",
       "      <td>0.116655</td>\n",
       "      <td>100.884521</td>\n",
       "      <td>0.535549</td>\n",
       "      <td>0.140845</td>\n",
       "      <td>10</td>\n",
       "    </tr>\n",
       "    <tr>\n",
       "      <th>2</th>\n",
       "      <td>1</td>\n",
       "      <td>1923</td>\n",
       "      <td>0.957247</td>\n",
       "      <td>0.577341</td>\n",
       "      <td>177942.362162</td>\n",
       "      <td>0.262406</td>\n",
       "      <td>0.371733</td>\n",
       "      <td>0.227462</td>\n",
       "      <td>-14.129211</td>\n",
       "      <td>0.093949</td>\n",
       "      <td>114.010730</td>\n",
       "      <td>0.625492</td>\n",
       "      <td>5.389189</td>\n",
       "      <td>0</td>\n",
       "    </tr>\n",
       "    <tr>\n",
       "      <th>3</th>\n",
       "      <td>1</td>\n",
       "      <td>1924</td>\n",
       "      <td>0.940200</td>\n",
       "      <td>0.549894</td>\n",
       "      <td>191046.707627</td>\n",
       "      <td>0.344347</td>\n",
       "      <td>0.581701</td>\n",
       "      <td>0.235219</td>\n",
       "      <td>-14.231343</td>\n",
       "      <td>0.092089</td>\n",
       "      <td>120.689572</td>\n",
       "      <td>0.663725</td>\n",
       "      <td>0.661017</td>\n",
       "      <td>10</td>\n",
       "    </tr>\n",
       "    <tr>\n",
       "      <th>4</th>\n",
       "      <td>1</td>\n",
       "      <td>1925</td>\n",
       "      <td>0.962607</td>\n",
       "      <td>0.573863</td>\n",
       "      <td>184986.924460</td>\n",
       "      <td>0.278594</td>\n",
       "      <td>0.418297</td>\n",
       "      <td>0.237668</td>\n",
       "      <td>-14.146414</td>\n",
       "      <td>0.111918</td>\n",
       "      <td>115.521921</td>\n",
       "      <td>0.621929</td>\n",
       "      <td>2.604317</td>\n",
       "      <td>5</td>\n",
       "    </tr>\n",
       "    <tr>\n",
       "      <th>5</th>\n",
       "      <td>1</td>\n",
       "      <td>1926</td>\n",
       "      <td>0.660817</td>\n",
       "      <td>0.599880</td>\n",
       "      <td>156881.657475</td>\n",
       "      <td>0.211467</td>\n",
       "      <td>0.333093</td>\n",
       "      <td>0.232370</td>\n",
       "      <td>-18.492538</td>\n",
       "      <td>0.483704</td>\n",
       "      <td>109.648033</td>\n",
       "      <td>0.436910</td>\n",
       "      <td>1.422351</td>\n",
       "      <td>9</td>\n",
       "    </tr>\n",
       "    <tr>\n",
       "      <th>6</th>\n",
       "      <td>1</td>\n",
       "      <td>1927</td>\n",
       "      <td>0.936179</td>\n",
       "      <td>0.648268</td>\n",
       "      <td>184993.598374</td>\n",
       "      <td>0.264321</td>\n",
       "      <td>0.391328</td>\n",
       "      <td>0.168450</td>\n",
       "      <td>-14.422374</td>\n",
       "      <td>0.113610</td>\n",
       "      <td>114.846524</td>\n",
       "      <td>0.659700</td>\n",
       "      <td>0.801626</td>\n",
       "      <td>7</td>\n",
       "    </tr>\n",
       "    <tr>\n",
       "      <th>7</th>\n",
       "      <td>1</td>\n",
       "      <td>1928</td>\n",
       "      <td>0.938617</td>\n",
       "      <td>0.534288</td>\n",
       "      <td>214827.906423</td>\n",
       "      <td>0.207948</td>\n",
       "      <td>0.494835</td>\n",
       "      <td>0.175289</td>\n",
       "      <td>-17.191983</td>\n",
       "      <td>0.159911</td>\n",
       "      <td>106.772262</td>\n",
       "      <td>0.495713</td>\n",
       "      <td>1.525773</td>\n",
       "      <td>1</td>\n",
       "    </tr>\n",
       "    <tr>\n",
       "      <th>8</th>\n",
       "      <td>1</td>\n",
       "      <td>1929</td>\n",
       "      <td>0.601427</td>\n",
       "      <td>0.647670</td>\n",
       "      <td>168999.412815</td>\n",
       "      <td>0.241801</td>\n",
       "      <td>0.215204</td>\n",
       "      <td>0.236000</td>\n",
       "      <td>-16.530376</td>\n",
       "      <td>0.490001</td>\n",
       "      <td>110.948357</td>\n",
       "      <td>0.636530</td>\n",
       "      <td>0.340336</td>\n",
       "      <td>7</td>\n",
       "    </tr>\n",
       "    <tr>\n",
       "      <th>9</th>\n",
       "      <td>1</td>\n",
       "      <td>1930</td>\n",
       "      <td>0.936715</td>\n",
       "      <td>0.518176</td>\n",
       "      <td>195150.285343</td>\n",
       "      <td>0.333524</td>\n",
       "      <td>0.352206</td>\n",
       "      <td>0.221311</td>\n",
       "      <td>-12.869221</td>\n",
       "      <td>0.119910</td>\n",
       "      <td>109.871194</td>\n",
       "      <td>0.616238</td>\n",
       "      <td>0.926715</td>\n",
       "      <td>2</td>\n",
       "    </tr>\n",
       "  </tbody>\n",
       "</table>\n",
       "</div>"
      ],
      "text/plain": [
       "   mode  year  acousticness  danceability    duration_ms    energy  \\\n",
       "0     1  1921      0.886896      0.418597  260537.166667  0.231815   \n",
       "1     1  1922      0.938592      0.482042  165469.746479  0.237815   \n",
       "2     1  1923      0.957247      0.577341  177942.362162  0.262406   \n",
       "3     1  1924      0.940200      0.549894  191046.707627  0.344347   \n",
       "4     1  1925      0.962607      0.573863  184986.924460  0.278594   \n",
       "5     1  1926      0.660817      0.599880  156881.657475  0.211467   \n",
       "6     1  1927      0.936179      0.648268  184993.598374  0.264321   \n",
       "7     1  1928      0.938617      0.534288  214827.906423  0.207948   \n",
       "8     1  1929      0.601427      0.647670  168999.412815  0.241801   \n",
       "9     1  1930      0.936715      0.518176  195150.285343  0.333524   \n",
       "\n",
       "   instrumentalness  liveness   loudness  speechiness       tempo   valence  \\\n",
       "0          0.344878  0.205710 -17.048667     0.073662  101.531493  0.379327   \n",
       "1          0.434195  0.240720 -19.275282     0.116655  100.884521  0.535549   \n",
       "2          0.371733  0.227462 -14.129211     0.093949  114.010730  0.625492   \n",
       "3          0.581701  0.235219 -14.231343     0.092089  120.689572  0.663725   \n",
       "4          0.418297  0.237668 -14.146414     0.111918  115.521921  0.621929   \n",
       "5          0.333093  0.232370 -18.492538     0.483704  109.648033  0.436910   \n",
       "6          0.391328  0.168450 -14.422374     0.113610  114.846524  0.659700   \n",
       "7          0.494835  0.175289 -17.191983     0.159911  106.772262  0.495713   \n",
       "8          0.215204  0.236000 -16.530376     0.490001  110.948357  0.636530   \n",
       "9          0.352206  0.221311 -12.869221     0.119910  109.871194  0.616238   \n",
       "\n",
       "   popularity  key  \n",
       "0    0.653333    2  \n",
       "1    0.140845   10  \n",
       "2    5.389189    0  \n",
       "3    0.661017   10  \n",
       "4    2.604317    5  \n",
       "5    1.422351    9  \n",
       "6    0.801626    7  \n",
       "7    1.525773    1  \n",
       "8    0.340336    7  \n",
       "9    0.926715    2  "
      ]
     },
     "execution_count": 65,
     "metadata": {},
     "output_type": "execute_result"
    }
   ],
   "source": [
    "url_data_years = 'https://github.com/MpRonald/datasets/raw/main/data_by_year.csv'\n",
    "spark_session.sparkContext.addFile(url_data_years)\n",
    "path_data_years = 'file://' + SparkFiles.get('data_by_year.csv')\n",
    "data_year = spark_session.read.csv(path_data_years, header=True, sep=',', inferSchema=True)\n",
    "data_year.limit(10).toPandas()"
   ]
  },
  {
   "cell_type": "code",
   "execution_count": 66,
   "metadata": {},
   "outputs": [
    {
     "data": {
      "text/html": [
       "<div>\n",
       "<style scoped>\n",
       "    .dataframe tbody tr th:only-of-type {\n",
       "        vertical-align: middle;\n",
       "    }\n",
       "\n",
       "    .dataframe tbody tr th {\n",
       "        vertical-align: top;\n",
       "    }\n",
       "\n",
       "    .dataframe thead th {\n",
       "        text-align: right;\n",
       "    }\n",
       "</style>\n",
       "<table border=\"1\" class=\"dataframe\">\n",
       "  <thead>\n",
       "    <tr style=\"text-align: right;\">\n",
       "      <th></th>\n",
       "      <th>mode</th>\n",
       "      <th>year</th>\n",
       "      <th>acousticness</th>\n",
       "      <th>danceability</th>\n",
       "      <th>duration_ms</th>\n",
       "      <th>energy</th>\n",
       "      <th>instrumentalness</th>\n",
       "      <th>liveness</th>\n",
       "      <th>loudness</th>\n",
       "      <th>speechiness</th>\n",
       "      <th>tempo</th>\n",
       "      <th>valence</th>\n",
       "      <th>popularity</th>\n",
       "      <th>key</th>\n",
       "    </tr>\n",
       "  </thead>\n",
       "  <tbody>\n",
       "    <tr>\n",
       "      <th>0</th>\n",
       "      <td>1</td>\n",
       "      <td>2000</td>\n",
       "      <td>0.289323</td>\n",
       "      <td>0.590918</td>\n",
       "      <td>242724.642638</td>\n",
       "      <td>0.625413</td>\n",
       "      <td>0.101168</td>\n",
       "      <td>0.197686</td>\n",
       "      <td>-8.247766</td>\n",
       "      <td>0.089205</td>\n",
       "      <td>118.999323</td>\n",
       "      <td>0.559475</td>\n",
       "      <td>46.684049</td>\n",
       "      <td>7</td>\n",
       "    </tr>\n",
       "    <tr>\n",
       "      <th>1</th>\n",
       "      <td>1</td>\n",
       "      <td>2001</td>\n",
       "      <td>0.286842</td>\n",
       "      <td>0.583318</td>\n",
       "      <td>240307.796010</td>\n",
       "      <td>0.626986</td>\n",
       "      <td>0.107214</td>\n",
       "      <td>0.187026</td>\n",
       "      <td>-8.305095</td>\n",
       "      <td>0.089182</td>\n",
       "      <td>117.765399</td>\n",
       "      <td>0.541479</td>\n",
       "      <td>48.750125</td>\n",
       "      <td>7</td>\n",
       "    </tr>\n",
       "    <tr>\n",
       "      <th>2</th>\n",
       "      <td>1</td>\n",
       "      <td>2002</td>\n",
       "      <td>0.282624</td>\n",
       "      <td>0.576160</td>\n",
       "      <td>239503.283000</td>\n",
       "      <td>0.641270</td>\n",
       "      <td>0.088048</td>\n",
       "      <td>0.193911</td>\n",
       "      <td>-7.686640</td>\n",
       "      <td>0.084308</td>\n",
       "      <td>119.239738</td>\n",
       "      <td>0.542397</td>\n",
       "      <td>48.655500</td>\n",
       "      <td>7</td>\n",
       "    </tr>\n",
       "    <tr>\n",
       "      <th>3</th>\n",
       "      <td>1</td>\n",
       "      <td>2003</td>\n",
       "      <td>0.256471</td>\n",
       "      <td>0.575763</td>\n",
       "      <td>244670.575230</td>\n",
       "      <td>0.660165</td>\n",
       "      <td>0.083049</td>\n",
       "      <td>0.196976</td>\n",
       "      <td>-7.485545</td>\n",
       "      <td>0.093926</td>\n",
       "      <td>120.914622</td>\n",
       "      <td>0.530504</td>\n",
       "      <td>48.626407</td>\n",
       "      <td>7</td>\n",
       "    </tr>\n",
       "    <tr>\n",
       "      <th>4</th>\n",
       "      <td>1</td>\n",
       "      <td>2004</td>\n",
       "      <td>0.280559</td>\n",
       "      <td>0.567680</td>\n",
       "      <td>237378.708037</td>\n",
       "      <td>0.648868</td>\n",
       "      <td>0.077934</td>\n",
       "      <td>0.202199</td>\n",
       "      <td>-7.601655</td>\n",
       "      <td>0.094239</td>\n",
       "      <td>121.290346</td>\n",
       "      <td>0.524489</td>\n",
       "      <td>49.273143</td>\n",
       "      <td>7</td>\n",
       "    </tr>\n",
       "    <tr>\n",
       "      <th>5</th>\n",
       "      <td>1</td>\n",
       "      <td>2005</td>\n",
       "      <td>0.255764</td>\n",
       "      <td>0.572281</td>\n",
       "      <td>237229.588205</td>\n",
       "      <td>0.653209</td>\n",
       "      <td>0.090194</td>\n",
       "      <td>0.190082</td>\n",
       "      <td>-7.466159</td>\n",
       "      <td>0.093334</td>\n",
       "      <td>121.617967</td>\n",
       "      <td>0.532531</td>\n",
       "      <td>50.953333</td>\n",
       "      <td>0</td>\n",
       "    </tr>\n",
       "    <tr>\n",
       "      <th>6</th>\n",
       "      <td>1</td>\n",
       "      <td>2006</td>\n",
       "      <td>0.279986</td>\n",
       "      <td>0.568230</td>\n",
       "      <td>234042.914359</td>\n",
       "      <td>0.650326</td>\n",
       "      <td>0.077701</td>\n",
       "      <td>0.188289</td>\n",
       "      <td>-7.265501</td>\n",
       "      <td>0.085847</td>\n",
       "      <td>121.798615</td>\n",
       "      <td>0.520028</td>\n",
       "      <td>51.313846</td>\n",
       "      <td>7</td>\n",
       "    </tr>\n",
       "    <tr>\n",
       "      <th>7</th>\n",
       "      <td>1</td>\n",
       "      <td>2007</td>\n",
       "      <td>0.254081</td>\n",
       "      <td>0.563414</td>\n",
       "      <td>241049.962564</td>\n",
       "      <td>0.668305</td>\n",
       "      <td>0.072957</td>\n",
       "      <td>0.196127</td>\n",
       "      <td>-7.044536</td>\n",
       "      <td>0.084347</td>\n",
       "      <td>124.087516</td>\n",
       "      <td>0.516794</td>\n",
       "      <td>51.075897</td>\n",
       "      <td>7</td>\n",
       "    </tr>\n",
       "    <tr>\n",
       "      <th>8</th>\n",
       "      <td>1</td>\n",
       "      <td>2008</td>\n",
       "      <td>0.249192</td>\n",
       "      <td>0.579193</td>\n",
       "      <td>240107.315601</td>\n",
       "      <td>0.671461</td>\n",
       "      <td>0.063662</td>\n",
       "      <td>0.198431</td>\n",
       "      <td>-6.843804</td>\n",
       "      <td>0.077356</td>\n",
       "      <td>123.509934</td>\n",
       "      <td>0.527542</td>\n",
       "      <td>50.630179</td>\n",
       "      <td>0</td>\n",
       "    </tr>\n",
       "    <tr>\n",
       "      <th>9</th>\n",
       "      <td>1</td>\n",
       "      <td>2009</td>\n",
       "      <td>0.261929</td>\n",
       "      <td>0.564190</td>\n",
       "      <td>238140.013265</td>\n",
       "      <td>0.670749</td>\n",
       "      <td>0.075872</td>\n",
       "      <td>0.205252</td>\n",
       "      <td>-7.046015</td>\n",
       "      <td>0.085458</td>\n",
       "      <td>123.463808</td>\n",
       "      <td>0.507170</td>\n",
       "      <td>51.440816</td>\n",
       "      <td>0</td>\n",
       "    </tr>\n",
       "  </tbody>\n",
       "</table>\n",
       "</div>"
      ],
      "text/plain": [
       "   mode  year  acousticness  danceability    duration_ms    energy  \\\n",
       "0     1  2000      0.289323      0.590918  242724.642638  0.625413   \n",
       "1     1  2001      0.286842      0.583318  240307.796010  0.626986   \n",
       "2     1  2002      0.282624      0.576160  239503.283000  0.641270   \n",
       "3     1  2003      0.256471      0.575763  244670.575230  0.660165   \n",
       "4     1  2004      0.280559      0.567680  237378.708037  0.648868   \n",
       "5     1  2005      0.255764      0.572281  237229.588205  0.653209   \n",
       "6     1  2006      0.279986      0.568230  234042.914359  0.650326   \n",
       "7     1  2007      0.254081      0.563414  241049.962564  0.668305   \n",
       "8     1  2008      0.249192      0.579193  240107.315601  0.671461   \n",
       "9     1  2009      0.261929      0.564190  238140.013265  0.670749   \n",
       "\n",
       "   instrumentalness  liveness  loudness  speechiness       tempo   valence  \\\n",
       "0          0.101168  0.197686 -8.247766     0.089205  118.999323  0.559475   \n",
       "1          0.107214  0.187026 -8.305095     0.089182  117.765399  0.541479   \n",
       "2          0.088048  0.193911 -7.686640     0.084308  119.239738  0.542397   \n",
       "3          0.083049  0.196976 -7.485545     0.093926  120.914622  0.530504   \n",
       "4          0.077934  0.202199 -7.601655     0.094239  121.290346  0.524489   \n",
       "5          0.090194  0.190082 -7.466159     0.093334  121.617967  0.532531   \n",
       "6          0.077701  0.188289 -7.265501     0.085847  121.798615  0.520028   \n",
       "7          0.072957  0.196127 -7.044536     0.084347  124.087516  0.516794   \n",
       "8          0.063662  0.198431 -6.843804     0.077356  123.509934  0.527542   \n",
       "9          0.075872  0.205252 -7.046015     0.085458  123.463808  0.507170   \n",
       "\n",
       "   popularity  key  \n",
       "0   46.684049    7  \n",
       "1   48.750125    7  \n",
       "2   48.655500    7  \n",
       "3   48.626407    7  \n",
       "4   49.273143    7  \n",
       "5   50.953333    0  \n",
       "6   51.313846    7  \n",
       "7   51.075897    7  \n",
       "8   50.630179    0  \n",
       "9   51.440816    0  "
      ]
     },
     "execution_count": 66,
     "metadata": {},
     "output_type": "execute_result"
    }
   ],
   "source": [
    "data_year_2000 = data_year.filter('year >= 2000')\n",
    "data_year_2000.limit(10).toPandas()"
   ]
  },
  {
   "cell_type": "code",
   "execution_count": 67,
   "metadata": {},
   "outputs": [
    {
     "data": {
      "text/plain": [
       "21"
      ]
     },
     "execution_count": 67,
     "metadata": {},
     "output_type": "execute_result"
    }
   ],
   "source": [
    "data_year_2000.count()"
   ]
  },
  {
   "cell_type": "code",
   "execution_count": 68,
   "metadata": {},
   "outputs": [
    {
     "data": {
      "text/plain": [
       "14"
      ]
     },
     "execution_count": 68,
     "metadata": {},
     "output_type": "execute_result"
    }
   ],
   "source": [
    "len(data_year_2000.columns)"
   ]
  },
  {
   "cell_type": "code",
   "execution_count": 70,
   "metadata": {},
   "outputs": [
    {
     "data": {
      "application/vnd.plotly.v1+json": {
       "config": {
        "plotlyServerURL": "https://plot.ly"
       },
       "data": [
        {
         "hovertemplate": "year=%{x}<br>loudness=%{y}<extra></extra>",
         "legendgroup": "",
         "line": {
          "color": "#636efa",
          "dash": "solid"
         },
         "marker": {
          "symbol": "circle"
         },
         "mode": "markers+lines",
         "name": "",
         "orientation": "v",
         "showlegend": false,
         "type": "scatter",
         "x": [
          2000,
          2001,
          2002,
          2003,
          2004,
          2005,
          2006,
          2007,
          2008,
          2009,
          2010,
          2011,
          2012,
          2013,
          2014,
          2015,
          2016,
          2017,
          2018,
          2019,
          2020
         ],
         "xaxis": "x",
         "y": [
          -8.247765848670758,
          -8.305095261845384,
          -7.686639500000013,
          -7.485545035823955,
          -7.601655137334684,
          -7.46615897435897,
          -7.265500512820514,
          -7.044535897435892,
          -6.8438040920716166,
          -7.0460147959183645,
          -6.9099042658730125,
          -7.574986117997006,
          -7.260549614395888,
          -7.472039473684207,
          -7.06743990024938,
          -7.625639311043569,
          -8.061056204785759,
          -8.31262951807228,
          -7.168785068949124,
          -7.722191893278596,
          -6.595066995073878
         ],
         "yaxis": "y"
        }
       ],
       "layout": {
        "legend": {
         "tracegroupgap": 0
        },
        "template": {
         "data": {
          "bar": [
           {
            "error_x": {
             "color": "#2a3f5f"
            },
            "error_y": {
             "color": "#2a3f5f"
            },
            "marker": {
             "line": {
              "color": "#E5ECF6",
              "width": 0.5
             },
             "pattern": {
              "fillmode": "overlay",
              "size": 10,
              "solidity": 0.2
             }
            },
            "type": "bar"
           }
          ],
          "barpolar": [
           {
            "marker": {
             "line": {
              "color": "#E5ECF6",
              "width": 0.5
             },
             "pattern": {
              "fillmode": "overlay",
              "size": 10,
              "solidity": 0.2
             }
            },
            "type": "barpolar"
           }
          ],
          "carpet": [
           {
            "aaxis": {
             "endlinecolor": "#2a3f5f",
             "gridcolor": "white",
             "linecolor": "white",
             "minorgridcolor": "white",
             "startlinecolor": "#2a3f5f"
            },
            "baxis": {
             "endlinecolor": "#2a3f5f",
             "gridcolor": "white",
             "linecolor": "white",
             "minorgridcolor": "white",
             "startlinecolor": "#2a3f5f"
            },
            "type": "carpet"
           }
          ],
          "choropleth": [
           {
            "colorbar": {
             "outlinewidth": 0,
             "ticks": ""
            },
            "type": "choropleth"
           }
          ],
          "contour": [
           {
            "colorbar": {
             "outlinewidth": 0,
             "ticks": ""
            },
            "colorscale": [
             [
              0,
              "#0d0887"
             ],
             [
              0.1111111111111111,
              "#46039f"
             ],
             [
              0.2222222222222222,
              "#7201a8"
             ],
             [
              0.3333333333333333,
              "#9c179e"
             ],
             [
              0.4444444444444444,
              "#bd3786"
             ],
             [
              0.5555555555555556,
              "#d8576b"
             ],
             [
              0.6666666666666666,
              "#ed7953"
             ],
             [
              0.7777777777777778,
              "#fb9f3a"
             ],
             [
              0.8888888888888888,
              "#fdca26"
             ],
             [
              1,
              "#f0f921"
             ]
            ],
            "type": "contour"
           }
          ],
          "contourcarpet": [
           {
            "colorbar": {
             "outlinewidth": 0,
             "ticks": ""
            },
            "type": "contourcarpet"
           }
          ],
          "heatmap": [
           {
            "colorbar": {
             "outlinewidth": 0,
             "ticks": ""
            },
            "colorscale": [
             [
              0,
              "#0d0887"
             ],
             [
              0.1111111111111111,
              "#46039f"
             ],
             [
              0.2222222222222222,
              "#7201a8"
             ],
             [
              0.3333333333333333,
              "#9c179e"
             ],
             [
              0.4444444444444444,
              "#bd3786"
             ],
             [
              0.5555555555555556,
              "#d8576b"
             ],
             [
              0.6666666666666666,
              "#ed7953"
             ],
             [
              0.7777777777777778,
              "#fb9f3a"
             ],
             [
              0.8888888888888888,
              "#fdca26"
             ],
             [
              1,
              "#f0f921"
             ]
            ],
            "type": "heatmap"
           }
          ],
          "heatmapgl": [
           {
            "colorbar": {
             "outlinewidth": 0,
             "ticks": ""
            },
            "colorscale": [
             [
              0,
              "#0d0887"
             ],
             [
              0.1111111111111111,
              "#46039f"
             ],
             [
              0.2222222222222222,
              "#7201a8"
             ],
             [
              0.3333333333333333,
              "#9c179e"
             ],
             [
              0.4444444444444444,
              "#bd3786"
             ],
             [
              0.5555555555555556,
              "#d8576b"
             ],
             [
              0.6666666666666666,
              "#ed7953"
             ],
             [
              0.7777777777777778,
              "#fb9f3a"
             ],
             [
              0.8888888888888888,
              "#fdca26"
             ],
             [
              1,
              "#f0f921"
             ]
            ],
            "type": "heatmapgl"
           }
          ],
          "histogram": [
           {
            "marker": {
             "pattern": {
              "fillmode": "overlay",
              "size": 10,
              "solidity": 0.2
             }
            },
            "type": "histogram"
           }
          ],
          "histogram2d": [
           {
            "colorbar": {
             "outlinewidth": 0,
             "ticks": ""
            },
            "colorscale": [
             [
              0,
              "#0d0887"
             ],
             [
              0.1111111111111111,
              "#46039f"
             ],
             [
              0.2222222222222222,
              "#7201a8"
             ],
             [
              0.3333333333333333,
              "#9c179e"
             ],
             [
              0.4444444444444444,
              "#bd3786"
             ],
             [
              0.5555555555555556,
              "#d8576b"
             ],
             [
              0.6666666666666666,
              "#ed7953"
             ],
             [
              0.7777777777777778,
              "#fb9f3a"
             ],
             [
              0.8888888888888888,
              "#fdca26"
             ],
             [
              1,
              "#f0f921"
             ]
            ],
            "type": "histogram2d"
           }
          ],
          "histogram2dcontour": [
           {
            "colorbar": {
             "outlinewidth": 0,
             "ticks": ""
            },
            "colorscale": [
             [
              0,
              "#0d0887"
             ],
             [
              0.1111111111111111,
              "#46039f"
             ],
             [
              0.2222222222222222,
              "#7201a8"
             ],
             [
              0.3333333333333333,
              "#9c179e"
             ],
             [
              0.4444444444444444,
              "#bd3786"
             ],
             [
              0.5555555555555556,
              "#d8576b"
             ],
             [
              0.6666666666666666,
              "#ed7953"
             ],
             [
              0.7777777777777778,
              "#fb9f3a"
             ],
             [
              0.8888888888888888,
              "#fdca26"
             ],
             [
              1,
              "#f0f921"
             ]
            ],
            "type": "histogram2dcontour"
           }
          ],
          "mesh3d": [
           {
            "colorbar": {
             "outlinewidth": 0,
             "ticks": ""
            },
            "type": "mesh3d"
           }
          ],
          "parcoords": [
           {
            "line": {
             "colorbar": {
              "outlinewidth": 0,
              "ticks": ""
             }
            },
            "type": "parcoords"
           }
          ],
          "pie": [
           {
            "automargin": true,
            "type": "pie"
           }
          ],
          "scatter": [
           {
            "fillpattern": {
             "fillmode": "overlay",
             "size": 10,
             "solidity": 0.2
            },
            "type": "scatter"
           }
          ],
          "scatter3d": [
           {
            "line": {
             "colorbar": {
              "outlinewidth": 0,
              "ticks": ""
             }
            },
            "marker": {
             "colorbar": {
              "outlinewidth": 0,
              "ticks": ""
             }
            },
            "type": "scatter3d"
           }
          ],
          "scattercarpet": [
           {
            "marker": {
             "colorbar": {
              "outlinewidth": 0,
              "ticks": ""
             }
            },
            "type": "scattercarpet"
           }
          ],
          "scattergeo": [
           {
            "marker": {
             "colorbar": {
              "outlinewidth": 0,
              "ticks": ""
             }
            },
            "type": "scattergeo"
           }
          ],
          "scattergl": [
           {
            "marker": {
             "colorbar": {
              "outlinewidth": 0,
              "ticks": ""
             }
            },
            "type": "scattergl"
           }
          ],
          "scattermapbox": [
           {
            "marker": {
             "colorbar": {
              "outlinewidth": 0,
              "ticks": ""
             }
            },
            "type": "scattermapbox"
           }
          ],
          "scatterpolar": [
           {
            "marker": {
             "colorbar": {
              "outlinewidth": 0,
              "ticks": ""
             }
            },
            "type": "scatterpolar"
           }
          ],
          "scatterpolargl": [
           {
            "marker": {
             "colorbar": {
              "outlinewidth": 0,
              "ticks": ""
             }
            },
            "type": "scatterpolargl"
           }
          ],
          "scatterternary": [
           {
            "marker": {
             "colorbar": {
              "outlinewidth": 0,
              "ticks": ""
             }
            },
            "type": "scatterternary"
           }
          ],
          "surface": [
           {
            "colorbar": {
             "outlinewidth": 0,
             "ticks": ""
            },
            "colorscale": [
             [
              0,
              "#0d0887"
             ],
             [
              0.1111111111111111,
              "#46039f"
             ],
             [
              0.2222222222222222,
              "#7201a8"
             ],
             [
              0.3333333333333333,
              "#9c179e"
             ],
             [
              0.4444444444444444,
              "#bd3786"
             ],
             [
              0.5555555555555556,
              "#d8576b"
             ],
             [
              0.6666666666666666,
              "#ed7953"
             ],
             [
              0.7777777777777778,
              "#fb9f3a"
             ],
             [
              0.8888888888888888,
              "#fdca26"
             ],
             [
              1,
              "#f0f921"
             ]
            ],
            "type": "surface"
           }
          ],
          "table": [
           {
            "cells": {
             "fill": {
              "color": "#EBF0F8"
             },
             "line": {
              "color": "white"
             }
            },
            "header": {
             "fill": {
              "color": "#C8D4E3"
             },
             "line": {
              "color": "white"
             }
            },
            "type": "table"
           }
          ]
         },
         "layout": {
          "annotationdefaults": {
           "arrowcolor": "#2a3f5f",
           "arrowhead": 0,
           "arrowwidth": 1
          },
          "autotypenumbers": "strict",
          "coloraxis": {
           "colorbar": {
            "outlinewidth": 0,
            "ticks": ""
           }
          },
          "colorscale": {
           "diverging": [
            [
             0,
             "#8e0152"
            ],
            [
             0.1,
             "#c51b7d"
            ],
            [
             0.2,
             "#de77ae"
            ],
            [
             0.3,
             "#f1b6da"
            ],
            [
             0.4,
             "#fde0ef"
            ],
            [
             0.5,
             "#f7f7f7"
            ],
            [
             0.6,
             "#e6f5d0"
            ],
            [
             0.7,
             "#b8e186"
            ],
            [
             0.8,
             "#7fbc41"
            ],
            [
             0.9,
             "#4d9221"
            ],
            [
             1,
             "#276419"
            ]
           ],
           "sequential": [
            [
             0,
             "#0d0887"
            ],
            [
             0.1111111111111111,
             "#46039f"
            ],
            [
             0.2222222222222222,
             "#7201a8"
            ],
            [
             0.3333333333333333,
             "#9c179e"
            ],
            [
             0.4444444444444444,
             "#bd3786"
            ],
            [
             0.5555555555555556,
             "#d8576b"
            ],
            [
             0.6666666666666666,
             "#ed7953"
            ],
            [
             0.7777777777777778,
             "#fb9f3a"
            ],
            [
             0.8888888888888888,
             "#fdca26"
            ],
            [
             1,
             "#f0f921"
            ]
           ],
           "sequentialminus": [
            [
             0,
             "#0d0887"
            ],
            [
             0.1111111111111111,
             "#46039f"
            ],
            [
             0.2222222222222222,
             "#7201a8"
            ],
            [
             0.3333333333333333,
             "#9c179e"
            ],
            [
             0.4444444444444444,
             "#bd3786"
            ],
            [
             0.5555555555555556,
             "#d8576b"
            ],
            [
             0.6666666666666666,
             "#ed7953"
            ],
            [
             0.7777777777777778,
             "#fb9f3a"
            ],
            [
             0.8888888888888888,
             "#fdca26"
            ],
            [
             1,
             "#f0f921"
            ]
           ]
          },
          "colorway": [
           "#636efa",
           "#EF553B",
           "#00cc96",
           "#ab63fa",
           "#FFA15A",
           "#19d3f3",
           "#FF6692",
           "#B6E880",
           "#FF97FF",
           "#FECB52"
          ],
          "font": {
           "color": "#2a3f5f"
          },
          "geo": {
           "bgcolor": "white",
           "lakecolor": "white",
           "landcolor": "#E5ECF6",
           "showlakes": true,
           "showland": true,
           "subunitcolor": "white"
          },
          "hoverlabel": {
           "align": "left"
          },
          "hovermode": "closest",
          "mapbox": {
           "style": "light"
          },
          "paper_bgcolor": "white",
          "plot_bgcolor": "#E5ECF6",
          "polar": {
           "angularaxis": {
            "gridcolor": "white",
            "linecolor": "white",
            "ticks": ""
           },
           "bgcolor": "#E5ECF6",
           "radialaxis": {
            "gridcolor": "white",
            "linecolor": "white",
            "ticks": ""
           }
          },
          "scene": {
           "xaxis": {
            "backgroundcolor": "#E5ECF6",
            "gridcolor": "white",
            "gridwidth": 2,
            "linecolor": "white",
            "showbackground": true,
            "ticks": "",
            "zerolinecolor": "white"
           },
           "yaxis": {
            "backgroundcolor": "#E5ECF6",
            "gridcolor": "white",
            "gridwidth": 2,
            "linecolor": "white",
            "showbackground": true,
            "ticks": "",
            "zerolinecolor": "white"
           },
           "zaxis": {
            "backgroundcolor": "#E5ECF6",
            "gridcolor": "white",
            "gridwidth": 2,
            "linecolor": "white",
            "showbackground": true,
            "ticks": "",
            "zerolinecolor": "white"
           }
          },
          "shapedefaults": {
           "line": {
            "color": "#2a3f5f"
           }
          },
          "ternary": {
           "aaxis": {
            "gridcolor": "white",
            "linecolor": "white",
            "ticks": ""
           },
           "baxis": {
            "gridcolor": "white",
            "linecolor": "white",
            "ticks": ""
           },
           "bgcolor": "#E5ECF6",
           "caxis": {
            "gridcolor": "white",
            "linecolor": "white",
            "ticks": ""
           }
          },
          "title": {
           "x": 0.05
          },
          "xaxis": {
           "automargin": true,
           "gridcolor": "white",
           "linecolor": "white",
           "ticks": "",
           "title": {
            "standoff": 15
           },
           "zerolinecolor": "white",
           "zerolinewidth": 2
          },
          "yaxis": {
           "automargin": true,
           "gridcolor": "white",
           "linecolor": "white",
           "ticks": "",
           "title": {
            "standoff": 15
           },
           "zerolinecolor": "white",
           "zerolinewidth": 2
          }
         }
        },
        "title": {
         "text": "Loudness variation by YEARS"
        },
        "xaxis": {
         "anchor": "y",
         "domain": [
          0,
          1
         ],
         "title": {
          "text": "year"
         }
        },
        "yaxis": {
         "anchor": "x",
         "domain": [
          0,
          1
         ],
         "title": {
          "text": "loudness"
         }
        }
       }
      }
     },
     "metadata": {},
     "output_type": "display_data"
    }
   ],
   "source": [
    "# changing dataset toPandas\n",
    "fig = px.line(data_year_2000.toPandas(), x='year', y='loudness', markers=True,\n",
    "              title='Loudness variation by YEARS').show()"
   ]
  },
  {
   "cell_type": "code",
   "execution_count": null,
   "metadata": {},
   "outputs": [],
   "source": []
  }
 ],
 "metadata": {
  "kernelspec": {
   "display_name": "Python 3.8.10 64-bit",
   "language": "python",
   "name": "python3"
  },
  "language_info": {
   "codemirror_mode": {
    "name": "ipython",
    "version": 3
   },
   "file_extension": ".py",
   "mimetype": "text/x-python",
   "name": "python",
   "nbconvert_exporter": "python",
   "pygments_lexer": "ipython3",
   "version": "3.8.10"
  },
  "orig_nbformat": 4,
  "vscode": {
   "interpreter": {
    "hash": "916dbcbb3f70747c44a77c7bcd40155683ae19c65e1c03b4aa3499c5328201f1"
   }
  }
 },
 "nbformat": 4,
 "nbformat_minor": 2
}
