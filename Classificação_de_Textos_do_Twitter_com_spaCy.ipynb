{
  "nbformat": 4,
  "nbformat_minor": 0,
  "metadata": {
    "colab": {
      "name": "Classificação de Textos do Twitter com spaCy.ipynb",
      "provenance": [],
      "collapsed_sections": [],
      "include_colab_link": true
    },
    "kernelspec": {
      "name": "python3",
      "display_name": "Python 3"
    },
    "accelerator": "TPU"
  },
  "cells": [
    {
      "cell_type": "markdown",
      "metadata": {
        "id": "view-in-github",
        "colab_type": "text"
      },
      "source": [
        "<a href=\"https://colab.research.google.com/github/MpRonald/Machine-Learning/blob/main/Classifica%C3%A7%C3%A3o_de_Textos_do_Twitter_com_spaCy.ipynb\" target=\"_parent\"><img src=\"https://colab.research.google.com/assets/colab-badge.svg\" alt=\"Open In Colab\"/></a>"
      ]
    },
    {
      "cell_type": "markdown",
      "metadata": {
        "id": "AGgw36kc8udU"
      },
      "source": [
        "# Classificação de textos do Twitter com spaCy"
      ]
    },
    {
      "cell_type": "markdown",
      "metadata": {
        "id": "JtJGnXGi8zt9"
      },
      "source": [
        "# Etapa 1: Importação e instalação das bibliotecas"
      ]
    },
    {
      "cell_type": "code",
      "source": [
        "from google.colab import drive\n",
        "drive.mount('/content/drive')"
      ],
      "metadata": {
        "colab": {
          "base_uri": "https://localhost:8080/"
        },
        "id": "wCELzEf-qNY-",
        "outputId": "97c9ac28-1961-4502-e86a-0ea941f3f203"
      },
      "execution_count": 1,
      "outputs": [
        {
          "output_type": "stream",
          "name": "stdout",
          "text": [
            "Mounted at /content/drive\n"
          ]
        }
      ]
    },
    {
      "cell_type": "code",
      "metadata": {
        "id": "Xh86jT1k_299",
        "colab": {
          "base_uri": "https://localhost:8080/"
        },
        "outputId": "df5bda7f-2caa-42dc-b83f-bb4346d1b46a"
      },
      "source": [
        "#!pip install spacy --upgrade\n",
        "!pip install -q spacy==2.2.3 #Atualizado: 02/05/2021 Obs: utilizar esta versão."
      ],
      "execution_count": 2,
      "outputs": [
        {
          "output_type": "stream",
          "name": "stdout",
          "text": [
            "\u001b[K     |████████████████████████████████| 10.4 MB 5.2 MB/s \n",
            "\u001b[K     |████████████████████████████████| 2.2 MB 52.5 MB/s \n",
            "\u001b[?25h"
          ]
        }
      ]
    },
    {
      "cell_type": "code",
      "metadata": {
        "id": "T1ZYK4Svri9a",
        "colab": {
          "base_uri": "https://localhost:8080/",
          "height": 35
        },
        "outputId": "68748be2-03ce-4825-b7df-09080fd996a5"
      },
      "source": [
        "import spacy\n",
        "spacy.__version__"
      ],
      "execution_count": 3,
      "outputs": [
        {
          "output_type": "execute_result",
          "data": {
            "text/plain": [
              "'2.2.3'"
            ],
            "application/vnd.google.colaboratory.intrinsic+json": {
              "type": "string"
            }
          },
          "metadata": {},
          "execution_count": 3
        }
      ]
    },
    {
      "cell_type": "code",
      "metadata": {
        "id": "BbXiQKovAAy_",
        "colab": {
          "base_uri": "https://localhost:8080/"
        },
        "outputId": "6f2e09ab-baa4-4afc-8996-05c0a64c14a7"
      },
      "source": [
        "!python3 -m spacy download pt"
      ],
      "execution_count": 4,
      "outputs": [
        {
          "output_type": "stream",
          "name": "stdout",
          "text": [
            "Collecting pt_core_news_sm==2.2.5\n",
            "  Downloading https://github.com/explosion/spacy-models/releases/download/pt_core_news_sm-2.2.5/pt_core_news_sm-2.2.5.tar.gz (21.2 MB)\n",
            "\u001b[K     |████████████████████████████████| 21.2 MB 1.2 MB/s \n",
            "\u001b[?25hRequirement already satisfied: spacy>=2.2.2 in /usr/local/lib/python3.7/dist-packages (from pt_core_news_sm==2.2.5) (2.2.3)\n",
            "Requirement already satisfied: plac<1.2.0,>=0.9.6 in /usr/local/lib/python3.7/dist-packages (from spacy>=2.2.2->pt_core_news_sm==2.2.5) (1.1.3)\n",
            "Requirement already satisfied: numpy>=1.15.0 in /usr/local/lib/python3.7/dist-packages (from spacy>=2.2.2->pt_core_news_sm==2.2.5) (1.21.6)\n",
            "Requirement already satisfied: thinc<7.4.0,>=7.3.0 in /usr/local/lib/python3.7/dist-packages (from spacy>=2.2.2->pt_core_news_sm==2.2.5) (7.3.1)\n",
            "Requirement already satisfied: preshed<3.1.0,>=3.0.2 in /usr/local/lib/python3.7/dist-packages (from spacy>=2.2.2->pt_core_news_sm==2.2.5) (3.0.6)\n",
            "Requirement already satisfied: wasabi<1.1.0,>=0.4.0 in /usr/local/lib/python3.7/dist-packages (from spacy>=2.2.2->pt_core_news_sm==2.2.5) (0.9.1)\n",
            "Requirement already satisfied: srsly<1.1.0,>=0.1.0 in /usr/local/lib/python3.7/dist-packages (from spacy>=2.2.2->pt_core_news_sm==2.2.5) (1.0.5)\n",
            "Requirement already satisfied: murmurhash<1.1.0,>=0.28.0 in /usr/local/lib/python3.7/dist-packages (from spacy>=2.2.2->pt_core_news_sm==2.2.5) (1.0.7)\n",
            "Requirement already satisfied: blis<0.5.0,>=0.4.0 in /usr/local/lib/python3.7/dist-packages (from spacy>=2.2.2->pt_core_news_sm==2.2.5) (0.4.1)\n",
            "Requirement already satisfied: catalogue<1.1.0,>=0.0.7 in /usr/local/lib/python3.7/dist-packages (from spacy>=2.2.2->pt_core_news_sm==2.2.5) (1.0.0)\n",
            "Requirement already satisfied: setuptools in /usr/local/lib/python3.7/dist-packages (from spacy>=2.2.2->pt_core_news_sm==2.2.5) (57.4.0)\n",
            "Requirement already satisfied: cymem<2.1.0,>=2.0.2 in /usr/local/lib/python3.7/dist-packages (from spacy>=2.2.2->pt_core_news_sm==2.2.5) (2.0.6)\n",
            "Requirement already satisfied: requests<3.0.0,>=2.13.0 in /usr/local/lib/python3.7/dist-packages (from spacy>=2.2.2->pt_core_news_sm==2.2.5) (2.23.0)\n",
            "Requirement already satisfied: importlib-metadata>=0.20 in /usr/local/lib/python3.7/dist-packages (from catalogue<1.1.0,>=0.0.7->spacy>=2.2.2->pt_core_news_sm==2.2.5) (4.11.3)\n",
            "Requirement already satisfied: zipp>=0.5 in /usr/local/lib/python3.7/dist-packages (from importlib-metadata>=0.20->catalogue<1.1.0,>=0.0.7->spacy>=2.2.2->pt_core_news_sm==2.2.5) (3.8.0)\n",
            "Requirement already satisfied: typing-extensions>=3.6.4 in /usr/local/lib/python3.7/dist-packages (from importlib-metadata>=0.20->catalogue<1.1.0,>=0.0.7->spacy>=2.2.2->pt_core_news_sm==2.2.5) (4.2.0)\n",
            "Requirement already satisfied: chardet<4,>=3.0.2 in /usr/local/lib/python3.7/dist-packages (from requests<3.0.0,>=2.13.0->spacy>=2.2.2->pt_core_news_sm==2.2.5) (3.0.4)\n",
            "Requirement already satisfied: idna<3,>=2.5 in /usr/local/lib/python3.7/dist-packages (from requests<3.0.0,>=2.13.0->spacy>=2.2.2->pt_core_news_sm==2.2.5) (2.10)\n",
            "Requirement already satisfied: urllib3!=1.25.0,!=1.25.1,<1.26,>=1.21.1 in /usr/local/lib/python3.7/dist-packages (from requests<3.0.0,>=2.13.0->spacy>=2.2.2->pt_core_news_sm==2.2.5) (1.24.3)\n",
            "Requirement already satisfied: certifi>=2017.4.17 in /usr/local/lib/python3.7/dist-packages (from requests<3.0.0,>=2.13.0->spacy>=2.2.2->pt_core_news_sm==2.2.5) (2021.10.8)\n",
            "Requirement already satisfied: tqdm<5.0.0,>=4.10.0 in /usr/local/lib/python3.7/dist-packages (from thinc<7.4.0,>=7.3.0->spacy>=2.2.2->pt_core_news_sm==2.2.5) (4.64.0)\n",
            "Building wheels for collected packages: pt-core-news-sm\n",
            "  Building wheel for pt-core-news-sm (setup.py) ... \u001b[?25l\u001b[?25hdone\n",
            "  Created wheel for pt-core-news-sm: filename=pt_core_news_sm-2.2.5-py3-none-any.whl size=21186281 sha256=49eaf09dfcd4de57067bb26b2aa16765204dd9bab8da12431107b0ddb7ca6310\n",
            "  Stored in directory: /tmp/pip-ephem-wheel-cache-l8jzs4bs/wheels/c3/f9/0c/5c014a36941a00f5df5fc0756cb961d7c457a978e697a6ce3b\n",
            "Successfully built pt-core-news-sm\n",
            "Installing collected packages: pt-core-news-sm\n",
            "Successfully installed pt-core-news-sm-2.2.5\n",
            "\u001b[38;5;2m✔ Download and installation successful\u001b[0m\n",
            "You can now load the model via spacy.load('pt_core_news_sm')\n",
            "\u001b[38;5;2m✔ Linking successful\u001b[0m\n",
            "/usr/local/lib/python3.7/dist-packages/pt_core_news_sm -->\n",
            "/usr/local/lib/python3.7/dist-packages/spacy/data/pt\n",
            "You can now load the model via spacy.load('pt')\n"
          ]
        }
      ]
    },
    {
      "cell_type": "code",
      "metadata": {
        "id": "DelYAveq8yuX"
      },
      "source": [
        "import pandas as pd\n",
        "import string\n",
        "import spacy\n",
        "import random\n",
        "import seaborn as sns\n",
        "import numpy as np\n",
        "import re"
      ],
      "execution_count": 5,
      "outputs": []
    },
    {
      "cell_type": "markdown",
      "metadata": {
        "id": "iE3VMD8t86ky"
      },
      "source": [
        "# Etapa 2: Carregamento das bases de dados\n",
        "\n",
        "- Link Kaggle: https://www.kaggle.com/augustop/portuguese-tweets-for-sentiment-analysis#TweetsNeutralHash.csv"
      ]
    },
    {
      "cell_type": "markdown",
      "metadata": {
        "id": "472HCiGNxsGm"
      },
      "source": [
        "## Base de treinamento\n",
        "\n",
        "- Negative label: 0\n",
        "- Positive label: 1"
      ]
    },
    {
      "cell_type": "code",
      "metadata": {
        "id": "jqsZesTIj1D1"
      },
      "source": [
        "base_treinamento = pd.read_csv('https://raw.githubusercontent.com/MpRonald/datasets/main/twiter_Train50.csv', delimiter=';')"
      ],
      "execution_count": 6,
      "outputs": []
    },
    {
      "cell_type": "code",
      "metadata": {
        "id": "kkNNr-fokG5Z",
        "colab": {
          "base_uri": "https://localhost:8080/"
        },
        "outputId": "091ffb69-d9c7-4571-dacb-43b3fed9ccba"
      },
      "source": [
        "base_treinamento.shape"
      ],
      "execution_count": 7,
      "outputs": [
        {
          "output_type": "execute_result",
          "data": {
            "text/plain": [
              "(50000, 5)"
            ]
          },
          "metadata": {},
          "execution_count": 7
        }
      ]
    },
    {
      "cell_type": "code",
      "metadata": {
        "id": "ian62Lo5kKXp",
        "colab": {
          "base_uri": "https://localhost:8080/",
          "height": 206
        },
        "outputId": "65689add-815c-422e-e3d1-6ff407b74f18"
      },
      "source": [
        "base_treinamento.head()"
      ],
      "execution_count": 8,
      "outputs": [
        {
          "output_type": "execute_result",
          "data": {
            "text/plain": [
              "                    id                                         tweet_text  \\\n",
              "0  1050785521201541121  @Laranjito76 A pessoa certa para isso seria o ...   \n",
              "1  1050785431955140608  @behin_d_curtain Para mim, é precisamente o co...   \n",
              "2  1050785401248645120  Vou fazer um video hoje... estou pensando em f...   \n",
              "3  1050785370982547461  aaaaaaaa amei tanto essas polaroids, nem sei e...   \n",
              "4  1050785368902131713  Valoriza o coração do menininho que vc tem. El...   \n",
              "\n",
              "                       tweet_date  sentiment query_used  \n",
              "0  Fri Oct 12 16:29:25 +0000 2018          1         :)  \n",
              "1  Fri Oct 12 16:29:04 +0000 2018          1         :)  \n",
              "2  Fri Oct 12 16:28:56 +0000 2018          1         :)  \n",
              "3  Fri Oct 12 16:28:49 +0000 2018          1         :)  \n",
              "4  Fri Oct 12 16:28:49 +0000 2018          1         :)  "
            ],
            "text/html": [
              "\n",
              "  <div id=\"df-1add33b6-359b-4119-8d85-88cbfc8bd06f\">\n",
              "    <div class=\"colab-df-container\">\n",
              "      <div>\n",
              "<style scoped>\n",
              "    .dataframe tbody tr th:only-of-type {\n",
              "        vertical-align: middle;\n",
              "    }\n",
              "\n",
              "    .dataframe tbody tr th {\n",
              "        vertical-align: top;\n",
              "    }\n",
              "\n",
              "    .dataframe thead th {\n",
              "        text-align: right;\n",
              "    }\n",
              "</style>\n",
              "<table border=\"1\" class=\"dataframe\">\n",
              "  <thead>\n",
              "    <tr style=\"text-align: right;\">\n",
              "      <th></th>\n",
              "      <th>id</th>\n",
              "      <th>tweet_text</th>\n",
              "      <th>tweet_date</th>\n",
              "      <th>sentiment</th>\n",
              "      <th>query_used</th>\n",
              "    </tr>\n",
              "  </thead>\n",
              "  <tbody>\n",
              "    <tr>\n",
              "      <th>0</th>\n",
              "      <td>1050785521201541121</td>\n",
              "      <td>@Laranjito76 A pessoa certa para isso seria o ...</td>\n",
              "      <td>Fri Oct 12 16:29:25 +0000 2018</td>\n",
              "      <td>1</td>\n",
              "      <td>:)</td>\n",
              "    </tr>\n",
              "    <tr>\n",
              "      <th>1</th>\n",
              "      <td>1050785431955140608</td>\n",
              "      <td>@behin_d_curtain Para mim, é precisamente o co...</td>\n",
              "      <td>Fri Oct 12 16:29:04 +0000 2018</td>\n",
              "      <td>1</td>\n",
              "      <td>:)</td>\n",
              "    </tr>\n",
              "    <tr>\n",
              "      <th>2</th>\n",
              "      <td>1050785401248645120</td>\n",
              "      <td>Vou fazer um video hoje... estou pensando em f...</td>\n",
              "      <td>Fri Oct 12 16:28:56 +0000 2018</td>\n",
              "      <td>1</td>\n",
              "      <td>:)</td>\n",
              "    </tr>\n",
              "    <tr>\n",
              "      <th>3</th>\n",
              "      <td>1050785370982547461</td>\n",
              "      <td>aaaaaaaa amei tanto essas polaroids, nem sei e...</td>\n",
              "      <td>Fri Oct 12 16:28:49 +0000 2018</td>\n",
              "      <td>1</td>\n",
              "      <td>:)</td>\n",
              "    </tr>\n",
              "    <tr>\n",
              "      <th>4</th>\n",
              "      <td>1050785368902131713</td>\n",
              "      <td>Valoriza o coração do menininho que vc tem. El...</td>\n",
              "      <td>Fri Oct 12 16:28:49 +0000 2018</td>\n",
              "      <td>1</td>\n",
              "      <td>:)</td>\n",
              "    </tr>\n",
              "  </tbody>\n",
              "</table>\n",
              "</div>\n",
              "      <button class=\"colab-df-convert\" onclick=\"convertToInteractive('df-1add33b6-359b-4119-8d85-88cbfc8bd06f')\"\n",
              "              title=\"Convert this dataframe to an interactive table.\"\n",
              "              style=\"display:none;\">\n",
              "        \n",
              "  <svg xmlns=\"http://www.w3.org/2000/svg\" height=\"24px\"viewBox=\"0 0 24 24\"\n",
              "       width=\"24px\">\n",
              "    <path d=\"M0 0h24v24H0V0z\" fill=\"none\"/>\n",
              "    <path d=\"M18.56 5.44l.94 2.06.94-2.06 2.06-.94-2.06-.94-.94-2.06-.94 2.06-2.06.94zm-11 1L8.5 8.5l.94-2.06 2.06-.94-2.06-.94L8.5 2.5l-.94 2.06-2.06.94zm10 10l.94 2.06.94-2.06 2.06-.94-2.06-.94-.94-2.06-.94 2.06-2.06.94z\"/><path d=\"M17.41 7.96l-1.37-1.37c-.4-.4-.92-.59-1.43-.59-.52 0-1.04.2-1.43.59L10.3 9.45l-7.72 7.72c-.78.78-.78 2.05 0 2.83L4 21.41c.39.39.9.59 1.41.59.51 0 1.02-.2 1.41-.59l7.78-7.78 2.81-2.81c.8-.78.8-2.07 0-2.86zM5.41 20L4 18.59l7.72-7.72 1.47 1.35L5.41 20z\"/>\n",
              "  </svg>\n",
              "      </button>\n",
              "      \n",
              "  <style>\n",
              "    .colab-df-container {\n",
              "      display:flex;\n",
              "      flex-wrap:wrap;\n",
              "      gap: 12px;\n",
              "    }\n",
              "\n",
              "    .colab-df-convert {\n",
              "      background-color: #E8F0FE;\n",
              "      border: none;\n",
              "      border-radius: 50%;\n",
              "      cursor: pointer;\n",
              "      display: none;\n",
              "      fill: #1967D2;\n",
              "      height: 32px;\n",
              "      padding: 0 0 0 0;\n",
              "      width: 32px;\n",
              "    }\n",
              "\n",
              "    .colab-df-convert:hover {\n",
              "      background-color: #E2EBFA;\n",
              "      box-shadow: 0px 1px 2px rgba(60, 64, 67, 0.3), 0px 1px 3px 1px rgba(60, 64, 67, 0.15);\n",
              "      fill: #174EA6;\n",
              "    }\n",
              "\n",
              "    [theme=dark] .colab-df-convert {\n",
              "      background-color: #3B4455;\n",
              "      fill: #D2E3FC;\n",
              "    }\n",
              "\n",
              "    [theme=dark] .colab-df-convert:hover {\n",
              "      background-color: #434B5C;\n",
              "      box-shadow: 0px 1px 3px 1px rgba(0, 0, 0, 0.15);\n",
              "      filter: drop-shadow(0px 1px 2px rgba(0, 0, 0, 0.3));\n",
              "      fill: #FFFFFF;\n",
              "    }\n",
              "  </style>\n",
              "\n",
              "      <script>\n",
              "        const buttonEl =\n",
              "          document.querySelector('#df-1add33b6-359b-4119-8d85-88cbfc8bd06f button.colab-df-convert');\n",
              "        buttonEl.style.display =\n",
              "          google.colab.kernel.accessAllowed ? 'block' : 'none';\n",
              "\n",
              "        async function convertToInteractive(key) {\n",
              "          const element = document.querySelector('#df-1add33b6-359b-4119-8d85-88cbfc8bd06f');\n",
              "          const dataTable =\n",
              "            await google.colab.kernel.invokeFunction('convertToInteractive',\n",
              "                                                     [key], {});\n",
              "          if (!dataTable) return;\n",
              "\n",
              "          const docLinkHtml = 'Like what you see? Visit the ' +\n",
              "            '<a target=\"_blank\" href=https://colab.research.google.com/notebooks/data_table.ipynb>data table notebook</a>'\n",
              "            + ' to learn more about interactive tables.';\n",
              "          element.innerHTML = '';\n",
              "          dataTable['output_type'] = 'display_data';\n",
              "          await google.colab.output.renderOutput(dataTable, element);\n",
              "          const docLink = document.createElement('div');\n",
              "          docLink.innerHTML = docLinkHtml;\n",
              "          element.appendChild(docLink);\n",
              "        }\n",
              "      </script>\n",
              "    </div>\n",
              "  </div>\n",
              "  "
            ]
          },
          "metadata": {},
          "execution_count": 8
        }
      ]
    },
    {
      "cell_type": "code",
      "metadata": {
        "id": "xFrzQLCckhEW",
        "colab": {
          "base_uri": "https://localhost:8080/",
          "height": 206
        },
        "outputId": "db791cd6-2aa1-43f0-a3b5-c1abbec348c7"
      },
      "source": [
        "base_treinamento.tail()"
      ],
      "execution_count": 9,
      "outputs": [
        {
          "output_type": "execute_result",
          "data": {
            "text/plain": [
              "                        id                                         tweet_text  \\\n",
              "49995  1046762827053232128     :( é tão lindo que dói https://t.co/GqnpgyWWxB   \n",
              "49996  1046762813362966529  @veraluciarj Pois é.. tenho problema c/ \"coisa...   \n",
              "49997  1046762806392082432  eu te amo tanto minja vidinha meu bem mais pre...   \n",
              "49998  1046762752071618560                      @itsLary @jessboluda Pfvor :(   \n",
              "49999  1046762735340584962  @Renk_lol Passa ano Entra ano Eu nao desisto d...   \n",
              "\n",
              "                           tweet_date  sentiment query_used  \n",
              "49995  Mon Oct 01 14:04:40 +0000 2018          0         :(  \n",
              "49996  Mon Oct 01 14:04:37 +0000 2018          0         :(  \n",
              "49997  Mon Oct 01 14:04:35 +0000 2018          0         :(  \n",
              "49998  Mon Oct 01 14:04:22 +0000 2018          0         :(  \n",
              "49999  Mon Oct 01 14:04:18 +0000 2018          0         :(  "
            ],
            "text/html": [
              "\n",
              "  <div id=\"df-067b8140-170f-4ccf-b8e4-94ef6463ccf0\">\n",
              "    <div class=\"colab-df-container\">\n",
              "      <div>\n",
              "<style scoped>\n",
              "    .dataframe tbody tr th:only-of-type {\n",
              "        vertical-align: middle;\n",
              "    }\n",
              "\n",
              "    .dataframe tbody tr th {\n",
              "        vertical-align: top;\n",
              "    }\n",
              "\n",
              "    .dataframe thead th {\n",
              "        text-align: right;\n",
              "    }\n",
              "</style>\n",
              "<table border=\"1\" class=\"dataframe\">\n",
              "  <thead>\n",
              "    <tr style=\"text-align: right;\">\n",
              "      <th></th>\n",
              "      <th>id</th>\n",
              "      <th>tweet_text</th>\n",
              "      <th>tweet_date</th>\n",
              "      <th>sentiment</th>\n",
              "      <th>query_used</th>\n",
              "    </tr>\n",
              "  </thead>\n",
              "  <tbody>\n",
              "    <tr>\n",
              "      <th>49995</th>\n",
              "      <td>1046762827053232128</td>\n",
              "      <td>:( é tão lindo que dói https://t.co/GqnpgyWWxB</td>\n",
              "      <td>Mon Oct 01 14:04:40 +0000 2018</td>\n",
              "      <td>0</td>\n",
              "      <td>:(</td>\n",
              "    </tr>\n",
              "    <tr>\n",
              "      <th>49996</th>\n",
              "      <td>1046762813362966529</td>\n",
              "      <td>@veraluciarj Pois é.. tenho problema c/ \"coisa...</td>\n",
              "      <td>Mon Oct 01 14:04:37 +0000 2018</td>\n",
              "      <td>0</td>\n",
              "      <td>:(</td>\n",
              "    </tr>\n",
              "    <tr>\n",
              "      <th>49997</th>\n",
              "      <td>1046762806392082432</td>\n",
              "      <td>eu te amo tanto minja vidinha meu bem mais pre...</td>\n",
              "      <td>Mon Oct 01 14:04:35 +0000 2018</td>\n",
              "      <td>0</td>\n",
              "      <td>:(</td>\n",
              "    </tr>\n",
              "    <tr>\n",
              "      <th>49998</th>\n",
              "      <td>1046762752071618560</td>\n",
              "      <td>@itsLary @jessboluda Pfvor :(</td>\n",
              "      <td>Mon Oct 01 14:04:22 +0000 2018</td>\n",
              "      <td>0</td>\n",
              "      <td>:(</td>\n",
              "    </tr>\n",
              "    <tr>\n",
              "      <th>49999</th>\n",
              "      <td>1046762735340584962</td>\n",
              "      <td>@Renk_lol Passa ano Entra ano Eu nao desisto d...</td>\n",
              "      <td>Mon Oct 01 14:04:18 +0000 2018</td>\n",
              "      <td>0</td>\n",
              "      <td>:(</td>\n",
              "    </tr>\n",
              "  </tbody>\n",
              "</table>\n",
              "</div>\n",
              "      <button class=\"colab-df-convert\" onclick=\"convertToInteractive('df-067b8140-170f-4ccf-b8e4-94ef6463ccf0')\"\n",
              "              title=\"Convert this dataframe to an interactive table.\"\n",
              "              style=\"display:none;\">\n",
              "        \n",
              "  <svg xmlns=\"http://www.w3.org/2000/svg\" height=\"24px\"viewBox=\"0 0 24 24\"\n",
              "       width=\"24px\">\n",
              "    <path d=\"M0 0h24v24H0V0z\" fill=\"none\"/>\n",
              "    <path d=\"M18.56 5.44l.94 2.06.94-2.06 2.06-.94-2.06-.94-.94-2.06-.94 2.06-2.06.94zm-11 1L8.5 8.5l.94-2.06 2.06-.94-2.06-.94L8.5 2.5l-.94 2.06-2.06.94zm10 10l.94 2.06.94-2.06 2.06-.94-2.06-.94-.94-2.06-.94 2.06-2.06.94z\"/><path d=\"M17.41 7.96l-1.37-1.37c-.4-.4-.92-.59-1.43-.59-.52 0-1.04.2-1.43.59L10.3 9.45l-7.72 7.72c-.78.78-.78 2.05 0 2.83L4 21.41c.39.39.9.59 1.41.59.51 0 1.02-.2 1.41-.59l7.78-7.78 2.81-2.81c.8-.78.8-2.07 0-2.86zM5.41 20L4 18.59l7.72-7.72 1.47 1.35L5.41 20z\"/>\n",
              "  </svg>\n",
              "      </button>\n",
              "      \n",
              "  <style>\n",
              "    .colab-df-container {\n",
              "      display:flex;\n",
              "      flex-wrap:wrap;\n",
              "      gap: 12px;\n",
              "    }\n",
              "\n",
              "    .colab-df-convert {\n",
              "      background-color: #E8F0FE;\n",
              "      border: none;\n",
              "      border-radius: 50%;\n",
              "      cursor: pointer;\n",
              "      display: none;\n",
              "      fill: #1967D2;\n",
              "      height: 32px;\n",
              "      padding: 0 0 0 0;\n",
              "      width: 32px;\n",
              "    }\n",
              "\n",
              "    .colab-df-convert:hover {\n",
              "      background-color: #E2EBFA;\n",
              "      box-shadow: 0px 1px 2px rgba(60, 64, 67, 0.3), 0px 1px 3px 1px rgba(60, 64, 67, 0.15);\n",
              "      fill: #174EA6;\n",
              "    }\n",
              "\n",
              "    [theme=dark] .colab-df-convert {\n",
              "      background-color: #3B4455;\n",
              "      fill: #D2E3FC;\n",
              "    }\n",
              "\n",
              "    [theme=dark] .colab-df-convert:hover {\n",
              "      background-color: #434B5C;\n",
              "      box-shadow: 0px 1px 3px 1px rgba(0, 0, 0, 0.15);\n",
              "      filter: drop-shadow(0px 1px 2px rgba(0, 0, 0, 0.3));\n",
              "      fill: #FFFFFF;\n",
              "    }\n",
              "  </style>\n",
              "\n",
              "      <script>\n",
              "        const buttonEl =\n",
              "          document.querySelector('#df-067b8140-170f-4ccf-b8e4-94ef6463ccf0 button.colab-df-convert');\n",
              "        buttonEl.style.display =\n",
              "          google.colab.kernel.accessAllowed ? 'block' : 'none';\n",
              "\n",
              "        async function convertToInteractive(key) {\n",
              "          const element = document.querySelector('#df-067b8140-170f-4ccf-b8e4-94ef6463ccf0');\n",
              "          const dataTable =\n",
              "            await google.colab.kernel.invokeFunction('convertToInteractive',\n",
              "                                                     [key], {});\n",
              "          if (!dataTable) return;\n",
              "\n",
              "          const docLinkHtml = 'Like what you see? Visit the ' +\n",
              "            '<a target=\"_blank\" href=https://colab.research.google.com/notebooks/data_table.ipynb>data table notebook</a>'\n",
              "            + ' to learn more about interactive tables.';\n",
              "          element.innerHTML = '';\n",
              "          dataTable['output_type'] = 'display_data';\n",
              "          await google.colab.output.renderOutput(dataTable, element);\n",
              "          const docLink = document.createElement('div');\n",
              "          docLink.innerHTML = docLinkHtml;\n",
              "          element.appendChild(docLink);\n",
              "        }\n",
              "      </script>\n",
              "    </div>\n",
              "  </div>\n",
              "  "
            ]
          },
          "metadata": {},
          "execution_count": 9
        }
      ]
    },
    {
      "cell_type": "code",
      "metadata": {
        "id": "IVVwuPGhkm5h",
        "colab": {
          "base_uri": "https://localhost:8080/",
          "height": 334
        },
        "outputId": "4b5ef1a7-3ee7-447e-bab3-5439cc216d10"
      },
      "source": [
        "sns.countplot(base_treinamento['sentiment'], label = 'Contagem');"
      ],
      "execution_count": 10,
      "outputs": [
        {
          "output_type": "stream",
          "name": "stderr",
          "text": [
            "/usr/local/lib/python3.7/dist-packages/seaborn/_decorators.py:43: FutureWarning: Pass the following variable as a keyword arg: x. From version 0.12, the only valid positional argument will be `data`, and passing other arguments without an explicit keyword will result in an error or misinterpretation.\n",
            "  FutureWarning\n"
          ]
        },
        {
          "output_type": "display_data",
          "data": {
            "text/plain": [
              "<Figure size 432x288 with 1 Axes>"
            ],
            "image/png": "[encoded data removed]"
          },
          "metadata": {
            "needs_background": "light"
          }
        }
      ]
    },
    {
      "cell_type": "code",
      "metadata": {
        "id": "-xTh-gqelMWn"
      },
      "source": [
        "base_treinamento.drop(['id', 'tweet_date', 'query_used'], axis = 1, inplace=True)"
      ],
      "execution_count": 11,
      "outputs": []
    },
    {
      "cell_type": "code",
      "metadata": {
        "id": "82hWS5cklVZ_",
        "colab": {
          "base_uri": "https://localhost:8080/",
          "height": 206
        },
        "outputId": "338d3d0d-9058-45e7-ae5e-faf2d57b28b3"
      },
      "source": [
        "base_treinamento.head()"
      ],
      "execution_count": 12,
      "outputs": [
        {
          "output_type": "execute_result",
          "data": {
            "text/plain": [
              "                                          tweet_text  sentiment\n",
              "0  @Laranjito76 A pessoa certa para isso seria o ...          1\n",
              "1  @behin_d_curtain Para mim, é precisamente o co...          1\n",
              "2  Vou fazer um video hoje... estou pensando em f...          1\n",
              "3  aaaaaaaa amei tanto essas polaroids, nem sei e...          1\n",
              "4  Valoriza o coração do menininho que vc tem. El...          1"
            ],
            "text/html": [
              "\n",
              "  <div id=\"df-ea7132fb-c435-4083-8b51-c44a8ef78c4b\">\n",
              "    <div class=\"colab-df-container\">\n",
              "      <div>\n",
              "<style scoped>\n",
              "    .dataframe tbody tr th:only-of-type {\n",
              "        vertical-align: middle;\n",
              "    }\n",
              "\n",
              "    .dataframe tbody tr th {\n",
              "        vertical-align: top;\n",
              "    }\n",
              "\n",
              "    .dataframe thead th {\n",
              "        text-align: right;\n",
              "    }\n",
              "</style>\n",
              "<table border=\"1\" class=\"dataframe\">\n",
              "  <thead>\n",
              "    <tr style=\"text-align: right;\">\n",
              "      <th></th>\n",
              "      <th>tweet_text</th>\n",
              "      <th>sentiment</th>\n",
              "    </tr>\n",
              "  </thead>\n",
              "  <tbody>\n",
              "    <tr>\n",
              "      <th>0</th>\n",
              "      <td>@Laranjito76 A pessoa certa para isso seria o ...</td>\n",
              "      <td>1</td>\n",
              "    </tr>\n",
              "    <tr>\n",
              "      <th>1</th>\n",
              "      <td>@behin_d_curtain Para mim, é precisamente o co...</td>\n",
              "      <td>1</td>\n",
              "    </tr>\n",
              "    <tr>\n",
              "      <th>2</th>\n",
              "      <td>Vou fazer um video hoje... estou pensando em f...</td>\n",
              "      <td>1</td>\n",
              "    </tr>\n",
              "    <tr>\n",
              "      <th>3</th>\n",
              "      <td>aaaaaaaa amei tanto essas polaroids, nem sei e...</td>\n",
              "      <td>1</td>\n",
              "    </tr>\n",
              "    <tr>\n",
              "      <th>4</th>\n",
              "      <td>Valoriza o coração do menininho que vc tem. El...</td>\n",
              "      <td>1</td>\n",
              "    </tr>\n",
              "  </tbody>\n",
              "</table>\n",
              "</div>\n",
              "      <button class=\"colab-df-convert\" onclick=\"convertToInteractive('df-ea7132fb-c435-4083-8b51-c44a8ef78c4b')\"\n",
              "              title=\"Convert this dataframe to an interactive table.\"\n",
              "              style=\"display:none;\">\n",
              "        \n",
              "  <svg xmlns=\"http://www.w3.org/2000/svg\" height=\"24px\"viewBox=\"0 0 24 24\"\n",
              "       width=\"24px\">\n",
              "    <path d=\"M0 0h24v24H0V0z\" fill=\"none\"/>\n",
              "    <path d=\"M18.56 5.44l.94 2.06.94-2.06 2.06-.94-2.06-.94-.94-2.06-.94 2.06-2.06.94zm-11 1L8.5 8.5l.94-2.06 2.06-.94-2.06-.94L8.5 2.5l-.94 2.06-2.06.94zm10 10l.94 2.06.94-2.06 2.06-.94-2.06-.94-.94-2.06-.94 2.06-2.06.94z\"/><path d=\"M17.41 7.96l-1.37-1.37c-.4-.4-.92-.59-1.43-.59-.52 0-1.04.2-1.43.59L10.3 9.45l-7.72 7.72c-.78.78-.78 2.05 0 2.83L4 21.41c.39.39.9.59 1.41.59.51 0 1.02-.2 1.41-.59l7.78-7.78 2.81-2.81c.8-.78.8-2.07 0-2.86zM5.41 20L4 18.59l7.72-7.72 1.47 1.35L5.41 20z\"/>\n",
              "  </svg>\n",
              "      </button>\n",
              "      \n",
              "  <style>\n",
              "    .colab-df-container {\n",
              "      display:flex;\n",
              "      flex-wrap:wrap;\n",
              "      gap: 12px;\n",
              "    }\n",
              "\n",
              "    .colab-df-convert {\n",
              "      background-color: #E8F0FE;\n",
              "      border: none;\n",
              "      border-radius: 50%;\n",
              "      cursor: pointer;\n",
              "      display: none;\n",
              "      fill: #1967D2;\n",
              "      height: 32px;\n",
              "      padding: 0 0 0 0;\n",
              "      width: 32px;\n",
              "    }\n",
              "\n",
              "    .colab-df-convert:hover {\n",
              "      background-color: #E2EBFA;\n",
              "      box-shadow: 0px 1px 2px rgba(60, 64, 67, 0.3), 0px 1px 3px 1px rgba(60, 64, 67, 0.15);\n",
              "      fill: #174EA6;\n",
              "    }\n",
              "\n",
              "    [theme=dark] .colab-df-convert {\n",
              "      background-color: #3B4455;\n",
              "      fill: #D2E3FC;\n",
              "    }\n",
              "\n",
              "    [theme=dark] .colab-df-convert:hover {\n",
              "      background-color: #434B5C;\n",
              "      box-shadow: 0px 1px 3px 1px rgba(0, 0, 0, 0.15);\n",
              "      filter: drop-shadow(0px 1px 2px rgba(0, 0, 0, 0.3));\n",
              "      fill: #FFFFFF;\n",
              "    }\n",
              "  </style>\n",
              "\n",
              "      <script>\n",
              "        const buttonEl =\n",
              "          document.querySelector('#df-ea7132fb-c435-4083-8b51-c44a8ef78c4b button.colab-df-convert');\n",
              "        buttonEl.style.display =\n",
              "          google.colab.kernel.accessAllowed ? 'block' : 'none';\n",
              "\n",
              "        async function convertToInteractive(key) {\n",
              "          const element = document.querySelector('#df-ea7132fb-c435-4083-8b51-c44a8ef78c4b');\n",
              "          const dataTable =\n",
              "            await google.colab.kernel.invokeFunction('convertToInteractive',\n",
              "                                                     [key], {});\n",
              "          if (!dataTable) return;\n",
              "\n",
              "          const docLinkHtml = 'Like what you see? Visit the ' +\n",
              "            '<a target=\"_blank\" href=https://colab.research.google.com/notebooks/data_table.ipynb>data table notebook</a>'\n",
              "            + ' to learn more about interactive tables.';\n",
              "          element.innerHTML = '';\n",
              "          dataTable['output_type'] = 'display_data';\n",
              "          await google.colab.output.renderOutput(dataTable, element);\n",
              "          const docLink = document.createElement('div');\n",
              "          docLink.innerHTML = docLinkHtml;\n",
              "          element.appendChild(docLink);\n",
              "        }\n",
              "      </script>\n",
              "    </div>\n",
              "  </div>\n",
              "  "
            ]
          },
          "metadata": {},
          "execution_count": 12
        }
      ]
    },
    {
      "cell_type": "code",
      "metadata": {
        "id": "dfMcmaval-7w",
        "colab": {
          "base_uri": "https://localhost:8080/",
          "height": 271
        },
        "outputId": "91cfb8ed-dfa3-471a-d4d7-ed2f931ec33b"
      },
      "source": [
        "sns.heatmap(pd.isnull(base_treinamento));"
      ],
      "execution_count": 13,
      "outputs": [
        {
          "output_type": "display_data",
          "data": {
            "text/plain": [
              "<Figure size 432x288 with 2 Axes>"
            ],
            "image/png": "[encoded data removed]"
          },
          "metadata": {
            "needs_background": "light"
          }
        }
      ]
    },
    {
      "cell_type": "markdown",
      "metadata": {
        "id": "KwANq9uCx-jV"
      },
      "source": [
        "## Base de teste"
      ]
    },
    {
      "cell_type": "code",
      "metadata": {
        "id": "PllVVG-IlYkC"
      },
      "source": [
        "base_teste = pd.read_csv('https://raw.githubusercontent.com/MpRonald/datasets/main/twiter_Test.csv', delimiter=';')"
      ],
      "execution_count": 15,
      "outputs": []
    },
    {
      "cell_type": "code",
      "metadata": {
        "id": "yeiX7jb-lfdE",
        "colab": {
          "base_uri": "https://localhost:8080/",
          "height": 206
        },
        "outputId": "ed67ff75-7b5f-4a96-b5f2-e2dd044bb9b8"
      },
      "source": [
        "base_teste.head()"
      ],
      "execution_count": 16,
      "outputs": [
        {
          "output_type": "execute_result",
          "data": {
            "text/plain": [
              "                    id                                         tweet_text  \\\n",
              "0  1029536486021099522                   @Gazo1a Nossa! Muito obrigada :)   \n",
              "1  1029536496368406528             @BerzGamer vai pa puta que te pariu :)   \n",
              "2  1029536531655131137  QUER MAIS DESCONTOS? (14/08) ⭐⭐⭐⭐⭐ 🌐 Confira n...   \n",
              "3  1029536560117678081  EU VOU PEGAR VCS, ME AJUDEM GALERA, PELO AMOR ...   \n",
              "4  1029536605852377088  Estávamos em casa do Zé e eu estava a morrer d...   \n",
              "\n",
              "                       tweet_date  sentiment query_used  \n",
              "0  Wed Aug 15 01:13:20 +0000 2018          1         :)  \n",
              "1  Wed Aug 15 01:13:23 +0000 2018          1         :)  \n",
              "2  Wed Aug 15 01:13:31 +0000 2018          1         :)  \n",
              "3  Wed Aug 15 01:13:38 +0000 2018          1         :)  \n",
              "4  Wed Aug 15 01:13:49 +0000 2018          1         :)  "
            ],
            "text/html": [
              "\n",
              "  <div id=\"df-46475fdf-25bb-438a-94cf-1cf10998251c\">\n",
              "    <div class=\"colab-df-container\">\n",
              "      <div>\n",
              "<style scoped>\n",
              "    .dataframe tbody tr th:only-of-type {\n",
              "        vertical-align: middle;\n",
              "    }\n",
              "\n",
              "    .dataframe tbody tr th {\n",
              "        vertical-align: top;\n",
              "    }\n",
              "\n",
              "    .dataframe thead th {\n",
              "        text-align: right;\n",
              "    }\n",
              "</style>\n",
              "<table border=\"1\" class=\"dataframe\">\n",
              "  <thead>\n",
              "    <tr style=\"text-align: right;\">\n",
              "      <th></th>\n",
              "      <th>id</th>\n",
              "      <th>tweet_text</th>\n",
              "      <th>tweet_date</th>\n",
              "      <th>sentiment</th>\n",
              "      <th>query_used</th>\n",
              "    </tr>\n",
              "  </thead>\n",
              "  <tbody>\n",
              "    <tr>\n",
              "      <th>0</th>\n",
              "      <td>1029536486021099522</td>\n",
              "      <td>@Gazo1a Nossa! Muito obrigada :)</td>\n",
              "      <td>Wed Aug 15 01:13:20 +0000 2018</td>\n",
              "      <td>1</td>\n",
              "      <td>:)</td>\n",
              "    </tr>\n",
              "    <tr>\n",
              "      <th>1</th>\n",
              "      <td>1029536496368406528</td>\n",
              "      <td>@BerzGamer vai pa puta que te pariu :)</td>\n",
              "      <td>Wed Aug 15 01:13:23 +0000 2018</td>\n",
              "      <td>1</td>\n",
              "      <td>:)</td>\n",
              "    </tr>\n",
              "    <tr>\n",
              "      <th>2</th>\n",
              "      <td>1029536531655131137</td>\n",
              "      <td>QUER MAIS DESCONTOS? (14/08) ⭐⭐⭐⭐⭐ 🌐 Confira n...</td>\n",
              "      <td>Wed Aug 15 01:13:31 +0000 2018</td>\n",
              "      <td>1</td>\n",
              "      <td>:)</td>\n",
              "    </tr>\n",
              "    <tr>\n",
              "      <th>3</th>\n",
              "      <td>1029536560117678081</td>\n",
              "      <td>EU VOU PEGAR VCS, ME AJUDEM GALERA, PELO AMOR ...</td>\n",
              "      <td>Wed Aug 15 01:13:38 +0000 2018</td>\n",
              "      <td>1</td>\n",
              "      <td>:)</td>\n",
              "    </tr>\n",
              "    <tr>\n",
              "      <th>4</th>\n",
              "      <td>1029536605852377088</td>\n",
              "      <td>Estávamos em casa do Zé e eu estava a morrer d...</td>\n",
              "      <td>Wed Aug 15 01:13:49 +0000 2018</td>\n",
              "      <td>1</td>\n",
              "      <td>:)</td>\n",
              "    </tr>\n",
              "  </tbody>\n",
              "</table>\n",
              "</div>\n",
              "      <button class=\"colab-df-convert\" onclick=\"convertToInteractive('df-46475fdf-25bb-438a-94cf-1cf10998251c')\"\n",
              "              title=\"Convert this dataframe to an interactive table.\"\n",
              "              style=\"display:none;\">\n",
              "        \n",
              "  <svg xmlns=\"http://www.w3.org/2000/svg\" height=\"24px\"viewBox=\"0 0 24 24\"\n",
              "       width=\"24px\">\n",
              "    <path d=\"M0 0h24v24H0V0z\" fill=\"none\"/>\n",
              "    <path d=\"M18.56 5.44l.94 2.06.94-2.06 2.06-.94-2.06-.94-.94-2.06-.94 2.06-2.06.94zm-11 1L8.5 8.5l.94-2.06 2.06-.94-2.06-.94L8.5 2.5l-.94 2.06-2.06.94zm10 10l.94 2.06.94-2.06 2.06-.94-2.06-.94-.94-2.06-.94 2.06-2.06.94z\"/><path d=\"M17.41 7.96l-1.37-1.37c-.4-.4-.92-.59-1.43-.59-.52 0-1.04.2-1.43.59L10.3 9.45l-7.72 7.72c-.78.78-.78 2.05 0 2.83L4 21.41c.39.39.9.59 1.41.59.51 0 1.02-.2 1.41-.59l7.78-7.78 2.81-2.81c.8-.78.8-2.07 0-2.86zM5.41 20L4 18.59l7.72-7.72 1.47 1.35L5.41 20z\"/>\n",
              "  </svg>\n",
              "      </button>\n",
              "      \n",
              "  <style>\n",
              "    .colab-df-container {\n",
              "      display:flex;\n",
              "      flex-wrap:wrap;\n",
              "      gap: 12px;\n",
              "    }\n",
              "\n",
              "    .colab-df-convert {\n",
              "      background-color: #E8F0FE;\n",
              "      border: none;\n",
              "      border-radius: 50%;\n",
              "      cursor: pointer;\n",
              "      display: none;\n",
              "      fill: #1967D2;\n",
              "      height: 32px;\n",
              "      padding: 0 0 0 0;\n",
              "      width: 32px;\n",
              "    }\n",
              "\n",
              "    .colab-df-convert:hover {\n",
              "      background-color: #E2EBFA;\n",
              "      box-shadow: 0px 1px 2px rgba(60, 64, 67, 0.3), 0px 1px 3px 1px rgba(60, 64, 67, 0.15);\n",
              "      fill: #174EA6;\n",
              "    }\n",
              "\n",
              "    [theme=dark] .colab-df-convert {\n",
              "      background-color: #3B4455;\n",
              "      fill: #D2E3FC;\n",
              "    }\n",
              "\n",
              "    [theme=dark] .colab-df-convert:hover {\n",
              "      background-color: #434B5C;\n",
              "      box-shadow: 0px 1px 3px 1px rgba(0, 0, 0, 0.15);\n",
              "      filter: drop-shadow(0px 1px 2px rgba(0, 0, 0, 0.3));\n",
              "      fill: #FFFFFF;\n",
              "    }\n",
              "  </style>\n",
              "\n",
              "      <script>\n",
              "        const buttonEl =\n",
              "          document.querySelector('#df-46475fdf-25bb-438a-94cf-1cf10998251c button.colab-df-convert');\n",
              "        buttonEl.style.display =\n",
              "          google.colab.kernel.accessAllowed ? 'block' : 'none';\n",
              "\n",
              "        async function convertToInteractive(key) {\n",
              "          const element = document.querySelector('#df-46475fdf-25bb-438a-94cf-1cf10998251c');\n",
              "          const dataTable =\n",
              "            await google.colab.kernel.invokeFunction('convertToInteractive',\n",
              "                                                     [key], {});\n",
              "          if (!dataTable) return;\n",
              "\n",
              "          const docLinkHtml = 'Like what you see? Visit the ' +\n",
              "            '<a target=\"_blank\" href=https://colab.research.google.com/notebooks/data_table.ipynb>data table notebook</a>'\n",
              "            + ' to learn more about interactive tables.';\n",
              "          element.innerHTML = '';\n",
              "          dataTable['output_type'] = 'display_data';\n",
              "          await google.colab.output.renderOutput(dataTable, element);\n",
              "          const docLink = document.createElement('div');\n",
              "          docLink.innerHTML = docLinkHtml;\n",
              "          element.appendChild(docLink);\n",
              "        }\n",
              "      </script>\n",
              "    </div>\n",
              "  </div>\n",
              "  "
            ]
          },
          "metadata": {},
          "execution_count": 16
        }
      ]
    },
    {
      "cell_type": "code",
      "metadata": {
        "id": "Lr5tKcjPlkQy",
        "colab": {
          "base_uri": "https://localhost:8080/"
        },
        "outputId": "cf134c7d-c162-4658-d583-7f51436bf02a"
      },
      "source": [
        "base_teste.shape"
      ],
      "execution_count": 17,
      "outputs": [
        {
          "output_type": "execute_result",
          "data": {
            "text/plain": [
              "(5000, 5)"
            ]
          },
          "metadata": {},
          "execution_count": 17
        }
      ]
    },
    {
      "cell_type": "code",
      "metadata": {
        "id": "uyU25iuZlnSP",
        "colab": {
          "base_uri": "https://localhost:8080/",
          "height": 334
        },
        "outputId": "f6e0d2b5-ff4f-4c0c-bec4-15657ad51ff0"
      },
      "source": [
        "sns.countplot(base_teste['sentiment'], label='Contagem');"
      ],
      "execution_count": 18,
      "outputs": [
        {
          "output_type": "stream",
          "name": "stderr",
          "text": [
            "/usr/local/lib/python3.7/dist-packages/seaborn/_decorators.py:43: FutureWarning: Pass the following variable as a keyword arg: x. From version 0.12, the only valid positional argument will be `data`, and passing other arguments without an explicit keyword will result in an error or misinterpretation.\n",
            "  FutureWarning\n"
          ]
        },
        {
          "output_type": "display_data",
          "data": {
            "text/plain": [
              "<Figure size 432x288 with 1 Axes>"
            ],
            "image/png": "[encoded data removed]"
          },
          "metadata": {
            "needs_background": "light"
          }
        }
      ]
    },
    {
      "cell_type": "code",
      "metadata": {
        "id": "gPgCCOZslxXy"
      },
      "source": [
        "base_teste.drop(['id', 'tweet_date', 'query_used'], axis = 1, inplace=True)"
      ],
      "execution_count": 19,
      "outputs": []
    },
    {
      "cell_type": "code",
      "metadata": {
        "id": "5evaWMpvl1kg",
        "colab": {
          "base_uri": "https://localhost:8080/",
          "height": 206
        },
        "outputId": "1e79f2f7-e74c-4a44-bb2c-8c3f20ca984f"
      },
      "source": [
        "base_teste.head()"
      ],
      "execution_count": 20,
      "outputs": [
        {
          "output_type": "execute_result",
          "data": {
            "text/plain": [
              "                                          tweet_text  sentiment\n",
              "0                   @Gazo1a Nossa! Muito obrigada :)          1\n",
              "1             @BerzGamer vai pa puta que te pariu :)          1\n",
              "2  QUER MAIS DESCONTOS? (14/08) ⭐⭐⭐⭐⭐ 🌐 Confira n...          1\n",
              "3  EU VOU PEGAR VCS, ME AJUDEM GALERA, PELO AMOR ...          1\n",
              "4  Estávamos em casa do Zé e eu estava a morrer d...          1"
            ],
            "text/html": [
              "\n",
              "  <div id=\"df-6c2cffe2-6c6d-46cf-bd98-7ed0abf50784\">\n",
              "    <div class=\"colab-df-container\">\n",
              "      <div>\n",
              "<style scoped>\n",
              "    .dataframe tbody tr th:only-of-type {\n",
              "        vertical-align: middle;\n",
              "    }\n",
              "\n",
              "    .dataframe tbody tr th {\n",
              "        vertical-align: top;\n",
              "    }\n",
              "\n",
              "    .dataframe thead th {\n",
              "        text-align: right;\n",
              "    }\n",
              "</style>\n",
              "<table border=\"1\" class=\"dataframe\">\n",
              "  <thead>\n",
              "    <tr style=\"text-align: right;\">\n",
              "      <th></th>\n",
              "      <th>tweet_text</th>\n",
              "      <th>sentiment</th>\n",
              "    </tr>\n",
              "  </thead>\n",
              "  <tbody>\n",
              "    <tr>\n",
              "      <th>0</th>\n",
              "      <td>@Gazo1a Nossa! Muito obrigada :)</td>\n",
              "      <td>1</td>\n",
              "    </tr>\n",
              "    <tr>\n",
              "      <th>1</th>\n",
              "      <td>@BerzGamer vai pa puta que te pariu :)</td>\n",
              "      <td>1</td>\n",
              "    </tr>\n",
              "    <tr>\n",
              "      <th>2</th>\n",
              "      <td>QUER MAIS DESCONTOS? (14/08) ⭐⭐⭐⭐⭐ 🌐 Confira n...</td>\n",
              "      <td>1</td>\n",
              "    </tr>\n",
              "    <tr>\n",
              "      <th>3</th>\n",
              "      <td>EU VOU PEGAR VCS, ME AJUDEM GALERA, PELO AMOR ...</td>\n",
              "      <td>1</td>\n",
              "    </tr>\n",
              "    <tr>\n",
              "      <th>4</th>\n",
              "      <td>Estávamos em casa do Zé e eu estava a morrer d...</td>\n",
              "      <td>1</td>\n",
              "    </tr>\n",
              "  </tbody>\n",
              "</table>\n",
              "</div>\n",
              "      <button class=\"colab-df-convert\" onclick=\"convertToInteractive('df-6c2cffe2-6c6d-46cf-bd98-7ed0abf50784')\"\n",
              "              title=\"Convert this dataframe to an interactive table.\"\n",
              "              style=\"display:none;\">\n",
              "        \n",
              "  <svg xmlns=\"http://www.w3.org/2000/svg\" height=\"24px\"viewBox=\"0 0 24 24\"\n",
              "       width=\"24px\">\n",
              "    <path d=\"M0 0h24v24H0V0z\" fill=\"none\"/>\n",
              "    <path d=\"M18.56 5.44l.94 2.06.94-2.06 2.06-.94-2.06-.94-.94-2.06-.94 2.06-2.06.94zm-11 1L8.5 8.5l.94-2.06 2.06-.94-2.06-.94L8.5 2.5l-.94 2.06-2.06.94zm10 10l.94 2.06.94-2.06 2.06-.94-2.06-.94-.94-2.06-.94 2.06-2.06.94z\"/><path d=\"M17.41 7.96l-1.37-1.37c-.4-.4-.92-.59-1.43-.59-.52 0-1.04.2-1.43.59L10.3 9.45l-7.72 7.72c-.78.78-.78 2.05 0 2.83L4 21.41c.39.39.9.59 1.41.59.51 0 1.02-.2 1.41-.59l7.78-7.78 2.81-2.81c.8-.78.8-2.07 0-2.86zM5.41 20L4 18.59l7.72-7.72 1.47 1.35L5.41 20z\"/>\n",
              "  </svg>\n",
              "      </button>\n",
              "      \n",
              "  <style>\n",
              "    .colab-df-container {\n",
              "      display:flex;\n",
              "      flex-wrap:wrap;\n",
              "      gap: 12px;\n",
              "    }\n",
              "\n",
              "    .colab-df-convert {\n",
              "      background-color: #E8F0FE;\n",
              "      border: none;\n",
              "      border-radius: 50%;\n",
              "      cursor: pointer;\n",
              "      display: none;\n",
              "      fill: #1967D2;\n",
              "      height: 32px;\n",
              "      padding: 0 0 0 0;\n",
              "      width: 32px;\n",
              "    }\n",
              "\n",
              "    .colab-df-convert:hover {\n",
              "      background-color: #E2EBFA;\n",
              "      box-shadow: 0px 1px 2px rgba(60, 64, 67, 0.3), 0px 1px 3px 1px rgba(60, 64, 67, 0.15);\n",
              "      fill: #174EA6;\n",
              "    }\n",
              "\n",
              "    [theme=dark] .colab-df-convert {\n",
              "      background-color: #3B4455;\n",
              "      fill: #D2E3FC;\n",
              "    }\n",
              "\n",
              "    [theme=dark] .colab-df-convert:hover {\n",
              "      background-color: #434B5C;\n",
              "      box-shadow: 0px 1px 3px 1px rgba(0, 0, 0, 0.15);\n",
              "      filter: drop-shadow(0px 1px 2px rgba(0, 0, 0, 0.3));\n",
              "      fill: #FFFFFF;\n",
              "    }\n",
              "  </style>\n",
              "\n",
              "      <script>\n",
              "        const buttonEl =\n",
              "          document.querySelector('#df-6c2cffe2-6c6d-46cf-bd98-7ed0abf50784 button.colab-df-convert');\n",
              "        buttonEl.style.display =\n",
              "          google.colab.kernel.accessAllowed ? 'block' : 'none';\n",
              "\n",
              "        async function convertToInteractive(key) {\n",
              "          const element = document.querySelector('#df-6c2cffe2-6c6d-46cf-bd98-7ed0abf50784');\n",
              "          const dataTable =\n",
              "            await google.colab.kernel.invokeFunction('convertToInteractive',\n",
              "                                                     [key], {});\n",
              "          if (!dataTable) return;\n",
              "\n",
              "          const docLinkHtml = 'Like what you see? Visit the ' +\n",
              "            '<a target=\"_blank\" href=https://colab.research.google.com/notebooks/data_table.ipynb>data table notebook</a>'\n",
              "            + ' to learn more about interactive tables.';\n",
              "          element.innerHTML = '';\n",
              "          dataTable['output_type'] = 'display_data';\n",
              "          await google.colab.output.renderOutput(dataTable, element);\n",
              "          const docLink = document.createElement('div');\n",
              "          docLink.innerHTML = docLinkHtml;\n",
              "          element.appendChild(docLink);\n",
              "        }\n",
              "      </script>\n",
              "    </div>\n",
              "  </div>\n",
              "  "
            ]
          },
          "metadata": {},
          "execution_count": 20
        }
      ]
    },
    {
      "cell_type": "code",
      "metadata": {
        "id": "FYE-KGRkmZcd",
        "colab": {
          "base_uri": "https://localhost:8080/",
          "height": 271
        },
        "outputId": "5f01b096-3109-4ca5-e167-cb0bc9959fd0"
      },
      "source": [
        "sns.heatmap(pd.isnull(base_teste));"
      ],
      "execution_count": 21,
      "outputs": [
        {
          "output_type": "display_data",
          "data": {
            "text/plain": [
              "<Figure size 432x288 with 2 Axes>"
            ],
            "image/png": "[encoded data removed]"
          },
          "metadata": {
            "needs_background": "light"
          }
        }
      ]
    },
    {
      "cell_type": "markdown",
      "metadata": {
        "id": "h36-8Ien-AQ1"
      },
      "source": [
        "# Etapa 3: Função para pré-processamento dos textos\n",
        "\n",
        "- Letras minúsculas\n",
        "- Nome do usuário (@)\n",
        "- URLs\n",
        "- Espaços em branco\n",
        "- Emoticons\n",
        "- Stop words\n",
        "- Lematização\n",
        "- Pontuações"
      ]
    },
    {
      "cell_type": "code",
      "metadata": {
        "id": "gOur6ftJnKuP",
        "colab": {
          "base_uri": "https://localhost:8080/"
        },
        "outputId": "ca671516-de69-423a-fb50-addd0fd03c47"
      },
      "source": [
        "pln = spacy.load('pt')\n",
        "pln"
      ],
      "execution_count": 22,
      "outputs": [
        {
          "output_type": "execute_result",
          "data": {
            "text/plain": [
              "<spacy.lang.pt.Portuguese at 0x7f5bab6901d0>"
            ]
          },
          "metadata": {},
          "execution_count": 22
        }
      ]
    },
    {
      "cell_type": "code",
      "metadata": {
        "id": "m8eGCSuHnSYM",
        "colab": {
          "base_uri": "https://localhost:8080/",
          "height": 35
        },
        "outputId": "af74d87d-60b7-4d22-a20c-05ec851c0950"
      },
      "source": [
        "base_treinamento['tweet_text'][1]"
      ],
      "execution_count": 23,
      "outputs": [
        {
          "output_type": "execute_result",
          "data": {
            "text/plain": [
              "'@behin_d_curtain Para mim, é precisamente o contrário :) Vem a chuva e vem a boa disposição :)'"
            ],
            "application/vnd.google.colaboratory.intrinsic+json": {
              "type": "string"
            }
          },
          "metadata": {},
          "execution_count": 23
        }
      ]
    },
    {
      "cell_type": "code",
      "metadata": {
        "id": "z6-JRv8Ynayt"
      },
      "source": [
        "stop_words = spacy.lang.pt.stop_words.STOP_WORDS"
      ],
      "execution_count": 24,
      "outputs": []
    },
    {
      "cell_type": "code",
      "metadata": {
        "id": "QqMa61Qwnj4c",
        "colab": {
          "base_uri": "https://localhost:8080/"
        },
        "outputId": "2efa2822-28a8-42b1-d6e2-c079e651387a"
      },
      "source": [
        "print(stop_words)"
      ],
      "execution_count": 25,
      "outputs": [
        {
          "output_type": "stream",
          "name": "stdout",
          "text": [
            "{'primeira', 'muitos', 'apontar', 'até', 'cedo', 'somente', 'tanta', 'cima', 'por', 'fazes', 'sobre', 'tu', 'apenas', 'sétima', 'alguns', 'tais', 'cada', 'também', 'fomos', 'além', 'meses', 'põe', 'mal', 'tente', 'aí', 'área', 'aqui', 'direita', 'minhas', 'ademais', 'nada', 'apoio', 'daquela', 'outra', 'muito', 'números', 'querem', 'sei', 'próximo', 'nesse', 'último', 'embora', 'máximo', 'todo', 'terceiro', 'seis', 'tanto', 'ambos', 'vai', 'sempre', 'vindo', 'próxima', 'pôde', 'iniciar', 'teu', 'daquele', 'tempo', 'número', 'disso', 'deve', 'fazeis', 'vossas', 'treze', 'estava', 'pouco', 'bastante', 'teve', 'geral', 'estou', 'tentar', 'atrás', 'porém', 'eles', 'em', 'ponto', 'boa', 'só', 'des', 'aos', 'apoia', 'grande', 'como', 'breve', 'ao', 'nas', 'estiveste', 'no', 'ou', 'onde', 'este', 'quê', 'catorze', 'ele', 'não', 'nunca', 'foram', 'três', 'forma', 'elas', 'aquela', 'com', 'coisa', 'menos', 'local', 'lado', 'vinte', 'tem', 'relação', 'tuas', 'quarta', 'aqueles', 'fazemos', 'favor', 'fará', 'dá', 'tão', 'agora', 'porque', 'vens', 'tarde', 'minha', 'povo', 'dezasseis', 'lá', 'irá', 'conselho', 'fim', 'mês', 'corrente', 'num', 'comprido', 'desde', 'vossos', 'obrigada', 'depois', 'ainda', 'ambas', 'naquele', 'são', 'esses', 'falta', 'devem', 'já', 'parece', 'fez', 'isso', 'tiveste', 'lhe', 'nenhuma', 'algo', 'tipo', 'estará', 'nos', 'suas', 'ir', 'uma', 'cento', 'momento', 'contra', 'ontem', 'portanto', 'longe', 'qualquer', 'dizem', 'as', 'na', 'sem', 'temos', 'partir', 'duas', 'ter', 'aquilo', 'os', 'tivemos', 'qual', 'pode', 'final', 'sabe', 'do', 'contudo', 'para', 'naquela', 'outros', 'ser', 'menor', 'comprida', 'tiveram', 'obrigado', 'debaixo', 'quer', 'pelo', 'dez', 'quero', 'cuja', 'dizer', 'quinto', 'teus', 'poderá', 'todos', 'tentei', 'nossa', 'umas', 'tal', 'vos', 'vários', 'estiveram', 'dezanove', 'vez', 'maiorias', 'possível', 'cá', 'pelos', 'então', 'fazer', 'seria', 'novo', 'quem', 'primeiro', 'uns', 'vosso', 'meu', 'maioria', 'entre', 'eu', 'baixo', 'quatro', 'põem', 'dezoito', 'segundo', 'dezassete', 'à', 'és', 'estás', 'mais', 'sois', 'nesta', 'nossas', 'através', 'vinda', 'porquê', 'pegar', 'vós', 'demais', 'estar', 'oitavo', 'conhecido', 'deste', 'sim', 'nuns', 'vocês', 'bem', 'nove', 'da', 'pela', 'perto', 'cujo', 'esteve', 'posso', 'cinco', 'usa', 'nessa', 'deverá', 'têm', 'adeus', 'usar', 'numa', 'custa', 'foste', 'neste', 'é', 'pontos', 'talvez', 'vezes', 'tenho', 'era', 'estas', 'pouca', 'vais', 'me', 'nova', 'saber', 'ali', 'um', 'aquelas', 'diante', 'dos', 'podia', 'você', 'podem', 'meus', 'de', 'sexta', 'posição', 'estivestes', 'doze', 'dessa', 'após', 'esta', 'dar', 'nível', 'seus', 'zero', 'todas', 'porquanto', 'terceira', 'ora', 'fora', 'sistema', 'logo', 'valor', 'quarto', 'oitava', 'sete', 'diz', 'conhecida', 'ela', 'nós', 'poder', 'eventual', 'das', 'novos', 'certamente', 'dão', 'te', 'estivemos', 'faço', 'sou', 'inicio', 'toda', 'vão', 'vem', 'oito', 'tua', 'aquele', 'dentro', 'ver', 'tivestes', 'onze', 'estado', 'está', 'estive', 'sua', 'veja', 'que', 'essa', 'quieta', 'tive', 'mil', 'desse', 'fazia', 'possivelmente', 'se', 'sob', 'às', 'antes', 'essas', 'segunda', 'meio', 'faz', 'fazem', 'tens', 'quieto', 'tudo', 'acerca', 'pois', 'questão', 'sétimo', 'puderam', 'isto', 'tendes', 'novas', 'parte', 'vêm', 'fostes', 'quinze', 'quanto', 'for', 'nem', 'caminho', 'outras', 'nossos', 'dois', 'somos', 'exemplo', 'grandes', 'nosso', 'quando', 'quinta', 'ligado', 'estão', 'maior', 'quais', 'bom', 'enquanto', 'foi', 'desta', 'certeza', 'lugar', 'mesmo', 'estes', 'fui', 'sexto', 'grupo', 'inclusive', 'mas', 'próprio', 'algumas', 'pelas', 'vossa', 'esse', 'tentaram', 'assim', 'seu'}\n"
          ]
        }
      ]
    },
    {
      "cell_type": "code",
      "metadata": {
        "id": "n1lFJDhJnoth",
        "colab": {
          "base_uri": "https://localhost:8080/",
          "height": 35
        },
        "outputId": "ee3a1108-1d0c-4fb5-e6f9-74a167a4b290"
      },
      "source": [
        "string.punctuation"
      ],
      "execution_count": 26,
      "outputs": [
        {
          "output_type": "execute_result",
          "data": {
            "text/plain": [
              "'!\"#$%&\\'()*+,-./:;<=>?@[\\\\]^_`{|}~'"
            ],
            "application/vnd.google.colaboratory.intrinsic+json": {
              "type": "string"
            }
          },
          "metadata": {},
          "execution_count": 26
        }
      ]
    },
    {
      "cell_type": "code",
      "metadata": {
        "id": "rS9ldTSJnsMb"
      },
      "source": [
        "def preprocessamento(texto):\n",
        "  # Letras minúsculas\n",
        "  texto = texto.lower()\n",
        "\n",
        "  # Nome do usuário\n",
        "  texto = re.sub(r\"@[A-Za-z0-9$-_@.&+]+\", ' ', texto)\n",
        "\n",
        "  # URLs\n",
        "  texto = re.sub(r\"https?://[A-Za-z0-9./]+\", ' ', texto)\n",
        "\n",
        "  # Espaços em branco\n",
        "  texto = re.sub(r\" +\", ' ', texto)\n",
        "\n",
        "  # Emoticons\n",
        "  lista_emocoes = {':)': 'emocaopositiva',\n",
        "                   ':d': 'emocaopositiva',\n",
        "                   ':(': 'emocaonegativa'}\n",
        "  for emocao in lista_emocoes:\n",
        "    texto = texto.replace(emocao, lista_emocoes[emocao])\n",
        "\n",
        "  # Lematização\n",
        "  documento = pln(texto)\n",
        "\n",
        "  lista = []\n",
        "  for token in documento:\n",
        "    lista.append(token.lemma_)\n",
        "  \n",
        "  # Stop words e pontuações\n",
        "  lista = [palavra for palavra in lista if palavra not in stop_words and palavra not in string.punctuation]\n",
        "  lista = ' '.join([str(elemento) for elemento in lista if not elemento.isdigit()])\n",
        "  \n",
        "  return lista"
      ],
      "execution_count": 27,
      "outputs": []
    },
    {
      "cell_type": "code",
      "metadata": {
        "id": "iIy-2X18n0G8",
        "colab": {
          "base_uri": "https://localhost:8080/",
          "height": 35
        },
        "outputId": "cd02378f-ce0d-49eb-d12d-d1abcd41d2e5"
      },
      "source": [
        "texto_teste = '@behin_d_curtain :D Para :( mim, http://www.iaexpert.com.br é precisamente o contrário :) Vem a chuva e vem a boa disposição :)'\n",
        "resultado = preprocessamento(texto_teste)\n",
        "resultado"
      ],
      "execution_count": 28,
      "outputs": [
        {
          "output_type": "execute_result",
          "data": {
            "text/plain": [
              "'  emocaopositiva parir emocaonegativa mim precisamente o contrário emocaopositiva vir o chuva e vir o disposição emocaopositiva'"
            ],
            "application/vnd.google.colaboratory.intrinsic+json": {
              "type": "string"
            }
          },
          "metadata": {},
          "execution_count": 28
        }
      ]
    },
    {
      "cell_type": "markdown",
      "metadata": {
        "id": "DtL8DBPVOFoL"
      },
      "source": [
        "# Etapa 4: Pré-processamento da base de dados"
      ]
    },
    {
      "cell_type": "markdown",
      "metadata": {
        "id": "n7G5PSVUOOId"
      },
      "source": [
        "### Limpeza dos textos"
      ]
    },
    {
      "cell_type": "code",
      "metadata": {
        "id": "o3zrf-ytssZb",
        "colab": {
          "base_uri": "https://localhost:8080/",
          "height": 363
        },
        "outputId": "9f18d849-017f-4bbc-8309-42f3cecc1ba2"
      },
      "source": [
        "base_treinamento.head(10)"
      ],
      "execution_count": 29,
      "outputs": [
        {
          "output_type": "execute_result",
          "data": {
            "text/plain": [
              "                                          tweet_text  sentiment\n",
              "0  @Laranjito76 A pessoa certa para isso seria o ...          1\n",
              "1  @behin_d_curtain Para mim, é precisamente o co...          1\n",
              "2  Vou fazer um video hoje... estou pensando em f...          1\n",
              "3  aaaaaaaa amei tanto essas polaroids, nem sei e...          1\n",
              "4  Valoriza o coração do menininho que vc tem. El...          1\n",
              "5       @KingJokerLeto mas amiga eu to aqui ainda :)          1\n",
              "6                   @RivasJairo Bravo, Jairo!!! :)))          1\n",
              "7  @inquilinasls @Spotify socorro ksoaksosks acho...          1\n",
              "8  @chimekarlla gosto muito de fazenda :) , mas m...          1\n",
              "9                            Amanha vou ver venom :D          1"
            ],
            "text/html": [
              "\n",
              "  <div id=\"df-30d1be14-739c-491c-b946-1082196c2183\">\n",
              "    <div class=\"colab-df-container\">\n",
              "      <div>\n",
              "<style scoped>\n",
              "    .dataframe tbody tr th:only-of-type {\n",
              "        vertical-align: middle;\n",
              "    }\n",
              "\n",
              "    .dataframe tbody tr th {\n",
              "        vertical-align: top;\n",
              "    }\n",
              "\n",
              "    .dataframe thead th {\n",
              "        text-align: right;\n",
              "    }\n",
              "</style>\n",
              "<table border=\"1\" class=\"dataframe\">\n",
              "  <thead>\n",
              "    <tr style=\"text-align: right;\">\n",
              "      <th></th>\n",
              "      <th>tweet_text</th>\n",
              "      <th>sentiment</th>\n",
              "    </tr>\n",
              "  </thead>\n",
              "  <tbody>\n",
              "    <tr>\n",
              "      <th>0</th>\n",
              "      <td>@Laranjito76 A pessoa certa para isso seria o ...</td>\n",
              "      <td>1</td>\n",
              "    </tr>\n",
              "    <tr>\n",
              "      <th>1</th>\n",
              "      <td>@behin_d_curtain Para mim, é precisamente o co...</td>\n",
              "      <td>1</td>\n",
              "    </tr>\n",
              "    <tr>\n",
              "      <th>2</th>\n",
              "      <td>Vou fazer um video hoje... estou pensando em f...</td>\n",
              "      <td>1</td>\n",
              "    </tr>\n",
              "    <tr>\n",
              "      <th>3</th>\n",
              "      <td>aaaaaaaa amei tanto essas polaroids, nem sei e...</td>\n",
              "      <td>1</td>\n",
              "    </tr>\n",
              "    <tr>\n",
              "      <th>4</th>\n",
              "      <td>Valoriza o coração do menininho que vc tem. El...</td>\n",
              "      <td>1</td>\n",
              "    </tr>\n",
              "    <tr>\n",
              "      <th>5</th>\n",
              "      <td>@KingJokerLeto mas amiga eu to aqui ainda :)</td>\n",
              "      <td>1</td>\n",
              "    </tr>\n",
              "    <tr>\n",
              "      <th>6</th>\n",
              "      <td>@RivasJairo Bravo, Jairo!!! :)))</td>\n",
              "      <td>1</td>\n",
              "    </tr>\n",
              "    <tr>\n",
              "      <th>7</th>\n",
              "      <td>@inquilinasls @Spotify socorro ksoaksosks acho...</td>\n",
              "      <td>1</td>\n",
              "    </tr>\n",
              "    <tr>\n",
              "      <th>8</th>\n",
              "      <td>@chimekarlla gosto muito de fazenda :) , mas m...</td>\n",
              "      <td>1</td>\n",
              "    </tr>\n",
              "    <tr>\n",
              "      <th>9</th>\n",
              "      <td>Amanha vou ver venom :D</td>\n",
              "      <td>1</td>\n",
              "    </tr>\n",
              "  </tbody>\n",
              "</table>\n",
              "</div>\n",
              "      <button class=\"colab-df-convert\" onclick=\"convertToInteractive('df-30d1be14-739c-491c-b946-1082196c2183')\"\n",
              "              title=\"Convert this dataframe to an interactive table.\"\n",
              "              style=\"display:none;\">\n",
              "        \n",
              "  <svg xmlns=\"http://www.w3.org/2000/svg\" height=\"24px\"viewBox=\"0 0 24 24\"\n",
              "       width=\"24px\">\n",
              "    <path d=\"M0 0h24v24H0V0z\" fill=\"none\"/>\n",
              "    <path d=\"M18.56 5.44l.94 2.06.94-2.06 2.06-.94-2.06-.94-.94-2.06-.94 2.06-2.06.94zm-11 1L8.5 8.5l.94-2.06 2.06-.94-2.06-.94L8.5 2.5l-.94 2.06-2.06.94zm10 10l.94 2.06.94-2.06 2.06-.94-2.06-.94-.94-2.06-.94 2.06-2.06.94z\"/><path d=\"M17.41 7.96l-1.37-1.37c-.4-.4-.92-.59-1.43-.59-.52 0-1.04.2-1.43.59L10.3 9.45l-7.72 7.72c-.78.78-.78 2.05 0 2.83L4 21.41c.39.39.9.59 1.41.59.51 0 1.02-.2 1.41-.59l7.78-7.78 2.81-2.81c.8-.78.8-2.07 0-2.86zM5.41 20L4 18.59l7.72-7.72 1.47 1.35L5.41 20z\"/>\n",
              "  </svg>\n",
              "      </button>\n",
              "      \n",
              "  <style>\n",
              "    .colab-df-container {\n",
              "      display:flex;\n",
              "      flex-wrap:wrap;\n",
              "      gap: 12px;\n",
              "    }\n",
              "\n",
              "    .colab-df-convert {\n",
              "      background-color: #E8F0FE;\n",
              "      border: none;\n",
              "      border-radius: 50%;\n",
              "      cursor: pointer;\n",
              "      display: none;\n",
              "      fill: #1967D2;\n",
              "      height: 32px;\n",
              "      padding: 0 0 0 0;\n",
              "      width: 32px;\n",
              "    }\n",
              "\n",
              "    .colab-df-convert:hover {\n",
              "      background-color: #E2EBFA;\n",
              "      box-shadow: 0px 1px 2px rgba(60, 64, 67, 0.3), 0px 1px 3px 1px rgba(60, 64, 67, 0.15);\n",
              "      fill: #174EA6;\n",
              "    }\n",
              "\n",
              "    [theme=dark] .colab-df-convert {\n",
              "      background-color: #3B4455;\n",
              "      fill: #D2E3FC;\n",
              "    }\n",
              "\n",
              "    [theme=dark] .colab-df-convert:hover {\n",
              "      background-color: #434B5C;\n",
              "      box-shadow: 0px 1px 3px 1px rgba(0, 0, 0, 0.15);\n",
              "      filter: drop-shadow(0px 1px 2px rgba(0, 0, 0, 0.3));\n",
              "      fill: #FFFFFF;\n",
              "    }\n",
              "  </style>\n",
              "\n",
              "      <script>\n",
              "        const buttonEl =\n",
              "          document.querySelector('#df-30d1be14-739c-491c-b946-1082196c2183 button.colab-df-convert');\n",
              "        buttonEl.style.display =\n",
              "          google.colab.kernel.accessAllowed ? 'block' : 'none';\n",
              "\n",
              "        async function convertToInteractive(key) {\n",
              "          const element = document.querySelector('#df-30d1be14-739c-491c-b946-1082196c2183');\n",
              "          const dataTable =\n",
              "            await google.colab.kernel.invokeFunction('convertToInteractive',\n",
              "                                                     [key], {});\n",
              "          if (!dataTable) return;\n",
              "\n",
              "          const docLinkHtml = 'Like what you see? Visit the ' +\n",
              "            '<a target=\"_blank\" href=https://colab.research.google.com/notebooks/data_table.ipynb>data table notebook</a>'\n",
              "            + ' to learn more about interactive tables.';\n",
              "          element.innerHTML = '';\n",
              "          dataTable['output_type'] = 'display_data';\n",
              "          await google.colab.output.renderOutput(dataTable, element);\n",
              "          const docLink = document.createElement('div');\n",
              "          docLink.innerHTML = docLinkHtml;\n",
              "          element.appendChild(docLink);\n",
              "        }\n",
              "      </script>\n",
              "    </div>\n",
              "  </div>\n",
              "  "
            ]
          },
          "metadata": {},
          "execution_count": 29
        }
      ]
    },
    {
      "cell_type": "code",
      "metadata": {
        "id": "SNSsbuMis0-d"
      },
      "source": [
        "base_treinamento['tweet_text'] = base_treinamento['tweet_text'].apply(preprocessamento)"
      ],
      "execution_count": 30,
      "outputs": []
    },
    {
      "cell_type": "code",
      "metadata": {
        "id": "wR742NJLusfy",
        "colab": {
          "base_uri": "https://localhost:8080/",
          "height": 363
        },
        "outputId": "3b0ce6ce-d3bb-4321-b6e6-ee1edd4df768"
      },
      "source": [
        "base_treinamento.head(10)"
      ],
      "execution_count": 31,
      "outputs": [
        {
          "output_type": "execute_result",
          "data": {
            "text/plain": [
              "                                          tweet_text  sentiment\n",
              "0    o pessoa certo parir seriar o valer e azeved...          1\n",
              "1    parir mim precisamente o contrário emocaopos...          1\n",
              "2  video hoje ... pensar falar sobrar o meter csg...          1\n",
              "3  aaaaaaaa amar polaroids expressar o quantum to...          1\n",
              "4  valorizar o coração menino vc diferente o sorr...          1\n",
              "5                            amigo to emocaopositiva          1\n",
              "6                         bravo jairo emocaopositiva          1\n",
              "7        socorrer ksoaksosks achar to o caixa som :p          1\n",
              "8    gostar fazenda emocaopositiva morrer medo ga...          1\n",
              "9                       amanhar venom emocaopositiva          1"
            ],
            "text/html": [
              "\n",
              "  <div id=\"df-9e3744a1-8624-4adb-a1d5-2408a1799307\">\n",
              "    <div class=\"colab-df-container\">\n",
              "      <div>\n",
              "<style scoped>\n",
              "    .dataframe tbody tr th:only-of-type {\n",
              "        vertical-align: middle;\n",
              "    }\n",
              "\n",
              "    .dataframe tbody tr th {\n",
              "        vertical-align: top;\n",
              "    }\n",
              "\n",
              "    .dataframe thead th {\n",
              "        text-align: right;\n",
              "    }\n",
              "</style>\n",
              "<table border=\"1\" class=\"dataframe\">\n",
              "  <thead>\n",
              "    <tr style=\"text-align: right;\">\n",
              "      <th></th>\n",
              "      <th>tweet_text</th>\n",
              "      <th>sentiment</th>\n",
              "    </tr>\n",
              "  </thead>\n",
              "  <tbody>\n",
              "    <tr>\n",
              "      <th>0</th>\n",
              "      <td>o pessoa certo parir seriar o valer e azeved...</td>\n",
              "      <td>1</td>\n",
              "    </tr>\n",
              "    <tr>\n",
              "      <th>1</th>\n",
              "      <td>parir mim precisamente o contrário emocaopos...</td>\n",
              "      <td>1</td>\n",
              "    </tr>\n",
              "    <tr>\n",
              "      <th>2</th>\n",
              "      <td>video hoje ... pensar falar sobrar o meter csg...</td>\n",
              "      <td>1</td>\n",
              "    </tr>\n",
              "    <tr>\n",
              "      <th>3</th>\n",
              "      <td>aaaaaaaa amar polaroids expressar o quantum to...</td>\n",
              "      <td>1</td>\n",
              "    </tr>\n",
              "    <tr>\n",
              "      <th>4</th>\n",
              "      <td>valorizar o coração menino vc diferente o sorr...</td>\n",
              "      <td>1</td>\n",
              "    </tr>\n",
              "    <tr>\n",
              "      <th>5</th>\n",
              "      <td>amigo to emocaopositiva</td>\n",
              "      <td>1</td>\n",
              "    </tr>\n",
              "    <tr>\n",
              "      <th>6</th>\n",
              "      <td>bravo jairo emocaopositiva</td>\n",
              "      <td>1</td>\n",
              "    </tr>\n",
              "    <tr>\n",
              "      <th>7</th>\n",
              "      <td>socorrer ksoaksosks achar to o caixa som :p</td>\n",
              "      <td>1</td>\n",
              "    </tr>\n",
              "    <tr>\n",
              "      <th>8</th>\n",
              "      <td>gostar fazenda emocaopositiva morrer medo ga...</td>\n",
              "      <td>1</td>\n",
              "    </tr>\n",
              "    <tr>\n",
              "      <th>9</th>\n",
              "      <td>amanhar venom emocaopositiva</td>\n",
              "      <td>1</td>\n",
              "    </tr>\n",
              "  </tbody>\n",
              "</table>\n",
              "</div>\n",
              "      <button class=\"colab-df-convert\" onclick=\"convertToInteractive('df-9e3744a1-8624-4adb-a1d5-2408a1799307')\"\n",
              "              title=\"Convert this dataframe to an interactive table.\"\n",
              "              style=\"display:none;\">\n",
              "        \n",
              "  <svg xmlns=\"http://www.w3.org/2000/svg\" height=\"24px\"viewBox=\"0 0 24 24\"\n",
              "       width=\"24px\">\n",
              "    <path d=\"M0 0h24v24H0V0z\" fill=\"none\"/>\n",
              "    <path d=\"M18.56 5.44l.94 2.06.94-2.06 2.06-.94-2.06-.94-.94-2.06-.94 2.06-2.06.94zm-11 1L8.5 8.5l.94-2.06 2.06-.94-2.06-.94L8.5 2.5l-.94 2.06-2.06.94zm10 10l.94 2.06.94-2.06 2.06-.94-2.06-.94-.94-2.06-.94 2.06-2.06.94z\"/><path d=\"M17.41 7.96l-1.37-1.37c-.4-.4-.92-.59-1.43-.59-.52 0-1.04.2-1.43.59L10.3 9.45l-7.72 7.72c-.78.78-.78 2.05 0 2.83L4 21.41c.39.39.9.59 1.41.59.51 0 1.02-.2 1.41-.59l7.78-7.78 2.81-2.81c.8-.78.8-2.07 0-2.86zM5.41 20L4 18.59l7.72-7.72 1.47 1.35L5.41 20z\"/>\n",
              "  </svg>\n",
              "      </button>\n",
              "      \n",
              "  <style>\n",
              "    .colab-df-container {\n",
              "      display:flex;\n",
              "      flex-wrap:wrap;\n",
              "      gap: 12px;\n",
              "    }\n",
              "\n",
              "    .colab-df-convert {\n",
              "      background-color: #E8F0FE;\n",
              "      border: none;\n",
              "      border-radius: 50%;\n",
              "      cursor: pointer;\n",
              "      display: none;\n",
              "      fill: #1967D2;\n",
              "      height: 32px;\n",
              "      padding: 0 0 0 0;\n",
              "      width: 32px;\n",
              "    }\n",
              "\n",
              "    .colab-df-convert:hover {\n",
              "      background-color: #E2EBFA;\n",
              "      box-shadow: 0px 1px 2px rgba(60, 64, 67, 0.3), 0px 1px 3px 1px rgba(60, 64, 67, 0.15);\n",
              "      fill: #174EA6;\n",
              "    }\n",
              "\n",
              "    [theme=dark] .colab-df-convert {\n",
              "      background-color: #3B4455;\n",
              "      fill: #D2E3FC;\n",
              "    }\n",
              "\n",
              "    [theme=dark] .colab-df-convert:hover {\n",
              "      background-color: #434B5C;\n",
              "      box-shadow: 0px 1px 3px 1px rgba(0, 0, 0, 0.15);\n",
              "      filter: drop-shadow(0px 1px 2px rgba(0, 0, 0, 0.3));\n",
              "      fill: #FFFFFF;\n",
              "    }\n",
              "  </style>\n",
              "\n",
              "      <script>\n",
              "        const buttonEl =\n",
              "          document.querySelector('#df-9e3744a1-8624-4adb-a1d5-2408a1799307 button.colab-df-convert');\n",
              "        buttonEl.style.display =\n",
              "          google.colab.kernel.accessAllowed ? 'block' : 'none';\n",
              "\n",
              "        async function convertToInteractive(key) {\n",
              "          const element = document.querySelector('#df-9e3744a1-8624-4adb-a1d5-2408a1799307');\n",
              "          const dataTable =\n",
              "            await google.colab.kernel.invokeFunction('convertToInteractive',\n",
              "                                                     [key], {});\n",
              "          if (!dataTable) return;\n",
              "\n",
              "          const docLinkHtml = 'Like what you see? Visit the ' +\n",
              "            '<a target=\"_blank\" href=https://colab.research.google.com/notebooks/data_table.ipynb>data table notebook</a>'\n",
              "            + ' to learn more about interactive tables.';\n",
              "          element.innerHTML = '';\n",
              "          dataTable['output_type'] = 'display_data';\n",
              "          await google.colab.output.renderOutput(dataTable, element);\n",
              "          const docLink = document.createElement('div');\n",
              "          docLink.innerHTML = docLinkHtml;\n",
              "          element.appendChild(docLink);\n",
              "        }\n",
              "      </script>\n",
              "    </div>\n",
              "  </div>\n",
              "  "
            ]
          },
          "metadata": {},
          "execution_count": 31
        }
      ]
    },
    {
      "cell_type": "code",
      "metadata": {
        "id": "DI1GvLX1uyr4"
      },
      "source": [
        "base_teste['tweet_text'] = base_teste['tweet_text'].apply(preprocessamento)"
      ],
      "execution_count": 32,
      "outputs": []
    },
    {
      "cell_type": "code",
      "metadata": {
        "id": "jTGab2hXvGSr",
        "colab": {
          "base_uri": "https://localhost:8080/",
          "height": 363
        },
        "outputId": "5f729ccf-2fc6-4207-abbf-940d305d5fa6"
      },
      "source": [
        "base_teste.head(10)"
      ],
      "execution_count": 33,
      "outputs": [
        {
          "output_type": "execute_result",
          "data": {
            "text/plain": [
              "                                          tweet_text  sentiment\n",
              "0                             obrigar emocaopositiva          1\n",
              "1                       pa puta parir emocaopositiva          1\n",
              "2  querer desconto 14/08 ⭐ ⭐ ⭐ ⭐ ⭐ 🌐 conferir o l...          1\n",
              "3  vcs ajudar galera pelar amor butera emocaoposi...          1\n",
              "4  casar zé e o morrer sono chegar o casar e fica...          1\n",
              "5                             preciso emocaopositiva          1\n",
              "6    acaso adorar beijo e abraço hahahahaha bue f...          1\n",
              "7                          solteiro s emocaopositiva          1\n",
              "8  lindeza cortador kit mário coleção bia cravol ...          1\n",
              "9                               claro emocaopositiva          1"
            ],
            "text/html": [
              "\n",
              "  <div id=\"df-30e88e1c-e0f6-4744-a768-127ee08da65a\">\n",
              "    <div class=\"colab-df-container\">\n",
              "      <div>\n",
              "<style scoped>\n",
              "    .dataframe tbody tr th:only-of-type {\n",
              "        vertical-align: middle;\n",
              "    }\n",
              "\n",
              "    .dataframe tbody tr th {\n",
              "        vertical-align: top;\n",
              "    }\n",
              "\n",
              "    .dataframe thead th {\n",
              "        text-align: right;\n",
              "    }\n",
              "</style>\n",
              "<table border=\"1\" class=\"dataframe\">\n",
              "  <thead>\n",
              "    <tr style=\"text-align: right;\">\n",
              "      <th></th>\n",
              "      <th>tweet_text</th>\n",
              "      <th>sentiment</th>\n",
              "    </tr>\n",
              "  </thead>\n",
              "  <tbody>\n",
              "    <tr>\n",
              "      <th>0</th>\n",
              "      <td>obrigar emocaopositiva</td>\n",
              "      <td>1</td>\n",
              "    </tr>\n",
              "    <tr>\n",
              "      <th>1</th>\n",
              "      <td>pa puta parir emocaopositiva</td>\n",
              "      <td>1</td>\n",
              "    </tr>\n",
              "    <tr>\n",
              "      <th>2</th>\n",
              "      <td>querer desconto 14/08 ⭐ ⭐ ⭐ ⭐ ⭐ 🌐 conferir o l...</td>\n",
              "      <td>1</td>\n",
              "    </tr>\n",
              "    <tr>\n",
              "      <th>3</th>\n",
              "      <td>vcs ajudar galera pelar amor butera emocaoposi...</td>\n",
              "      <td>1</td>\n",
              "    </tr>\n",
              "    <tr>\n",
              "      <th>4</th>\n",
              "      <td>casar zé e o morrer sono chegar o casar e fica...</td>\n",
              "      <td>1</td>\n",
              "    </tr>\n",
              "    <tr>\n",
              "      <th>5</th>\n",
              "      <td>preciso emocaopositiva</td>\n",
              "      <td>1</td>\n",
              "    </tr>\n",
              "    <tr>\n",
              "      <th>6</th>\n",
              "      <td>acaso adorar beijo e abraço hahahahaha bue f...</td>\n",
              "      <td>1</td>\n",
              "    </tr>\n",
              "    <tr>\n",
              "      <th>7</th>\n",
              "      <td>solteiro s emocaopositiva</td>\n",
              "      <td>1</td>\n",
              "    </tr>\n",
              "    <tr>\n",
              "      <th>8</th>\n",
              "      <td>lindeza cortador kit mário coleção bia cravol ...</td>\n",
              "      <td>1</td>\n",
              "    </tr>\n",
              "    <tr>\n",
              "      <th>9</th>\n",
              "      <td>claro emocaopositiva</td>\n",
              "      <td>1</td>\n",
              "    </tr>\n",
              "  </tbody>\n",
              "</table>\n",
              "</div>\n",
              "      <button class=\"colab-df-convert\" onclick=\"convertToInteractive('df-30e88e1c-e0f6-4744-a768-127ee08da65a')\"\n",
              "              title=\"Convert this dataframe to an interactive table.\"\n",
              "              style=\"display:none;\">\n",
              "        \n",
              "  <svg xmlns=\"http://www.w3.org/2000/svg\" height=\"24px\"viewBox=\"0 0 24 24\"\n",
              "       width=\"24px\">\n",
              "    <path d=\"M0 0h24v24H0V0z\" fill=\"none\"/>\n",
              "    <path d=\"M18.56 5.44l.94 2.06.94-2.06 2.06-.94-2.06-.94-.94-2.06-.94 2.06-2.06.94zm-11 1L8.5 8.5l.94-2.06 2.06-.94-2.06-.94L8.5 2.5l-.94 2.06-2.06.94zm10 10l.94 2.06.94-2.06 2.06-.94-2.06-.94-.94-2.06-.94 2.06-2.06.94z\"/><path d=\"M17.41 7.96l-1.37-1.37c-.4-.4-.92-.59-1.43-.59-.52 0-1.04.2-1.43.59L10.3 9.45l-7.72 7.72c-.78.78-.78 2.05 0 2.83L4 21.41c.39.39.9.59 1.41.59.51 0 1.02-.2 1.41-.59l7.78-7.78 2.81-2.81c.8-.78.8-2.07 0-2.86zM5.41 20L4 18.59l7.72-7.72 1.47 1.35L5.41 20z\"/>\n",
              "  </svg>\n",
              "      </button>\n",
              "      \n",
              "  <style>\n",
              "    .colab-df-container {\n",
              "      display:flex;\n",
              "      flex-wrap:wrap;\n",
              "      gap: 12px;\n",
              "    }\n",
              "\n",
              "    .colab-df-convert {\n",
              "      background-color: #E8F0FE;\n",
              "      border: none;\n",
              "      border-radius: 50%;\n",
              "      cursor: pointer;\n",
              "      display: none;\n",
              "      fill: #1967D2;\n",
              "      height: 32px;\n",
              "      padding: 0 0 0 0;\n",
              "      width: 32px;\n",
              "    }\n",
              "\n",
              "    .colab-df-convert:hover {\n",
              "      background-color: #E2EBFA;\n",
              "      box-shadow: 0px 1px 2px rgba(60, 64, 67, 0.3), 0px 1px 3px 1px rgba(60, 64, 67, 0.15);\n",
              "      fill: #174EA6;\n",
              "    }\n",
              "\n",
              "    [theme=dark] .colab-df-convert {\n",
              "      background-color: #3B4455;\n",
              "      fill: #D2E3FC;\n",
              "    }\n",
              "\n",
              "    [theme=dark] .colab-df-convert:hover {\n",
              "      background-color: #434B5C;\n",
              "      box-shadow: 0px 1px 3px 1px rgba(0, 0, 0, 0.15);\n",
              "      filter: drop-shadow(0px 1px 2px rgba(0, 0, 0, 0.3));\n",
              "      fill: #FFFFFF;\n",
              "    }\n",
              "  </style>\n",
              "\n",
              "      <script>\n",
              "        const buttonEl =\n",
              "          document.querySelector('#df-30e88e1c-e0f6-4744-a768-127ee08da65a button.colab-df-convert');\n",
              "        buttonEl.style.display =\n",
              "          google.colab.kernel.accessAllowed ? 'block' : 'none';\n",
              "\n",
              "        async function convertToInteractive(key) {\n",
              "          const element = document.querySelector('#df-30e88e1c-e0f6-4744-a768-127ee08da65a');\n",
              "          const dataTable =\n",
              "            await google.colab.kernel.invokeFunction('convertToInteractive',\n",
              "                                                     [key], {});\n",
              "          if (!dataTable) return;\n",
              "\n",
              "          const docLinkHtml = 'Like what you see? Visit the ' +\n",
              "            '<a target=\"_blank\" href=https://colab.research.google.com/notebooks/data_table.ipynb>data table notebook</a>'\n",
              "            + ' to learn more about interactive tables.';\n",
              "          element.innerHTML = '';\n",
              "          dataTable['output_type'] = 'display_data';\n",
              "          await google.colab.output.renderOutput(dataTable, element);\n",
              "          const docLink = document.createElement('div');\n",
              "          docLink.innerHTML = docLinkHtml;\n",
              "          element.appendChild(docLink);\n",
              "        }\n",
              "      </script>\n",
              "    </div>\n",
              "  </div>\n",
              "  "
            ]
          },
          "metadata": {},
          "execution_count": 33
        }
      ]
    },
    {
      "cell_type": "markdown",
      "metadata": {
        "id": "trA39YO4PcFp"
      },
      "source": [
        "### Tratamento da classe"
      ]
    },
    {
      "cell_type": "code",
      "metadata": {
        "id": "SPPY0MlIYoTR"
      },
      "source": [
        "exemplo_base_dados = [[\"este trabalho é agradável\", {\"POSITIVO\": True, \"NEGATIVO\": False}],\n",
        "                      [\"este lugar continua assustador\", {\"POSITIVO\": False, \"NEGATIVO\": True}]]"
      ],
      "execution_count": 34,
      "outputs": []
    },
    {
      "cell_type": "code",
      "metadata": {
        "id": "TH31QeqEyrub"
      },
      "source": [
        "base_dados_treinamento_final = []\n",
        "for texto, emocao in zip(base_treinamento['tweet_text'], base_treinamento['sentiment']):\n",
        "  if emocao == 1:\n",
        "    dic = ({'POSITIVO': True, 'NEGATIVO': False})\n",
        "  elif emocao == 0:\n",
        "    dic = ({'POSITIVO': False, 'NEGATIVO': True})\n",
        "\n",
        "  base_dados_treinamento_final.append([texto, dic.copy()])"
      ],
      "execution_count": 35,
      "outputs": []
    },
    {
      "cell_type": "code",
      "metadata": {
        "id": "kwFKyNZM2TFj",
        "colab": {
          "base_uri": "https://localhost:8080/"
        },
        "outputId": "243b4869-a918-48d4-9be2-5aa4e3eb1556"
      },
      "source": [
        "len(base_dados_treinamento_final)"
      ],
      "execution_count": 36,
      "outputs": [
        {
          "output_type": "execute_result",
          "data": {
            "text/plain": [
              "50000"
            ]
          },
          "metadata": {},
          "execution_count": 36
        }
      ]
    },
    {
      "cell_type": "code",
      "metadata": {
        "id": "_3D9UkMI2W60",
        "colab": {
          "base_uri": "https://localhost:8080/"
        },
        "outputId": "d090cba4-5edc-4469-ec25-3983ac1490f0"
      },
      "source": [
        "base_dados_treinamento_final[10:15]"
      ],
      "execution_count": 37,
      "outputs": [
        {
          "output_type": "execute_result",
          "data": {
            "text/plain": [
              "[['simplesmente o deixar chatear querer muitooo e iludir emocaopositiva',\n",
              "  {'NEGATIVO': False, 'POSITIVO': True}],\n",
              " ['o comedir umar rotina e perfeitamente parir consolidar o escola condução :p',\n",
              "  {'NEGATIVO': False, 'POSITIVO': True}],\n",
              " ['amigar parecer apaixonar vc — recíproco emocaopositiva',\n",
              "  {'NEGATIVO': False, 'POSITIVO': True}],\n",
              " ['  gajar bacano aleijar esperar e o silvar feliz emocaopositiva',\n",
              "  {'NEGATIVO': False, 'POSITIVO': True}],\n",
              " ['tou o video cabra bebé emocaopositiva',\n",
              "  {'NEGATIVO': False, 'POSITIVO': True}]]"
            ]
          },
          "metadata": {},
          "execution_count": 37
        }
      ]
    },
    {
      "cell_type": "code",
      "metadata": {
        "id": "E8C-_9AB2fEM",
        "colab": {
          "base_uri": "https://localhost:8080/"
        },
        "outputId": "57c69c61-55cf-4ccc-8a35-9f873f996b9b"
      },
      "source": [
        "base_dados_treinamento_final[45000:45005]"
      ],
      "execution_count": 38,
      "outputs": [
        {
          "output_type": "execute_result",
          "data": {
            "text/plain": [
              "[['o menino pijama listrar o filmar triste mundo estruturar nenhum pra assistir rever e to pensar n emocaonegativa',\n",
              "  {'NEGATIVO': True, 'POSITIVO': False}],\n",
              " ['pra o vídeo luísa raiz o poliana infelizmente o twitter tá ruim amanhã postar emocaonegativa asaventurasdepoliana099',\n",
              "  {'NEGATIVO': True, 'POSITIVO': False}],\n",
              " ['to crise abstinência strangers emocaonegativa — tbm :/ to',\n",
              "  {'NEGATIVO': True, 'POSITIVO': False}],\n",
              " ['  esquecer olhar pra pagar o mensalidade turma pro cursar querer emocaonegativa',\n",
              "  {'NEGATIVO': True, 'POSITIVO': False}],\n",
              " ['querer comer doce comer montar hoje emocaonegativa maldição',\n",
              "  {'NEGATIVO': True, 'POSITIVO': False}]]"
            ]
          },
          "metadata": {},
          "execution_count": 38
        }
      ]
    },
    {
      "cell_type": "markdown",
      "metadata": {
        "id": "5mc19ZByUNsu"
      },
      "source": [
        "# Etapa 5: Criação do classificador"
      ]
    },
    {
      "cell_type": "code",
      "metadata": {
        "id": "YnZ1orji7Iv8"
      },
      "source": [
        "modelo = spacy.blank('pt')\n",
        "categorias = modelo.create_pipe(\"textcat\")\n",
        "categorias.add_label(\"POSITIVO\")\n",
        "categorias.add_label(\"NEGATIVO\")\n",
        "modelo.add_pipe(categorias)\n",
        "historico = []"
      ],
      "execution_count": 39,
      "outputs": []
    },
    {
      "cell_type": "code",
      "metadata": {
        "id": "3jlGvLEz764Y",
        "colab": {
          "base_uri": "https://localhost:8080/"
        },
        "outputId": "8766bf8d-38fa-443b-d555-87cfda709d9e"
      },
      "source": [
        "modelo.begin_training()\n",
        "for epoca in range(20):\n",
        "  random.shuffle(base_dados_treinamento_final)\n",
        "  losses = {}\n",
        "  for batch in spacy.util.minibatch(base_dados_treinamento_final, 512):\n",
        "    textos = [modelo(texto) for texto, entities in batch]\n",
        "    annotations = [{'cats': entities} for texto, entities in batch]\n",
        "    modelo.update(textos, annotations, losses=losses)\n",
        "    historico.append(losses)\n",
        "  if epoca % 5 == 0:\n",
        "    print(losses)"
      ],
      "execution_count": 40,
      "outputs": [
        {
          "output_type": "stream",
          "name": "stdout",
          "text": [
            "{'textcat': 2.8118646192787367e-05}\n",
            "{'textcat': 8.133810233679206e-08}\n",
            "{'textcat': 2.1165903030251343e-08}\n",
            "{'textcat': 8.526271974562682e-08}\n"
          ]
        }
      ]
    },
    {
      "cell_type": "code",
      "metadata": {
        "id": "wSe-tDsCAciN"
      },
      "source": [
        "historico_loss = []\n",
        "for i in historico:\n",
        "  historico_loss.append(i.get('textcat'))"
      ],
      "execution_count": 41,
      "outputs": []
    },
    {
      "cell_type": "code",
      "metadata": {
        "id": "ShJhtbYtAr50",
        "colab": {
          "base_uri": "https://localhost:8080/"
        },
        "outputId": "2c7c0d80-c170-4079-e6d2-e24e5f51cf8d"
      },
      "source": [
        "historico_loss = np.array(historico_loss)\n",
        "historico_loss"
      ],
      "execution_count": 42,
      "outputs": [
        {
          "output_type": "execute_result",
          "data": {
            "text/plain": [
              "array([2.81186462e-05, 2.81186462e-05, 2.81186462e-05, ...,\n",
              "       1.62658386e-08, 1.62658386e-08, 1.62658386e-08])"
            ]
          },
          "metadata": {},
          "execution_count": 42
        }
      ]
    },
    {
      "cell_type": "code",
      "metadata": {
        "id": "6lEL-QoBA0KI",
        "colab": {
          "base_uri": "https://localhost:8080/",
          "height": 312
        },
        "outputId": "d7dde9ec-1283-4265-83c1-7e44e18fbb3a"
      },
      "source": [
        "import matplotlib.pyplot as plt\n",
        "plt.plot(historico_loss)\n",
        "plt.title('Progressão do erro')\n",
        "plt.xlabel('Batches')\n",
        "plt.ylabel('Erro')"
      ],
      "execution_count": 43,
      "outputs": [
        {
          "output_type": "execute_result",
          "data": {
            "text/plain": [
              "Text(0, 0.5, 'Erro')"
            ]
          },
          "metadata": {},
          "execution_count": 43
        },
        {
          "output_type": "display_data",
          "data": {
            "text/plain": [
              "<Figure size 432x288 with 1 Axes>"
            ],
            "image/png": "[encoded data removed]"
          },
          "metadata": {
            "needs_background": "light"
          }
        }
      ]
    },
    {
      "cell_type": "code",
      "metadata": {
        "id": "amNE8xy_BPSF"
      },
      "source": [
        "modelo.to_disk(\"modelo\")"
      ],
      "execution_count": 44,
      "outputs": []
    },
    {
      "cell_type": "markdown",
      "metadata": {
        "id": "ePMk8G0Dl6wg"
      },
      "source": [
        "# Etapa 6: Testes com uma frase"
      ]
    },
    {
      "cell_type": "code",
      "metadata": {
        "id": "W-7DO-DoAyPU",
        "colab": {
          "base_uri": "https://localhost:8080/"
        },
        "outputId": "ef36f151-cbb3-4df5-9f85-b16aba4c80e4"
      },
      "source": [
        "modelo_carregado = spacy.load('modelo')\n",
        "modelo_carregado"
      ],
      "execution_count": 45,
      "outputs": [
        {
          "output_type": "execute_result",
          "data": {
            "text/plain": [
              "<spacy.lang.pt.Portuguese at 0x7f5ba33d1790>"
            ]
          },
          "metadata": {},
          "execution_count": 45
        }
      ]
    },
    {
      "cell_type": "markdown",
      "metadata": {
        "id": "RZxpVOP4wJT9"
      },
      "source": [
        "## Texto positivo"
      ]
    },
    {
      "cell_type": "code",
      "metadata": {
        "id": "fGB9HS7BBEK2",
        "colab": {
          "base_uri": "https://localhost:8080/",
          "height": 35
        },
        "outputId": "e12e6ae1-cf53-4a6c-f5b9-7dbaee108369"
      },
      "source": [
        "texto_positivo = base_teste['tweet_text'][21]\n",
        "texto_positivo"
      ],
      "execution_count": 46,
      "outputs": [
        {
          "output_type": "execute_result",
          "data": {
            "text/plain": [
              "'  ficar feliz q recíproco emocaopositiva'"
            ],
            "application/vnd.google.colaboratory.intrinsic+json": {
              "type": "string"
            }
          },
          "metadata": {},
          "execution_count": 46
        }
      ]
    },
    {
      "cell_type": "code",
      "metadata": {
        "id": "NRJW5li7Bpij",
        "colab": {
          "base_uri": "https://localhost:8080/"
        },
        "outputId": "f027329e-2280-4d01-c381-cbd1438548e8"
      },
      "source": [
        "previsao = modelo_carregado(texto_positivo)\n",
        "previsao"
      ],
      "execution_count": 47,
      "outputs": [
        {
          "output_type": "execute_result",
          "data": {
            "text/plain": [
              "  ficar feliz q recíproco emocaopositiva"
            ]
          },
          "metadata": {},
          "execution_count": 47
        }
      ]
    },
    {
      "cell_type": "code",
      "metadata": {
        "id": "_XtuIsoMBuz8",
        "colab": {
          "base_uri": "https://localhost:8080/"
        },
        "outputId": "fa09fc1d-f870-45be-f8be-85e93e6c1a51"
      },
      "source": [
        "previsao.cats"
      ],
      "execution_count": 48,
      "outputs": [
        {
          "output_type": "execute_result",
          "data": {
            "text/plain": [
              "{'NEGATIVO': 0.00037329207407310605, 'POSITIVO': 0.9994718432426453}"
            ]
          },
          "metadata": {},
          "execution_count": 48
        }
      ]
    },
    {
      "cell_type": "code",
      "metadata": {
        "id": "wKdZht7PB1cJ",
        "colab": {
          "base_uri": "https://localhost:8080/",
          "height": 35
        },
        "outputId": "830e5e0b-cb5e-4a11-a03a-5e485b7433aa"
      },
      "source": [
        "texto_positivo = 'eu gosto muito de você'\n",
        "texto_positivo = preprocessamento(texto_positivo)\n",
        "texto_positivo"
      ],
      "execution_count": 49,
      "outputs": [
        {
          "output_type": "execute_result",
          "data": {
            "text/plain": [
              "'gostar'"
            ],
            "application/vnd.google.colaboratory.intrinsic+json": {
              "type": "string"
            }
          },
          "metadata": {},
          "execution_count": 49
        }
      ]
    },
    {
      "cell_type": "code",
      "metadata": {
        "id": "GFDF7coVCC4c",
        "colab": {
          "base_uri": "https://localhost:8080/"
        },
        "outputId": "e6dad662-3767-481f-cbc2-f3bcb5fdeaa9"
      },
      "source": [
        "modelo_carregado(texto_positivo).cats"
      ],
      "execution_count": 50,
      "outputs": [
        {
          "output_type": "execute_result",
          "data": {
            "text/plain": [
              "{'NEGATIVO': 0.29807043075561523, 'POSITIVO': 0.6495586037635803}"
            ]
          },
          "metadata": {},
          "execution_count": 50
        }
      ]
    },
    {
      "cell_type": "markdown",
      "metadata": {
        "id": "eavhsiJ4weg6"
      },
      "source": [
        "## Texto negativo"
      ]
    },
    {
      "cell_type": "code",
      "metadata": {
        "id": "Luyzv_ZcCY9p",
        "colab": {
          "base_uri": "https://localhost:8080/",
          "height": 35
        },
        "outputId": "9261d0bc-5e59-4b8f-f48f-4db5cc023bff"
      },
      "source": [
        "base_teste['tweet_text'][4000]"
      ],
      "execution_count": 51,
      "outputs": [
        {
          "output_type": "execute_result",
          "data": {
            "text/plain": [
              "'tô triste filmar mulan o mushu emocaonegativa'"
            ],
            "application/vnd.google.colaboratory.intrinsic+json": {
              "type": "string"
            }
          },
          "metadata": {},
          "execution_count": 51
        }
      ]
    },
    {
      "cell_type": "code",
      "metadata": {
        "id": "GgpAm0JFCggN",
        "colab": {
          "base_uri": "https://localhost:8080/"
        },
        "outputId": "d5bb028f-2eb5-4874-8f9c-7425d8b3a6a2"
      },
      "source": [
        "texto_negativo = base_teste['tweet_text'][4000]\n",
        "previsao = modelo_carregado(texto_negativo)\n",
        "previsao.cats"
      ],
      "execution_count": 52,
      "outputs": [
        {
          "output_type": "execute_result",
          "data": {
            "text/plain": [
              "{'NEGATIVO': 0.9997405409812927, 'POSITIVO': 0.0006299942033365369}"
            ]
          },
          "metadata": {},
          "execution_count": 52
        }
      ]
    },
    {
      "cell_type": "markdown",
      "metadata": {
        "id": "KhF2vtEsnlpM"
      },
      "source": [
        "# Etapa 7: Avaliação do modelo"
      ]
    },
    {
      "cell_type": "markdown",
      "metadata": {
        "id": "sJzwpVWNACFi"
      },
      "source": [
        "## Avaliação na base de treinamento\n"
      ]
    },
    {
      "cell_type": "code",
      "metadata": {
        "id": "6NoTHRADDZ0Z"
      },
      "source": [
        "previsoes = []\n",
        "for texto in base_treinamento['tweet_text']:\n",
        "  previsao = modelo_carregado(texto)\n",
        "  previsoes.append(previsao.cats)"
      ],
      "execution_count": 53,
      "outputs": []
    },
    {
      "cell_type": "code",
      "metadata": {
        "id": "8lRO94OuDvLZ",
        "colab": {
          "base_uri": "https://localhost:8080/"
        },
        "outputId": "7eb74061-d716-471c-c75e-3144194c5928"
      },
      "source": [
        "previsoes"
      ],
      "execution_count": 54,
      "outputs": [
        {
          "output_type": "execute_result",
          "data": {
            "text/plain": [
              "[{'NEGATIVO': 0.0009708058787509799, 'POSITIVO': 0.9991177916526794},\n",
              " {'NEGATIVO': 0.0004080516519024968, 'POSITIVO': 0.9992502331733704},\n",
              " {'NEGATIVO': 0.00041812629206106067, 'POSITIVO': 0.9993950128555298},\n",
              " {'NEGATIVO': 0.00048130296636372805, 'POSITIVO': 0.9992632269859314},\n",
              " {'NEGATIVO': 0.00015083153266459703, 'POSITIVO': 0.9994271993637085},\n",
              " {'NEGATIVO': 0.00013708444021176547, 'POSITIVO': 0.9992881417274475},\n",
              " {'NEGATIVO': 0.00015524638001807034, 'POSITIVO': 0.9992371797561646},\n",
              " {'NEGATIVO': 0.00034303925349377096, 'POSITIVO': 0.9992928504943848},\n",
              " {'NEGATIVO': 0.00015329378948081285, 'POSITIVO': 0.9989093542098999},\n",
              " {'NEGATIVO': 0.00024230768030975014, 'POSITIVO': 0.9993941783905029},\n",
              " {'NEGATIVO': 0.0002598661230877042, 'POSITIVO': 0.9994087219238281},\n",
              " {'NEGATIVO': 0.00046303943963721395, 'POSITIVO': 0.9992225170135498},\n",
              " {'NEGATIVO': 0.0003051289531867951, 'POSITIVO': 0.9994526505470276},\n",
              " {'NEGATIVO': 0.0001340478047495708, 'POSITIVO': 0.9991694688796997},\n",
              " {'NEGATIVO': 0.0004329679359216243, 'POSITIVO': 0.9992086291313171},\n",
              " {'NEGATIVO': 0.0005923073040321469, 'POSITIVO': 0.9993119239807129},\n",
              " {'NEGATIVO': 0.0003971199912484735, 'POSITIVO': 0.9992434978485107},\n",
              " {'NEGATIVO': 0.00023678693105466664, 'POSITIVO': 0.9992805123329163},\n",
              " {'NEGATIVO': 0.001678584492765367, 'POSITIVO': 0.9991627931594849},\n",
              " {'NEGATIVO': 0.0002127968182321638, 'POSITIVO': 0.9995146989822388},\n",
              " {'NEGATIVO': 0.0006627868278883398, 'POSITIVO': 0.9991470575332642},\n",
              " {'NEGATIVO': 0.00041471069562248886, 'POSITIVO': 0.9993264675140381},\n",
              " {'NEGATIVO': 0.00033680442720651627, 'POSITIVO': 0.9993506073951721},\n",
              " {'NEGATIVO': 0.00048513084766454995, 'POSITIVO': 0.9995841383934021},\n",
              " {'NEGATIVO': 0.0001775266428012401, 'POSITIVO': 0.9993709921836853},\n",
              " {'NEGATIVO': 0.00038761281757615507, 'POSITIVO': 0.9991445541381836},\n",
              " {'NEGATIVO': 0.0006198238697834313, 'POSITIVO': 0.9987475872039795},\n",
              " {'NEGATIVO': 0.0006504497141577303, 'POSITIVO': 0.9991618394851685},\n",
              " {'NEGATIVO': 0.00017793080769479275, 'POSITIVO': 0.9993168115615845},\n",
              " {'NEGATIVO': 0.00026705829077400267, 'POSITIVO': 0.9992148876190186},\n",
              " {'NEGATIVO': 0.00052639254136011, 'POSITIVO': 0.9993705153465271},\n",
              " {'NEGATIVO': 0.0005199294537305832, 'POSITIVO': 0.9993975162506104},\n",
              " {'NEGATIVO': 0.00021993134578224272, 'POSITIVO': 0.9990975856781006},\n",
              " {'NEGATIVO': 0.0004659053520299494, 'POSITIVO': 0.9993439316749573},\n",
              " {'NEGATIVO': 0.00017308536916971207, 'POSITIVO': 0.9993428587913513},\n",
              " {'NEGATIVO': 0.00035430595744401217, 'POSITIVO': 0.9983295798301697},\n",
              " {'NEGATIVO': 0.0003861815494019538, 'POSITIVO': 0.9990831613540649},\n",
              " {'NEGATIVO': 0.0005747333052568138, 'POSITIVO': 0.9994450211524963},\n",
              " {'NEGATIVO': 0.0003021115844603628, 'POSITIVO': 0.9994636178016663},\n",
              " {'NEGATIVO': 0.0010784962214529514, 'POSITIVO': 0.9951840043067932},\n",
              " {'NEGATIVO': 0.0003964414063375443, 'POSITIVO': 0.9977633953094482},\n",
              " {'NEGATIVO': 0.00043413855019025505, 'POSITIVO': 0.9993094205856323},\n",
              " {'NEGATIVO': 0.002082842867821455, 'POSITIVO': 0.9990252256393433},\n",
              " {'NEGATIVO': 0.0001416006707586348, 'POSITIVO': 0.9994328618049622},\n",
              " {'NEGATIVO': 0.00018823180289473385, 'POSITIVO': 0.9992755055427551},\n",
              " {'NEGATIVO': 0.0004268602351658046, 'POSITIVO': 0.9987897276878357},\n",
              " {'NEGATIVO': 0.000899576349183917, 'POSITIVO': 0.9994588494300842},\n",
              " {'NEGATIVO': 0.00011246314534218982, 'POSITIVO': 0.9994224309921265},\n",
              " {'NEGATIVO': 0.0001623969292268157, 'POSITIVO': 0.9992771744728088},\n",
              " {'NEGATIVO': 0.0004077023477293551, 'POSITIVO': 0.9991533756256104},\n",
              " {'NEGATIVO': 0.0004436341405380517, 'POSITIVO': 0.9983658194541931},\n",
              " {'NEGATIVO': 0.0004228753678034991, 'POSITIVO': 0.9992326498031616},\n",
              " {'NEGATIVO': 0.00022813637042418122, 'POSITIVO': 0.9994127750396729},\n",
              " {'NEGATIVO': 0.001021674950607121, 'POSITIVO': 0.9948511719703674},\n",
              " {'NEGATIVO': 0.00041336179128848016, 'POSITIVO': 0.9994770884513855},\n",
              " {'NEGATIVO': 0.00043361703865230083, 'POSITIVO': 0.9995379447937012},\n",
              " {'NEGATIVO': 0.00011119535338366404, 'POSITIVO': 0.999184787273407},\n",
              " {'NEGATIVO': 0.00027132994728162885, 'POSITIVO': 0.9993740916252136},\n",
              " {'NEGATIVO': 0.0002223154151579365, 'POSITIVO': 0.9991182684898376},\n",
              " {'NEGATIVO': 0.0007341658929362893, 'POSITIVO': 0.9993657469749451},\n",
              " {'NEGATIVO': 0.0002825063420459628, 'POSITIVO': 0.9991199374198914},\n",
              " {'NEGATIVO': 0.0004087979032192379, 'POSITIVO': 0.9994317889213562},\n",
              " {'NEGATIVO': 0.0004330882802605629, 'POSITIVO': 0.9987450838088989},\n",
              " {'NEGATIVO': 0.0006845770985819399, 'POSITIVO': 0.9991061091423035},\n",
              " {'NEGATIVO': 0.004538591485470533, 'POSITIVO': 0.9966807961463928},\n",
              " {'NEGATIVO': 0.00031960129854269326, 'POSITIVO': 0.9993618130683899},\n",
              " {'NEGATIVO': 0.0002810342120938003, 'POSITIVO': 0.9993388056755066},\n",
              " {'NEGATIVO': 0.00032221313449554145, 'POSITIVO': 0.9990948438644409},\n",
              " {'NEGATIVO': 0.00037458183942362666, 'POSITIVO': 0.99932861328125},\n",
              " {'NEGATIVO': 0.0003014124813489616, 'POSITIVO': 0.9992399215698242},\n",
              " {'NEGATIVO': 0.0005222766194492579, 'POSITIVO': 0.9993353486061096},\n",
              " {'NEGATIVO': 0.0005706000956706703, 'POSITIVO': 0.9995354413986206},\n",
              " {'NEGATIVO': 0.00020881916861981153, 'POSITIVO': 0.9993089437484741},\n",
              " {'NEGATIVO': 0.0007048692787066102, 'POSITIVO': 0.9993401169776917},\n",
              " {'NEGATIVO': 0.0009012246737256646, 'POSITIVO': 0.9993701577186584},\n",
              " {'NEGATIVO': 0.0004330882802605629, 'POSITIVO': 0.9987450838088989},\n",
              " {'NEGATIVO': 0.00016274634981527925, 'POSITIVO': 0.9991801381111145},\n",
              " {'NEGATIVO': 0.00021836714586243033, 'POSITIVO': 0.9991362690925598},\n",
              " {'NEGATIVO': 0.0007429145043715835, 'POSITIVO': 0.999277651309967},\n",
              " {'NEGATIVO': 0.00045538428821600974, 'POSITIVO': 0.9986042380332947},\n",
              " {'NEGATIVO': 0.0005581316654570401, 'POSITIVO': 0.9992709755897522},\n",
              " {'NEGATIVO': 0.00038510403828695416, 'POSITIVO': 0.9993220567703247},\n",
              " {'NEGATIVO': 0.00043413275852799416, 'POSITIVO': 0.9991775155067444},\n",
              " {'NEGATIVO': 0.00036634551361203194, 'POSITIVO': 0.9993698000907898},\n",
              " {'NEGATIVO': 0.00016795851115603, 'POSITIVO': 0.9991818070411682},\n",
              " {'NEGATIVO': 0.00033235165756195784, 'POSITIVO': 0.9990070462226868},\n",
              " {'NEGATIVO': 0.00028824235778301954, 'POSITIVO': 0.9993305206298828},\n",
              " {'NEGATIVO': 0.0013789619551971555, 'POSITIVO': 0.9990313053131104},\n",
              " {'NEGATIVO': 0.00033950404031202197, 'POSITIVO': 0.9991016387939453},\n",
              " {'NEGATIVO': 0.00028833773103542626, 'POSITIVO': 0.9993687272071838},\n",
              " {'NEGATIVO': 0.00020470628805924207, 'POSITIVO': 0.9990690350532532},\n",
              " {'NEGATIVO': 0.00012638898624572903, 'POSITIVO': 0.9993649125099182},\n",
              " {'NEGATIVO': 0.0010050151031464338, 'POSITIVO': 0.9987049102783203},\n",
              " {'NEGATIVO': 0.00047879357589408755, 'POSITIVO': 0.9990467429161072},\n",
              " {'NEGATIVO': 0.00028454995481297374, 'POSITIVO': 0.9989060163497925},\n",
              " {'NEGATIVO': 0.00042625944479368627, 'POSITIVO': 0.9982277750968933},\n",
              " {'NEGATIVO': 0.0004487100231926888, 'POSITIVO': 0.9993010759353638},\n",
              " {'NEGATIVO': 0.0003037039132323116, 'POSITIVO': 0.9991506338119507},\n",
              " {'NEGATIVO': 0.0003535388386808336, 'POSITIVO': 0.9995155334472656},\n",
              " {'NEGATIVO': 0.0001827614032663405, 'POSITIVO': 0.9994526505470276},\n",
              " {'NEGATIVO': 0.0004890705458819866, 'POSITIVO': 0.9979257583618164},\n",
              " {'NEGATIVO': 0.0003304950369056314, 'POSITIVO': 0.9985308647155762},\n",
              " {'NEGATIVO': 0.000339206715580076, 'POSITIVO': 0.9991015195846558},\n",
              " {'NEGATIVO': 0.000901101971976459, 'POSITIVO': 0.9994041919708252},\n",
              " {'NEGATIVO': 0.0003177443868480623, 'POSITIVO': 0.9975613355636597},\n",
              " {'NEGATIVO': 0.00023509164748247713, 'POSITIVO': 0.9990280866622925},\n",
              " {'NEGATIVO': 0.0008042568224482238, 'POSITIVO': 0.9990744590759277},\n",
              " {'NEGATIVO': 0.00029268613434396684, 'POSITIVO': 0.9993695616722107},\n",
              " {'NEGATIVO': 0.00015172515122685581, 'POSITIVO': 0.9992527365684509},\n",
              " {'NEGATIVO': 0.0003372996288817376, 'POSITIVO': 0.9991649389266968},\n",
              " {'NEGATIVO': 0.0003241446102038026, 'POSITIVO': 0.998627781867981},\n",
              " {'NEGATIVO': 0.0012404362205415964, 'POSITIVO': 0.999107301235199},\n",
              " {'NEGATIVO': 0.0003098530287388712, 'POSITIVO': 0.9993690848350525},\n",
              " {'NEGATIVO': 0.000321756029734388, 'POSITIVO': 0.9988634586334229},\n",
              " {'NEGATIVO': 0.0004765622434206307, 'POSITIVO': 0.9992238283157349},\n",
              " {'NEGATIVO': 0.00029510821332223713, 'POSITIVO': 0.9990552067756653},\n",
              " {'NEGATIVO': 0.00042081225547008216, 'POSITIVO': 0.999007523059845},\n",
              " {'NEGATIVO': 0.0003088779922109097, 'POSITIVO': 0.9994223117828369},\n",
              " {'NEGATIVO': 0.0002537500986363739, 'POSITIVO': 0.9991604089736938},\n",
              " {'NEGATIVO': 0.0009013012167997658, 'POSITIVO': 0.9976176619529724},\n",
              " {'NEGATIVO': 0.00026022587553597987, 'POSITIVO': 0.9990336894989014},\n",
              " {'NEGATIVO': 0.00016691598284523934, 'POSITIVO': 0.9991772770881653},\n",
              " {'NEGATIVO': 0.0006635939353145659, 'POSITIVO': 0.9991477727890015},\n",
              " {'NEGATIVO': 0.00042598607251420617, 'POSITIVO': 0.9992316961288452},\n",
              " {'NEGATIVO': 0.0009318756056018174, 'POSITIVO': 0.989978551864624},\n",
              " {'NEGATIVO': 0.00012562121264636517, 'POSITIVO': 0.9992319345474243},\n",
              " {'NEGATIVO': 0.000561856955755502, 'POSITIVO': 0.9991217255592346},\n",
              " {'NEGATIVO': 0.0002978553529828787, 'POSITIVO': 0.9992585778236389},\n",
              " {'NEGATIVO': 0.00018538281437940896, 'POSITIVO': 0.9994214773178101},\n",
              " {'NEGATIVO': 0.00016951095312833786, 'POSITIVO': 0.9994483590126038},\n",
              " {'NEGATIVO': 0.00013971957378089428, 'POSITIVO': 0.9991970658302307},\n",
              " {'NEGATIVO': 0.00032462214585393667, 'POSITIVO': 0.9988202452659607},\n",
              " {'NEGATIVO': 0.0003146043745800853, 'POSITIVO': 0.9991645812988281},\n",
              " {'NEGATIVO': 0.0004974488983862102, 'POSITIVO': 0.9995232820510864},\n",
              " {'NEGATIVO': 0.0004054243618156761, 'POSITIVO': 0.9991713762283325},\n",
              " {'NEGATIVO': 0.00047169317258521914, 'POSITIVO': 0.9990381002426147},\n",
              " {'NEGATIVO': 0.0004185687575954944, 'POSITIVO': 0.9992738366127014},\n",
              " {'NEGATIVO': 0.00035120430402457714, 'POSITIVO': 0.998691737651825},\n",
              " {'NEGATIVO': 0.000564416463021189, 'POSITIVO': 0.9988987445831299},\n",
              " {'NEGATIVO': 0.000752188207115978, 'POSITIVO': 0.9993883371353149},\n",
              " {'NEGATIVO': 0.00015055204858072102, 'POSITIVO': 0.9992294311523438},\n",
              " {'NEGATIVO': 0.0013434527209028602, 'POSITIVO': 0.999383807182312},\n",
              " {'NEGATIVO': 0.00024247662804555148, 'POSITIVO': 0.9991859793663025},\n",
              " {'NEGATIVO': 0.0003692807804327458, 'POSITIVO': 0.999232292175293},\n",
              " {'NEGATIVO': 0.0001604249409865588, 'POSITIVO': 0.9994530081748962},\n",
              " {'NEGATIVO': 0.00030598975718021393, 'POSITIVO': 0.9994539618492126},\n",
              " {'NEGATIVO': 0.00023109669564291835, 'POSITIVO': 0.9994389414787292},\n",
              " {'NEGATIVO': 0.00011200037988601252, 'POSITIVO': 0.9988443851470947},\n",
              " {'NEGATIVO': 0.00034342295839451253, 'POSITIVO': 0.9994094371795654},\n",
              " {'NEGATIVO': 0.0006600664346478879, 'POSITIVO': 0.9993497729301453},\n",
              " {'NEGATIVO': 0.00024495809338986874, 'POSITIVO': 0.9993628859519958},\n",
              " {'NEGATIVO': 0.0002724685182329267, 'POSITIVO': 0.9975377321243286},\n",
              " {'NEGATIVO': 0.0003171031130477786, 'POSITIVO': 0.9994503855705261},\n",
              " {'NEGATIVO': 0.0005979548441246152, 'POSITIVO': 0.9985816478729248},\n",
              " {'NEGATIVO': 0.0007435044972226024, 'POSITIVO': 0.9994838237762451},\n",
              " {'NEGATIVO': 0.00036698117037303746, 'POSITIVO': 0.9994598031044006},\n",
              " {'NEGATIVO': 0.005437454674392939, 'POSITIVO': 0.9836936593055725},\n",
              " {'NEGATIVO': 0.00023788894759491086, 'POSITIVO': 0.9993473887443542},\n",
              " {'NEGATIVO': 0.01728968136012554, 'POSITIVO': 0.9965630173683167},\n",
              " {'NEGATIVO': 0.0007673293584957719, 'POSITIVO': 0.9993207454681396},\n",
              " {'NEGATIVO': 0.00022293225629255176, 'POSITIVO': 0.9990112781524658},\n",
              " {'NEGATIVO': 0.00035358063178136945, 'POSITIVO': 0.9983571171760559},\n",
              " {'NEGATIVO': 0.0003553361166268587, 'POSITIVO': 0.9990317821502686},\n",
              " {'NEGATIVO': 0.000524030823726207, 'POSITIVO': 0.9994551539421082},\n",
              " {'NEGATIVO': 0.0003507313958834857, 'POSITIVO': 0.9984599351882935},\n",
              " {'NEGATIVO': 0.0007051367429085076, 'POSITIVO': 0.999101996421814},\n",
              " {'NEGATIVO': 0.0005772983422502875, 'POSITIVO': 0.9992252588272095},\n",
              " {'NEGATIVO': 0.000364100793376565, 'POSITIVO': 0.9992801547050476},\n",
              " {'NEGATIVO': 0.0003947893565054983, 'POSITIVO': 0.999226450920105},\n",
              " {'NEGATIVO': 0.00039715555612929165, 'POSITIVO': 0.9988184571266174},\n",
              " {'NEGATIVO': 9.869352652458474e-05, 'POSITIVO': 0.9978851675987244},\n",
              " {'NEGATIVO': 0.0004206567828077823, 'POSITIVO': 0.9990812540054321},\n",
              " {'NEGATIVO': 0.00023758703900966793, 'POSITIVO': 0.998544454574585},\n",
              " {'NEGATIVO': 0.00040056047146208584, 'POSITIVO': 0.9991394281387329},\n",
              " {'NEGATIVO': 0.0007239994592964649, 'POSITIVO': 0.9994822144508362},\n",
              " {'NEGATIVO': 0.00048593408428132534, 'POSITIVO': 0.9987865090370178},\n",
              " {'NEGATIVO': 0.00022202226682566106, 'POSITIVO': 0.9994379878044128},\n",
              " {'NEGATIVO': 0.00022970023564994335, 'POSITIVO': 0.9993982315063477},\n",
              " {'NEGATIVO': 0.00026835594326257706, 'POSITIVO': 0.9991920590400696},\n",
              " {'NEGATIVO': 0.0002445114660076797, 'POSITIVO': 0.9992985725402832},\n",
              " {'NEGATIVO': 0.00038537802174687386, 'POSITIVO': 0.9991058707237244},\n",
              " {'NEGATIVO': 0.0002616960846353322, 'POSITIVO': 0.9994015693664551},\n",
              " {'NEGATIVO': 0.0005580864963121712, 'POSITIVO': 0.9993038177490234},\n",
              " {'NEGATIVO': 0.00020421364752110094, 'POSITIVO': 0.9994243383407593},\n",
              " {'NEGATIVO': 0.00114761246368289, 'POSITIVO': 0.999437153339386},\n",
              " {'NEGATIVO': 0.00014249664673116058, 'POSITIVO': 0.9994369149208069},\n",
              " {'NEGATIVO': 0.00032234154059551656, 'POSITIVO': 0.9992040991783142},\n",
              " {'NEGATIVO': 0.0005297169554978609, 'POSITIVO': 0.999142050743103},\n",
              " {'NEGATIVO': 0.00041100659291259944, 'POSITIVO': 0.9992337226867676},\n",
              " {'NEGATIVO': 0.00024883338483050466, 'POSITIVO': 0.9988413453102112},\n",
              " {'NEGATIVO': 0.00028010254027321935, 'POSITIVO': 0.9993544220924377},\n",
              " {'NEGATIVO': 0.00045809688162989914, 'POSITIVO': 0.9993211030960083},\n",
              " {'NEGATIVO': 0.00058556511066854, 'POSITIVO': 0.9992916584014893},\n",
              " {'NEGATIVO': 0.0005693991552107036, 'POSITIVO': 0.9994951486587524},\n",
              " {'NEGATIVO': 0.0006636015023104846, 'POSITIVO': 0.9991477727890015},\n",
              " {'NEGATIVO': 0.0002540303976275027, 'POSITIVO': 0.9991391897201538},\n",
              " {'NEGATIVO': 0.00043032094254158437, 'POSITIVO': 0.999524712562561},\n",
              " {'NEGATIVO': 0.00041394561412744224, 'POSITIVO': 0.9990600943565369},\n",
              " {'NEGATIVO': 0.00029332839767448604, 'POSITIVO': 0.9988947510719299},\n",
              " {'NEGATIVO': 0.0003034243418369442, 'POSITIVO': 0.9991707801818848},\n",
              " {'NEGATIVO': 0.00024190323892980814, 'POSITIVO': 0.9995012283325195},\n",
              " {'NEGATIVO': 0.0005452997866086662, 'POSITIVO': 0.9949713945388794},\n",
              " {'NEGATIVO': 0.0001333096151938662, 'POSITIVO': 0.9992163181304932},\n",
              " {'NEGATIVO': 0.00043021776946261525, 'POSITIVO': 0.9990972280502319},\n",
              " {'NEGATIVO': 0.00035153861972503364, 'POSITIVO': 0.9990832805633545},\n",
              " {'NEGATIVO': 0.000271189259365201, 'POSITIVO': 0.9995372295379639},\n",
              " {'NEGATIVO': 0.0005802399246022105, 'POSITIVO': 0.9994586110115051},\n",
              " {'NEGATIVO': 0.0006811295752413571, 'POSITIVO': 0.999208390712738},\n",
              " {'NEGATIVO': 0.00021874014055356383, 'POSITIVO': 0.9985014200210571},\n",
              " {'NEGATIVO': 0.0007022701320238411, 'POSITIVO': 0.9993364214897156},\n",
              " {'NEGATIVO': 0.00024832243798300624, 'POSITIVO': 0.9994219541549683},\n",
              " {'NEGATIVO': 0.0005875295028090477, 'POSITIVO': 0.9992965459823608},\n",
              " {'NEGATIVO': 0.0003286657447461039, 'POSITIVO': 0.999354898929596},\n",
              " {'NEGATIVO': 0.0002925795561168343, 'POSITIVO': 0.9991135001182556},\n",
              " {'NEGATIVO': 0.0004330711090005934, 'POSITIVO': 0.9995278120040894},\n",
              " {'NEGATIVO': 0.0001235796808032319, 'POSITIVO': 0.998711347579956},\n",
              " {'NEGATIVO': 0.00017746874073054641, 'POSITIVO': 0.9994029998779297},\n",
              " {'NEGATIVO': 0.00018128062947653234, 'POSITIVO': 0.9990614056587219},\n",
              " {'NEGATIVO': 0.002494686283171177, 'POSITIVO': 0.9888810515403748},\n",
              " {'NEGATIVO': 0.0001852900313679129, 'POSITIVO': 0.9993778467178345},\n",
              " {'NEGATIVO': 0.0004897971521131694, 'POSITIVO': 0.9992877840995789},\n",
              " {'NEGATIVO': 0.00041539990343153477, 'POSITIVO': 0.9989838004112244},\n",
              " {'NEGATIVO': 0.0022847293876111507, 'POSITIVO': 0.9963588118553162},\n",
              " {'NEGATIVO': 0.00021506831399165094, 'POSITIVO': 0.9994475245475769},\n",
              " {'NEGATIVO': 0.0003284304984845221, 'POSITIVO': 0.9993645548820496},\n",
              " {'NEGATIVO': 0.00029456792981363833, 'POSITIVO': 0.9990376234054565},\n",
              " {'NEGATIVO': 0.00018995038408320397, 'POSITIVO': 0.9990686774253845},\n",
              " {'NEGATIVO': 0.0007183538982644677, 'POSITIVO': 0.9991266131401062},\n",
              " {'NEGATIVO': 0.002444677520543337, 'POSITIVO': 0.9990944862365723},\n",
              " {'NEGATIVO': 0.00044674676610156894, 'POSITIVO': 0.9993830919265747},\n",
              " {'NEGATIVO': 0.00016409218369517475, 'POSITIVO': 0.9993982315063477},\n",
              " {'NEGATIVO': 0.0002636323915794492, 'POSITIVO': 0.9993076324462891},\n",
              " {'NEGATIVO': 0.0008067840826697648, 'POSITIVO': 0.999367892742157},\n",
              " {'NEGATIVO': 0.0007469241973012686, 'POSITIVO': 0.9990826845169067},\n",
              " {'NEGATIVO': 0.00022001273464411497, 'POSITIVO': 0.9993804693222046},\n",
              " {'NEGATIVO': 0.00034935298026539385, 'POSITIVO': 0.9991734623908997},\n",
              " {'NEGATIVO': 0.00019356500706635416, 'POSITIVO': 0.9992345571517944},\n",
              " {'NEGATIVO': 0.0006712218746542931, 'POSITIVO': 0.9996212720870972},\n",
              " {'NEGATIVO': 0.0007639690302312374, 'POSITIVO': 0.9985319375991821},\n",
              " {'NEGATIVO': 0.00016374066763091832, 'POSITIVO': 0.9987381100654602},\n",
              " {'NEGATIVO': 0.0006765727302990854, 'POSITIVO': 0.9987236857414246},\n",
              " {'NEGATIVO': 0.0010230380576103926, 'POSITIVO': 0.9989694356918335},\n",
              " {'NEGATIVO': 0.0006165603990666568, 'POSITIVO': 0.9993708729743958},\n",
              " {'NEGATIVO': 0.000762290321290493, 'POSITIVO': 0.9976617097854614},\n",
              " {'NEGATIVO': 0.0002223154151579365, 'POSITIVO': 0.9991182684898376},\n",
              " {'NEGATIVO': 0.00021676920005120337, 'POSITIVO': 0.9989161491394043},\n",
              " {'NEGATIVO': 0.0015324754640460014, 'POSITIVO': 0.9981473684310913},\n",
              " {'NEGATIVO': 0.0007216301164589822, 'POSITIVO': 0.9993404746055603},\n",
              " {'NEGATIVO': 0.000743847107514739, 'POSITIVO': 0.9991106390953064},\n",
              " {'NEGATIVO': 0.00019649152818601578, 'POSITIVO': 0.9990283250808716},\n",
              " {'NEGATIVO': 0.0005643048789352179, 'POSITIVO': 0.9995465874671936},\n",
              " {'NEGATIVO': 0.00016072318248916417, 'POSITIVO': 0.9992315769195557},\n",
              " {'NEGATIVO': 0.0002708600659389049, 'POSITIVO': 0.999285876750946},\n",
              " {'NEGATIVO': 0.0003020479343831539, 'POSITIVO': 0.9991405010223389},\n",
              " {'NEGATIVO': 0.00043912968249060214, 'POSITIVO': 0.9973487854003906},\n",
              " {'NEGATIVO': 0.0002223154151579365, 'POSITIVO': 0.9991182684898376},\n",
              " {'NEGATIVO': 0.00044404983054846525, 'POSITIVO': 0.999325156211853},\n",
              " {'NEGATIVO': 0.0005322620272636414, 'POSITIVO': 0.9991945624351501},\n",
              " {'NEGATIVO': 0.00027721148217096925, 'POSITIVO': 0.9987128973007202},\n",
              " {'NEGATIVO': 0.0008399079088121653, 'POSITIVO': 0.999177873134613},\n",
              " {'NEGATIVO': 0.00038093820330686867, 'POSITIVO': 0.9992551207542419},\n",
              " {'NEGATIVO': 0.0002769745187833905, 'POSITIVO': 0.9992165565490723},\n",
              " {'NEGATIVO': 0.0005369876744225621, 'POSITIVO': 0.9992677569389343},\n",
              " {'NEGATIVO': 0.00038510403828695416, 'POSITIVO': 0.9993220567703247},\n",
              " {'NEGATIVO': 0.00027424280415289104, 'POSITIVO': 0.9994511008262634},\n",
              " {'NEGATIVO': 0.00014954978541936725, 'POSITIVO': 0.9992259740829468},\n",
              " {'NEGATIVO': 0.00033145459019578993, 'POSITIVO': 0.9990411400794983},\n",
              " {'NEGATIVO': 0.0004255073727108538, 'POSITIVO': 0.9990261793136597},\n",
              " {'NEGATIVO': 0.0003612721629906446, 'POSITIVO': 0.9979273080825806},\n",
              " {'NEGATIVO': 0.00030659252661280334, 'POSITIVO': 0.9982017278671265},\n",
              " {'NEGATIVO': 0.0003737250517588109, 'POSITIVO': 0.999180257320404},\n",
              " {'NEGATIVO': 0.0006741931429132819, 'POSITIVO': 0.9990382194519043},\n",
              " {'NEGATIVO': 0.00038510403828695416, 'POSITIVO': 0.9993220567703247},\n",
              " {'NEGATIVO': 0.0004152403271291405, 'POSITIVO': 0.9986000657081604},\n",
              " {'NEGATIVO': 0.00023648166097700596, 'POSITIVO': 0.9991207718849182},\n",
              " {'NEGATIVO': 0.0015333110932260752, 'POSITIVO': 0.9981484413146973},\n",
              " {'NEGATIVO': 0.000327275600284338, 'POSITIVO': 0.9993829727172852},\n",
              " {'NEGATIVO': 0.00023984117433428764, 'POSITIVO': 0.9992018342018127},\n",
              " {'NEGATIVO': 0.00041069465805776417, 'POSITIVO': 0.9993372559547424},\n",
              " {'NEGATIVO': 0.0038872729055583477, 'POSITIVO': 0.9976054430007935},\n",
              " {'NEGATIVO': 0.0001237498363479972, 'POSITIVO': 0.9993467926979065},\n",
              " {'NEGATIVO': 0.00040526772500015795, 'POSITIVO': 0.9990265369415283},\n",
              " {'NEGATIVO': 0.00017511879559606314, 'POSITIVO': 0.9991034865379333},\n",
              " {'NEGATIVO': 0.00039762264350429177, 'POSITIVO': 0.999455988407135},\n",
              " {'NEGATIVO': 0.001005237689241767, 'POSITIVO': 0.9992530941963196},\n",
              " {'NEGATIVO': 0.00042137160198763013, 'POSITIVO': 0.9992503523826599},\n",
              " {'NEGATIVO': 0.0009475143742747605, 'POSITIVO': 0.9993599057197571},\n",
              " {'NEGATIVO': 0.00030896009411662817, 'POSITIVO': 0.999496340751648},\n",
              " {'NEGATIVO': 0.0002060419792542234, 'POSITIVO': 0.9993672966957092},\n",
              " {'NEGATIVO': 0.0006262538954615593, 'POSITIVO': 0.9994217157363892},\n",
              " {'NEGATIVO': 0.0006099339807406068, 'POSITIVO': 0.99936443567276},\n",
              " {'NEGATIVO': 0.00011246314534218982, 'POSITIVO': 0.9994224309921265},\n",
              " {'NEGATIVO': 0.0004908998962491751, 'POSITIVO': 0.9992252588272095},\n",
              " {'NEGATIVO': 0.0004261002177372575, 'POSITIVO': 0.9991531372070312},\n",
              " {'NEGATIVO': 0.0006047500646673143, 'POSITIVO': 0.9992116689682007},\n",
              " {'NEGATIVO': 0.0014204740291461349, 'POSITIVO': 0.998134434223175},\n",
              " {'NEGATIVO': 0.0017015766352415085, 'POSITIVO': 0.9983193278312683},\n",
              " {'NEGATIVO': 0.00041475670877844095, 'POSITIVO': 0.9991347193717957},\n",
              " {'NEGATIVO': 0.0003406525938771665, 'POSITIVO': 0.9990425705909729},\n",
              " {'NEGATIVO': 0.0001441284257452935, 'POSITIVO': 0.9994269609451294},\n",
              " {'NEGATIVO': 0.00048757981858216226, 'POSITIVO': 0.99916672706604},\n",
              " {'NEGATIVO': 0.0007059772033244371, 'POSITIVO': 0.9977922439575195},\n",
              " {'NEGATIVO': 0.000473677966510877, 'POSITIVO': 0.9988971948623657},\n",
              " {'NEGATIVO': 0.0006829235353507102, 'POSITIVO': 0.999169111251831},\n",
              " {'NEGATIVO': 0.00036833566264249384, 'POSITIVO': 0.9992378950119019},\n",
              " {'NEGATIVO': 0.000206643613637425, 'POSITIVO': 0.999349057674408},\n",
              " {'NEGATIVO': 0.00011246314534218982, 'POSITIVO': 0.9994224309921265},\n",
              " {'NEGATIVO': 0.00038510403828695416, 'POSITIVO': 0.9993220567703247},\n",
              " {'NEGATIVO': 0.00020755117293447256, 'POSITIVO': 0.9992504715919495},\n",
              " {'NEGATIVO': 0.0005282431957311928, 'POSITIVO': 0.9992403984069824},\n",
              " {'NEGATIVO': 0.00021599575120490044, 'POSITIVO': 0.9995627999305725},\n",
              " {'NEGATIVO': 0.0001908994308905676, 'POSITIVO': 0.9994906187057495},\n",
              " {'NEGATIVO': 0.0001434267614968121, 'POSITIVO': 0.9986566305160522},\n",
              " {'NEGATIVO': 0.0005502609419636428, 'POSITIVO': 0.999471127986908},\n",
              " {'NEGATIVO': 0.0011096426751464605, 'POSITIVO': 0.9989808201789856},\n",
              " {'NEGATIVO': 0.0004690809000749141, 'POSITIVO': 0.99916672706604},\n",
              " {'NEGATIVO': 0.000472335668746382, 'POSITIVO': 0.9992440938949585},\n",
              " {'NEGATIVO': 0.00038871722063049674, 'POSITIVO': 0.9985437393188477},\n",
              " {'NEGATIVO': 0.0008584799943491817, 'POSITIVO': 0.999340832233429},\n",
              " {'NEGATIVO': 0.00010645596194081008, 'POSITIVO': 0.9990155696868896},\n",
              " {'NEGATIVO': 0.00027178769232705235, 'POSITIVO': 0.9992091059684753},\n",
              " {'NEGATIVO': 9.937792492564768e-05, 'POSITIVO': 0.9987732768058777},\n",
              " {'NEGATIVO': 0.000652976450510323, 'POSITIVO': 0.9991344809532166},\n",
              " {'NEGATIVO': 0.00043466113856993616, 'POSITIVO': 0.9990919828414917},\n",
              " {'NEGATIVO': 0.00029295944841578603, 'POSITIVO': 0.9985221028327942},\n",
              " {'NEGATIVO': 0.00018459737475495785, 'POSITIVO': 0.9993335604667664},\n",
              " {'NEGATIVO': 0.00030637887539342046, 'POSITIVO': 0.9987769722938538},\n",
              " {'NEGATIVO': 0.00029886746779084206, 'POSITIVO': 0.9991748929023743},\n",
              " {'NEGATIVO': 0.0003321122203487903, 'POSITIVO': 0.9990440011024475},\n",
              " {'NEGATIVO': 0.00029486685525625944, 'POSITIVO': 0.9994408488273621},\n",
              " {'NEGATIVO': 0.0003024184552486986, 'POSITIVO': 0.9989275336265564},\n",
              " {'NEGATIVO': 0.0001637937530176714, 'POSITIVO': 0.9991590976715088},\n",
              " {'NEGATIVO': 0.00023298742598854005, 'POSITIVO': 0.9994497895240784},\n",
              " {'NEGATIVO': 0.0008512110798619688, 'POSITIVO': 0.9989533424377441},\n",
              " {'NEGATIVO': 0.0004215688386466354, 'POSITIVO': 0.999099850654602},\n",
              " {'NEGATIVO': 0.00031445984495803714, 'POSITIVO': 0.9992856383323669},\n",
              " {'NEGATIVO': 0.0001775200362317264, 'POSITIVO': 0.9992266893386841},\n",
              " {'NEGATIVO': 0.00039946267497725785, 'POSITIVO': 0.9991983771324158},\n",
              " {'NEGATIVO': 0.00048275949666276574, 'POSITIVO': 0.9993956089019775},\n",
              " {'NEGATIVO': 0.0002836093190126121, 'POSITIVO': 0.9995154142379761},\n",
              " {'NEGATIVO': 0.00016273671644739807, 'POSITIVO': 0.9994788765907288},\n",
              " {'NEGATIVO': 0.00017888701404444873, 'POSITIVO': 0.9992249011993408},\n",
              " {'NEGATIVO': 0.0002792593732010573, 'POSITIVO': 0.9990501999855042},\n",
              " {'NEGATIVO': 0.00048751221038401127, 'POSITIVO': 0.9993690848350525},\n",
              " {'NEGATIVO': 0.0002893100318033248, 'POSITIVO': 0.9994794726371765},\n",
              " {'NEGATIVO': 0.0006825695163570344, 'POSITIVO': 0.9986106157302856},\n",
              " {'NEGATIVO': 0.000335965130943805, 'POSITIVO': 0.9994207620620728},\n",
              " {'NEGATIVO': 0.0010723364539444447, 'POSITIVO': 0.9993133544921875},\n",
              " {'NEGATIVO': 0.000658327538985759, 'POSITIVO': 0.999438464641571},\n",
              " {'NEGATIVO': 0.00016141538799274713, 'POSITIVO': 0.9992818236351013},\n",
              " {'NEGATIVO': 0.0003643261734396219, 'POSITIVO': 0.9992209672927856},\n",
              " {'NEGATIVO': 0.00047893868759274483, 'POSITIVO': 0.9983857870101929},\n",
              " {'NEGATIVO': 0.0004390493268147111, 'POSITIVO': 0.9986721277236938},\n",
              " {'NEGATIVO': 0.0007122188690118492, 'POSITIVO': 0.9994727969169617},\n",
              " {'NEGATIVO': 0.00026994411018677056, 'POSITIVO': 0.9993983507156372},\n",
              " {'NEGATIVO': 0.0011821920052170753, 'POSITIVO': 0.9991413354873657},\n",
              " {'NEGATIVO': 0.00026500661624595523, 'POSITIVO': 0.9992780089378357},\n",
              " {'NEGATIVO': 0.00017924026178661734, 'POSITIVO': 0.99941086769104},\n",
              " {'NEGATIVO': 0.0003794717777054757, 'POSITIVO': 0.9994496703147888},\n",
              " {'NEGATIVO': 0.0005471725598908961, 'POSITIVO': 0.9992055296897888},\n",
              " {'NEGATIVO': 0.0003702884423546493, 'POSITIVO': 0.9992632269859314},\n",
              " {'NEGATIVO': 0.00026368521503172815, 'POSITIVO': 0.9992063641548157},\n",
              " {'NEGATIVO': 0.0003353124193381518, 'POSITIVO': 0.9988223910331726},\n",
              " {'NEGATIVO': 0.0003860952565446496, 'POSITIVO': 0.9991722106933594},\n",
              " {'NEGATIVO': 0.0004860186018049717, 'POSITIVO': 0.9992738366127014},\n",
              " {'NEGATIVO': 0.000325311761116609, 'POSITIVO': 0.9994300007820129},\n",
              " {'NEGATIVO': 0.000679374672472477, 'POSITIVO': 0.9995023012161255},\n",
              " {'NEGATIVO': 0.000427981314714998, 'POSITIVO': 0.9992675185203552},\n",
              " {'NEGATIVO': 0.00020285848586354405, 'POSITIVO': 0.9989591836929321},\n",
              " {'NEGATIVO': 0.0007945047109387815, 'POSITIVO': 0.9991371035575867},\n",
              " {'NEGATIVO': 0.0004000140761490911, 'POSITIVO': 0.9990369081497192},\n",
              " {'NEGATIVO': 0.00033707989496178925, 'POSITIVO': 0.999432384967804},\n",
              " {'NEGATIVO': 0.0008007701253518462, 'POSITIVO': 0.9910632371902466},\n",
              " {'NEGATIVO': 0.0006636015023104846, 'POSITIVO': 0.9991477727890015},\n",
              " {'NEGATIVO': 0.00046550092520192266, 'POSITIVO': 0.9989089965820312},\n",
              " {'NEGATIVO': 0.0006662847008556128, 'POSITIVO': 0.9991831183433533},\n",
              " {'NEGATIVO': 0.00030621010228060186, 'POSITIVO': 0.9993929862976074},\n",
              " {'NEGATIVO': 0.0005056117661297321, 'POSITIVO': 0.9992807507514954},\n",
              " {'NEGATIVO': 0.0004161642282269895, 'POSITIVO': 0.9992992877960205},\n",
              " {'NEGATIVO': 0.0002307226532138884, 'POSITIVO': 0.9992881417274475},\n",
              " {'NEGATIVO': 0.000379918550606817, 'POSITIVO': 0.9992784857749939},\n",
              " {'NEGATIVO': 0.00018109129450749606, 'POSITIVO': 0.9992807507514954},\n",
              " {'NEGATIVO': 0.00045681034680455923, 'POSITIVO': 0.998767614364624},\n",
              " {'NEGATIVO': 0.0006656677578575909, 'POSITIVO': 0.9991488456726074},\n",
              " {'NEGATIVO': 0.00043223387910984457, 'POSITIVO': 0.999442994594574},\n",
              " {'NEGATIVO': 0.00015407075989060104, 'POSITIVO': 0.9991636276245117},\n",
              " {'NEGATIVO': 0.00036851337063126266, 'POSITIVO': 0.999350368976593},\n",
              " {'NEGATIVO': 0.00038510403828695416, 'POSITIVO': 0.9993220567703247},\n",
              " {'NEGATIVO': 0.00030611437978222966, 'POSITIVO': 0.9989724159240723},\n",
              " {'NEGATIVO': 0.00038510403828695416, 'POSITIVO': 0.9993220567703247},\n",
              " {'NEGATIVO': 0.00017945283616427332, 'POSITIVO': 0.9993215799331665},\n",
              " {'NEGATIVO': 0.00026778902974911034, 'POSITIVO': 0.9993748068809509},\n",
              " {'NEGATIVO': 0.0002405798004474491, 'POSITIVO': 0.9995384216308594},\n",
              " {'NEGATIVO': 0.00021050276700407267, 'POSITIVO': 0.9991680383682251},\n",
              " {'NEGATIVO': 0.000276351987849921, 'POSITIVO': 0.9992365837097168},\n",
              " {'NEGATIVO': 0.0004640332190319896, 'POSITIVO': 0.998828113079071},\n",
              " {'NEGATIVO': 0.0003580206830520183, 'POSITIVO': 0.9993587136268616},\n",
              " {'NEGATIVO': 0.0002198265283368528, 'POSITIVO': 0.9994284510612488},\n",
              " {'NEGATIVO': 0.000658145290799439, 'POSITIVO': 0.9990288019180298},\n",
              " {'NEGATIVO': 0.0004353825352154672, 'POSITIVO': 0.9993425011634827},\n",
              " {'NEGATIVO': 0.0003052525862585753, 'POSITIVO': 0.9986035227775574},\n",
              " {'NEGATIVO': 0.0003539769386406988, 'POSITIVO': 0.9993832111358643},\n",
              " {'NEGATIVO': 0.00035055368789471686, 'POSITIVO': 0.9994710087776184},\n",
              " {'NEGATIVO': 0.0002691586851142347, 'POSITIVO': 0.999360978603363},\n",
              " {'NEGATIVO': 0.00021810685575474054, 'POSITIVO': 0.9990819692611694},\n",
              " {'NEGATIVO': 0.00021161600307095796, 'POSITIVO': 0.9993072748184204},\n",
              " {'NEGATIVO': 0.00030613713897764683, 'POSITIVO': 0.9990367889404297},\n",
              " {'NEGATIVO': 0.0007871343404985964, 'POSITIVO': 0.9994046688079834},\n",
              " {'NEGATIVO': 0.00021203023788984865, 'POSITIVO': 0.9994331002235413},\n",
              " {'NEGATIVO': 0.00014741743507329375, 'POSITIVO': 0.9991430044174194},\n",
              " {'NEGATIVO': 0.00038510403828695416, 'POSITIVO': 0.9993220567703247},\n",
              " {'NEGATIVO': 0.0002410552988294512, 'POSITIVO': 0.9992192983627319},\n",
              " {'NEGATIVO': 0.0001981401874218136, 'POSITIVO': 0.9992475509643555},\n",
              " {'NEGATIVO': 0.0002933882351499051, 'POSITIVO': 0.9990290403366089},\n",
              " {'NEGATIVO': 0.0007085860706865788, 'POSITIVO': 0.9992382526397705},\n",
              " {'NEGATIVO': 0.00029510253807529807, 'POSITIVO': 0.9993283748626709},\n",
              " {'NEGATIVO': 0.0003444710746407509, 'POSITIVO': 0.9994686245918274},\n",
              " {'NEGATIVO': 0.000382700702175498, 'POSITIVO': 0.9992351531982422},\n",
              " {'NEGATIVO': 0.00031030504032969475, 'POSITIVO': 0.9993508458137512},\n",
              " {'NEGATIVO': 0.00018187255773227662, 'POSITIVO': 0.9981877207756042},\n",
              " {'NEGATIVO': 0.009503480046987534, 'POSITIVO': 0.9814589023590088},\n",
              " {'NEGATIVO': 0.00030992485699243844, 'POSITIVO': 0.9993502497673035},\n",
              " {'NEGATIVO': 0.00014686981739941984, 'POSITIVO': 0.9993883371353149},\n",
              " {'NEGATIVO': 0.00017484764975961298, 'POSITIVO': 0.9991100430488586},\n",
              " {'NEGATIVO': 0.00019031783449463546, 'POSITIVO': 0.9991151690483093},\n",
              " {'NEGATIVO': 0.0008290091645903885, 'POSITIVO': 0.9994812607765198},\n",
              " {'NEGATIVO': 0.0003335190995130688, 'POSITIVO': 0.9988793730735779},\n",
              " {'NEGATIVO': 0.0005095067899674177, 'POSITIVO': 0.9994416832923889},\n",
              " {'NEGATIVO': 0.00025721872225403786, 'POSITIVO': 0.9992109537124634},\n",
              " {'NEGATIVO': 0.000334995798766613, 'POSITIVO': 0.9987275004386902},\n",
              " {'NEGATIVO': 0.0003601368807721883, 'POSITIVO': 0.9993497729301453},\n",
              " {'NEGATIVO': 0.00041514020995236933, 'POSITIVO': 0.9992828965187073},\n",
              " {'NEGATIVO': 0.00042124290484935045, 'POSITIVO': 0.9990725517272949},\n",
              " {'NEGATIVO': 0.0006818595575168729, 'POSITIVO': 0.9992934465408325},\n",
              " {'NEGATIVO': 0.0004575328784994781, 'POSITIVO': 0.999224066734314},\n",
              " {'NEGATIVO': 0.00016895134467631578, 'POSITIVO': 0.9994556307792664},\n",
              " {'NEGATIVO': 0.00020044876146130264, 'POSITIVO': 0.9992369413375854},\n",
              " {'NEGATIVO': 0.0005761997308582067, 'POSITIVO': 0.9991718530654907},\n",
              " {'NEGATIVO': 0.00032006381661631167, 'POSITIVO': 0.9988797307014465},\n",
              " {'NEGATIVO': 0.0005862424150109291, 'POSITIVO': 0.9990770816802979},\n",
              " {'NEGATIVO': 0.0006636015023104846, 'POSITIVO': 0.9991477727890015},\n",
              " {'NEGATIVO': 0.0004149882879573852, 'POSITIVO': 0.9995112419128418},\n",
              " {'NEGATIVO': 0.0002487619931343943, 'POSITIVO': 0.9992843270301819},\n",
              " {'NEGATIVO': 0.00033290436840616167, 'POSITIVO': 0.9994507431983948},\n",
              " {'NEGATIVO': 0.00048446402070112526, 'POSITIVO': 0.9991587400436401},\n",
              " {'NEGATIVO': 0.00022180030646268278, 'POSITIVO': 0.9990547299385071},\n",
              " {'NEGATIVO': 0.00036156640271656215, 'POSITIVO': 0.9991223216056824},\n",
              " {'NEGATIVO': 0.0003340861585456878, 'POSITIVO': 0.9979735016822815},\n",
              " {'NEGATIVO': 0.00036987935891374946, 'POSITIVO': 0.9992475509643555},\n",
              " {'NEGATIVO': 0.00020898906223010272, 'POSITIVO': 0.9993529915809631},\n",
              " {'NEGATIVO': 0.0003579399490263313, 'POSITIVO': 0.9994732737541199},\n",
              " {'NEGATIVO': 0.002980212215334177, 'POSITIVO': 0.9972757697105408},\n",
              " {'NEGATIVO': 0.0002726998063735664, 'POSITIVO': 0.999494194984436},\n",
              " {'NEGATIVO': 0.0001359231537207961, 'POSITIVO': 0.9992427825927734},\n",
              " {'NEGATIVO': 0.00026663290918804705, 'POSITIVO': 0.9994596838951111},\n",
              " {'NEGATIVO': 0.0002168287755921483, 'POSITIVO': 0.9988930821418762},\n",
              " {'NEGATIVO': 0.0008074697107076645, 'POSITIVO': 0.9978371262550354},\n",
              " {'NEGATIVO': 0.0004330882802605629, 'POSITIVO': 0.9987450838088989},\n",
              " {'NEGATIVO': 0.0004034129378851503, 'POSITIVO': 0.9980104565620422},\n",
              " {'NEGATIVO': 0.0002300188789376989, 'POSITIVO': 0.999312162399292},\n",
              " {'NEGATIVO': 0.014376706443727016, 'POSITIVO': 0.9884246587753296},\n",
              " {'NEGATIVO': 0.0005816573975607753, 'POSITIVO': 0.9993816614151001},\n",
              " {'NEGATIVO': 0.00027840337133966386, 'POSITIVO': 0.9994450211524963},\n",
              " {'NEGATIVO': 0.00043203323730267584, 'POSITIVO': 0.9994989633560181},\n",
              " {'NEGATIVO': 0.00018942152382805943, 'POSITIVO': 0.9991231560707092},\n",
              " {'NEGATIVO': 0.0003151375276502222, 'POSITIVO': 0.9994346499443054},\n",
              " {'NEGATIVO': 0.00066832744050771, 'POSITIVO': 0.998914361000061},\n",
              " {'NEGATIVO': 0.000838479318190366, 'POSITIVO': 0.9980518817901611},\n",
              " {'NEGATIVO': 0.0003180283820256591, 'POSITIVO': 0.998974084854126},\n",
              " {'NEGATIVO': 0.00026132832863368094, 'POSITIVO': 0.9994413256645203},\n",
              " {'NEGATIVO': 0.0003523734339978546, 'POSITIVO': 0.9993558526039124},\n",
              " {'NEGATIVO': 0.0005195940611883998, 'POSITIVO': 0.9987672567367554},\n",
              " {'NEGATIVO': 0.0003364506410434842, 'POSITIVO': 0.9990854263305664},\n",
              " {'NEGATIVO': 0.00035671511432155967, 'POSITIVO': 0.9995313882827759},\n",
              " {'NEGATIVO': 0.00034342295839451253, 'POSITIVO': 0.9994094371795654},\n",
              " {'NEGATIVO': 0.00022682678536511958, 'POSITIVO': 0.9994425177574158},\n",
              " {'NEGATIVO': 0.000276836974080652, 'POSITIVO': 0.9990383386611938},\n",
              " {'NEGATIVO': 0.0004597113293129951, 'POSITIVO': 0.9989070892333984},\n",
              " {'NEGATIVO': 0.00034348940243944526, 'POSITIVO': 0.999055802822113},\n",
              " {'NEGATIVO': 0.0005474774516187608, 'POSITIVO': 0.9993942975997925},\n",
              " {'NEGATIVO': 0.0005723722279071808, 'POSITIVO': 0.9993411898612976},\n",
              " {'NEGATIVO': 0.000462378520751372, 'POSITIVO': 0.9982836246490479},\n",
              " {'NEGATIVO': 0.00019918274483643472, 'POSITIVO': 0.999137282371521},\n",
              " {'NEGATIVO': 0.00026879788492806256, 'POSITIVO': 0.9994581341743469},\n",
              " {'NEGATIVO': 0.0002706230734474957, 'POSITIVO': 0.9992998838424683},\n",
              " {'NEGATIVO': 0.0004367290821392089, 'POSITIVO': 0.9992781281471252},\n",
              " {'NEGATIVO': 0.0004330882802605629, 'POSITIVO': 0.9987450838088989},\n",
              " {'NEGATIVO': 0.00030712521402165294, 'POSITIVO': 0.999082088470459},\n",
              " {'NEGATIVO': 0.0003912511747330427, 'POSITIVO': 0.9991627931594849},\n",
              " {'NEGATIVO': 0.00029746771906502545, 'POSITIVO': 0.9991441965103149},\n",
              " {'NEGATIVO': 0.00033583902404643595, 'POSITIVO': 0.9994470477104187},\n",
              " {'NEGATIVO': 0.0008827614947222173, 'POSITIVO': 0.998939573764801},\n",
              " {'NEGATIVO': 0.00036271935096010566, 'POSITIVO': 0.9989262223243713},\n",
              " {'NEGATIVO': 0.0004392449918668717, 'POSITIVO': 0.9992654919624329},\n",
              " {'NEGATIVO': 0.00042039324762299657, 'POSITIVO': 0.9990678429603577},\n",
              " {'NEGATIVO': 0.0008587115444242954, 'POSITIVO': 0.9983245730400085},\n",
              " {'NEGATIVO': 0.0004147436411585659, 'POSITIVO': 0.9990407824516296},\n",
              " {'NEGATIVO': 0.00034518836764618754, 'POSITIVO': 0.9994458556175232},\n",
              " {'NEGATIVO': 0.00022088502009864897, 'POSITIVO': 0.9991036057472229},\n",
              " {'NEGATIVO': 0.0007528995629400015, 'POSITIVO': 0.9989368319511414},\n",
              " {'NEGATIVO': 0.0015838261460885406, 'POSITIVO': 0.9982323050498962},\n",
              " {'NEGATIVO': 0.0007782409666106105, 'POSITIVO': 0.9989997744560242},\n",
              " {'NEGATIVO': 0.0011160557623952627, 'POSITIVO': 0.9993268251419067},\n",
              " {'NEGATIVO': 0.0002938814868684858, 'POSITIVO': 0.9993842840194702},\n",
              " {'NEGATIVO': 0.0002938814868684858, 'POSITIVO': 0.9993842840194702},\n",
              " {'NEGATIVO': 0.00047760727466084063, 'POSITIVO': 0.9989032745361328},\n",
              " {'NEGATIVO': 0.0002938814868684858, 'POSITIVO': 0.9993842840194702},\n",
              " {'NEGATIVO': 0.0002079491241602227, 'POSITIVO': 0.9994553923606873},\n",
              " {'NEGATIVO': 0.0002938814868684858, 'POSITIVO': 0.9993842840194702},\n",
              " {'NEGATIVO': 0.0001973369944607839, 'POSITIVO': 0.9994823932647705},\n",
              " {'NEGATIVO': 0.0003212331503164023, 'POSITIVO': 0.9992327690124512},\n",
              " {'NEGATIVO': 0.00025537138571962714, 'POSITIVO': 0.9982543587684631},\n",
              " {'NEGATIVO': 0.00013058875629212707, 'POSITIVO': 0.9992167949676514},\n",
              " {'NEGATIVO': 0.000314509030431509, 'POSITIVO': 0.9988288283348083},\n",
              " {'NEGATIVO': 0.002791741630062461, 'POSITIVO': 0.9958849549293518},\n",
              " {'NEGATIVO': 0.001012609340250492, 'POSITIVO': 0.9990635514259338},\n",
              " {'NEGATIVO': 0.0005705231451429427, 'POSITIVO': 0.9990715980529785},\n",
              " {'NEGATIVO': 0.0003677784407045692, 'POSITIVO': 0.9992581009864807},\n",
              " {'NEGATIVO': 0.00023193660308606923, 'POSITIVO': 0.9987469911575317},\n",
              " {'NEGATIVO': 0.002294409554451704, 'POSITIVO': 0.9985550045967102},\n",
              " {'NEGATIVO': 0.0003336987574584782, 'POSITIVO': 0.9994345307350159},\n",
              " {'NEGATIVO': 0.0004889530246146023, 'POSITIVO': 0.9992417097091675},\n",
              " {'NEGATIVO': 0.00028743635630235076, 'POSITIVO': 0.9993225336074829},\n",
              " {'NEGATIVO': 0.0004353820695541799, 'POSITIVO': 0.999098539352417},\n",
              " {'NEGATIVO': 0.0004969415022060275, 'POSITIVO': 0.9991986155509949},\n",
              " {'NEGATIVO': 0.00018148453091271222, 'POSITIVO': 0.9993392825126648},\n",
              " {'NEGATIVO': 0.0003300262033008039, 'POSITIVO': 0.9991220831871033},\n",
              " {'NEGATIVO': 0.0003493230324238539, 'POSITIVO': 0.9994921684265137},\n",
              " {'NEGATIVO': 0.00038510403828695416, 'POSITIVO': 0.9993220567703247},\n",
              " {'NEGATIVO': 0.0008600454311817884, 'POSITIVO': 0.9976966977119446},\n",
              " {'NEGATIVO': 0.0002590599178802222, 'POSITIVO': 0.9992666840553284},\n",
              " {'NEGATIVO': 0.00021635273878928274, 'POSITIVO': 0.9991262555122375},\n",
              " {'NEGATIVO': 0.0002223154151579365, 'POSITIVO': 0.9991182684898376},\n",
              " {'NEGATIVO': 0.0005345753743313253, 'POSITIVO': 0.9989309906959534},\n",
              " {'NEGATIVO': 0.00021149881649762392, 'POSITIVO': 0.998870313167572},\n",
              " {'NEGATIVO': 0.0003276992356404662, 'POSITIVO': 0.9993388056755066},\n",
              " {'NEGATIVO': 0.001899411901831627, 'POSITIVO': 0.9990297555923462},\n",
              " {'NEGATIVO': 0.0003859698190353811, 'POSITIVO': 0.9994897842407227},\n",
              " {'NEGATIVO': 0.00048147779307328165, 'POSITIVO': 0.9988335967063904},\n",
              " {'NEGATIVO': 0.0005402594688348472, 'POSITIVO': 0.9992695450782776},\n",
              " {'NEGATIVO': 0.0008477797382511199, 'POSITIVO': 0.9976873397827148},\n",
              " {'NEGATIVO': 0.0007739831926301122, 'POSITIVO': 0.999517560005188},\n",
              " {'NEGATIVO': 0.00011254768469370902, 'POSITIVO': 0.9992181062698364},\n",
              " {'NEGATIVO': 0.00020698535081464797, 'POSITIVO': 0.9990679621696472},\n",
              " {'NEGATIVO': 0.00016956994659267366, 'POSITIVO': 0.999363124370575},\n",
              " {'NEGATIVO': 0.00029721425380557775, 'POSITIVO': 0.9994346499443054},\n",
              " {'NEGATIVO': 0.00016447503003291786, 'POSITIVO': 0.9973688125610352},\n",
              " {'NEGATIVO': 0.0006047255010344088, 'POSITIVO': 0.9993064403533936},\n",
              " {'NEGATIVO': 0.0004606087750289589, 'POSITIVO': 0.9992066025733948},\n",
              " {'NEGATIVO': 0.0004841598274651915, 'POSITIVO': 0.9992910623550415},\n",
              " {'NEGATIVO': 0.00015356752555817366, 'POSITIVO': 0.9991834759712219},\n",
              " {'NEGATIVO': 0.000356319680577144, 'POSITIVO': 0.9988312125205994},\n",
              " {'NEGATIVO': 0.0008673485135659575, 'POSITIVO': 0.9992254972457886},\n",
              " {'NEGATIVO': 0.0003316120128147304, 'POSITIVO': 0.9994352459907532},\n",
              " {'NEGATIVO': 0.0004870542325079441, 'POSITIVO': 0.9992892742156982},\n",
              " {'NEGATIVO': 0.0069626085460186005, 'POSITIVO': 0.9893179535865784},\n",
              " {'NEGATIVO': 0.0022672703489661217, 'POSITIVO': 0.9983737468719482},\n",
              " {'NEGATIVO': 0.0005851811729371548, 'POSITIVO': 0.9994741082191467},\n",
              " {'NEGATIVO': 0.00018024475139100105, 'POSITIVO': 0.9990566372871399},\n",
              " {'NEGATIVO': 0.0006554899155162275, 'POSITIVO': 0.9993496537208557},\n",
              " {'NEGATIVO': 0.00021574895072262734, 'POSITIVO': 0.999288022518158},\n",
              " {'NEGATIVO': 0.00047023550723679364, 'POSITIVO': 0.9992239475250244},\n",
              " {'NEGATIVO': 0.0005219682352617383, 'POSITIVO': 0.9991798996925354},\n",
              " {'NEGATIVO': 0.0006715446361340582, 'POSITIVO': 0.997605562210083},\n",
              " {'NEGATIVO': 0.00028722899151034653, 'POSITIVO': 0.9993643164634705},\n",
              " {'NEGATIVO': 0.0008523615542799234, 'POSITIVO': 0.9992942810058594},\n",
              " {'NEGATIVO': 0.00040369006455875933, 'POSITIVO': 0.9991167187690735},\n",
              " {'NEGATIVO': 0.0007999616209417582, 'POSITIVO': 0.9993785619735718},\n",
              " {'NEGATIVO': 0.00026343317585997283, 'POSITIVO': 0.9992555975914001},\n",
              " {'NEGATIVO': 0.0011756271123886108, 'POSITIVO': 0.999484658241272},\n",
              " {'NEGATIVO': 0.00041087440331466496, 'POSITIVO': 0.9992645382881165},\n",
              " {'NEGATIVO': 0.0020996439270675182, 'POSITIVO': 0.9987514019012451},\n",
              " {'NEGATIVO': 0.00024396958178840578, 'POSITIVO': 0.9991776347160339},\n",
              " {'NEGATIVO': 0.0005341495852917433, 'POSITIVO': 0.9993221759796143},\n",
              " {'NEGATIVO': 0.000323624350130558, 'POSITIVO': 0.9994624257087708},\n",
              " {'NEGATIVO': 0.00045702309580519795, 'POSITIVO': 0.9994433522224426},\n",
              " {'NEGATIVO': 0.00023453889298252761, 'POSITIVO': 0.9992672801017761},\n",
              " {'NEGATIVO': 0.00011217107385164127, 'POSITIVO': 0.9992183446884155},\n",
              " {'NEGATIVO': 0.00018164327775593847, 'POSITIVO': 0.9991369843482971},\n",
              " {'NEGATIVO': 0.0002962083672173321, 'POSITIVO': 0.9991881251335144},\n",
              " {'NEGATIVO': 0.00021136940631549805, 'POSITIVO': 0.9994627833366394},\n",
              " {'NEGATIVO': 0.0003041437594220042, 'POSITIVO': 0.9994633793830872},\n",
              " {'NEGATIVO': 0.00044672825606539845, 'POSITIVO': 0.9993526339530945},\n",
              " {'NEGATIVO': 0.0007675201632082462, 'POSITIVO': 0.9993233680725098},\n",
              " {'NEGATIVO': 0.0010628571035340428, 'POSITIVO': 0.9996485710144043},\n",
              " {'NEGATIVO': 0.00033512833761051297, 'POSITIVO': 0.9992150068283081},\n",
              " {'NEGATIVO': 0.00020014129404444247, 'POSITIVO': 0.999297022819519},\n",
              " {'NEGATIVO': 0.0014013133477419615, 'POSITIVO': 0.9995075464248657},\n",
              " {'NEGATIVO': 0.000708049803506583, 'POSITIVO': 0.9988642930984497},\n",
              " {'NEGATIVO': 0.0002631778479553759, 'POSITIVO': 0.999403715133667},\n",
              " {'NEGATIVO': 0.0002312772412551567, 'POSITIVO': 0.9992200136184692},\n",
              " {'NEGATIVO': 0.0002345755638089031, 'POSITIVO': 0.9994161128997803},\n",
              " {'NEGATIVO': 0.00019326382607687265, 'POSITIVO': 0.9980984330177307},\n",
              " {'NEGATIVO': 0.00016269840125460178, 'POSITIVO': 0.9993404746055603},\n",
              " {'NEGATIVO': 0.0004110338049940765, 'POSITIVO': 0.9994412064552307},\n",
              " {'NEGATIVO': 0.00027777368086390197, 'POSITIVO': 0.9988386034965515},\n",
              " {'NEGATIVO': 0.0006689139408990741, 'POSITIVO': 0.9991546869277954},\n",
              " {'NEGATIVO': 0.00033129818621091545, 'POSITIVO': 0.9995267391204834},\n",
              " {'NEGATIVO': 0.0005013899644836783, 'POSITIVO': 0.999365508556366},\n",
              " {'NEGATIVO': 0.0002493670617695898, 'POSITIVO': 0.9993271827697754},\n",
              " {'NEGATIVO': 0.0003696077619679272, 'POSITIVO': 0.9990665316581726},\n",
              " {'NEGATIVO': 0.00037566450191661716, 'POSITIVO': 0.9993446469306946},\n",
              " {'NEGATIVO': 0.00021813533385284245, 'POSITIVO': 0.9991652965545654},\n",
              " {'NEGATIVO': 0.0001263558369828388, 'POSITIVO': 0.9994480013847351},\n",
              " {'NEGATIVO': 0.00026271407841704786, 'POSITIVO': 0.998820960521698},\n",
              " {'NEGATIVO': 0.00022133512538857758, 'POSITIVO': 0.9993124008178711},\n",
              " {'NEGATIVO': 0.00027555719134397805, 'POSITIVO': 0.9991021156311035},\n",
              " {'NEGATIVO': 0.00020431395387277007, 'POSITIVO': 0.9993247985839844},\n",
              " {'NEGATIVO': 0.0003701760433614254, 'POSITIVO': 0.9995403289794922},\n",
              " {'NEGATIVO': 0.00019118102500215173, 'POSITIVO': 0.999005138874054},\n",
              " {'NEGATIVO': 0.00033773595350794494, 'POSITIVO': 0.9990443587303162},\n",
              " {'NEGATIVO': 0.00028546949033625424, 'POSITIVO': 0.9991750121116638},\n",
              " {'NEGATIVO': 0.001925992895849049, 'POSITIVO': 0.9982686042785645},\n",
              " {'NEGATIVO': 0.00047782310866750777, 'POSITIVO': 0.9994693398475647},\n",
              " {'NEGATIVO': 0.0002210657694377005, 'POSITIVO': 0.9994781613349915},\n",
              " {'NEGATIVO': 0.00021711360022891313, 'POSITIVO': 0.9992800354957581},\n",
              " {'NEGATIVO': 0.0004425245861057192, 'POSITIVO': 0.9982327222824097},\n",
              " {'NEGATIVO': 0.00018542011093813926, 'POSITIVO': 0.998870313167572},\n",
              " {'NEGATIVO': 0.0003313531633466482, 'POSITIVO': 0.9993498921394348},\n",
              " {'NEGATIVO': 0.00031001880415715277, 'POSITIVO': 0.9990037083625793},\n",
              " {'NEGATIVO': 0.0002809085708577186, 'POSITIVO': 0.9993939399719238},\n",
              " {'NEGATIVO': 0.00027090811636298895, 'POSITIVO': 0.9994238615036011},\n",
              " {'NEGATIVO': 0.00023261141905095428, 'POSITIVO': 0.9992085099220276},\n",
              " {'NEGATIVO': 0.000691044784616679, 'POSITIVO': 0.9980729818344116},\n",
              " {'NEGATIVO': 0.00033638131571933627, 'POSITIVO': 0.9991723299026489},\n",
              " {'NEGATIVO': 0.0003871275985147804, 'POSITIVO': 0.9994246959686279},\n",
              " {'NEGATIVO': 0.00030124065233394504, 'POSITIVO': 0.9994407296180725},\n",
              " {'NEGATIVO': 0.0006370384944602847, 'POSITIVO': 0.99688321352005},\n",
              " {'NEGATIVO': 0.0004225519660394639, 'POSITIVO': 0.999243974685669},\n",
              " {'NEGATIVO': 0.0005110717611387372, 'POSITIVO': 0.9994057416915894},\n",
              " {'NEGATIVO': 0.0008029202581383288, 'POSITIVO': 0.9994244575500488},\n",
              " {'NEGATIVO': 0.00047084636753425, 'POSITIVO': 0.999289870262146},\n",
              " {'NEGATIVO': 0.000331288727466017, 'POSITIVO': 0.9991231560707092},\n",
              " {'NEGATIVO': 0.0005635082488879561, 'POSITIVO': 0.9989141225814819},\n",
              " {'NEGATIVO': 0.0003250451700296253, 'POSITIVO': 0.9991745352745056},\n",
              " {'NEGATIVO': 0.00025591879966668785, 'POSITIVO': 0.9991686344146729},\n",
              " {'NEGATIVO': 0.0008911853074096143, 'POSITIVO': 0.9993639588356018},\n",
              " {'NEGATIVO': 0.0004543150425888598, 'POSITIVO': 0.9993433356285095},\n",
              " {'NEGATIVO': 0.0025342649314552546, 'POSITIVO': 0.99788898229599},\n",
              " {'NEGATIVO': 0.0006282419199123979, 'POSITIVO': 0.9992043375968933},\n",
              " {'NEGATIVO': 0.0003141709603369236, 'POSITIVO': 0.9993785619735718},\n",
              " {'NEGATIVO': 0.00030815263744443655, 'POSITIVO': 0.999393105506897},\n",
              " {'NEGATIVO': 0.00033546879421919584, 'POSITIVO': 0.9992330074310303},\n",
              " {'NEGATIVO': 0.0002617664576973766, 'POSITIVO': 0.9991372227668762},\n",
              " {'NEGATIVO': 0.0003677621716633439, 'POSITIVO': 0.9995040893554688},\n",
              " {'NEGATIVO': 0.00035659430432133377, 'POSITIVO': 0.9992050528526306},\n",
              " {'NEGATIVO': 0.00022821339371148497, 'POSITIVO': 0.9982460737228394},\n",
              " {'NEGATIVO': 0.0002836463681887835, 'POSITIVO': 0.999164342880249},\n",
              " {'NEGATIVO': 0.00023508627782575786, 'POSITIVO': 0.9990659356117249},\n",
              " {'NEGATIVO': 0.00041087358840741217, 'POSITIVO': 0.9994863271713257},\n",
              " {'NEGATIVO': 0.0005398289067670703, 'POSITIVO': 0.9993376135826111},\n",
              " {'NEGATIVO': 0.00038510403828695416, 'POSITIVO': 0.9993220567703247},\n",
              " {'NEGATIVO': 0.0005051386542618275, 'POSITIVO': 0.9992141723632812},\n",
              " {'NEGATIVO': 0.00028499576728791, 'POSITIVO': 0.9993478655815125},\n",
              " {'NEGATIVO': 0.000309216498862952, 'POSITIVO': 0.9994341731071472},\n",
              " {'NEGATIVO': 0.00032753031700849533, 'POSITIVO': 0.9993023872375488},\n",
              " {'NEGATIVO': 0.0004910136922262609, 'POSITIVO': 0.9993745684623718},\n",
              " {'NEGATIVO': 0.0003597726463340223, 'POSITIVO': 0.9990730285644531},\n",
              " {'NEGATIVO': 0.001453258446417749, 'POSITIVO': 0.9978836178779602},\n",
              " {'NEGATIVO': 0.0003941222676075995, 'POSITIVO': 0.9992786049842834},\n",
              " {'NEGATIVO': 0.0002020993852056563, 'POSITIVO': 0.999092698097229},\n",
              " {'NEGATIVO': 0.00018613327119965106, 'POSITIVO': 0.9990686774253845},\n",
              " {'NEGATIVO': 0.0002127883053617552, 'POSITIVO': 0.999067485332489},\n",
              " {'NEGATIVO': 0.00028004779596813023, 'POSITIVO': 0.9995606541633606},\n",
              " {'NEGATIVO': 0.0002655820280779153, 'POSITIVO': 0.9990799427032471},\n",
              " {'NEGATIVO': 0.0006691802409477532, 'POSITIVO': 0.9994283318519592},\n",
              " {'NEGATIVO': 0.00016978140047285706, 'POSITIVO': 0.9991500377655029},\n",
              " {'NEGATIVO': 0.001806344953365624, 'POSITIVO': 0.9982688426971436},\n",
              " {'NEGATIVO': 0.0008191296947188675, 'POSITIVO': 0.9970266222953796},\n",
              " {'NEGATIVO': 0.000683927268255502, 'POSITIVO': 0.9966714382171631},\n",
              " {'NEGATIVO': 0.00020361151837278157, 'POSITIVO': 0.9989672899246216},\n",
              " {'NEGATIVO': 0.0004965882981196046, 'POSITIVO': 0.9989737272262573},\n",
              " {'NEGATIVO': 0.00011246314534218982, 'POSITIVO': 0.9994224309921265},\n",
              " {'NEGATIVO': 0.000682405021507293, 'POSITIVO': 0.9996045231819153},\n",
              " {'NEGATIVO': 0.0003481430758256465, 'POSITIVO': 0.99906986951828},\n",
              " {'NEGATIVO': 0.0006636015023104846, 'POSITIVO': 0.9991477727890015},\n",
              " {'NEGATIVO': 0.00031417966238223016, 'POSITIVO': 0.9992446899414062},\n",
              " {'NEGATIVO': 0.0005485840956680477, 'POSITIVO': 0.9988216757774353},\n",
              " {'NEGATIVO': 0.0007492443546652794, 'POSITIVO': 0.9987375140190125},\n",
              " {'NEGATIVO': 0.00022619657102040946, 'POSITIVO': 0.9988054037094116},\n",
              " {'NEGATIVO': 0.0008290091645903885, 'POSITIVO': 0.9994812607765198},\n",
              " {'NEGATIVO': 0.0005972138023935258, 'POSITIVO': 0.9993820190429688},\n",
              " {'NEGATIVO': 0.00040261843241751194, 'POSITIVO': 0.9994033575057983},\n",
              " {'NEGATIVO': 0.0016175751807168126, 'POSITIVO': 0.9965059757232666},\n",
              " {'NEGATIVO': 0.00028165869298391044, 'POSITIVO': 0.999518871307373},\n",
              " {'NEGATIVO': 0.00031417966238223016, 'POSITIVO': 0.9992446899414062},\n",
              " {'NEGATIVO': 0.0002223154151579365, 'POSITIVO': 0.9991182684898376},\n",
              " {'NEGATIVO': 0.00029587108292616904, 'POSITIVO': 0.9992927312850952},\n",
              " {'NEGATIVO': 0.0002005954011110589, 'POSITIVO': 0.9991266131401062},\n",
              " {'NEGATIVO': 0.00045703223440796137, 'POSITIVO': 0.9993650317192078},\n",
              " {'NEGATIVO': 0.0005085860611870885, 'POSITIVO': 0.9994521737098694},\n",
              " {'NEGATIVO': 0.0012024627067148685, 'POSITIVO': 0.997590184211731},\n",
              " {'NEGATIVO': 0.0004978358629159629, 'POSITIVO': 0.9994103908538818},\n",
              " {'NEGATIVO': 0.0010420925682410598, 'POSITIVO': 0.99931800365448},\n",
              " {'NEGATIVO': 0.010578082874417305, 'POSITIVO': 0.9703606963157654},\n",
              " {'NEGATIVO': 0.00012866620090790093, 'POSITIVO': 0.9994959831237793},\n",
              " {'NEGATIVO': 0.0004250247438903898, 'POSITIVO': 0.9990605711936951},\n",
              " {'NEGATIVO': 0.00020595201931428164, 'POSITIVO': 0.9994000196456909},\n",
              " {'NEGATIVO': 0.00023120600963011384, 'POSITIVO': 0.9993394017219543},\n",
              " {'NEGATIVO': 0.0001402927009621635, 'POSITIVO': 0.9991133809089661},\n",
              " {'NEGATIVO': 0.0006867537158541381, 'POSITIVO': 0.9992399215698242},\n",
              " {'NEGATIVO': 0.0003330275067128241, 'POSITIVO': 0.9994344115257263},\n",
              " {'NEGATIVO': 0.00016755559772718698, 'POSITIVO': 0.998815655708313},\n",
              " {'NEGATIVO': 0.00026409406564198434, 'POSITIVO': 0.999140739440918},\n",
              " {'NEGATIVO': 0.00044532280298881233, 'POSITIVO': 0.9993876218795776},\n",
              " {'NEGATIVO': 0.00027312003658153117, 'POSITIVO': 0.9993777275085449},\n",
              " {'NEGATIVO': 0.0006636015023104846, 'POSITIVO': 0.9991477727890015},\n",
              " {'NEGATIVO': 0.0004237018874846399, 'POSITIVO': 0.9992321729660034},\n",
              " {'NEGATIVO': 0.0004486203833948821, 'POSITIVO': 0.999161958694458},\n",
              " {'NEGATIVO': 0.000940012454520911, 'POSITIVO': 0.9989520311355591},\n",
              " {'NEGATIVO': 0.00024516929988749325, 'POSITIVO': 0.9993426203727722},\n",
              " {'NEGATIVO': 0.0008606021292507648, 'POSITIVO': 0.9989280104637146},\n",
              " {'NEGATIVO': 0.001732683856971562, 'POSITIVO': 0.9873572587966919},\n",
              " {'NEGATIVO': 0.000605977198574692, 'POSITIVO': 0.999206006526947},\n",
              " {'NEGATIVO': 0.0003563969803508371, 'POSITIVO': 0.9995132684707642},\n",
              " {'NEGATIVO': 0.00039171267417259514, 'POSITIVO': 0.999422550201416},\n",
              " {'NEGATIVO': 0.007718204520642757, 'POSITIVO': 0.9924631118774414},\n",
              " {'NEGATIVO': 0.0003826003521680832, 'POSITIVO': 0.9994943141937256},\n",
              " {'NEGATIVO': 0.00014987113536335528, 'POSITIVO': 0.9986269474029541},\n",
              " {'NEGATIVO': 0.00041003647493198514, 'POSITIVO': 0.999440610408783},\n",
              " {'NEGATIVO': 0.0030550984665751457, 'POSITIVO': 0.9959877133369446},\n",
              " {'NEGATIVO': 0.00038060444057919085, 'POSITIVO': 0.9988369345664978},\n",
              " {'NEGATIVO': 0.0002781542425509542, 'POSITIVO': 0.9994862079620361},\n",
              " {'NEGATIVO': 0.00011362344230292365, 'POSITIVO': 0.9993688464164734},\n",
              " {'NEGATIVO': 0.0003451531520113349, 'POSITIVO': 0.9991249442100525},\n",
              " {'NEGATIVO': 0.00037620222428813577, 'POSITIVO': 0.9993892908096313},\n",
              " {'NEGATIVO': 0.004408543463796377, 'POSITIVO': 0.9989921450614929},\n",
              " {'NEGATIVO': 0.0005085524171590805, 'POSITIVO': 0.9994643330574036},\n",
              " {'NEGATIVO': 0.00011246314534218982, 'POSITIVO': 0.9994224309921265},\n",
              " {'NEGATIVO': 0.0002704755461309105, 'POSITIVO': 0.9993360638618469},\n",
              " {'NEGATIVO': 0.001001022639684379, 'POSITIVO': 0.9995930790901184},\n",
              " {'NEGATIVO': 0.0004048128903377801, 'POSITIVO': 0.997880220413208},\n",
              " {'NEGATIVO': 0.00043001730227842927, 'POSITIVO': 0.999339759349823},\n",
              " {'NEGATIVO': 0.00016329690697602928, 'POSITIVO': 0.9982807636260986},\n",
              " {'NEGATIVO': 0.00016558835341129452, 'POSITIVO': 0.9994341731071472},\n",
              " {'NEGATIVO': 0.0004127630963921547, 'POSITIVO': 0.9985664486885071},\n",
              " {'NEGATIVO': 0.0005150293000042439, 'POSITIVO': 0.9993135929107666},\n",
              " {'NEGATIVO': 0.000396723800804466, 'POSITIVO': 0.9991927742958069},\n",
              " {'NEGATIVO': 0.0007419090834446251, 'POSITIVO': 0.9992554783821106},\n",
              " {'NEGATIVO': 0.00017627757915761322, 'POSITIVO': 0.9992073178291321},\n",
              " {'NEGATIVO': 0.00023670362133998424, 'POSITIVO': 0.9991430044174194},\n",
              " {'NEGATIVO': 0.00023298675660043955, 'POSITIVO': 0.9992307424545288},\n",
              " {'NEGATIVO': 0.0002913478238042444, 'POSITIVO': 0.999434769153595},\n",
              " {'NEGATIVO': 0.000540622160769999, 'POSITIVO': 0.9993789196014404},\n",
              " {'NEGATIVO': 0.00021068647038191557, 'POSITIVO': 0.998763918876648},\n",
              " {'NEGATIVO': 0.00018968794029206038, 'POSITIVO': 0.999262273311615},\n",
              " {'NEGATIVO': 0.0003172216529492289, 'POSITIVO': 0.9989790916442871},\n",
              " {'NEGATIVO': 0.0005938318208791316, 'POSITIVO': 0.9989714622497559},\n",
              " {'NEGATIVO': 0.000790746824350208, 'POSITIVO': 0.9995200634002686},\n",
              " {'NEGATIVO': 0.00046909795491956174, 'POSITIVO': 0.9968187808990479},\n",
              " {'NEGATIVO': 0.0002875202626455575, 'POSITIVO': 0.9993109703063965},\n",
              " {'NEGATIVO': 0.000549111922737211, 'POSITIVO': 0.9993979930877686},\n",
              " {'NEGATIVO': 0.0002949219779111445, 'POSITIVO': 0.999091625213623},\n",
              " {'NEGATIVO': 0.00017467053839936852, 'POSITIVO': 0.9992688298225403},\n",
              " {'NEGATIVO': 0.0015958012081682682, 'POSITIVO': 0.9966176152229309},\n",
              " {'NEGATIVO': 0.00020511483307927847, 'POSITIVO': 0.9990216493606567},\n",
              " {'NEGATIVO': 0.0001365834177704528, 'POSITIVO': 0.999329686164856},\n",
              " {'NEGATIVO': 0.00015879134298302233, 'POSITIVO': 0.9994305968284607},\n",
              " {'NEGATIVO': 0.0008109903428703547, 'POSITIVO': 0.9984775185585022},\n",
              " {'NEGATIVO': 0.00035487147397361696, 'POSITIVO': 0.9960666298866272},\n",
              " {'NEGATIVO': 0.0009508536895737052, 'POSITIVO': 0.9985690116882324},\n",
              " {'NEGATIVO': 0.0003128235985059291, 'POSITIVO': 0.9990341663360596},\n",
              " {'NEGATIVO': 0.00047880091005936265, 'POSITIVO': 0.9992029070854187},\n",
              " {'NEGATIVO': 0.00016360582958441228, 'POSITIVO': 0.9992669224739075},\n",
              " {'NEGATIVO': 0.00047236698446795344, 'POSITIVO': 0.9993059635162354},\n",
              " {'NEGATIVO': 0.0003962489136029035, 'POSITIVO': 0.9994118213653564},\n",
              " {'NEGATIVO': 0.0003917733847629279, 'POSITIVO': 0.9989905953407288},\n",
              " {'NEGATIVO': 0.0003769153554458171, 'POSITIVO': 0.9984574317932129},\n",
              " {'NEGATIVO': 0.0003144661313854158, 'POSITIVO': 0.9990683197975159},\n",
              " {'NEGATIVO': 0.00042529977508820593, 'POSITIVO': 0.9993461966514587},\n",
              " {'NEGATIVO': 0.0007497443584725261, 'POSITIVO': 0.9993379712104797},\n",
              " {'NEGATIVO': 0.000625354761723429, 'POSITIVO': 0.9996042847633362},\n",
              " {'NEGATIVO': 0.0002076115197269246, 'POSITIVO': 0.9993995428085327},\n",
              " {'NEGATIVO': 0.0010545739205554128, 'POSITIVO': 0.9991509914398193},\n",
              " {'NEGATIVO': 0.0007080463692545891, 'POSITIVO': 0.999327540397644},\n",
              " {'NEGATIVO': 0.0001985744311241433, 'POSITIVO': 0.9992726445198059},\n",
              " {'NEGATIVO': 0.00032031474984250963, 'POSITIVO': 0.9991011619567871},\n",
              " {'NEGATIVO': 0.00035879903589375317, 'POSITIVO': 0.9992955923080444},\n",
              " {'NEGATIVO': 0.0002947137109003961, 'POSITIVO': 0.9995336532592773},\n",
              " {'NEGATIVO': 0.00046969190589152277, 'POSITIVO': 0.9993014335632324},\n",
              " {'NEGATIVO': 0.00033619458554312587, 'POSITIVO': 0.9994379878044128},\n",
              " {'NEGATIVO': 0.0007501570507884026, 'POSITIVO': 0.9989176988601685},\n",
              " {'NEGATIVO': 0.0001734730030875653, 'POSITIVO': 0.9995213747024536},\n",
              " {'NEGATIVO': 0.00038663684972561896, 'POSITIVO': 0.9977692365646362},\n",
              " {'NEGATIVO': 0.00033327940036542714, 'POSITIVO': 0.999323844909668},\n",
              " {'NEGATIVO': 0.00023678693105466664, 'POSITIVO': 0.9994760155677795},\n",
              " {'NEGATIVO': 0.00029759423341602087, 'POSITIVO': 0.9993062019348145},\n",
              " {'NEGATIVO': 0.0003380522539373487, 'POSITIVO': 0.9991645812988281},\n",
              " {'NEGATIVO': 0.0005614739493466914, 'POSITIVO': 0.9992061257362366},\n",
              " {'NEGATIVO': 0.00017630666843615472, 'POSITIVO': 0.999283492565155},\n",
              " {'NEGATIVO': 0.0013176454231142998, 'POSITIVO': 0.9985743761062622},\n",
              " {'NEGATIVO': 0.00034297944512218237, 'POSITIVO': 0.9994020462036133},\n",
              " {'NEGATIVO': 0.000771972700022161, 'POSITIVO': 0.9991980195045471},\n",
              " {'NEGATIVO': 0.0014223989564925432, 'POSITIVO': 0.9992750287055969},\n",
              " {'NEGATIVO': 0.0005115737440064549, 'POSITIVO': 0.9992383718490601},\n",
              " {'NEGATIVO': 0.0003244735999032855, 'POSITIVO': 0.99930739402771},\n",
              " {'NEGATIVO': 0.00021478264534380287, 'POSITIVO': 0.9994497895240784},\n",
              " {'NEGATIVO': 0.0003850418434012681, 'POSITIVO': 0.9991583824157715},\n",
              " {'NEGATIVO': 0.00039486121386289597, 'POSITIVO': 0.9991554021835327},\n",
              " {'NEGATIVO': 0.0005003844853490591, 'POSITIVO': 0.9995840191841125},\n",
              " {'NEGATIVO': 0.0002967722830362618, 'POSITIVO': 0.9986396431922913},\n",
              " {'NEGATIVO': 0.0009763267007656395, 'POSITIVO': 0.9989374279975891},\n",
              " {'NEGATIVO': 0.0006458551506511867, 'POSITIVO': 0.9987284541130066},\n",
              " {'NEGATIVO': 0.0007915956084616482, 'POSITIVO': 0.9992471933364868},\n",
              " {'NEGATIVO': 0.00024999098968692124, 'POSITIVO': 0.9988719820976257},\n",
              " {'NEGATIVO': 0.0003888497012667358, 'POSITIVO': 0.9989558458328247},\n",
              " {'NEGATIVO': 0.00012205324310343713, 'POSITIVO': 0.9990647435188293},\n",
              " {'NEGATIVO': 0.00048260329640470445, 'POSITIVO': 0.999259889125824},\n",
              " {'NEGATIVO': 0.00024092136300168931, 'POSITIVO': 0.9990468621253967},\n",
              " {'NEGATIVO': 0.0003156847960781306, 'POSITIVO': 0.9993805885314941},\n",
              " {'NEGATIVO': 0.000541189219802618, 'POSITIVO': 0.998958945274353},\n",
              " {'NEGATIVO': 0.0007433223654516041, 'POSITIVO': 0.9992879033088684},\n",
              " {'NEGATIVO': 0.0004539788933470845, 'POSITIVO': 0.9989774227142334},\n",
              " {'NEGATIVO': 0.0004676136595662683, 'POSITIVO': 0.9993935823440552},\n",
              " {'NEGATIVO': 0.0005030336324125528, 'POSITIVO': 0.9990240335464478},\n",
              " {'NEGATIVO': 0.0003874460235238075, 'POSITIVO': 0.9992559552192688},\n",
              " {'NEGATIVO': 0.00022843915212433785, 'POSITIVO': 0.9993114471435547},\n",
              " {'NEGATIVO': 0.00025678283418528736, 'POSITIVO': 0.999444305896759},\n",
              " {'NEGATIVO': 0.00050210120389238, 'POSITIVO': 0.9993079900741577},\n",
              " {'NEGATIVO': 0.00019900240295100957, 'POSITIVO': 0.9991655349731445},\n",
              " {'NEGATIVO': 0.0002832423779182136, 'POSITIVO': 0.9993452429771423},\n",
              " {'NEGATIVO': 0.0004408519889693707, 'POSITIVO': 0.9992750287055969},\n",
              " {'NEGATIVO': 0.0006358863902278244, 'POSITIVO': 0.9968703389167786},\n",
              " {'NEGATIVO': 0.00046727611334063113, 'POSITIVO': 0.999404788017273},\n",
              " {'NEGATIVO': 0.0002785148681141436, 'POSITIVO': 0.9987382292747498},\n",
              " {'NEGATIVO': 0.00038510403828695416, 'POSITIVO': 0.9993220567703247},\n",
              " {'NEGATIVO': 0.0003460767329670489, 'POSITIVO': 0.9989218711853027},\n",
              " {'NEGATIVO': 0.0006183396908454597, 'POSITIVO': 0.9990192651748657},\n",
              " {'NEGATIVO': 0.0004067464033141732, 'POSITIVO': 0.9992254972457886},\n",
              " {'NEGATIVO': 0.0005924712750129402, 'POSITIVO': 0.9993706345558167},\n",
              " {'NEGATIVO': 0.0011328451801091433, 'POSITIVO': 0.9990423321723938},\n",
              " {'NEGATIVO': 0.0006293997867032886, 'POSITIVO': 0.9991188645362854},\n",
              " {'NEGATIVO': 0.000145140293170698, 'POSITIVO': 0.9992005228996277},\n",
              " {'NEGATIVO': 0.00016273671644739807, 'POSITIVO': 0.9994788765907288},\n",
              " {'NEGATIVO': 0.0001927233679452911, 'POSITIVO': 0.9986880421638489},\n",
              " {'NEGATIVO': 0.0004609579627867788, 'POSITIVO': 0.9994041919708252},\n",
              " {'NEGATIVO': 0.0015151967527344823, 'POSITIVO': 0.997314989566803},\n",
              " {'NEGATIVO': 0.00029384338995441794, 'POSITIVO': 0.9992361068725586},\n",
              " {'NEGATIVO': 0.0003861815494019538, 'POSITIVO': 0.9990831613540649},\n",
              " {'NEGATIVO': 0.0004106143896933645, 'POSITIVO': 0.999390721321106},\n",
              " {'NEGATIVO': 0.000574019446503371, 'POSITIVO': 0.9992895126342773},\n",
              " {'NEGATIVO': 0.0003847735933959484, 'POSITIVO': 0.9993901252746582},\n",
              " {'NEGATIVO': 0.0004173167690169066, 'POSITIVO': 0.9993236064910889},\n",
              " {'NEGATIVO': 0.00022194987104739994, 'POSITIVO': 0.999337375164032},\n",
              " {'NEGATIVO': 0.0005872314795851707, 'POSITIVO': 0.9990253448486328},\n",
              " {'NEGATIVO': 0.00023526295262854546, 'POSITIVO': 0.9988462924957275},\n",
              " {'NEGATIVO': 0.0028361589647829533, 'POSITIVO': 0.9972793459892273},\n",
              " {'NEGATIVO': 0.0004911477444693446, 'POSITIVO': 0.9993436932563782},\n",
              " {'NEGATIVO': 0.00021200277842581272, 'POSITIVO': 0.9993630051612854},\n",
              " {'NEGATIVO': 0.00035226409090682864, 'POSITIVO': 0.9986329674720764},\n",
              " {'NEGATIVO': 0.0004349591617938131, 'POSITIVO': 0.9991355538368225},\n",
              " {'NEGATIVO': 0.00022842975158710033, 'POSITIVO': 0.9994244575500488},\n",
              " {'NEGATIVO': 0.00021695262694265693, 'POSITIVO': 0.9988910555839539},\n",
              " {'NEGATIVO': 0.000292770127998665, 'POSITIVO': 0.9993336796760559},\n",
              " {'NEGATIVO': 0.0003596411261241883, 'POSITIVO': 0.9983338713645935},\n",
              " {'NEGATIVO': 0.00031241768738254905, 'POSITIVO': 0.9993810653686523},\n",
              " {'NEGATIVO': 0.0008692336268723011, 'POSITIVO': 0.9995077848434448},\n",
              " {'NEGATIVO': 0.0004335633129812777, 'POSITIVO': 0.9988698363304138},\n",
              " {'NEGATIVO': 0.0002508397737983614, 'POSITIVO': 0.9991311430931091},\n",
              " {'NEGATIVO': 0.00033419864485040307, 'POSITIVO': 0.999097466468811},\n",
              " {'NEGATIVO': 0.001234198221936822, 'POSITIVO': 0.9983727335929871},\n",
              " {'NEGATIVO': 0.00039404636481776834, 'POSITIVO': 0.9994199275970459},\n",
              " {'NEGATIVO': 0.0003096298314630985, 'POSITIVO': 0.9993724226951599},\n",
              " {'NEGATIVO': 0.00023093391791917384, 'POSITIVO': 0.9992619156837463},\n",
              " {'NEGATIVO': 0.00027602180489338934, 'POSITIVO': 0.9986044764518738},\n",
              " {'NEGATIVO': 0.0004518071364145726, 'POSITIVO': 0.999153733253479},\n",
              " {'NEGATIVO': 0.0002413577021798119, 'POSITIVO': 0.9992049336433411},\n",
              " {'NEGATIVO': 0.00039715555612929165, 'POSITIVO': 0.9988184571266174},\n",
              " {'NEGATIVO': 0.0003018751449417323, 'POSITIVO': 0.9993213415145874},\n",
              " {'NEGATIVO': 0.00020495412172749639, 'POSITIVO': 0.9990928173065186},\n",
              " {'NEGATIVO': 0.00026802043430507183, 'POSITIVO': 0.9992908239364624},\n",
              " {'NEGATIVO': 0.0003601080388762057, 'POSITIVO': 0.9995118379592896},\n",
              " {'NEGATIVO': 0.00026056848582811654, 'POSITIVO': 0.9992861151695251},\n",
              " {'NEGATIVO': 0.0008691053371876478, 'POSITIVO': 0.9973183274269104},\n",
              " {'NEGATIVO': 0.00019787265046034008, 'POSITIVO': 0.9989389777183533},\n",
              " {'NEGATIVO': 0.000992071465589106, 'POSITIVO': 0.999350368976593},\n",
              " {'NEGATIVO': 0.0002332955045858398, 'POSITIVO': 0.999221682548523},\n",
              " {'NEGATIVO': 0.0002872832410503179, 'POSITIVO': 0.999160885810852},\n",
              " {'NEGATIVO': 0.0003871275985147804, 'POSITIVO': 0.9994246959686279},\n",
              " {'NEGATIVO': 0.00015900694415904582, 'POSITIVO': 0.9993022680282593},\n",
              " {'NEGATIVO': 0.0002050802286248654, 'POSITIVO': 0.9994363188743591},\n",
              " {'NEGATIVO': 0.000440600560978055, 'POSITIVO': 0.9992856383323669},\n",
              " {'NEGATIVO': 0.0003272188187111169, 'POSITIVO': 0.9988377690315247},\n",
              " {'NEGATIVO': 0.0011238583829253912, 'POSITIVO': 0.9993952512741089},\n",
              " {'NEGATIVO': 0.0003222272207494825, 'POSITIVO': 0.9994363188743591},\n",
              " {'NEGATIVO': 0.00013521951041184366, 'POSITIVO': 0.9991590976715088},\n",
              " {'NEGATIVO': 0.00018848916806746274, 'POSITIVO': 0.9992467164993286},\n",
              " {'NEGATIVO': 0.0006244903197512031, 'POSITIVO': 0.9993784427642822},\n",
              " {'NEGATIVO': 0.00043412530794739723, 'POSITIVO': 0.9990678429603577},\n",
              " {'NEGATIVO': 0.006472194567322731, 'POSITIVO': 0.9975461363792419},\n",
              " {'NEGATIVO': 0.00028999021742492914, 'POSITIVO': 0.9992634654045105},\n",
              " {'NEGATIVO': 0.0004478647606447339, 'POSITIVO': 0.9994807839393616},\n",
              " {'NEGATIVO': 0.0010391991818323731, 'POSITIVO': 0.9994126558303833},\n",
              " {'NEGATIVO': 0.0014790031127631664, 'POSITIVO': 0.9985978007316589},\n",
              " {'NEGATIVO': 0.0008034685743041337, 'POSITIVO': 0.9993606209754944},\n",
              " {'NEGATIVO': 0.0006028179195709527, 'POSITIVO': 0.9989904761314392},\n",
              " {'NEGATIVO': 0.00048343531670980155, 'POSITIVO': 0.999067485332489},\n",
              " {'NEGATIVO': 0.002369818976148963, 'POSITIVO': 0.9963349103927612},\n",
              " {'NEGATIVO': 0.0006829216144979, 'POSITIVO': 0.9987053871154785},\n",
              " {'NEGATIVO': 0.00021989172091707587, 'POSITIVO': 0.9992792010307312},\n",
              " {'NEGATIVO': 0.00036488508339971304, 'POSITIVO': 0.9989213943481445},\n",
              " {'NEGATIVO': 0.00041058030910789967, 'POSITIVO': 0.999018669128418},\n",
              " {'NEGATIVO': 0.0010736145777627826, 'POSITIVO': 0.9982737302780151},\n",
              " {'NEGATIVO': 0.001911770086735487, 'POSITIVO': 0.9991324543952942},\n",
              " {'NEGATIVO': 0.0004303960013203323, 'POSITIVO': 0.9994024038314819},\n",
              " {'NEGATIVO': 0.00033847973099909723, 'POSITIVO': 0.9994001388549805},\n",
              " {'NEGATIVO': 0.00031448533991351724, 'POSITIVO': 0.999471127986908},\n",
              " {'NEGATIVO': 0.0005188699578866363, 'POSITIVO': 0.9992864727973938},\n",
              " {'NEGATIVO': 0.00038782868068665266, 'POSITIVO': 0.9993565678596497},\n",
              " {'NEGATIVO': 0.0006910068914294243, 'POSITIVO': 0.9992062449455261},\n",
              " {'NEGATIVO': 0.0006007119081914425, 'POSITIVO': 0.9991831183433533},\n",
              " {'NEGATIVO': 0.0002919228281825781, 'POSITIVO': 0.9991457462310791},\n",
              " {'NEGATIVO': 0.00043261374230496585, 'POSITIVO': 0.9993367791175842},\n",
              " {'NEGATIVO': 0.0003267654974479228, 'POSITIVO': 0.9991928935050964},\n",
              " {'NEGATIVO': 0.0002606176713015884, 'POSITIVO': 0.9991887211799622},\n",
              " {'NEGATIVO': 0.00031665360438637435, 'POSITIVO': 0.9994174242019653},\n",
              " {'NEGATIVO': 0.0008027010480873287, 'POSITIVO': 0.9995399713516235},\n",
              " {'NEGATIVO': 0.0006724201375618577, 'POSITIVO': 0.9992666840553284},\n",
              " {'NEGATIVO': 0.0001505863619968295, 'POSITIVO': 0.9993643164634705},\n",
              " {'NEGATIVO': 9.900251461658627e-05, 'POSITIVO': 0.9993487000465393},\n",
              " {'NEGATIVO': 0.00025685480795800686, 'POSITIVO': 0.9992462396621704},\n",
              " {'NEGATIVO': 0.01063882652670145, 'POSITIVO': 0.9800080060958862},\n",
              " {'NEGATIVO': 0.0006040556472726166, 'POSITIVO': 0.9994139671325684},\n",
              " {'NEGATIVO': 0.0010852111736312509, 'POSITIVO': 0.9993866682052612},\n",
              " {'NEGATIVO': 0.00038510403828695416, 'POSITIVO': 0.9993220567703247},\n",
              " {'NEGATIVO': 0.0004721241712104529, 'POSITIVO': 0.9993427395820618},\n",
              " {'NEGATIVO': 0.00027786134160123765, 'POSITIVO': 0.9986971020698547},\n",
              " {'NEGATIVO': 0.00026619143318384886, 'POSITIVO': 0.9994107484817505},\n",
              " {'NEGATIVO': 0.000582529348321259, 'POSITIVO': 0.9992306232452393},\n",
              " {'NEGATIVO': 0.0006814252701587975, 'POSITIVO': 0.9992915391921997},\n",
              " {'NEGATIVO': 0.0003169840492773801, 'POSITIVO': 0.999231219291687},\n",
              " {'NEGATIVO': 0.0001915943721542135, 'POSITIVO': 0.9991284012794495},\n",
              " {'NEGATIVO': 0.0003473928081803024, 'POSITIVO': 0.9994613528251648},\n",
              " {'NEGATIVO': 0.0008483228157274425, 'POSITIVO': 0.99949049949646},\n",
              " {'NEGATIVO': 0.0009424317977391183, 'POSITIVO': 0.9987362027168274},\n",
              " {'NEGATIVO': 0.0026486823335289955, 'POSITIVO': 0.9942382574081421},\n",
              " {'NEGATIVO': 0.00011246314534218982, 'POSITIVO': 0.9994224309921265},\n",
              " {'NEGATIVO': 0.000449305196525529, 'POSITIVO': 0.9994246959686279},\n",
              " {'NEGATIVO': 0.00033208305831067264, 'POSITIVO': 0.9993830919265747},\n",
              " {'NEGATIVO': 0.00030144030461087823, 'POSITIVO': 0.9992189407348633},\n",
              " {'NEGATIVO': 0.00239969021640718, 'POSITIVO': 0.9991545677185059},\n",
              " {'NEGATIVO': 0.0005041778204031289, 'POSITIVO': 0.9990905523300171},\n",
              " {'NEGATIVO': 0.0005923578864894807, 'POSITIVO': 0.9993093013763428},\n",
              " {'NEGATIVO': 0.0003616884641814977, 'POSITIVO': 0.9986365437507629},\n",
              " {'NEGATIVO': 0.002022441243752837, 'POSITIVO': 0.9980814456939697},\n",
              " {'NEGATIVO': 0.0003897504066117108, 'POSITIVO': 0.9993102550506592},\n",
              " {'NEGATIVO': 0.0004509268037509173, 'POSITIVO': 0.9993784427642822},\n",
              " {'NEGATIVO': 0.0002031602489296347, 'POSITIVO': 0.9993487000465393},\n",
              " {'NEGATIVO': 0.0003905458142980933, 'POSITIVO': 0.9994350075721741},\n",
              " {'NEGATIVO': 0.000233368031331338, 'POSITIVO': 0.9994895458221436},\n",
              " {'NEGATIVO': 0.0003428571508266032, 'POSITIVO': 0.9992893934249878},\n",
              " {'NEGATIVO': 0.0002037365920841694, 'POSITIVO': 0.9994263648986816},\n",
              " {'NEGATIVO': 0.00023979130492080003, 'POSITIVO': 0.9992202520370483},\n",
              " {'NEGATIVO': 0.00012854933447670192, 'POSITIVO': 0.9992477893829346},\n",
              " {'NEGATIVO': 0.0002977534313686192, 'POSITIVO': 0.998740017414093},\n",
              " {'NEGATIVO': 0.00035566347651183605, 'POSITIVO': 0.9994412064552307},\n",
              " {'NEGATIVO': 0.00030544877517968416, 'POSITIVO': 0.9995419979095459},\n",
              " {'NEGATIVO': 0.0004503475211095065, 'POSITIVO': 0.9993273019790649},\n",
              " {'NEGATIVO': 0.00011246314534218982, 'POSITIVO': 0.9994224309921265},\n",
              " {'NEGATIVO': 0.0005610347725450993, 'POSITIVO': 0.9993093013763428},\n",
              " {'NEGATIVO': 0.0018132681725546718, 'POSITIVO': 0.9991487264633179},\n",
              " {'NEGATIVO': 0.000227088836254552, 'POSITIVO': 0.9991214871406555},\n",
              " {'NEGATIVO': 0.0009678459609858692, 'POSITIVO': 0.9993249177932739},\n",
              " {'NEGATIVO': 0.0015132128028199077, 'POSITIVO': 0.9991450309753418},\n",
              " {'NEGATIVO': 0.0006115506985224783, 'POSITIVO': 0.9989449381828308},\n",
              " {'NEGATIVO': 0.00013480008055921644, 'POSITIVO': 0.9986929297447205},\n",
              " {'NEGATIVO': 0.00035181036219000816, 'POSITIVO': 0.9993852376937866},\n",
              " {'NEGATIVO': 0.00035662780283018947, 'POSITIVO': 0.9992542862892151},\n",
              " {'NEGATIVO': 0.0021638739854097366, 'POSITIVO': 0.9987867474555969},\n",
              " {'NEGATIVO': 0.0004330882802605629, 'POSITIVO': 0.9987450838088989},\n",
              " {'NEGATIVO': 0.0004269483615644276, 'POSITIVO': 0.9993647933006287},\n",
              " {'NEGATIVO': 0.00024416993255726993, 'POSITIVO': 0.9992743134498596},\n",
              " {'NEGATIVO': 0.000553109566681087, 'POSITIVO': 0.9990629553794861},\n",
              " {'NEGATIVO': 0.0004557926731649786, 'POSITIVO': 0.9992756247520447},\n",
              " {'NEGATIVO': 0.00048473867354914546, 'POSITIVO': 0.9989778995513916},\n",
              " {'NEGATIVO': 0.00038510403828695416, 'POSITIVO': 0.9993220567703247},\n",
              " {'NEGATIVO': 0.0002223154151579365, 'POSITIVO': 0.9991182684898376},\n",
              " {'NEGATIVO': 0.0006499613518826663, 'POSITIVO': 0.9991315007209778},\n",
              " {'NEGATIVO': 0.00024483384913764894, 'POSITIVO': 0.998607337474823},\n",
              " {'NEGATIVO': 0.00022570733563043177, 'POSITIVO': 0.9991729855537415},\n",
              " {'NEGATIVO': 0.00022527111286763102, 'POSITIVO': 0.9995304346084595},\n",
              " {'NEGATIVO': 0.00022889174579177052, 'POSITIVO': 0.9992000460624695},\n",
              " {'NEGATIVO': 0.00209154118783772, 'POSITIVO': 0.9976850748062134},\n",
              " {'NEGATIVO': 0.0009150687255896628, 'POSITIVO': 0.9994238615036011},\n",
              " {'NEGATIVO': 0.0003960449539590627, 'POSITIVO': 0.9993821382522583},\n",
              " {'NEGATIVO': 0.00043196306796744466, 'POSITIVO': 0.9992417097091675},\n",
              " {'NEGATIVO': 0.00042925571324303746, 'POSITIVO': 0.9992130994796753},\n",
              " {'NEGATIVO': 0.0002968248736578971, 'POSITIVO': 0.9993528723716736},\n",
              " {'NEGATIVO': 0.0003150897682644427, 'POSITIVO': 0.9992094039916992},\n",
              " {'NEGATIVO': 0.00026043091202154756, 'POSITIVO': 0.9993175268173218},\n",
              " {'NEGATIVO': 0.0003562482015695423, 'POSITIVO': 0.9991838335990906},\n",
              " {'NEGATIVO': 0.00034911659895442426, 'POSITIVO': 0.999369204044342},\n",
              " {'NEGATIVO': 0.000321787316352129, 'POSITIVO': 0.999148964881897},\n",
              " {'NEGATIVO': 0.00021414588263724, 'POSITIVO': 0.9991050362586975},\n",
              " {'NEGATIVO': 0.000730277446564287, 'POSITIVO': 0.9984840750694275},\n",
              " {'NEGATIVO': 0.0006964436615817249, 'POSITIVO': 0.9985961318016052},\n",
              " {'NEGATIVO': 0.00021767326688859612, 'POSITIVO': 0.9993155002593994},\n",
              " {'NEGATIVO': 0.0009985103970393538, 'POSITIVO': 0.9990849494934082},\n",
              " {'NEGATIVO': 0.0002240768662886694, 'POSITIVO': 0.9992566704750061},\n",
              " {'NEGATIVO': 0.00037657993379980326, 'POSITIVO': 0.9992234706878662},\n",
              " ...]"
            ]
          },
          "metadata": {},
          "execution_count": 54
        }
      ]
    },
    {
      "cell_type": "code",
      "metadata": {
        "id": "YXTXMXAgEDMR"
      },
      "source": [
        "previsoes_final = []\n",
        "for previsao in previsoes:\n",
        "  if previsao['POSITIVO'] > previsao['NEGATIVO']:\n",
        "    previsoes_final.append(1)\n",
        "  else:\n",
        "    previsoes_final.append(0)\n",
        "\n",
        "previsoes_final = np.array(previsoes_final)"
      ],
      "execution_count": 55,
      "outputs": []
    },
    {
      "cell_type": "code",
      "metadata": {
        "id": "ilep1MZKEVyg",
        "colab": {
          "base_uri": "https://localhost:8080/"
        },
        "outputId": "d7a7a014-804b-4298-b4b8-2c9f72c28a53"
      },
      "source": [
        "previsoes_final"
      ],
      "execution_count": 56,
      "outputs": [
        {
          "output_type": "execute_result",
          "data": {
            "text/plain": [
              "array([1, 1, 1, ..., 0, 0, 0])"
            ]
          },
          "metadata": {},
          "execution_count": 56
        }
      ]
    },
    {
      "cell_type": "code",
      "metadata": {
        "id": "3bbnP269EaYs",
        "colab": {
          "base_uri": "https://localhost:8080/"
        },
        "outputId": "cb99edc1-0f0d-4dc1-ff32-ac4d4e66b3ef"
      },
      "source": [
        "respostas_reais = base_treinamento['sentiment'].values\n",
        "respostas_reais"
      ],
      "execution_count": 57,
      "outputs": [
        {
          "output_type": "execute_result",
          "data": {
            "text/plain": [
              "array([1, 1, 1, ..., 0, 0, 0])"
            ]
          },
          "metadata": {},
          "execution_count": 57
        }
      ]
    },
    {
      "cell_type": "code",
      "metadata": {
        "id": "7dM1nOQtEo6p",
        "colab": {
          "base_uri": "https://localhost:8080/"
        },
        "outputId": "19436419-d8b6-4cd3-bbf3-221627818ff7"
      },
      "source": [
        "from sklearn.metrics import confusion_matrix, accuracy_score\n",
        "accuracy_score(respostas_reais, previsoes_final)"
      ],
      "execution_count": 58,
      "outputs": [
        {
          "output_type": "execute_result",
          "data": {
            "text/plain": [
              "0.99998"
            ]
          },
          "metadata": {},
          "execution_count": 58
        }
      ]
    },
    {
      "cell_type": "code",
      "metadata": {
        "id": "UuI8nXdAE-Nw",
        "colab": {
          "base_uri": "https://localhost:8080/"
        },
        "outputId": "ca5f1cca-ebbe-40cf-9a0c-b22aff7bb941"
      },
      "source": [
        "cm = confusion_matrix(respostas_reais, previsoes_final)\n",
        "cm"
      ],
      "execution_count": 59,
      "outputs": [
        {
          "output_type": "execute_result",
          "data": {
            "text/plain": [
              "array([[24999,     1],\n",
              "       [    0, 25000]])"
            ]
          },
          "metadata": {},
          "execution_count": 59
        }
      ]
    },
    {
      "cell_type": "code",
      "metadata": {
        "id": "ws7BgykmyWQG",
        "colab": {
          "base_uri": "https://localhost:8080/",
          "height": 286
        },
        "outputId": "8c556800-50aa-4e0c-c961-034ab3b7ac28"
      },
      "source": [
        "sns.heatmap(cm, annot=True)"
      ],
      "execution_count": 60,
      "outputs": [
        {
          "output_type": "execute_result",
          "data": {
            "text/plain": [
              "<matplotlib.axes._subplots.AxesSubplot at 0x7f5b9da20c50>"
            ]
          },
          "metadata": {},
          "execution_count": 60
        },
        {
          "output_type": "display_data",
          "data": {
            "text/plain": [
              "<Figure size 432x288 with 2 Axes>"
            ],
            "image/png": "[encoded data removed]"
          },
          "metadata": {
            "needs_background": "light"
          }
        }
      ]
    },
    {
      "cell_type": "markdown",
      "metadata": {
        "id": "HmLjfVrZAE2T"
      },
      "source": [
        "## Avaliação na base de teste"
      ]
    },
    {
      "cell_type": "code",
      "metadata": {
        "id": "AwmnAwRcF1sD"
      },
      "source": [
        "previsoes = []\n",
        "for texto in base_teste['tweet_text']:\n",
        "  previsao = modelo_carregado(texto)\n",
        "  previsoes.append(previsao.cats)"
      ],
      "execution_count": 61,
      "outputs": []
    },
    {
      "cell_type": "code",
      "metadata": {
        "id": "Y7MpSvS4F8xv"
      },
      "source": [
        "previsoes_final = []\n",
        "for previsao in previsoes:\n",
        "  if previsao['POSITIVO'] > previsao['NEGATIVO']:\n",
        "    previsoes_final.append(1)\n",
        "  else:\n",
        "    previsoes_final.append(0)\n",
        "\n",
        "previsoes_final = np.array(previsoes_final)"
      ],
      "execution_count": 62,
      "outputs": []
    },
    {
      "cell_type": "code",
      "metadata": {
        "id": "rgoCy1SXGEkw"
      },
      "source": [
        "respostas_reais = base_teste['sentiment'].values"
      ],
      "execution_count": 63,
      "outputs": []
    },
    {
      "cell_type": "code",
      "metadata": {
        "id": "HbpqmtMlGJ0T",
        "colab": {
          "base_uri": "https://localhost:8080/"
        },
        "outputId": "96609f0d-8ab9-4e32-a9ac-5c0fefcf568f"
      },
      "source": [
        "accuracy_score(respostas_reais, previsoes_final)"
      ],
      "execution_count": 64,
      "outputs": [
        {
          "output_type": "execute_result",
          "data": {
            "text/plain": [
              "0.9962"
            ]
          },
          "metadata": {},
          "execution_count": 64
        }
      ]
    },
    {
      "cell_type": "code",
      "metadata": {
        "id": "noYdfAJ0GQAF",
        "colab": {
          "base_uri": "https://localhost:8080/"
        },
        "outputId": "057663ee-eb7d-4cc8-cd61-071db1adb56e"
      },
      "source": [
        "cm = confusion_matrix(respostas_reais, previsoes_final)\n",
        "cm"
      ],
      "execution_count": 65,
      "outputs": [
        {
          "output_type": "execute_result",
          "data": {
            "text/plain": [
              "array([[2494,    6],\n",
              "       [  13, 2487]])"
            ]
          },
          "metadata": {},
          "execution_count": 65
        }
      ]
    },
    {
      "cell_type": "code",
      "metadata": {
        "id": "WCe0F3G8zQkW",
        "colab": {
          "base_uri": "https://localhost:8080/",
          "height": 282
        },
        "outputId": "e3b3f4f7-4471-4188-e52a-c1bd7d5f0177"
      },
      "source": [
        "sns.heatmap(cm, annot=True)"
      ],
      "execution_count": 66,
      "outputs": [
        {
          "output_type": "execute_result",
          "data": {
            "text/plain": [
              "<matplotlib.axes._subplots.AxesSubplot at 0x7f5b9d954490>"
            ]
          },
          "metadata": {},
          "execution_count": 66
        },
        {
          "output_type": "display_data",
          "data": {
            "text/plain": [
              "<Figure size 432x288 with 2 Axes>"
            ],
            "image/png": "[encoded data removed]"
          },
          "metadata": {
            "needs_background": "light"
          }
        }
      ]
    }
  ]
}