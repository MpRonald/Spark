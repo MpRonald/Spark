{
  "nbformat": 4,
  "nbformat_minor": 0,
  "metadata": {
    "colab": {
      "provenance": [],
      "authorship_tag": "ABX9TyPCiRhjX0ktt5zpWzJ4+OQ7",
      "include_colab_link": true
    },
    "kernelspec": {
      "name": "python3",
      "display_name": "Python 3"
    },
    "language_info": {
      "name": "python"
    }
  },
  "cells": [
    {
      "cell_type": "markdown",
      "metadata": {
        "id": "view-in-github",
        "colab_type": "text"
      },
      "source": [
        "<a href=\"https://colab.research.google.com/github/MpRonald/Spark/blob/main/Spark_Python.ipynb\" target=\"_parent\"><img src=\"https://colab.research.google.com/assets/colab-badge.svg\" alt=\"Open In Colab\"/></a>"
      ]
    },
    {
      "cell_type": "code",
      "source": [
        "# instalar as dependências\n",
        "!apt-get update -qq\n",
        "!apt-get install openjdk-8-jdk-headless -qq > /dev/null\n",
        "!wget -q https://archive.apache.org/dist/spark/spark-3.1.2/spark-3.1.2-bin-hadoop2.7.tgz\n",
        "!tar xf spark-3.1.2-bin-hadoop2.7.tgz\n",
        "!pip install -q findspark"
      ],
      "metadata": {
        "id": "gpp8N8VTi6PU"
      },
      "execution_count": 1,
      "outputs": []
    },
    {
      "cell_type": "code",
      "source": [
        "# criando variaveis de ambiente\n",
        "import os\n",
        "os.environ[\"JAVA_HOME\"] = \"/usr/lib/jvm/java-8-openjdk-amd64\"\n",
        "os.environ[\"SPARK_HOME\"] = \"/content/spark-3.1.2-bin-hadoop2.7\""
      ],
      "metadata": {
        "id": "IvLQ97C6jg5V"
      },
      "execution_count": 2,
      "outputs": []
    },
    {
      "cell_type": "code",
      "source": [
        "# importando a lib findspark\n",
        "import findspark\n",
        "findspark.init()"
      ],
      "metadata": {
        "id": "tJmgL3fhjlDM"
      },
      "execution_count": 3,
      "outputs": []
    },
    {
      "cell_type": "code",
      "source": [
        "# iniciando uma sessão spark\n",
        "from pyspark.sql import SparkSession\n",
        "\n",
        "spark = SparkSession\\\n",
        "            .builder.master('local[*]')\\\n",
        "            .appName('Iniciando com Spark')\\\n",
        "            .config('spark.ui.port', '4050')\\\n",
        "            .getOrCreate()"
      ],
      "metadata": {
        "id": "yLk-tpeQjm1C"
      },
      "execution_count": 4,
      "outputs": []
    },
    {
      "cell_type": "code",
      "source": [
        "!wget -q https://bin.equinox.io/c/4VmDzA7iaHb/ngrok-stable-linux-amd64.zip\n",
        "!unzip ngrok-stable-linux-amd64.zip"
      ],
      "metadata": {
        "colab": {
          "base_uri": "https://localhost:8080/"
        },
        "id": "Y2Urp_F9j_Nk",
        "outputId": "78ec6e55-8075-4f31-e022-1ed11e3aad65"
      },
      "execution_count": 5,
      "outputs": [
        {
          "output_type": "stream",
          "name": "stdout",
          "text": [
            "Archive:  ngrok-stable-linux-amd64.zip\n",
            "replace ngrok? [y]es, [n]o, [A]ll, [N]one, [r]ename: A\n",
            "  inflating: ngrok                   \n"
          ]
        }
      ]
    },
    {
      "cell_type": "code",
      "source": [
        "get_ipython().system_raw('./ngrok http 4050 &')\n",
        "!curl -s http://localhost:4040/api/tunnels"
      ],
      "metadata": {
        "colab": {
          "base_uri": "https://localhost:8080/"
        },
        "id": "l6uh7FAZkHZV",
        "outputId": "7c676f06-9014-4123-af6a-e362442fc063"
      },
      "execution_count": 6,
      "outputs": [
        {
          "output_type": "stream",
          "name": "stdout",
          "text": [
            "{\"tunnels\":[],\"uri\":\"/api/tunnels\"}\n"
          ]
        }
      ]
    },
    {
      "cell_type": "code",
      "source": [
        "data = [('Zeca','35'), ('Eva', '29')]\n",
        "colNames = ['Nome', 'Idade']\n",
        "df = spark.createDataFrame(data, colNames)\n",
        "df"
      ],
      "metadata": {
        "colab": {
          "base_uri": "https://localhost:8080/"
        },
        "id": "yBx2RATQkH9E",
        "outputId": "0f406541-f24d-4a35-ab66-51ed54d312b9"
      },
      "execution_count": 7,
      "outputs": [
        {
          "output_type": "execute_result",
          "data": {
            "text/plain": [
              "DataFrame[Nome: string, Idade: string]"
            ]
          },
          "metadata": {},
          "execution_count": 7
        }
      ]
    },
    {
      "cell_type": "code",
      "source": [
        "df.show()"
      ],
      "metadata": {
        "colab": {
          "base_uri": "https://localhost:8080/"
        },
        "id": "BK32jZEekOu9",
        "outputId": "09cf45b7-b435-451f-bdcb-8a3b69232d50"
      },
      "execution_count": 8,
      "outputs": [
        {
          "output_type": "stream",
          "name": "stdout",
          "text": [
            "+----+-----+\n",
            "|Nome|Idade|\n",
            "+----+-----+\n",
            "|Zeca|   35|\n",
            "| Eva|   29|\n",
            "+----+-----+\n",
            "\n"
          ]
        }
      ]
    },
    {
      "cell_type": "code",
      "source": [
        "from google.colab import drive\n",
        "drive.mount('/content/drive')"
      ],
      "metadata": {
        "colab": {
          "base_uri": "https://localhost:8080/"
        },
        "id": "0jq52wuE6vZZ",
        "outputId": "266302c3-62b9-4583-eed6-254af3e25543"
      },
      "execution_count": 14,
      "outputs": [
        {
          "output_type": "stream",
          "name": "stdout",
          "text": [
            "Drive already mounted at /content/drive; to attempt to forcibly remount, call drive.mount(\"/content/drive\", force_remount=True).\n"
          ]
        }
      ]
    },
    {
      "cell_type": "code",
      "source": [
        "import zipfile\n",
        "zipfile.ZipFile('/content/drive/MyDrive/Datasets/movie_rates.zip', 'r').extractall('/content/drive/MyDrive/Datasets')"
      ],
      "metadata": {
        "id": "N3HoscFkkQiM"
      },
      "execution_count": 10,
      "outputs": []
    },
    {
      "cell_type": "code",
      "source": [
        "path = '/content/drive/MyDrive/Datasets/Top_10000_Movies.csv'\n",
        "movies = spark.read.csv(path, sep=',', header=True, inferSchema=True)"
      ],
      "metadata": {
        "id": "rCl03UF394l1"
      },
      "execution_count": 19,
      "outputs": []
    },
    {
      "cell_type": "code",
      "source": [
        "movies.count()"
      ],
      "metadata": {
        "colab": {
          "base_uri": "https://localhost:8080/"
        },
        "id": "9mYm_Ak796hQ",
        "outputId": "08325b2c-af66-44e0-dfc9-c08303e044eb"
      },
      "execution_count": 20,
      "outputs": [
        {
          "output_type": "execute_result",
          "data": {
            "text/plain": [
              "10036"
            ]
          },
          "metadata": {},
          "execution_count": 20
        }
      ]
    },
    {
      "cell_type": "code",
      "source": [
        "movies.limit(5).toPandas()"
      ],
      "metadata": {
        "colab": {
          "base_uri": "https://localhost:8080/",
          "height": 652
        },
        "id": "ekiUOYm32-DY",
        "outputId": "9e90d8d6-a576-4b0e-f20a-546be664f5f1"
      },
      "execution_count": 21,
      "outputs": [
        {
          "output_type": "execute_result",
          "data": {
            "text/plain": [
              "  _c0      id original_language               original_title popularity  \\\n",
              "0   0  580489                en  Venom: Let There Be Carnage   5401.308   \n",
              "1   1  524434                en                     Eternals   3365.535   \n",
              "2   2  438631                en                         Dune   2911.423   \n",
              "3   3  796499                en              Army of Thieves   2552.437   \n",
              "4   4  550988                en                     Free Guy    1850.47   \n",
              "\n",
              "  release_date vote_average vote_count  \\\n",
              "0   2021-09-30          6.8       1736   \n",
              "1   2021-11-03          7.1        622   \n",
              "2   2021-09-15          8.0       3632   \n",
              "3   2021-10-27          6.9        555   \n",
              "4   2021-08-11          7.8       3493   \n",
              "\n",
              "                                               genre  \\\n",
              "0         ['Science Fiction', 'Action', 'Adventure']   \n",
              "1  ['Action', 'Adventure', 'Science Fiction', 'Fa...   \n",
              "2         ['Action', 'Adventure', 'Science Fiction']   \n",
              "3                    ['Action', 'Crime', 'Thriller']   \n",
              "4  ['Comedy', 'Action', 'Adventure', 'Science Fic...   \n",
              "\n",
              "                                            overview    revenue runtime  \\\n",
              "0  After finding a host body in investigative rep...  424000000      97   \n",
              "1  The Eternals are a team of ancient aliens who ...  165000000     157   \n",
              "2  Paul Atreides, a brilliant and gifted young ma...  331116356     155   \n",
              "3  A mysterious woman recruits bank teller Ludwig...          0     127   \n",
              "4  A bank teller called Guy realizes he is a back...  331096766     115   \n",
              "\n",
              "                                          tagline  \n",
              "0                                            None  \n",
              "1                             In the beginning...  \n",
              "2                    Beyond fear, destiny awaits.  \n",
              "3    Before Vegas, one locksmith became a legend.  \n",
              "4  Life's too short to be a background character.  "
            ],
            "text/html": [
              "\n",
              "  <div id=\"df-ba2af4f9-899d-41b5-812b-d2d38b8fe4b8\">\n",
              "    <div class=\"colab-df-container\">\n",
              "      <div>\n",
              "<style scoped>\n",
              "    .dataframe tbody tr th:only-of-type {\n",
              "        vertical-align: middle;\n",
              "    }\n",
              "\n",
              "    .dataframe tbody tr th {\n",
              "        vertical-align: top;\n",
              "    }\n",
              "\n",
              "    .dataframe thead th {\n",
              "        text-align: right;\n",
              "    }\n",
              "</style>\n",
              "<table border=\"1\" class=\"dataframe\">\n",
              "  <thead>\n",
              "    <tr style=\"text-align: right;\">\n",
              "      <th></th>\n",
              "      <th>_c0</th>\n",
              "      <th>id</th>\n",
              "      <th>original_language</th>\n",
              "      <th>original_title</th>\n",
              "      <th>popularity</th>\n",
              "      <th>release_date</th>\n",
              "      <th>vote_average</th>\n",
              "      <th>vote_count</th>\n",
              "      <th>genre</th>\n",
              "      <th>overview</th>\n",
              "      <th>revenue</th>\n",
              "      <th>runtime</th>\n",
              "      <th>tagline</th>\n",
              "    </tr>\n",
              "  </thead>\n",
              "  <tbody>\n",
              "    <tr>\n",
              "      <th>0</th>\n",
              "      <td>0</td>\n",
              "      <td>580489</td>\n",
              "      <td>en</td>\n",
              "      <td>Venom: Let There Be Carnage</td>\n",
              "      <td>5401.308</td>\n",
              "      <td>2021-09-30</td>\n",
              "      <td>6.8</td>\n",
              "      <td>1736</td>\n",
              "      <td>['Science Fiction', 'Action', 'Adventure']</td>\n",
              "      <td>After finding a host body in investigative rep...</td>\n",
              "      <td>424000000</td>\n",
              "      <td>97</td>\n",
              "      <td>None</td>\n",
              "    </tr>\n",
              "    <tr>\n",
              "      <th>1</th>\n",
              "      <td>1</td>\n",
              "      <td>524434</td>\n",
              "      <td>en</td>\n",
              "      <td>Eternals</td>\n",
              "      <td>3365.535</td>\n",
              "      <td>2021-11-03</td>\n",
              "      <td>7.1</td>\n",
              "      <td>622</td>\n",
              "      <td>['Action', 'Adventure', 'Science Fiction', 'Fa...</td>\n",
              "      <td>The Eternals are a team of ancient aliens who ...</td>\n",
              "      <td>165000000</td>\n",
              "      <td>157</td>\n",
              "      <td>In the beginning...</td>\n",
              "    </tr>\n",
              "    <tr>\n",
              "      <th>2</th>\n",
              "      <td>2</td>\n",
              "      <td>438631</td>\n",
              "      <td>en</td>\n",
              "      <td>Dune</td>\n",
              "      <td>2911.423</td>\n",
              "      <td>2021-09-15</td>\n",
              "      <td>8.0</td>\n",
              "      <td>3632</td>\n",
              "      <td>['Action', 'Adventure', 'Science Fiction']</td>\n",
              "      <td>Paul Atreides, a brilliant and gifted young ma...</td>\n",
              "      <td>331116356</td>\n",
              "      <td>155</td>\n",
              "      <td>Beyond fear, destiny awaits.</td>\n",
              "    </tr>\n",
              "    <tr>\n",
              "      <th>3</th>\n",
              "      <td>3</td>\n",
              "      <td>796499</td>\n",
              "      <td>en</td>\n",
              "      <td>Army of Thieves</td>\n",
              "      <td>2552.437</td>\n",
              "      <td>2021-10-27</td>\n",
              "      <td>6.9</td>\n",
              "      <td>555</td>\n",
              "      <td>['Action', 'Crime', 'Thriller']</td>\n",
              "      <td>A mysterious woman recruits bank teller Ludwig...</td>\n",
              "      <td>0</td>\n",
              "      <td>127</td>\n",
              "      <td>Before Vegas, one locksmith became a legend.</td>\n",
              "    </tr>\n",
              "    <tr>\n",
              "      <th>4</th>\n",
              "      <td>4</td>\n",
              "      <td>550988</td>\n",
              "      <td>en</td>\n",
              "      <td>Free Guy</td>\n",
              "      <td>1850.47</td>\n",
              "      <td>2021-08-11</td>\n",
              "      <td>7.8</td>\n",
              "      <td>3493</td>\n",
              "      <td>['Comedy', 'Action', 'Adventure', 'Science Fic...</td>\n",
              "      <td>A bank teller called Guy realizes he is a back...</td>\n",
              "      <td>331096766</td>\n",
              "      <td>115</td>\n",
              "      <td>Life's too short to be a background character.</td>\n",
              "    </tr>\n",
              "  </tbody>\n",
              "</table>\n",
              "</div>\n",
              "      <button class=\"colab-df-convert\" onclick=\"convertToInteractive('df-ba2af4f9-899d-41b5-812b-d2d38b8fe4b8')\"\n",
              "              title=\"Convert this dataframe to an interactive table.\"\n",
              "              style=\"display:none;\">\n",
              "        \n",
              "  <svg xmlns=\"http://www.w3.org/2000/svg\" height=\"24px\"viewBox=\"0 0 24 24\"\n",
              "       width=\"24px\">\n",
              "    <path d=\"M0 0h24v24H0V0z\" fill=\"none\"/>\n",
              "    <path d=\"M18.56 5.44l.94 2.06.94-2.06 2.06-.94-2.06-.94-.94-2.06-.94 2.06-2.06.94zm-11 1L8.5 8.5l.94-2.06 2.06-.94-2.06-.94L8.5 2.5l-.94 2.06-2.06.94zm10 10l.94 2.06.94-2.06 2.06-.94-2.06-.94-.94-2.06-.94 2.06-2.06.94z\"/><path d=\"M17.41 7.96l-1.37-1.37c-.4-.4-.92-.59-1.43-.59-.52 0-1.04.2-1.43.59L10.3 9.45l-7.72 7.72c-.78.78-.78 2.05 0 2.83L4 21.41c.39.39.9.59 1.41.59.51 0 1.02-.2 1.41-.59l7.78-7.78 2.81-2.81c.8-.78.8-2.07 0-2.86zM5.41 20L4 18.59l7.72-7.72 1.47 1.35L5.41 20z\"/>\n",
              "  </svg>\n",
              "      </button>\n",
              "      \n",
              "  <style>\n",
              "    .colab-df-container {\n",
              "      display:flex;\n",
              "      flex-wrap:wrap;\n",
              "      gap: 12px;\n",
              "    }\n",
              "\n",
              "    .colab-df-convert {\n",
              "      background-color: #E8F0FE;\n",
              "      border: none;\n",
              "      border-radius: 50%;\n",
              "      cursor: pointer;\n",
              "      display: none;\n",
              "      fill: #1967D2;\n",
              "      height: 32px;\n",
              "      padding: 0 0 0 0;\n",
              "      width: 32px;\n",
              "    }\n",
              "\n",
              "    .colab-df-convert:hover {\n",
              "      background-color: #E2EBFA;\n",
              "      box-shadow: 0px 1px 2px rgba(60, 64, 67, 0.3), 0px 1px 3px 1px rgba(60, 64, 67, 0.15);\n",
              "      fill: #174EA6;\n",
              "    }\n",
              "\n",
              "    [theme=dark] .colab-df-convert {\n",
              "      background-color: #3B4455;\n",
              "      fill: #D2E3FC;\n",
              "    }\n",
              "\n",
              "    [theme=dark] .colab-df-convert:hover {\n",
              "      background-color: #434B5C;\n",
              "      box-shadow: 0px 1px 3px 1px rgba(0, 0, 0, 0.15);\n",
              "      filter: drop-shadow(0px 1px 2px rgba(0, 0, 0, 0.3));\n",
              "      fill: #FFFFFF;\n",
              "    }\n",
              "  </style>\n",
              "\n",
              "      <script>\n",
              "        const buttonEl =\n",
              "          document.querySelector('#df-ba2af4f9-899d-41b5-812b-d2d38b8fe4b8 button.colab-df-convert');\n",
              "        buttonEl.style.display =\n",
              "          google.colab.kernel.accessAllowed ? 'block' : 'none';\n",
              "\n",
              "        async function convertToInteractive(key) {\n",
              "          const element = document.querySelector('#df-ba2af4f9-899d-41b5-812b-d2d38b8fe4b8');\n",
              "          const dataTable =\n",
              "            await google.colab.kernel.invokeFunction('convertToInteractive',\n",
              "                                                     [key], {});\n",
              "          if (!dataTable) return;\n",
              "\n",
              "          const docLinkHtml = 'Like what you see? Visit the ' +\n",
              "            '<a target=\"_blank\" href=https://colab.research.google.com/notebooks/data_table.ipynb>data table notebook</a>'\n",
              "            + ' to learn more about interactive tables.';\n",
              "          element.innerHTML = '';\n",
              "          dataTable['output_type'] = 'display_data';\n",
              "          await google.colab.output.renderOutput(dataTable, element);\n",
              "          const docLink = document.createElement('div');\n",
              "          docLink.innerHTML = docLinkHtml;\n",
              "          element.appendChild(docLink);\n",
              "        }\n",
              "      </script>\n",
              "    </div>\n",
              "  </div>\n",
              "  "
            ]
          },
          "metadata": {},
          "execution_count": 21
        }
      ]
    },
    {
      "cell_type": "code",
      "source": [
        "movies.printSchema()"
      ],
      "metadata": {
        "colab": {
          "base_uri": "https://localhost:8080/"
        },
        "id": "S5FAIHTA7ruB",
        "outputId": "8ec18483-bf87-4cbf-b1e9-e8424b22c61b"
      },
      "execution_count": 22,
      "outputs": [
        {
          "output_type": "stream",
          "name": "stdout",
          "text": [
            "root\n",
            " |-- _c0: string (nullable = true)\n",
            " |-- id: string (nullable = true)\n",
            " |-- original_language: string (nullable = true)\n",
            " |-- original_title: string (nullable = true)\n",
            " |-- popularity: string (nullable = true)\n",
            " |-- release_date: string (nullable = true)\n",
            " |-- vote_average: string (nullable = true)\n",
            " |-- vote_count: string (nullable = true)\n",
            " |-- genre: string (nullable = true)\n",
            " |-- overview: string (nullable = true)\n",
            " |-- revenue: string (nullable = true)\n",
            " |-- runtime: string (nullable = true)\n",
            " |-- tagline: string (nullable = true)\n",
            "\n"
          ]
        }
      ]
    },
    {
      "cell_type": "code",
      "source": [
        "movies.show()"
      ],
      "metadata": {
        "colab": {
          "base_uri": "https://localhost:8080/"
        },
        "id": "1gkQlWsX8Cni",
        "outputId": "2f76150c-3c63-4d34-9030-8d02172d5f5c"
      },
      "execution_count": 23,
      "outputs": [
        {
          "output_type": "stream",
          "name": "stdout",
          "text": [
            "+---+------+-----------------+------------------------------------+----------+------------+------------+----------+--------------------+--------------------+--------------------+-----------------+--------------------+\n",
            "|_c0|    id|original_language|                      original_title|popularity|release_date|vote_average|vote_count|               genre|            overview|             revenue|          runtime|             tagline|\n",
            "+---+------+-----------------+------------------------------------+----------+------------+------------+----------+--------------------+--------------------+--------------------+-----------------+--------------------+\n",
            "|  0|580489|               en|                Venom: Let There ...|  5401.308|  2021-09-30|         6.8|      1736|['Science Fiction...|After finding a h...|           424000000|               97|                null|\n",
            "|  1|524434|               en|                            Eternals|  3365.535|  2021-11-03|         7.1|       622|['Action', 'Adven...|The Eternals are ...|           165000000|              157| In the beginning...|\n",
            "|  2|438631|               en|                                Dune|  2911.423|  2021-09-15|         8.0|      3632|['Action', 'Adven...|Paul Atreides, a ...|           331116356|              155|Beyond fear, dest...|\n",
            "|  3|796499|               en|                     Army of Thieves|  2552.437|  2021-10-27|         6.9|       555|['Action', 'Crime...|A mysterious woma...|                   0|              127|Before Vegas, one...|\n",
            "|  4|550988|               en|                            Free Guy|   1850.47|  2021-08-11|         7.8|      3493|['Comedy', 'Actio...|A bank teller cal...|           331096766|              115|Life's too short ...|\n",
            "|  5|574060|               en|                 Gunpowder Milkshake|  1453.423|  2021-07-14|         6.5|       347|['Action', 'Thril...|In her turbulent ...|              344931|              114|Revenge is best s...|\n",
            "|  6|335983|               en|                               Venom|  1212.352|  2018-09-28|         6.8|     12126|['Science Fiction...|Investigative jou...|           855013954|              112|The world has eno...|\n",
            "|  7|610253|               en|                     Halloween Kills|  1023.024|  2021-10-14|         7.0|      1134|['Horror', 'Thril...|Minutes after Lau...|           118852075|              105|  Evil dies tonight.|\n",
            "|  8|871964|               pl|                W lesie dziś nie ...|  1089.852|  2021-10-27|         4.1|        72|['Horror', 'Thril...|When something ho...|                   0|               96|                null|\n",
            "|  9|768449|               en|                     American Badger|  1148.822|  2021-03-05|         6.3|        14|['Action', 'Thril...|A seemingly cold-...|                   0|               88|Justice Before Re...|\n",
            "| 10|639721|               en|                 The Addams Family 2|  1031.821|  2021-10-01|         7.4|       562|['Animation', 'Co...|The Addams get ta...|            93258233|               93|Unhappy to see yo...|\n",
            "| 11|843241|               ja|劇場版 七つの大罪 光に呪われし者たち|  1108.815|  2021-07-02|         8.4|       210|['Animation', 'Ac...|\"With the help of...| the Seven Deadly...| the \"\"Holy War\"\"| in which four races|\n",
            "| 12|566525|               en|                Shang-Chi and the...|   1327.18|  2021-09-01|         7.7|      1414|['Action', 'Adven...|Shang-Chi must co...|           427480601|              132|You can't outrun ...|\n",
            "| 13|568620|               en|                Snake Eyes: G.I. ...|  1052.222|  2021-07-22|         6.9|       786|['Action', 'Adven...|After saving the ...|            36964325|              121|Every warrior has...|\n",
            "| 14|630004|               en|                           The Vault|   1046.86|  2021-03-03|         7.1|       392|['Crime', 'Action...|When an engineer ...|                   0|              118|No job is impossi...|\n",
            "| 15|672582|               en|                      The Deep House|   848.536|  2021-06-30|         5.5|       112|          ['Horror']|While diving in a...|                   0|               85|Breathe while you...|\n",
            "| 16|760747|               no|                        I onde dager|   863.019|  2021-07-30|         6.8|       118|['Action', 'Comed...|A dysfunctional c...|                   0|              113|Til Death Do Us Part|\n",
            "| 17|675319|               en|                            Zone 414|   797.785|  2021-09-03|         5.8|        86|['Science Fiction...|In the near futur...|                   0|               98|What hides in the...|\n",
            "| 18|635302|               ja|        劇場版「鬼滅の刃」無限列車編|   897.913|  2020-10-16|         8.4|      1833|['Animation', 'Ac...|Tanjirō Kamado, j...|           503063688|              117|With your blade, ...|\n",
            "| 19|645788|               en|                         The Protégé|   832.048|  2021-08-19|         6.8|       330|['Action', 'Crime...|Rescued as a chil...|             8115215|              109|Wherever you run,...|\n",
            "+---+------+-----------------+------------------------------------+----------+------------+------------+----------+--------------------+--------------------+--------------------+-----------------+--------------------+\n",
            "only showing top 20 rows\n",
            "\n"
          ]
        }
      ]
    },
    {
      "cell_type": "code",
      "source": [
        "movies.columns"
      ],
      "metadata": {
        "colab": {
          "base_uri": "https://localhost:8080/"
        },
        "id": "sPCyxCoJ8Hhw",
        "outputId": "f805b2c8-5518-4e9c-c6d9-34aa436fcaaa"
      },
      "execution_count": 24,
      "outputs": [
        {
          "output_type": "execute_result",
          "data": {
            "text/plain": [
              "['_c0',\n",
              " 'id',\n",
              " 'original_language',\n",
              " 'original_title',\n",
              " 'popularity',\n",
              " 'release_date',\n",
              " 'vote_average',\n",
              " 'vote_count',\n",
              " 'genre',\n",
              " 'overview',\n",
              " 'revenue',\n",
              " 'runtime',\n",
              " 'tagline']"
            ]
          },
          "metadata": {},
          "execution_count": 24
        }
      ]
    },
    {
      "cell_type": "code",
      "source": [
        "dataset = movies.select('original_title', 'original_language', 'vote_average', 'runtime')\n",
        "dataset.show()"
      ],
      "metadata": {
        "colab": {
          "base_uri": "https://localhost:8080/"
        },
        "id": "RxpjlZefGpHC",
        "outputId": "824752ea-f7d3-46bb-8532-a23f9ddc060c"
      },
      "execution_count": 44,
      "outputs": [
        {
          "output_type": "stream",
          "name": "stdout",
          "text": [
            "+------------------------------------+-----------------+------------+-----------------+\n",
            "|                      original_title|original_language|vote_average|          runtime|\n",
            "+------------------------------------+-----------------+------------+-----------------+\n",
            "|                Venom: Let There ...|               en|         6.8|               97|\n",
            "|                            Eternals|               en|         7.1|              157|\n",
            "|                                Dune|               en|         8.0|              155|\n",
            "|                     Army of Thieves|               en|         6.9|              127|\n",
            "|                            Free Guy|               en|         7.8|              115|\n",
            "|                 Gunpowder Milkshake|               en|         6.5|              114|\n",
            "|                               Venom|               en|         6.8|              112|\n",
            "|                     Halloween Kills|               en|         7.0|              105|\n",
            "|                W lesie dziś nie ...|               pl|         4.1|               96|\n",
            "|                     American Badger|               en|         6.3|               88|\n",
            "|                 The Addams Family 2|               en|         7.4|               93|\n",
            "|劇場版 七つの大罪 光に呪われし者たち|               ja|         8.4| the \"\"Holy War\"\"|\n",
            "|                Shang-Chi and the...|               en|         7.7|              132|\n",
            "|                Snake Eyes: G.I. ...|               en|         6.9|              121|\n",
            "|                           The Vault|               en|         7.1|              118|\n",
            "|                      The Deep House|               en|         5.5|               85|\n",
            "|                        I onde dager|               no|         6.8|              113|\n",
            "|                            Zone 414|               en|         5.8|               98|\n",
            "|        劇場版「鬼滅の刃」無限列車編|               ja|         8.4|              117|\n",
            "|                         The Protégé|               en|         6.8|              109|\n",
            "+------------------------------------+-----------------+------------+-----------------+\n",
            "only showing top 20 rows\n",
            "\n"
          ]
        }
      ]
    },
    {
      "cell_type": "code",
      "source": [
        "# mudando o tipo da coluna vote_average\n",
        "dataset = dataset.withColumn('mean_votes',\n",
        "                              dataset['vote_average']\\\n",
        "                              .cast('float'))\\\n",
        "                              .drop('vote_average')\n",
        "\n",
        "# mudando o tipo da coluna runtime\n",
        "dataset = dataset.withColumn('time',\n",
        "                              dataset['runtime']\\\n",
        "                              .cast('int'))\\\n",
        "                              .drop('runtime')                              "
      ],
      "metadata": {
        "id": "RB3fdK3-Jf6e"
      },
      "execution_count": 45,
      "outputs": []
    },
    {
      "cell_type": "code",
      "source": [
        "dataset.show()"
      ],
      "metadata": {
        "colab": {
          "base_uri": "https://localhost:8080/"
        },
        "id": "lQG6P_hWH_Aj",
        "outputId": "6b2b542e-ae5c-4d38-f55f-2059d819df4f"
      },
      "execution_count": 46,
      "outputs": [
        {
          "output_type": "stream",
          "name": "stdout",
          "text": [
            "+------------------------------------+-----------------+----------+----+\n",
            "|                      original_title|original_language|mean_votes|time|\n",
            "+------------------------------------+-----------------+----------+----+\n",
            "|                Venom: Let There ...|               en|       6.8|  97|\n",
            "|                            Eternals|               en|       7.1| 157|\n",
            "|                                Dune|               en|       8.0| 155|\n",
            "|                     Army of Thieves|               en|       6.9| 127|\n",
            "|                            Free Guy|               en|       7.8| 115|\n",
            "|                 Gunpowder Milkshake|               en|       6.5| 114|\n",
            "|                               Venom|               en|       6.8| 112|\n",
            "|                     Halloween Kills|               en|       7.0| 105|\n",
            "|                W lesie dziś nie ...|               pl|       4.1|  96|\n",
            "|                     American Badger|               en|       6.3|  88|\n",
            "|                 The Addams Family 2|               en|       7.4|  93|\n",
            "|劇場版 七つの大罪 光に呪われし者たち|               ja|       8.4|null|\n",
            "|                Shang-Chi and the...|               en|       7.7| 132|\n",
            "|                Snake Eyes: G.I. ...|               en|       6.9| 121|\n",
            "|                           The Vault|               en|       7.1| 118|\n",
            "|                      The Deep House|               en|       5.5|  85|\n",
            "|                        I onde dager|               no|       6.8| 113|\n",
            "|                            Zone 414|               en|       5.8|  98|\n",
            "|        劇場版「鬼滅の刃」無限列車編|               ja|       8.4| 117|\n",
            "|                         The Protégé|               en|       6.8| 109|\n",
            "+------------------------------------+-----------------+----------+----+\n",
            "only showing top 20 rows\n",
            "\n"
          ]
        }
      ]
    },
    {
      "cell_type": "code",
      "source": [
        "dataset.printSchema()"
      ],
      "metadata": {
        "colab": {
          "base_uri": "https://localhost:8080/"
        },
        "id": "nZrwMuMPI99A",
        "outputId": "d5a07c4a-918b-44cf-cded-1b87f4ed59f7"
      },
      "execution_count": 47,
      "outputs": [
        {
          "output_type": "stream",
          "name": "stdout",
          "text": [
            "root\n",
            " |-- original_title: string (nullable = true)\n",
            " |-- original_language: string (nullable = true)\n",
            " |-- mean_votes: float (nullable = true)\n",
            " |-- time: integer (nullable = true)\n",
            "\n"
          ]
        }
      ]
    },
    {
      "cell_type": "code",
      "source": [
        "# filtro\n",
        "dataset.filter(dataset.mean_votes > 5.).show()"
      ],
      "metadata": {
        "colab": {
          "base_uri": "https://localhost:8080/"
        },
        "id": "WNVEzIXPJuLK",
        "outputId": "6040b9bf-668e-4400-f960-6a97c8938b0e"
      },
      "execution_count": 50,
      "outputs": [
        {
          "output_type": "stream",
          "name": "stdout",
          "text": [
            "+------------------------------------+-----------------+----------+----+\n",
            "|                      original_title|original_language|mean_votes|time|\n",
            "+------------------------------------+-----------------+----------+----+\n",
            "|                Venom: Let There ...|               en|       6.8|  97|\n",
            "|                            Eternals|               en|       7.1| 157|\n",
            "|                                Dune|               en|       8.0| 155|\n",
            "|                     Army of Thieves|               en|       6.9| 127|\n",
            "|                            Free Guy|               en|       7.8| 115|\n",
            "|                 Gunpowder Milkshake|               en|       6.5| 114|\n",
            "|                               Venom|               en|       6.8| 112|\n",
            "|                     Halloween Kills|               en|       7.0| 105|\n",
            "|                     American Badger|               en|       6.3|  88|\n",
            "|                 The Addams Family 2|               en|       7.4|  93|\n",
            "|劇場版 七つの大罪 光に呪われし者たち|               ja|       8.4|null|\n",
            "|                Shang-Chi and the...|               en|       7.7| 132|\n",
            "|                Snake Eyes: G.I. ...|               en|       6.9| 121|\n",
            "|                           The Vault|               en|       7.1| 118|\n",
            "|                      The Deep House|               en|       5.5|  85|\n",
            "|                        I onde dager|               no|       6.8| 113|\n",
            "|                            Zone 414|               en|       5.8|  98|\n",
            "|        劇場版「鬼滅の刃」無限列車編|               ja|       8.4| 117|\n",
            "|                         The Protégé|               en|       6.8| 109|\n",
            "|                Peçanha Contra o ...|               pt|       5.4|  67|\n",
            "+------------------------------------+-----------------+----------+----+\n",
            "only showing top 20 rows\n",
            "\n"
          ]
        }
      ]
    },
    {
      "cell_type": "code",
      "source": [
        "# verificando o valor maximo para mean_votes e time\n",
        "from pyspark.sql.functions import max\n",
        "dataset.agg(max('mean_votes').alias('mean_max_voltes')).show()"
      ],
      "metadata": {
        "colab": {
          "base_uri": "https://localhost:8080/"
        },
        "id": "ujvKDEPMJ5vy",
        "outputId": "14419339-0cfa-4334-d5fe-82b9af474eb0"
      },
      "execution_count": 59,
      "outputs": [
        {
          "output_type": "stream",
          "name": "stdout",
          "text": [
            "+---------------+\n",
            "|mean_max_voltes|\n",
            "+---------------+\n",
            "|            9.5|\n",
            "+---------------+\n",
            "\n"
          ]
        }
      ]
    },
    {
      "cell_type": "code",
      "source": [
        "dataset.agg(max('time').alias('max_time')).show()"
      ],
      "metadata": {
        "colab": {
          "base_uri": "https://localhost:8080/"
        },
        "id": "UyuyAFl8KgKS",
        "outputId": "e035371f-fff5-4123-83d4-954c1be01409"
      },
      "execution_count": 60,
      "outputs": [
        {
          "output_type": "stream",
          "name": "stdout",
          "text": [
            "+----------+\n",
            "|  max_time|\n",
            "+----------+\n",
            "|1073394593|\n",
            "+----------+\n",
            "\n"
          ]
        }
      ]
    },
    {
      "cell_type": "code",
      "source": [
        "# retornando filme com valor maximo de time e mean_votes\n",
        "dataset.filter(dataset.mean_votes == 9.5).show(),\n",
        "dataset.filter(dataset.time == 1073394593).show()"
      ],
      "metadata": {
        "colab": {
          "base_uri": "https://localhost:8080/"
        },
        "id": "-W94KFZ5Kpg7",
        "outputId": "93536f23-b157-4493-eafa-1d6281b591e6"
      },
      "execution_count": 64,
      "outputs": [
        {
          "output_type": "stream",
          "name": "stdout",
          "text": [
            "+--------------------+-----------------+----------+----+\n",
            "|      original_title|original_language|mean_votes|time|\n",
            "+--------------------+-----------------+----------+----+\n",
            "|       Ebola Zombies|               zh|       9.5|  90|\n",
            "|Bob Esponja: Días...|               es|       9.5|   0|\n",
            "+--------------------+-----------------+----------+----+\n",
            "\n",
            "+--------------+-----------------+----------+----------+\n",
            "|original_title|original_language|mean_votes|      time|\n",
            "+--------------+-----------------+----------+----------+\n",
            "|   Toy Story 4|               en|       7.6|1073394593|\n",
            "+--------------+-----------------+----------+----------+\n",
            "\n"
          ]
        }
      ]
    },
    {
      "cell_type": "code",
      "source": [
        "# verificando a quantidade de languages\n",
        "from pyspark.sql.functions import count, col, asc, desc\n",
        "data_lang = dataset.groupBy('original_language').count()\n",
        "data_lang.show()"
      ],
      "metadata": {
        "colab": {
          "base_uri": "https://localhost:8080/"
        },
        "id": "_QAxfBXfLKLQ",
        "outputId": "546e68dd-e6f6-4977-a2a2-49a816731745"
      },
      "execution_count": 70,
      "outputs": [
        {
          "output_type": "stream",
          "name": "stdout",
          "text": [
            "+--------------------+-----+\n",
            "|   original_language|count|\n",
            "+--------------------+-----+\n",
            "|                  en| 7798|\n",
            "|                 101|    1|\n",
            "|                  nb|    1|\n",
            "| they are tasked ...|    1|\n",
            "|               Roger|    1|\n",
            "|                  ro|    2|\n",
            "|                  ka|    1|\n",
            "|                  ur|    1|\n",
            "|                  lv|    3|\n",
            "|                  pl|   19|\n",
            "|                  cn|   79|\n",
            "|                  sk|    1|\n",
            "| Pierre could bec...|    1|\n",
            "|                   0|    3|\n",
            "|                  pt|   55|\n",
            "|                null|   23|\n",
            "|                  tl|    3|\n",
            "|                  ko|  140|\n",
            "|                  ms|    1|\n",
            "|                  uk|    5|\n",
            "+--------------------+-----+\n",
            "only showing top 20 rows\n",
            "\n"
          ]
        }
      ]
    },
    {
      "cell_type": "code",
      "source": [
        "data_lang.orderBy(col('count').desc()).show()"
      ],
      "metadata": {
        "colab": {
          "base_uri": "https://localhost:8080/"
        },
        "id": "zlRjRuPbMJqx",
        "outputId": "40aabdcd-6f31-4870-d03a-801a9720a0de"
      },
      "execution_count": 77,
      "outputs": [
        {
          "output_type": "stream",
          "name": "stdout",
          "text": [
            "+-----------------+-----+\n",
            "|original_language|count|\n",
            "+-----------------+-----+\n",
            "|               en| 7798|\n",
            "|               ja|  609|\n",
            "|               es|  417|\n",
            "|               fr|  293|\n",
            "|               ko|  140|\n",
            "|               it|  104|\n",
            "|               zh|  103|\n",
            "|               cn|   79|\n",
            "|               de|   78|\n",
            "|               ru|   69|\n",
            "|               pt|   55|\n",
            "|               da|   30|\n",
            "|               hi|   30|\n",
            "|               no|   24|\n",
            "|             null|   23|\n",
            "|               sv|   22|\n",
            "|               pl|   19|\n",
            "|               nl|   19|\n",
            "|               id|   15|\n",
            "|               th|   15|\n",
            "+-----------------+-----+\n",
            "only showing top 20 rows\n",
            "\n"
          ]
        }
      ]
    },
    {
      "cell_type": "code",
      "source": [
        "# filtrando algumas languages\n",
        "dataset.filter(dataset.original_language.isin('pt', 'en', 'ja')).show()"
      ],
      "metadata": {
        "colab": {
          "base_uri": "https://localhost:8080/"
        },
        "id": "8YVkOC5mMzNy",
        "outputId": "3e76b270-75bb-4d6c-cf8a-1793cc202215"
      },
      "execution_count": 78,
      "outputs": [
        {
          "output_type": "stream",
          "name": "stdout",
          "text": [
            "+------------------------------------+-----------------+----------+----+\n",
            "|                      original_title|original_language|mean_votes|time|\n",
            "+------------------------------------+-----------------+----------+----+\n",
            "|                Venom: Let There ...|               en|       6.8|  97|\n",
            "|                            Eternals|               en|       7.1| 157|\n",
            "|                                Dune|               en|       8.0| 155|\n",
            "|                     Army of Thieves|               en|       6.9| 127|\n",
            "|                            Free Guy|               en|       7.8| 115|\n",
            "|                 Gunpowder Milkshake|               en|       6.5| 114|\n",
            "|                               Venom|               en|       6.8| 112|\n",
            "|                     Halloween Kills|               en|       7.0| 105|\n",
            "|                     American Badger|               en|       6.3|  88|\n",
            "|                 The Addams Family 2|               en|       7.4|  93|\n",
            "|劇場版 七つの大罪 光に呪われし者たち|               ja|       8.4|null|\n",
            "|                Shang-Chi and the...|               en|       7.7| 132|\n",
            "|                Snake Eyes: G.I. ...|               en|       6.9| 121|\n",
            "|                           The Vault|               en|       7.1| 118|\n",
            "|                      The Deep House|               en|       5.5|  85|\n",
            "|                            Zone 414|               en|       5.8|  98|\n",
            "|        劇場版「鬼滅の刃」無限列車編|               ja|       8.4| 117|\n",
            "|                         The Protégé|               en|       6.8| 109|\n",
            "|                Peçanha Contra o ...|               pt|       5.4|  67|\n",
            "|                   The Suicide Squad|               en|       7.8| 132|\n",
            "+------------------------------------+-----------------+----------+----+\n",
            "only showing top 20 rows\n",
            "\n"
          ]
        }
      ]
    },
    {
      "cell_type": "code",
      "source": [],
      "metadata": {
        "id": "UtOTYC1DOl6q"
      },
      "execution_count": null,
      "outputs": []
    }
  ]
}